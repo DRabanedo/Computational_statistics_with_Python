{
 "cells": [
  {
   "cell_type": "markdown",
   "metadata": {},
   "source": [
    "# <p style=\"text-align: center;\">Computational Statistics with Python</p>\n",
    "\n",
    "\n",
    "## <p style=\"text-align: center;\">Topic 2: Basic Python programming</p>\n",
    "\n",
    "## <p style=\"text-align: center;\">Expected lecture time: 3 hours</p>\n",
    "\n",
    "\n",
    "<p style=\"text-align: center;\">Giancarlo Manzi</p>\n",
    "<p style=\"text-align: center;\">Department of Economics, Management and Quantitative Methods</p>\n",
    "<p style=\"text-align: center;\">University of Milan, Milan, Italy</p>"
   ]
  },
  {
   "cell_type": "markdown",
   "metadata": {},
   "source": [
    "\n",
    "## What we will see\n",
    "\n",
    "\n",
    "- Some basic Python programming.\n",
    "\n",
    "\n",
    "- After introducing the the language basics, we will cover some object-oriented and functional programming in Python.\n",
    "\n",
    "\n",
    "- In addition, several relevant modules of the Python basic libraries will be introduced.\n",
    "\n",
    "\n",
    "- We will then focus on Python paradigms and best practices for solving frequent tasks.\n",
    "\n",
    "\n",
    "- Finally, we will study some basic libraries of data manipulation and visualization, as well as we will give some hints on programming for machine learning with Python\n",
    "\n"
   ]
  },
  {
   "cell_type": "markdown",
   "metadata": {},
   "source": [
    "\n",
    "## Specific points in this Python introduction\n",
    "\n",
    "\n",
    "\n",
    "- The Python interpreter\n",
    "\n",
    "\n",
    "- Variables dynamic typing.\n",
    "\n",
    "\n",
    "- Null values.\n",
    "\n",
    "\n",
    "- Tuples and lists\n",
    "\n",
    "\n",
    "- Conditional clauses and cycles.\n",
    "\n",
    "\n",
    "- List slices and list comprehension.\n",
    "\n",
    "\n",
    "- Dictionaries."
   ]
  },
  {
   "cell_type": "markdown",
   "metadata": {},
   "source": [
    "## Specific points in this Python introduction (cont'd)\n",
    "\n",
    "- The numpy library and the numpy array.\n",
    "\n",
    "\n",
    "- Main operations with numpy.\n",
    "\n",
    "\n",
    "- Pandas: Python Data Analysis Library\n",
    "\n",
    "\n",
    "- Indices, Series and Pandas Data Frame.\n",
    "\n",
    "\n",
    "- Other data structures (pkl).\n",
    "\n",
    "\n",
    "- CSV importing, simple statistics, simple graphics (Pandas, Matplotlib).\n",
    "\n",
    "\n",
    "- Classes and objects of the Scikit-learn library.\n",
    "\n",
    "\n",
    "- Some statistics applications (probably tomorrow)."
   ]
  },
  {
   "cell_type": "markdown",
   "metadata": {},
   "source": [
    "# Different programming typology (*paradigms*)\n",
    "\n",
    "\n",
    "- *Procedural* programming:\n",
    "    - FORTRAN;\n",
    "    - Pascal;\n",
    "    - COBOL;\n",
    "    - C;\n",
    "    - Algol.\n",
    "\n",
    "\n",
    "\n",
    "- *Object-oriented* programming (*untyped*):\n",
    "    - Simula;\n",
    "    - SmallTalk;\n",
    "    - Python;\n",
    "    - Ruby;\n",
    "    - JavaScript.\n",
    "\n",
    "\n",
    "\n",
    "- *Object-oriented* programming (*typed*):\n",
    "    - C++;\n",
    "    - Java;\n",
    "    - Scala;\n",
    "    - C#;\n",
    "    - JavaScript.\n",
    "\n",
    "\n",
    "\n",
    "- *Functional* programming (*untyped*):\n",
    "    - LISP;\n",
    "    - Scheme;\n",
    "    - Racket.\n",
    " \n",
    " \n",
    "\n",
    "- *Functional* programming (*typed*):\n",
    "    - ML;\n",
    "    - OCaml;\n",
    "    - Haskell;\n",
    "    - F#.\n",
    "  \n",
    "  \n",
    "  \n",
    "- *Logical* or *declarative* programming:\n",
    "    - Prolog;\n",
    "    - Curry;\n",
    "    - SQL."
   ]
  },
  {
   "cell_type": "markdown",
   "metadata": {},
   "source": [
    "# Interpreters, compilers and virtual machines\n",
    "\n",
    "\n",
    "- Let $ L_S $ be a *source* programming language, $L_T$ a *target* language and $L_I$ an *implementation* language.\n",
    "\n",
    "\n",
    "- Then an *interpreter* for $L_S$ is a $L_I$ program that executes $L_S$ programs.\n",
    "\n",
    "\n",
    "- When both $L_S$ and $L_I$ are low-level, an interpreter is called *virtual machine*.\n",
    "\n",
    "\n",
    "- A *translator* from $L_S$ to $L_T$ is a $L_I$ program that translates programs written in $L_S$ into *equivalent* programs in $L_T$.\n",
    "\n",
    "\n",
    "- When $L_T$ is low-level, a translator to a $L_T$ program is called a *compiler*."
   ]
  },
  {
   "cell_type": "markdown",
   "metadata": {},
   "source": [
    "# Interpreter language\n",
    "\n",
    "\n",
    "- An interpreter is therefore a program that can execute programs using only the source code.\n",
    "\n",
    "\n",
    "\n",
    "- It executes a program in a high-level language without compiling it and transforming it into object code.\n",
    "\n",
    "\n",
    "- When using an interpreter language, the instructions are executed in the language used and the interpreter will immediately translate them into machine language instructions.\n",
    "\n",
    "\n",
    "- Unlike an interpreter, a compiler does not execute the program it receives as input, but translates it into machine language (by storing the object code on file ready for direct execution by the processor)."
   ]
  },
  {
   "cell_type": "markdown",
   "metadata": {},
   "source": [
    "# Python: a multi-paradigm language\n",
    "\n",
    "\n",
    "- Most programming languages support more than one programming paradigm to allow programmers to use the most suitable programming style and associated language constructs for a given job.\n",
    "\n",
    "\n",
    "- Python is a *multiparadigm* programming language.\n",
    "\n",
    "\n",
    "- When using a programming language there are many different ways to get the same output.\n",
    "\n",
    "\n",
    "- For example we want to calculate $(4 + 4) \\cdot (8 + 8)$.\n",
    "\n",
    "\n",
    "- Mandatory or procedural programming: proceed in sequence. Example:\n",
    "\n",
    "\n",
    "-  ``` python \n",
    "        suma1 = 4+4\n",
    "        suma2 = 8+8 \n",
    "        producto = suma1  * suma2 \n",
    "        print(producto)\n",
    "        >>128\n",
    "        ```\n"
   ]
  },
  {
   "cell_type": "code",
   "execution_count": 1,
   "metadata": {},
   "outputs": [
    {
     "name": "stdout",
     "output_type": "stream",
     "text": [
      "128\n"
     ]
    }
   ],
   "source": [
    "suma1 = 4+4\n",
    "suma2 = 8+8 \n",
    "producto = suma1  * suma2 \n",
    "print(producto)"
   ]
  },
  {
   "cell_type": "markdown",
   "metadata": {},
   "source": [
    "# Python: a multi-paradigm language (2)\n",
    "\n",
    "\n",
    "- *Functional* programming: we use functions. Examples:\n",
    "\n",
    "\n",
    "-  ``` python \n",
    "        print (prod(\n",
    "        suma(8,8), suma (4,4)\n",
    "        )\n",
    "        )\n",
    "        >>128\n",
    "        ```\n"
   ]
  },
  {
   "cell_type": "code",
   "execution_count": 3,
   "metadata": {},
   "outputs": [],
   "source": [
    "def som(c,d):\n",
    "    summa = c + d\n",
    "    return summa"
   ]
  },
  {
   "cell_type": "code",
   "execution_count": 4,
   "metadata": {},
   "outputs": [
    {
     "data": {
      "text/plain": [
       "7"
      ]
     },
     "execution_count": 4,
     "metadata": {},
     "output_type": "execute_result"
    }
   ],
   "source": [
    "som(3,4)"
   ]
  },
  {
   "cell_type": "code",
   "execution_count": 5,
   "metadata": {},
   "outputs": [],
   "source": [
    "def prod(a,b):\n",
    "    product = a * b\n",
    "    return product"
   ]
  },
  {
   "cell_type": "code",
   "execution_count": 6,
   "metadata": {},
   "outputs": [
    {
     "data": {
      "text/plain": [
       "128"
      ]
     },
     "execution_count": 6,
     "metadata": {},
     "output_type": "execute_result"
    }
   ],
   "source": [
    "prod(som(8,8),som(4,4))"
   ]
  },
  {
   "cell_type": "markdown",
   "metadata": {},
   "source": [
    "# Python: a multi-paradigm language (3)\n",
    "\n",
    "\n",
    "- *Object-oriented* programming: we create objects with properties and methods. Example:\n",
    "\n",
    "\n",
    "-  ``` python \n",
    "        suma1 = Sumador() \n",
    "        suma2 = Sumador() \n",
    "        producto = Moltiplicador() \n",
    "        suma1.somma(4,4) \n",
    "        suma2.somma(8,8) \n",
    "        producto.prod(suma1,suma1) \n",
    "        print(producto.getRisultato()) \n",
    "        >>128\n",
    "        ```\n",
    "\n",
    "\n",
    "- Python is \"object-oriented\"."
   ]
  },
  {
   "cell_type": "code",
   "execution_count": 7,
   "metadata": {},
   "outputs": [
    {
     "name": "stdout",
     "output_type": "stream",
     "text": [
      "8\n"
     ]
    }
   ],
   "source": [
    "class Adder:\n",
    "    def func(self):\n",
    "        a=4\n",
    "        b=4\n",
    "        sum = a+b\n",
    "        print(sum)\n",
    "        \n",
    "ob = Adder()\n",
    "ob.func()"
   ]
  },
  {
   "cell_type": "markdown",
   "metadata": {},
   "source": [
    "# Intro to Python: Anaconda\n",
    "\n",
    "\n",
    "\n",
    "<img src=\"Python5bis.png\">\n",
    "\n",
    "- Anaconda is a distribution of software, platforms, utilities, etc. useful for the development of data science.\n",
    "\n",
    "\n",
    "\n",
    "- It is a \"package manager\" for Python, in the sense that the main data science packages are built into it.\n",
    "\n",
    "\n",
    "\n",
    "- He is also an \"environmental manager\", in the sense of managing all the environment that Python needs for development.\n",
    "\n",
    "\n",
    "- It is a collection of nearly 2000 very advanced packages.\n",
    "\n",
    "\n",
    "- It is open and easy to install, and has behind it a community of developers who give continuous information on the network important for development.\n"
   ]
  },
  {
   "cell_type": "markdown",
   "metadata": {},
   "source": [
    "# Intro to Python: Anaconda (2)\n",
    "\n",
    "\n",
    "\n",
    "<img src=\"Python6bis.png\">\n",
    "\n",
    "\n",
    "- Installation takes place at www.anaconda.com/distribution\n",
    "\n",
    "\n",
    "- Select the last version of Python for your OS.\n",
    "\n"
   ]
  },
  {
   "cell_type": "markdown",
   "metadata": {},
   "source": [
    "# Intro to Python: Anaconda (3)\n",
    "\n",
    "\n",
    "\n",
    "<img src=\"Python7bis.png\">\n",
    "\n",
    "- Select a destination folder to install Anaconda and click the \"Next\" button.\n",
    "\n",
    "\n",
    "- Choose whether to register Anaconda as the default Python\n",
    "\n",
    "\n",
    "- Click on the \"Install\" button.\n"
   ]
  },
  {
   "cell_type": "markdown",
   "metadata": {},
   "source": [
    "# Intro to Python: Anaconda (3)\n",
    "\n",
    "\n",
    "\n",
    "<img src=\"Python8bis.png\">\n",
    "\n",
    "\n",
    "- Anaconda Navigator is a desktop application that allows you to launch applications and easily manage packages, environments and channels without using terminal commands.\n"
   ]
  },
  {
   "cell_type": "markdown",
   "metadata": {},
   "source": [
    "# Intro to Python: the Jupyter notebook\n",
    "\n",
    "\n",
    "<img src=\"Python9bis.png\">\n",
    "\n",
    "- The Jupyter Notebook is an interactive open web application that allows you to share documents, prepare slides, text documents and simultaneously develop Python code.\n",
    "\n",
    "\n",
    "- We will use it throughout the course. A more experienced programmers platform is *Atom*. *Visual Studio* is also popular.\n",
    "\n",
    "\n",
    "- Jupyter is set up as if it were a web page (and in fact text, comments and code can be saved in html format as a web page)."
   ]
  },
  {
   "cell_type": "markdown",
   "metadata": {},
   "source": [
    "# Intro to Python: how Jupyter works\n",
    "\n",
    "\n",
    "\n",
    "<img src=\"Python11bis.png\">\n",
    "\n",
    "\n",
    "- Once launched, a Jupyter server \"works\" through port 8888 (by default), or through an ad hoc specified port.\n",
    "\n",
    "\n",
    "- Jupyter should start from Anaconda directly; otherwise you have to open a web page at https: // localhost: 8888.\n",
    "\n",
    "\n",
    "- We open a new notebook with \"New\" + \"Python3\": a notebook file with the extension * .ipynb * will be created (python files on other platforms have the extension * .py *)\n",
    "\n"
   ]
  },
  {
   "cell_type": "code",
   "execution_count": 8,
   "metadata": {},
   "outputs": [
    {
     "name": "stdout",
     "output_type": "stream",
     "text": [
      "Conversione da euro in sterline\n",
      "Al tasso di cambio del 14 ottobre 2019: 20  Euro sono  17.467248908296945 sterline\n"
     ]
    }
   ],
   "source": [
    "# Conversione Euro-Sterlina e viceversa\n",
    "\n",
    "# Euro da cambiare in sterline:\n",
    "Euro = 20\n",
    "\n",
    "# Sterline da cambiare in Euro\n",
    "Sterline = 20\n",
    "\n",
    "#Tasso di cambio al 14 ottobre 2019:  1 sterlina = 1.145\n",
    "tassoSE= 1.145\n",
    "\n",
    "#Tasso di cambio Euro-Sterlina\n",
    "\n",
    "tassoES = 1/tassoSE\n",
    "\n",
    "# Sterline da Euro\n",
    "\n",
    "print(\"Conversione da euro in sterline\")\n",
    "\n",
    "print(\"Al tasso di cambio del 14 ottobre 2019:\", Euro , \" Euro sono \", Euro * tassoES, \"sterline\") "
   ]
  },
  {
   "cell_type": "markdown",
   "metadata": {},
   "source": [
    "# Data types in Python\n",
    "\n",
    "\n",
    "- Numeric values: float, integers, complex.\n",
    "\n",
    "\n",
    "- Strings.\n",
    "\n",
    "\n",
    "- Logical values.\n",
    "\n",
    "\n",
    "- Etc."
   ]
  },
  {
   "cell_type": "markdown",
   "metadata": {},
   "source": [
    "# Numerical values\n",
    "\n",
    "\n",
    "- `` int``: defines an integer with any number of digits.\n",
    "    - ``In []: a = 77``.\n",
    "    - ``In []: b = 8888888888888888888888``.\n",
    "\n",
    "- ``float``: defines a \"real\" number.\n",
    "    - ``In []: p = 3.141592``.\n",
    "\n",
    "\n",
    "- ``complex``: defines a complex number.\n",
    "    - ``In []: c = 3+4j``.\n",
    "    - ``In []: c = complex(3, 4)``.\n"
   ]
  },
  {
   "cell_type": "code",
   "execution_count": null,
   "metadata": {},
   "outputs": [],
   "source": []
  },
  {
   "cell_type": "markdown",
   "metadata": {},
   "source": [
    "# Values for Boolean operators\n",
    "\n",
    "\n",
    "- ``In []: t = True``.\n",
    "\n",
    "\n",
    "\n",
    "- ``In []: F = not t``.\n",
    "   \n",
    "\n",
    "\n",
    "- ``In []: F or t``.\n",
    "\n",
    "\n",
    "\n",
    "- ``Out []: True``.\n",
    "\n",
    "\n",
    "\n",
    "- ``In []: F and t``.\n",
    "\n",
    "\n",
    "\n",
    "- ``Out []: False``.\n",
    "\n",
    "\n"
   ]
  },
  {
   "cell_type": "code",
   "execution_count": 1,
   "metadata": {},
   "outputs": [
    {
     "data": {
      "text/plain": [
       "True"
      ]
     },
     "execution_count": 1,
     "metadata": {},
     "output_type": "execute_result"
    }
   ],
   "source": [
    "t = True\n",
    "F = not t\n",
    "F or t\n",
    "\n"
   ]
  },
  {
   "cell_type": "code",
   "execution_count": null,
   "metadata": {},
   "outputs": [],
   "source": [
    "F and t"
   ]
  },
  {
   "cell_type": "markdown",
   "metadata": {},
   "source": [
    "# Brackets ( ) with Boolean operators: different results according to where they are positioned\n",
    "\n",
    "\n",
    "- ``In []: a = False``\n",
    "\n",
    "\n",
    "- ``In []: b = True``\n",
    "\n",
    "\n",
    "- ``In []: c = True``\n",
    "\n",
    "\n",
    "- ``In []: (a and b) or c``\n",
    "\n",
    "\n",
    "- ``Out[]: True``\n",
    "\n",
    "\n",
    "- ``In []: a and (b or c)``\n",
    "\n",
    "\n",
    "- ``Out[]: False``\n",
    "\n",
    "\n"
   ]
  },
  {
   "cell_type": "code",
   "execution_count": 8,
   "metadata": {},
   "outputs": [
    {
     "data": {
      "text/plain": [
       "False"
      ]
     },
     "execution_count": 8,
     "metadata": {},
     "output_type": "execute_result"
    }
   ],
   "source": [
    "a = False\n",
    "b = True\n",
    "c = True\n",
    "(a and b) or c"
   ]
  },
  {
   "cell_type": "code",
   "execution_count": 7,
   "metadata": {},
   "outputs": [
    {
     "data": {
      "text/plain": [
       "False"
      ]
     },
     "execution_count": 7,
     "metadata": {},
     "output_type": "execute_result"
    }
   ],
   "source": [
    "(a and b)"
   ]
  },
  {
   "cell_type": "code",
   "execution_count": null,
   "metadata": {},
   "outputs": [],
   "source": [
    "a and (b or c)"
   ]
  },
  {
   "cell_type": "markdown",
   "metadata": {},
   "source": [
    "# Strings\n",
    "\n",
    "\n",
    "- You can use any kind of quotes to define a string.\n",
    "\n",
    "\n",
    "- 'This is a string'\n",
    "\n",
    "\n",
    "- \" Also this! \"\n",
    "\n",
    "\n",
    "- \"\" \"And this too!\" \"\"\n",
    "\n",
    "\n",
    "- '' 'And yet another! '' '\n"
   ]
  },
  {
   "cell_type": "code",
   "execution_count": 9,
   "metadata": {},
   "outputs": [
    {
     "name": "stdout",
     "output_type": "stream",
     "text": [
      " This is a string \n"
     ]
    }
   ],
   "source": [
    "a  = ' This is a string '\n",
    "print(a)\n",
    "\n"
   ]
  },
  {
   "cell_type": "code",
   "execution_count": null,
   "metadata": {},
   "outputs": [],
   "source": [
    "b = \" Also this! \"\n",
    "print(b)\n",
    "\n"
   ]
  },
  {
   "cell_type": "code",
   "execution_count": null,
   "metadata": {},
   "outputs": [],
   "source": [
    "c = \"\"\" And this too! \"\"\"\n",
    "print(c)\n"
   ]
  },
  {
   "cell_type": "code",
   "execution_count": null,
   "metadata": {},
   "outputs": [],
   "source": [
    "\n",
    "d = ''' And yet another! '''\n",
    "print(d)"
   ]
  },
  {
   "cell_type": "markdown",
   "metadata": {},
   "source": [
    "# Strings (2)\n",
    "\n",
    "\n",
    "- We must distinguish between quotation marks that are used by Python to define a string variable and quotation marks that define a text or a text.\n",
    "\n",
    "\n",
    "- '\"Go and do this!\" Carlos said. '\n",
    "\n",
    "\n",
    "- If there is an apostrophe in the text, use the definition with \"\".\n",
    "\n",
    "- Triple quotes form \"split\" text into lines:\n",
    "\n",
    "- ``` python\n",
    "    \"\"\" En un lugar de la Mancha, \n",
    "    de cuyo nombre no quiero acordarme, \n",
    "    no ha mucho tiempo que vivía un hidalgo....\n",
    "    \"\"\"\n",
    "    ```\n",
    "\n"
   ]
  },
  {
   "cell_type": "code",
   "execution_count": 2,
   "metadata": {},
   "outputs": [
    {
     "name": "stdout",
     "output_type": "stream",
     "text": [
      " \"Go and do this! \"Said Carlos.\n"
     ]
    }
   ],
   "source": [
    "a = ' \"Go and do this! \"Said Carlos.'\n",
    "print(a)"
   ]
  },
  {
   "cell_type": "code",
   "execution_count": 4,
   "metadata": {},
   "outputs": [
    {
     "name": "stdout",
     "output_type": "stream",
     "text": [
      " l'apostrophe (en Francaise)\n"
     ]
    }
   ],
   "source": [
    "a = \" l'apostrophe (en Francaise)\"\n",
    "print(a)"
   ]
  },
  {
   "cell_type": "code",
   "execution_count": 5,
   "metadata": {},
   "outputs": [
    {
     "name": "stdout",
     "output_type": "stream",
     "text": [
      " En un lugar de la Mancha, \n",
      "  de cuyo nombre no quiero acordarme, \n",
      "  no ha mucho tiempo que vivía un hidalgo....\n",
      "    \n"
     ]
    }
   ],
   "source": [
    "a = \"\"\" En un lugar de la Mancha, \n",
    "  de cuyo nombre no quiero acordarme, \n",
    "  no ha mucho tiempo que vivía un hidalgo....\n",
    "    \"\"\"\n",
    "print(a)"
   ]
  },
  {
   "cell_type": "markdown",
   "metadata": {},
   "source": [
    "# Strings\n",
    "\n",
    "\n",
    "- ``In []: w = \"ciao\"``\n",
    "\n",
    "\n",
    "- ``In []: print(w[0], w[1], w[-1], w[1:3])``\n",
    "\n",
    "\n",
    "- ``In []: len(w)``\n",
    "\n",
    "\n",
    "- ``Out[]: 4``\n",
    "\n",
    "\n"
   ]
  },
  {
   "cell_type": "code",
   "execution_count": 1,
   "metadata": {},
   "outputs": [
    {
     "name": "stdout",
     "output_type": "stream",
     "text": [
      "c i o ia\n"
     ]
    }
   ],
   "source": [
    "w = \"ciao\"\n",
    "print (w[0], w[1], w[-1], w[1:3])"
   ]
  },
  {
   "cell_type": "code",
   "execution_count": null,
   "metadata": {},
   "outputs": [],
   "source": [
    "len(w)"
   ]
  },
  {
   "cell_type": "markdown",
   "metadata": {},
   "source": [
    "# Strings (4)\n",
    "\n",
    "- Once a string has been assigned, it can no longer change.\n",
    "\n",
    "\n",
    "- ``In []: w[0] = 'C'``\n",
    "\n",
    "\n",
    "- ```python\n",
    "    --------------------------------------------\n",
    "    TypeError  Traceback (most recent call last)\n",
    "    <ipython console> in <module>()\n",
    "    TypeError: 'str' object does not support item assignment\n",
    "    ```\n",
    "\n",
    "\n"
   ]
  },
  {
   "cell_type": "code",
   "execution_count": 2,
   "metadata": {
    "scrolled": true
   },
   "outputs": [
    {
     "ename": "TypeError",
     "evalue": "'str' object does not support item assignment",
     "output_type": "error",
     "traceback": [
      "\u001b[0;31m---------------------------------------------------------------------------\u001b[0m",
      "\u001b[0;31mTypeError\u001b[0m                                 Traceback (most recent call last)",
      "\u001b[0;32m<ipython-input-2-0076bfcda6b2>\u001b[0m in \u001b[0;36m<module>\u001b[0;34m\u001b[0m\n\u001b[0;32m----> 1\u001b[0;31m \u001b[0mw\u001b[0m\u001b[0;34m[\u001b[0m\u001b[0;36m0\u001b[0m\u001b[0;34m]\u001b[0m \u001b[0;34m=\u001b[0m \u001b[0;34m'C'\u001b[0m\u001b[0;34m\u001b[0m\u001b[0;34m\u001b[0m\u001b[0m\n\u001b[0m",
      "\u001b[0;31mTypeError\u001b[0m: 'str' object does not support item assignment"
     ]
    }
   ],
   "source": [
    "w[0] = 'C'"
   ]
  },
  {
   "cell_type": "markdown",
   "metadata": {},
   "source": [
    "# The ``type()`` function: discovering data types\n",
    "\n",
    "- ``In []: a = 1.0``\n",
    "\n",
    "\n",
    "- ``In []: type(a)``\n",
    "\n",
    "\n",
    "- ``Out[]: float``\n",
    "\n",
    "\n",
    "- ``In []: type(1)``\n",
    "\n",
    "\n",
    "- ``Out[]: int``\n",
    "\n",
    "\n",
    "- ``In []: type(1+1j)``\n",
    "\n",
    "\n",
    "- ``Out[]: complex``\n",
    "\n",
    "\n",
    "- ``In []: type('ciao')``\n",
    "\n",
    "\n",
    "- ``Out[]: str``\n",
    "\n",
    "\n"
   ]
  },
  {
   "cell_type": "code",
   "execution_count": 3,
   "metadata": {},
   "outputs": [
    {
     "data": {
      "text/plain": [
       "float"
      ]
     },
     "execution_count": 3,
     "metadata": {},
     "output_type": "execute_result"
    }
   ],
   "source": [
    "a = 1.0\n",
    "type(a)"
   ]
  },
  {
   "cell_type": "code",
   "execution_count": 4,
   "metadata": {},
   "outputs": [
    {
     "data": {
      "text/plain": [
       "int"
      ]
     },
     "execution_count": 4,
     "metadata": {},
     "output_type": "execute_result"
    }
   ],
   "source": [
    "type(1)"
   ]
  },
  {
   "cell_type": "code",
   "execution_count": 5,
   "metadata": {},
   "outputs": [
    {
     "data": {
      "text/plain": [
       "complex"
      ]
     },
     "execution_count": 5,
     "metadata": {},
     "output_type": "execute_result"
    }
   ],
   "source": [
    "type(1+1j)"
   ]
  },
  {
   "cell_type": "code",
   "execution_count": 6,
   "metadata": {},
   "outputs": [
    {
     "data": {
      "text/plain": [
       "str"
      ]
     },
     "execution_count": 6,
     "metadata": {},
     "output_type": "execute_result"
    }
   ],
   "source": [
    "type('ciao')"
   ]
  },
  {
   "cell_type": "markdown",
   "metadata": {},
   "source": [
    "# Arithmetic operator (I)\n",
    "\n",
    "-  % is the modulus:\n",
    "  \n",
    "\n",
    "- ``In []: 77 % 2``\n",
    "\n",
    "\n",
    "- ``Out[]: 1``\n",
    "\n",
    "\n",
    "- ``In []: 1886 % 12``\n",
    "\n",
    "\n",
    "- ``Out[]: 2``\n",
    "\n",
    "\n",
    "- ``In []: 1884 % 12``\n",
    "\n",
    "\n",
    "- ``Out[]: 0``\n",
    "\n",
    "\n",
    "- ``In []: 864675 % 10``\n",
    "\n",
    "\n",
    "- ``Out[]: 5``\n",
    "\n",
    "\n",
    "- ``In []: 31245 * 126789``\n",
    "\n",
    "\n",
    "- ``Out[]: 3961522305``\n",
    "\n",
    "\n",
    "-  **  is the power operator:\n",
    "  \n",
    "\n",
    "- ``In []: big = 1234567891234567890 ** 3``\n",
    "\n",
    "\n",
    "- ``In []: verybig = big * big * big * big``\n"
   ]
  },
  {
   "cell_type": "code",
   "execution_count": 7,
   "metadata": {},
   "outputs": [
    {
     "data": {
      "text/plain": [
       "1"
      ]
     },
     "execution_count": 7,
     "metadata": {},
     "output_type": "execute_result"
    }
   ],
   "source": [
    "77 % 2"
   ]
  },
  {
   "cell_type": "code",
   "execution_count": 8,
   "metadata": {},
   "outputs": [
    {
     "data": {
      "text/plain": [
       "2"
      ]
     },
     "execution_count": 8,
     "metadata": {},
     "output_type": "execute_result"
    }
   ],
   "source": [
    "1886 % 12"
   ]
  },
  {
   "cell_type": "code",
   "execution_count": 9,
   "metadata": {},
   "outputs": [
    {
     "data": {
      "text/plain": [
       "0"
      ]
     },
     "execution_count": 9,
     "metadata": {},
     "output_type": "execute_result"
    }
   ],
   "source": [
    "1884 % 12\n"
   ]
  },
  {
   "cell_type": "code",
   "execution_count": 10,
   "metadata": {},
   "outputs": [
    {
     "name": "stdout",
     "output_type": "stream",
     "text": [
      "1881676377434183981909562699940347954480361860897069000\n"
     ]
    }
   ],
   "source": [
    "big = 1234567891234567890 ** 3\n",
    "print(big)"
   ]
  },
  {
   "cell_type": "code",
   "execution_count": 11,
   "metadata": {},
   "outputs": [
    {
     "name": "stdout",
     "output_type": "stream",
     "text": [
      "12536598903329366187366602453637834523513900340514681990694177938853001286963089597513186328270383939298923641110340456447058221912767480641620897695065961403207129435677004066945018482594529234494366959121000000000000\n"
     ]
    }
   ],
   "source": [
    "verybig = big * big * big * big\n",
    "print(verybig)"
   ]
  },
  {
   "cell_type": "markdown",
   "metadata": {},
   "source": [
    "# Arithmetic operators (II)\n",
    "\n",
    "-  ``In []: 18 / 3``\n",
    "\n",
    "\n",
    "- ``Out[]: 6 `` \n",
    "\n",
    "\n",
    "- ``In []: 18 / 3.0``\n",
    "\n",
    "\n",
    "- ``Out[]: 6.0``\n",
    "\n",
    "\n",
    "- ``In []: 18.0 / 3``\n",
    "\n",
    "\n",
    "- ``Out[]: 6``\n",
    "\n",
    "\n",
    "- ``In []: 18.0 / 9.5``\n",
    "\n",
    "\n",
    "- ``Out[]: 1.894736842105263``\n",
    "\n"
   ]
  },
  {
   "cell_type": "markdown",
   "metadata": {},
   "source": [
    "# Arithmetic operators (III): the 'floor' operator\n",
    "\n",
    "\n",
    "-  ``In []: 18 // 4``\n",
    "\n",
    "\n",
    "- ``Out[]: 4``\n",
    "\n",
    "\n",
    "- ``In []: 18 // 4.0``\n",
    "\n",
    "\n",
    "- ``Out[]: 4.0``\n",
    "\n",
    "\n",
    "- ``In []: 18.0 // 4.0``\n",
    "\n",
    "\n",
    "- ``Out[]: 4.0``\n",
    "\n",
    "\n",
    "- ``In []: 18.0 // 9.6``\n",
    "\n",
    "\n",
    "- ``Out[]: 1.0``\n"
   ]
  },
  {
   "cell_type": "code",
   "execution_count": 13,
   "metadata": {},
   "outputs": [
    {
     "data": {
      "text/plain": [
       "1.0"
      ]
     },
     "execution_count": 13,
     "metadata": {},
     "output_type": "execute_result"
    }
   ],
   "source": [
    "18.0 // 9.6"
   ]
  },
  {
   "cell_type": "markdown",
   "metadata": {},
   "source": [
    "# Arithmetic operators (IV)\n",
    "\n",
    "\n",
    "-  Counters (used in *loop* clauses):\n",
    "\n",
    "\n",
    "- ``In []: a = 8000``\n",
    "\n",
    "\n",
    "- ``In []: a += 1``\n",
    "\n",
    "\n",
    "- ``In []: a``\n",
    "\n",
    "\n",
    "- ``Out[]: 8001``\n",
    "\n",
    "\n",
    "- ``In []: a -= 7``\n",
    "\n",
    "\n",
    "- ``In []: a``\n",
    "\n",
    "\n",
    "- ``Out[]: 7994``\n",
    "\n",
    "\n",
    "- ``In []: a *= 2``\n",
    "\n",
    "\n",
    "- ``In []: a``\n",
    "\n",
    "\n",
    "- ``Out[]: 15988``\n",
    "\n",
    "\n",
    "- ``In []: a /= 5``\n",
    "\n",
    "\n",
    "- ``In []: a``\n",
    "\n",
    "\n",
    "- ``Out[]: 3197.6``"
   ]
  },
  {
   "cell_type": "code",
   "execution_count": null,
   "metadata": {},
   "outputs": [],
   "source": [
    "a = 8000\n",
    "a += 2\n",
    "a += 4\n",
    "a"
   ]
  },
  {
   "cell_type": "markdown",
   "metadata": {},
   "source": [
    "# String operators (I)\n",
    "\n",
    "\n",
    "-  ``In []: s = 'En un lugar '``\n",
    "\n",
    "\n",
    "- ``In []: p = 'de la Mancha, \n",
    "  '``\n",
    "\n",
    "\n",
    "- ``In []: q = ' de cuyo nombre no quiero acordarme, '``\n",
    "\n",
    "\n",
    "- ``In []: s + p + q``\n",
    "\n",
    "\n",
    "- ``Out[]: 'En un lugar de la Mancha, de cuyo nombre no quiero acordarme,'``\n",
    "\n",
    "\n",
    "- ``In []: s * 4``\n",
    "\n",
    "\n",
    "- ``Out[]: 'En un lugar En un lugar En un lugar En un lugar '``\n"
   ]
  },
  {
   "cell_type": "code",
   "execution_count": 3,
   "metadata": {},
   "outputs": [
    {
     "data": {
      "text/plain": [
       "'En un lugar de la Mancha, de cuyo nombre no quiero acordarme,'"
      ]
     },
     "execution_count": 3,
     "metadata": {},
     "output_type": "execute_result"
    }
   ],
   "source": [
    "s = 'En un lugar '\n",
    "p = 'de la Mancha, '\n",
    "q = 'de cuyo nombre no quiero acordarme,'\n",
    "s + p + q"
   ]
  },
  {
   "cell_type": "code",
   "execution_count": 4,
   "metadata": {},
   "outputs": [
    {
     "data": {
      "text/plain": [
       "'En un lugar En un lugar En un lugar En un lugar '"
      ]
     },
     "execution_count": 4,
     "metadata": {},
     "output_type": "execute_result"
    }
   ],
   "source": [
    "s = 'En un lugar '\n",
    "s * 4"
   ]
  },
  {
   "cell_type": "markdown",
   "metadata": {},
   "source": [
    "# String operators (II): errors\n",
    "\n",
    "\n",
    "-  \n",
    "\n",
    "- ``In []: s * s``\n",
    "\n",
    "\n",
    "- - ```python\n",
    "    --------------------------------------------\n",
    "   TypeError  Traceback (most recent call last)\n",
    "   <ipython console> in <module>()\n",
    "\n",
    "    TypeError: can`t multiply sequence by\n",
    "               non-int of type `str`\n",
    "    ```\n",
    "\n",
    "\n"
   ]
  },
  {
   "cell_type": "code",
   "execution_count": 6,
   "metadata": {},
   "outputs": [
    {
     "data": {
      "text/plain": [
       "False"
      ]
     },
     "execution_count": 6,
     "metadata": {},
     "output_type": "execute_result"
    }
   ],
   "source": [
    "a = 'En un lugar'\n",
    "a.startswith('En')"
   ]
  },
  {
   "cell_type": "markdown",
   "metadata": {},
   "source": [
    "# Methods applied to strings (I)\n",
    "\n",
    "\n",
    "-  ``In []: a = 'En un lugar de la Mancha'``\n",
    "\n",
    "\n",
    "- ``In []: a.startswith('En')``\n",
    "\n",
    "\n",
    "- ``Out[]: True``\n",
    "\n",
    "\n",
    "- ``In []: a.startswith('hidalgo')``\n",
    "\n",
    "\n",
    "- ``Out[]: False``\n",
    "\n",
    "\n",
    "- ``In []: a.endswith('Mancha')``\n",
    "\n",
    "\n",
    "- ``Out[]: True``\n",
    "\n",
    "\n",
    "- ``In []: a.upper()``\n",
    "\n",
    "\n",
    "- ``Out[]: 'EN UN LUGAR DE LA MANCHA'``\n",
    "\n",
    "\n",
    "- ``In []: a.lower()``\n",
    "\n",
    "\n",
    "- ``Out[]: 'en un lugar de la mancha'``\n"
   ]
  },
  {
   "cell_type": "markdown",
   "metadata": {},
   "source": [
    "# Methods applied to strings (II)\n",
    "\n",
    "\n",
    "- ``In []: a = '  Hola todos  '``\n",
    "\n",
    "\n",
    "- ``In []: b = a.strip()``\n",
    "\n",
    "\n",
    "- ``In []: b``\n",
    "\n",
    "\n",
    "- ``Out[]: 'Hola todos'``\n",
    "\n",
    "\n",
    "- ``In []: b.index('od')``\n",
    "\n",
    "\n",
    "- ``Out[]: s``\n",
    "\n",
    "\n",
    "- ``In []: b.replace('Hola', 'Buenas noches')``\n",
    "\n",
    "\n",
    "- ``Out[]: 'Buenas noches todos'``\n"
   ]
  },
  {
   "cell_type": "code",
   "execution_count": 10,
   "metadata": {},
   "outputs": [
    {
     "data": {
      "text/plain": [
       "'de la Mancha'"
      ]
     },
     "execution_count": 10,
     "metadata": {},
     "output_type": "execute_result"
    }
   ],
   "source": [
    "a = '        Hola todos  '\n",
    "e,f = \"En un lugar\", \"de la Mancha\"\n",
    "f\n"
   ]
  },
  {
   "cell_type": "code",
   "execution_count": 11,
   "metadata": {},
   "outputs": [
    {
     "data": {
      "text/plain": [
       "18"
      ]
     },
     "execution_count": 11,
     "metadata": {},
     "output_type": "execute_result"
    }
   ],
   "source": [
    "a.index('od')"
   ]
  },
  {
   "cell_type": "code",
   "execution_count": 15,
   "metadata": {},
   "outputs": [
    {
     "data": {
      "text/plain": [
       "'Hola todos'"
      ]
     },
     "execution_count": 15,
     "metadata": {},
     "output_type": "execute_result"
    }
   ],
   "source": [
    "a = \"Hola todos\"\n",
    "a.replace('Hola', 'Buenas noches')\n",
    "a"
   ]
  },
  {
   "cell_type": "markdown",
   "metadata": {},
   "source": [
    "# Strings: ``split`` and ``join``\n",
    "\n",
    "\n",
    "- ``In []: chars = 'a b c d'``\n",
    "\n",
    "\n",
    "- ``In []: chars.split()``\n",
    "\n",
    "\n",
    "- ``Out[]: ['a', 'b', 'c', 'd']``\n",
    "\n",
    "\n",
    "- ``In []: ' '.join(['a', 'b', 'c', 'd'])``\n",
    "\n",
    "\n",
    "- ``Out[]: 'a b c d'``\n",
    "  \n",
    "\n",
    "- ``In []: alpha = ', '.join(['a', 'b', 'c'])``\n",
    "\n",
    "\n",
    "- ``In []: alpha``\n",
    "\n",
    "\n",
    "- ``Out[]: 'a, b, c'``\n",
    "\n",
    "\n",
    "- ``In []: alpha.split(', ')``\n",
    "\n",
    "\n",
    "- ``Out[]: ['a', 'b', 'c']``\n"
   ]
  },
  {
   "cell_type": "code",
   "execution_count": 16,
   "metadata": {},
   "outputs": [
    {
     "data": {
      "text/plain": [
       "'a, b, c'"
      ]
     },
     "execution_count": 16,
     "metadata": {},
     "output_type": "execute_result"
    }
   ],
   "source": [
    "alpha = ', '.join(['a', 'b', 'c'])\n",
    "alpha\n"
   ]
  },
  {
   "cell_type": "code",
   "execution_count": 17,
   "metadata": {},
   "outputs": [
    {
     "data": {
      "text/plain": [
       "['a,', 'b,', 'c']"
      ]
     },
     "execution_count": 17,
     "metadata": {},
     "output_type": "execute_result"
    }
   ],
   "source": [
    "alpha.split()"
   ]
  },
  {
   "cell_type": "markdown",
   "metadata": {},
   "source": [
    "# String formatting and visualization of numbers in strings\n",
    "\n",
    "\n",
    "- ``In []: x, y = 1, 1.234``\n",
    "\n",
    "\n",
    "- ``In []: x``\n",
    "\n",
    "\n",
    "- ``Out[]: 1``\n",
    "\n",
    "\n",
    "- ``In []: y``\n",
    "\n",
    "\n",
    "- ``Out[]: 1.234``\n",
    "\n",
    "\n",
    "- ``In []: 'x is %s, y is %s' %(x, y)``\n",
    "\n",
    "\n",
    "- ``Out[]: 'x is 1, y is 1.234'``\n",
    "\n",
    "\n",
    "- You can also use ``%d`` or ``%f`` (see http://docs.python.org/library/stdtypes.html)\n",
    "\n"
   ]
  },
  {
   "cell_type": "code",
   "execution_count": 18,
   "metadata": {},
   "outputs": [
    {
     "data": {
      "text/plain": [
       "'x is 1, y is 1.234'"
      ]
     },
     "execution_count": 18,
     "metadata": {},
     "output_type": "execute_result"
    }
   ],
   "source": [
    "x, y = 1, 1.234\n",
    "'x is %s, y is %s' %(x, y)"
   ]
  },
  {
   "cell_type": "markdown",
   "metadata": {},
   "source": [
    "# Relational and logic operators\n",
    "\n",
    "\n",
    "- ``In []: p, z, n = 1, 0, -1``\n",
    "\n",
    "\n",
    "- ``In []: p == z``\n",
    "\n",
    "\n",
    "- ``Out[]: False``\n",
    "\n",
    "\n",
    "- ``In []: p >= n``\n",
    "\n",
    "\n",
    "- ``Out[]: True``\n",
    "\n",
    "\n",
    "- ``In []: n < z < p``\n",
    "\n",
    "\n",
    "- ``Out[]: True``\n",
    "\n",
    "\n",
    "- ``In []: p + n != z``\n",
    "\n",
    "\n",
    "- ``Out[]: False``\n",
    "\n",
    "\n",
    "- ``n []: p + n == z``\n",
    "\n",
    "\n",
    "- ``Out[]: True``\n"
   ]
  },
  {
   "cell_type": "markdown",
   "metadata": {},
   "source": [
    "# The *assertion handling*\n",
    "\n",
    "\n",
    "- ``In []: p, z, n = 1, 0, -1``\n",
    "\n",
    "\n",
    "- ``In []: assert p != n``\n",
    "\n",
    "\n",
    "- ``In []: assert p == n``\n",
    "\n",
    "\n",
    "- ```python\n",
    "    --------------------------------------------\n",
    "    AssertionError      Traceback (most recent call last)\n",
    "    ----> 1 assert p == n\n",
    "    \n",
    "    AssertionError:\n",
    "    ```\n",
    "    \n",
    "- The error is not reported if the condition is true.\n",
    "\n",
    "\n",
    "- The error is reported if the condition is false.\n",
    "\n",
    "\n",
    "\n",
    "\n"
   ]
  },
  {
   "cell_type": "code",
   "execution_count": 13,
   "metadata": {},
   "outputs": [
    {
     "name": "stdout",
     "output_type": "stream",
     "text": [
      "1\n"
     ]
    },
    {
     "data": {
      "text/plain": [
       "-1"
      ]
     },
     "execution_count": 13,
     "metadata": {},
     "output_type": "execute_result"
    }
   ],
   "source": [
    "print(p)\n",
    "n"
   ]
  },
  {
   "cell_type": "code",
   "execution_count": 19,
   "metadata": {},
   "outputs": [
    {
     "ename": "AssertionError",
     "evalue": "Error: condition is not verified",
     "output_type": "error",
     "traceback": [
      "\u001b[0;31m---------------------------------------------------------------------------\u001b[0m",
      "\u001b[0;31mAssertionError\u001b[0m                            Traceback (most recent call last)",
      "\u001b[0;32m<ipython-input-19-8df85f50b0ea>\u001b[0m in \u001b[0;36m<module>\u001b[0;34m\u001b[0m\n\u001b[1;32m      1\u001b[0m \u001b[0mp\u001b[0m\u001b[0;34m,\u001b[0m \u001b[0mz\u001b[0m\u001b[0;34m,\u001b[0m \u001b[0mn\u001b[0m \u001b[0;34m=\u001b[0m \u001b[0;36m1\u001b[0m\u001b[0;34m,\u001b[0m \u001b[0;36m0\u001b[0m\u001b[0;34m,\u001b[0m \u001b[0;34m-\u001b[0m\u001b[0;36m1\u001b[0m\u001b[0;34m\u001b[0m\u001b[0;34m\u001b[0m\u001b[0m\n\u001b[0;32m----> 2\u001b[0;31m \u001b[0;32massert\u001b[0m \u001b[0mp\u001b[0m \u001b[0;34m==\u001b[0m \u001b[0mn\u001b[0m\u001b[0;34m,\u001b[0m \u001b[0;34m\"Error: condition is not verified\"\u001b[0m\u001b[0;34m\u001b[0m\u001b[0;34m\u001b[0m\u001b[0m\n\u001b[0m\u001b[1;32m      3\u001b[0m \u001b[0;32massert\u001b[0m \u001b[0mp\u001b[0m \u001b[0;34m!=\u001b[0m \u001b[0mn\u001b[0m\u001b[0;34m\u001b[0m\u001b[0;34m\u001b[0m\u001b[0m\n\u001b[1;32m      4\u001b[0m \u001b[0;34m\u001b[0m\u001b[0m\n",
      "\u001b[0;31mAssertionError\u001b[0m: Error: condition is not verified"
     ]
    }
   ],
   "source": [
    "p, z, n = 1, 0, -1\n",
    "assert p == n, \"Error: condition is not verified\"\n",
    "assert p != n\n",
    "\n"
   ]
  },
  {
   "cell_type": "code",
   "execution_count": 20,
   "metadata": {},
   "outputs": [],
   "source": [
    "p, z, n = 1, 0, -1\n",
    "assert p != n"
   ]
  },
  {
   "cell_type": "code",
   "execution_count": 11,
   "metadata": {},
   "outputs": [
    {
     "ename": "AssertionError",
     "evalue": "",
     "output_type": "error",
     "traceback": [
      "\u001b[0;31m---------------------------------------------------------------------------\u001b[0m",
      "\u001b[0;31mAssertionError\u001b[0m                            Traceback (most recent call last)",
      "\u001b[0;32m<ipython-input-11-9363016b14fc>\u001b[0m in \u001b[0;36m<module>\u001b[0;34m\u001b[0m\n\u001b[0;32m----> 1\u001b[0;31m \u001b[0;32massert\u001b[0m \u001b[0mp\u001b[0m \u001b[0;34m==\u001b[0m \u001b[0mn\u001b[0m\u001b[0;34m\u001b[0m\u001b[0;34m\u001b[0m\u001b[0m\n\u001b[0m",
      "\u001b[0;31mAssertionError\u001b[0m: "
     ]
    }
   ],
   "source": [
    "assert p == n"
   ]
  },
  {
   "cell_type": "markdown",
   "metadata": {},
   "source": [
    "# Examples of error handling\n",
    "\n",
    "- ``In []: assert p == n, \"Error: condition is not verified\"``\n",
    "\n",
    "\n",
    "- ``In []: assert p != n``\n",
    "\n",
    "\n",
    "- ``In []: assert p == n``\n",
    "\n",
    "\n",
    "- ```python\n",
    "    --------------------------------------------\n",
    "    AssertionError      Traceback (most recent call last)\n",
    "    ----> 1 assert p == n\n",
    "    \n",
    "    AssertionError: Error: condition is not verified\n",
    "    ```\n",
    "   \n",
    "   \n",
    "- It handles the error and provides an error message."
   ]
  },
  {
   "cell_type": "markdown",
   "metadata": {},
   "source": [
    "# String containers\n",
    "\n",
    "\n",
    "- ``In []: fruta = 'manzana, banana, pera'``\n",
    "\n",
    "\n",
    "- ``In []: 'manzana' in fruta``\n",
    "\n",
    "\n",
    "- ``Out[]: True``\n",
    "\n",
    "\n",
    "- ``In []: 'patata' in fruta``\n",
    "\n",
    "\n",
    "- ``Out[]: False``\n"
   ]
  },
  {
   "cell_type": "markdown",
   "metadata": {},
   "source": [
    "# Keyboard IO\n",
    "\n",
    "  \n",
    "\n",
    "  \n",
    "\n",
    " - `` input () '' is the command to take keyboard input.\n",
    " \n",
    " \n",
    "- `` In []: a = input ('Please enter a value:') ''\n",
    "\"Please enter a value: 10\"\n",
    "\n",
    "\n",
    "- `` input () '' generates strings; so to use the entered value as input you have to transform it into an integer with `` int () ``.\n",
    "\n",
    " \n",
    "\n"
   ]
  },
  {
   "cell_type": "code",
   "execution_count": 21,
   "metadata": {},
   "outputs": [
    {
     "name": "stdout",
     "output_type": "stream",
     "text": [
      "Escriba un valor: 6\n"
     ]
    },
    {
     "data": {
      "text/plain": [
       "'6'"
      ]
     },
     "execution_count": 21,
     "metadata": {},
     "output_type": "execute_result"
    }
   ],
   "source": [
    "input('Escriba un valor: ')"
   ]
  },
  {
   "cell_type": "markdown",
   "metadata": {},
   "source": [
    "# The conditional *flow* ``if``...``elif``...``else``\n",
    "\n",
    " \n",
    "- ```python\n",
    "   x = int(input(\"Introduce un número entero: \"))\n",
    "if x < 0:\n",
    "    print('Negativo')\n",
    "elif x == 0:\n",
    "    print('Cero')\n",
    "else:\n",
    "    print('Positivo')\n",
    "    ```"
   ]
  },
  {
   "cell_type": "code",
   "execution_count": 24,
   "metadata": {},
   "outputs": [
    {
     "name": "stdout",
     "output_type": "stream",
     "text": [
      "Introduce un número entero: 2\n",
      "Positivo\n"
     ]
    }
   ],
   "source": [
    "x = int(input(\"Introduce un número entero: \"))\n",
    "\n",
    "if x < 0:\n",
    "    print('Negativo')\n",
    "elif x == 0:\n",
    "    print('Cero')\n",
    "else:\n",
    "    print('Positivo')"
   ]
  },
  {
   "cell_type": "markdown",
   "metadata": {},
   "source": [
    "# The ``while`` *loop* : example with the Fibonacci sequence\n",
    "\n",
    " \n",
    " \n",
    "- ```python\n",
    "    a, b = 0, 1\n",
    "while b < 1000:\n",
    "    print(b, end=' ')\n",
    "    next = a + b\n",
    "    a = b\n",
    "    b = next\n",
    "    ```\n"
   ]
  },
  {
   "cell_type": "code",
   "execution_count": 25,
   "metadata": {},
   "outputs": [
    {
     "name": "stdout",
     "output_type": "stream",
     "text": [
      "1 1 2 3 5 8 13 21 34 55 89 144 233 377 610 987 "
     ]
    }
   ],
   "source": [
    "a, b = 0, 1\n",
    "while b < 1000:\n",
    "    print(b, end=' ')\n",
    "    next = a + b\n",
    "    a = b\n",
    "    b = next"
   ]
  },
  {
   "cell_type": "markdown",
   "metadata": {},
   "source": [
    "# The ``for`` *loop* with the command ``range``\n",
    "\n",
    "  \n",
    "\n",
    "  \n",
    "Example: squares of the first 11 natural numbers:\n",
    " \n",
    " \n",
    "- ```python\n",
    "    for i in range(0, 11):\n",
    "        print(i, i * i)\n",
    "    ```\n"
   ]
  },
  {
   "cell_type": "code",
   "execution_count": 27,
   "metadata": {
    "scrolled": false
   },
   "outputs": [
    {
     "name": "stdout",
     "output_type": "stream",
     "text": [
      "0 0\n",
      "2 4\n",
      "4 16\n",
      "6 36\n",
      "8 64\n",
      "10 100\n"
     ]
    }
   ],
   "source": [
    "for i in range(0, 11, 2):\n",
    "        print(i, i * i)"
   ]
  },
  {
   "cell_type": "markdown",
   "metadata": {},
   "source": [
    "# The ``break`` clause: exiting from the ``while`` *loop*\n",
    "\n",
    "  \n",
    "Example: find the first number less than 100 of the Fibonacci series divisible by 4\n",
    " \n",
    " \n",
    "- ```python\n",
    "    a, b = 0, 1\n",
    "    while b < 100:\n",
    "        if b % 4 == 0:\n",
    "            print(b)\n",
    "            break\n",
    "        a, b = b, a + b\n",
    "    ```\n",
    "\n",
    "- Beware of \"indentation\": it is important to define the `` while`` loop and the `` if`` condition."
   ]
  },
  {
   "cell_type": "code",
   "execution_count": 20,
   "metadata": {},
   "outputs": [
    {
     "name": "stdout",
     "output_type": "stream",
     "text": [
      "8\n"
     ]
    }
   ],
   "source": [
    "a, b = 0, 1\n",
    "while b < 100:\n",
    "    if b % 4 == 0:\n",
    "        print(b)\n",
    "        break\n",
    "    a, b = b, a + b"
   ]
  },
  {
   "cell_type": "markdown",
   "metadata": {},
   "source": [
    "# The \"pass clause\": do nothing and move to the next iteration in the *loop*\n",
    "\n",
    "  \n",
    " \n",
    "- ```python\n",
    "   for i in range(5):\n",
    "       if i % 2 ==  0:\n",
    "           pass\n",
    "        else:\n",
    "            print(i, 'dispar')\n",
    "    1 dispar\n",
    "    3 dispar\n",
    "    ```\n",
    "\n",
    "- Beware of \"indentation\": it is important to define the `` while`` loop and the `` if`` condition."
   ]
  },
  {
   "cell_type": "code",
   "execution_count": null,
   "metadata": {},
   "outputs": [],
   "source": [
    "for i in range(5):\n",
    "    if i % 2 ==  0:\n",
    "        pass\n",
    "    else:\n",
    "        print(i, 'dispar')"
   ]
  },
  {
   "cell_type": "markdown",
   "metadata": {},
   "source": [
    "# Data structures: *lists*\n",
    "\n",
    "  \n",
    " \n",
    "- Lists contain different types of data ...\n",
    "\n",
    "\n",
    "- ... also the other lists that are therefore nested in another list ....\n",
    "\n",
    "\n",
    "- Example:\n",
    "\n",
    "\n",
    "``# Esta es una lista:``\n",
    "\n",
    "``In []: x = ['manzana', 1, 'banana', 2.5, 't-shirt', [1,2,3]]``\n",
    "\n",
    "\n",
    "``In []: len(x)``\n",
    "\n",
    "``Out []: 6``\n",
    "\n",
    "\n",
    "  "
   ]
  },
  {
   "cell_type": "code",
   "execution_count": 18,
   "metadata": {},
   "outputs": [
    {
     "data": {
      "text/plain": [
       "3"
      ]
     },
     "execution_count": 18,
     "metadata": {},
     "output_type": "execute_result"
    }
   ],
   "source": [
    "x = ['manzana', 1, 'banana', 2.5, 't-shirt', [1,2,3]]\n",
    "len(x)\n",
    "len(x[5])"
   ]
  },
  {
   "cell_type": "code",
   "execution_count": 21,
   "metadata": {},
   "outputs": [
    {
     "data": {
      "text/plain": [
       "3"
      ]
     },
     "execution_count": 21,
     "metadata": {},
     "output_type": "execute_result"
    }
   ],
   "source": [
    "#Subsetting a list\n",
    "x[5][2]"
   ]
  },
  {
   "cell_type": "markdown",
   "metadata": {},
   "source": [
    "# Methods in lists: the \"append\" clause\n",
    "\n",
    "  \n",
    " \n",
    " ``In []: num = [9, 8, 2, 3, 7]``\n",
    "\n",
    "\n",
    "``In []: num + [4, 5, 6]``\n",
    "\n",
    "\n",
    "``Out []: [9, 8, 2, 3, 7, 4, 5, 6]``\n",
    "\n",
    "\n",
    "``In []: num.append([4, 5, 6])``\n",
    "\n",
    "\n",
    "``In []: num``\n",
    "\n",
    "\n",
    "``Out[]: [9, 8, 2, 3, 7, [4, 5, 6]]``\n",
    "\n",
    "  "
   ]
  },
  {
   "cell_type": "code",
   "execution_count": 22,
   "metadata": {},
   "outputs": [
    {
     "data": {
      "text/plain": [
       "[9, 8, 2, 3, 7, 4, 5, 6]"
      ]
     },
     "execution_count": 22,
     "metadata": {},
     "output_type": "execute_result"
    }
   ],
   "source": [
    "num = [9, 8, 2, 3, 7]\n",
    "num + [4, 5, 6]"
   ]
  },
  {
   "cell_type": "code",
   "execution_count": 23,
   "metadata": {},
   "outputs": [
    {
     "data": {
      "text/plain": [
       "[9, 8, 2, 3, 7, 4]"
      ]
     },
     "execution_count": 23,
     "metadata": {},
     "output_type": "execute_result"
    }
   ],
   "source": [
    "num.append(4)\n",
    "num"
   ]
  },
  {
   "cell_type": "code",
   "execution_count": 26,
   "metadata": {},
   "outputs": [
    {
     "data": {
      "text/plain": [
       "[9, 8, 2, 3, 7, 10, 11, 12, [4, 5, 6]]"
      ]
     },
     "execution_count": 26,
     "metadata": {},
     "output_type": "execute_result"
    }
   ],
   "source": [
    "num = [9, 8, 2, 3, 7]\n",
    "num1 = num + [10,11,12]\n",
    "num1.append([4, 5, 6]) \n",
    "num1"
   ]
  },
  {
   "cell_type": "markdown",
   "metadata": {},
   "source": [
    "# List methods: ``extend``, ``reverse`` and ``remove``\n",
    "\n",
    "  \n",
    " \n",
    "- Lists contain different types of data ...\n",
    "\n",
    "\n",
    "- ... also the other lists that are therefore nested in another list ....\n",
    "\n",
    "\n",
    "- Example:\n",
    "\n",
    "\n",
    "``# This is a list:``\n",
    "\n",
    "``In []: num = [9, 8, 2, 3, 7]``\n",
    "\n",
    "``In []: num.extend([4, 5, 6])``\n",
    "\n",
    "``In []: num``\n",
    "\n",
    "``Out[]: [9, 8, 2, 3, 7, 4, 5, 6]``\n",
    "\n",
    "``In []: num.reverse()``\n",
    "\n",
    "``In []: num``\n",
    "\n",
    "``Out[]: [6, 5, 4, 7, 3, 2, 8, 9]``\n",
    "\n",
    "``In []: num.remove(6)``\n",
    "\n",
    "``In []: num``\n",
    "  "
   ]
  },
  {
   "cell_type": "code",
   "execution_count": 27,
   "metadata": {},
   "outputs": [
    {
     "data": {
      "text/plain": [
       "[9, 8, 2, 3, 7, 4, 5, 6]"
      ]
     },
     "execution_count": 27,
     "metadata": {},
     "output_type": "execute_result"
    }
   ],
   "source": [
    "num = [9, 8, 2, 3, 7]\n",
    "num.extend([4, 5, 6])\n",
    "num"
   ]
  },
  {
   "cell_type": "code",
   "execution_count": 17,
   "metadata": {},
   "outputs": [
    {
     "data": {
      "text/plain": [
       "[6, 5, 4, 7, 3, 2, 8, 9]"
      ]
     },
     "execution_count": 17,
     "metadata": {},
     "output_type": "execute_result"
    }
   ],
   "source": [
    "num.reverse()\n",
    "num"
   ]
  },
  {
   "cell_type": "code",
   "execution_count": 18,
   "metadata": {},
   "outputs": [
    {
     "data": {
      "text/plain": [
       "[5, 4, 7, 3, 2, 8, 9]"
      ]
     },
     "execution_count": 18,
     "metadata": {},
     "output_type": "execute_result"
    }
   ],
   "source": [
    "num.remove(6)\n",
    "num"
   ]
  },
  {
   "cell_type": "markdown",
   "metadata": {},
   "source": [
    "# List methods: ``count``, ``index`` and ``pop``\n",
    "\n",
    "  \n",
    "\n",
    "\n",
    "``In []: num = [9, 8, 2, 3, 1, 2, 3, 4]``\n",
    "\n",
    "\n",
    "``In []: num.count(2) #How many times is number 2 in the list?``\n",
    "\n",
    "\n",
    "``Out[]: 2``\n",
    "\n",
    "\n",
    "``In []: num.index(2) #What is the index of the first number 2 on the list?``\n",
    "\n",
    "\n",
    "``Out[]: 2``\n",
    "\n",
    "\n",
    "``In []: num.pop(4) #Returns the element present in correspondence of the argument and deletes it from the list``\n",
    "\n",
    "\n",
    "``Out[]: 1``\n",
    "\n",
    "\n",
    "``In []: num``\n",
    "\n",
    "\n",
    "``[9, 8, 2, 3, 2, 3, 4]``\n",
    "  "
   ]
  },
  {
   "cell_type": "code",
   "execution_count": 28,
   "metadata": {},
   "outputs": [
    {
     "data": {
      "text/plain": [
       "2"
      ]
     },
     "execution_count": 28,
     "metadata": {},
     "output_type": "execute_result"
    }
   ],
   "source": [
    "num = [9, 8, 2, 3, 1, 2, 3, 4]\n",
    "num.count(2)"
   ]
  },
  {
   "cell_type": "code",
   "execution_count": 29,
   "metadata": {},
   "outputs": [
    {
     "data": {
      "text/plain": [
       "2"
      ]
     },
     "execution_count": 29,
     "metadata": {},
     "output_type": "execute_result"
    }
   ],
   "source": [
    "num.index(2)"
   ]
  },
  {
   "cell_type": "code",
   "execution_count": 30,
   "metadata": {},
   "outputs": [
    {
     "data": {
      "text/plain": [
       "1"
      ]
     },
     "execution_count": 30,
     "metadata": {},
     "output_type": "execute_result"
    }
   ],
   "source": [
    "num.pop(4)"
   ]
  },
  {
   "cell_type": "code",
   "execution_count": 32,
   "metadata": {},
   "outputs": [
    {
     "data": {
      "text/plain": [
       "[9, 8, 2, 3, 2, 3, 4]"
      ]
     },
     "execution_count": 32,
     "metadata": {},
     "output_type": "execute_result"
    }
   ],
   "source": [
    "num"
   ]
  },
  {
   "cell_type": "markdown",
   "metadata": {},
   "source": [
    "# Removing elements from a list\n",
    "\n",
    "\n",
    "- List elements can be removed based on their index or ....\n",
    "\n",
    "\n",
    "- ... based on their value.\n",
    "\n",
    "\n",
    "`` In []: del num [1] ''\n",
    "\n",
    "\n",
    "`` In []: num.remove (3) ''\n",
    "\n",
    "\n",
    "- * When removing by value the first element in the list containing that value is removed *."
   ]
  },
  {
   "cell_type": "code",
   "execution_count": null,
   "metadata": {},
   "outputs": [],
   "source": [
    "del num[1]\n",
    "num.remove(3)\n",
    "num"
   ]
  },
  {
   "cell_type": "markdown",
   "metadata": {},
   "source": [
    "# Ordering with ``sort()``\n",
    "\n",
    "\n",
    "\n",
    "``In []: a = [5, 1, 6, 7, 7, 10]``\n",
    "\n",
    "\n",
    "``In []: a.sort()``\n",
    "\n",
    "\n",
    "``In []: a``\n",
    "\n",
    "\n",
    "-  The method ``sort`` orders a list.\n",
    "  \n",
    "  \n",
    "- If you may want a new sorted list you have to use ``sorted``.\n",
    "  \n",
    "\n",
    "- Use ``reverse=True`` for an inverse order\n",
    "\n",
    "``In []: a = [5, 1, 6, 7, 7, 10]``\n",
    "\n",
    "\n",
    "``In []: b = sorted(a, reverse=True)``\n",
    "\n",
    "\n",
    "``In []: b``\n",
    "\n"
   ]
  },
  {
   "cell_type": "code",
   "execution_count": 23,
   "metadata": {},
   "outputs": [
    {
     "data": {
      "text/plain": [
       "[1, 5, 6, 7, 7, 10]"
      ]
     },
     "execution_count": 23,
     "metadata": {},
     "output_type": "execute_result"
    }
   ],
   "source": [
    "a = [5, 1, 6, 7, 7, 10]\n",
    "a.sort()\n",
    "a"
   ]
  },
  {
   "cell_type": "code",
   "execution_count": 24,
   "metadata": {},
   "outputs": [
    {
     "data": {
      "text/plain": [
       "[10, 7, 7, 6, 5, 1]"
      ]
     },
     "execution_count": 24,
     "metadata": {},
     "output_type": "execute_result"
    }
   ],
   "source": [
    "a = [5, 1, 6, 7, 7, 10]\n",
    "b = sorted(a, reverse=True)\n",
    "b"
   ]
  },
  {
   "cell_type": "code",
   "execution_count": null,
   "metadata": {},
   "outputs": [],
   "source": [
    "a"
   ]
  },
  {
   "cell_type": "code",
   "execution_count": 25,
   "metadata": {},
   "outputs": [
    {
     "data": {
      "text/plain": [
       "3.6666666666666665"
      ]
     },
     "execution_count": 25,
     "metadata": {},
     "output_type": "execute_result"
    }
   ],
   "source": [
    "110/30"
   ]
  },
  {
   "cell_type": "markdown",
   "metadata": {},
   "source": [
    "# The list container\n",
    "\n",
    "\n",
    "``In []:  num = [9, 8, 2, 3, 7]``\n",
    "\n",
    "\n",
    "``In []: 4 in num``\n",
    "\n",
    "\n",
    "``Out[]: False``\n",
    "\n",
    "\n",
    "``In []: b = 8``\n",
    "\n",
    "\n",
    "``In []: b in num``\n",
    "\n",
    "\n",
    "``Out[]: True``\n",
    "\n",
    "\n",
    "``In []: b not in num``\n",
    "\n",
    "\n",
    "``Out[]: False``\n",
    "\n",
    "\n"
   ]
  },
  {
   "cell_type": "code",
   "execution_count": 26,
   "metadata": {},
   "outputs": [
    {
     "data": {
      "text/plain": [
       "False"
      ]
     },
     "execution_count": 26,
     "metadata": {},
     "output_type": "execute_result"
    }
   ],
   "source": [
    "num = [9, 8, 2, 3, 7]\n",
    "4 in num"
   ]
  },
  {
   "cell_type": "code",
   "execution_count": 27,
   "metadata": {},
   "outputs": [
    {
     "data": {
      "text/plain": [
       "True"
      ]
     },
     "execution_count": 27,
     "metadata": {},
     "output_type": "execute_result"
    }
   ],
   "source": [
    "b = 8\n",
    "b in num"
   ]
  },
  {
   "cell_type": "code",
   "execution_count": 28,
   "metadata": {},
   "outputs": [
    {
     "data": {
      "text/plain": [
       "False"
      ]
     },
     "execution_count": 28,
     "metadata": {},
     "output_type": "execute_result"
    }
   ],
   "source": [
    "b not in num"
   ]
  },
  {
   "cell_type": "markdown",
   "metadata": {},
   "source": [
    "# Tuple: immutable sequences\n",
    "\n",
    "\n",
    "- Tuples cannot be modified and does not allow for assignment.\n",
    "\n",
    "\n",
    "``In []: x = 1, 2, 3``\n",
    "\n",
    "\n",
    "``In []: x``\n",
    "\n",
    "\n",
    "``Out[]: (1, 2, 3)``\n",
    "\n",
    "\n",
    "``In []: t = (1, 2, 3, 4, 5, 6, 7, 8)``\n",
    "\n",
    "\n",
    "``In []: t[0] + t[3] + t[-1]``\n",
    "\n",
    "\n",
    "``Out[]: 13``\n",
    "\n",
    "\n",
    "``In []: t[4] = 5``\n",
    "\n",
    "```python\n",
    "---------------------------------------------------------\n",
    "TypeError               Traceback (most recent call last)\n",
    "<ipython-input-36-fa7207573daf> in <module>\n",
    "----> 1 t[4] = 5\n",
    "\n",
    "TypeError: 'tuple' object does not support item assignment\n",
    "```\n"
   ]
  },
  {
   "cell_type": "code",
   "execution_count": null,
   "metadata": {},
   "outputs": [],
   "source": [
    "x = 1, 2, 3\n",
    "x"
   ]
  },
  {
   "cell_type": "code",
   "execution_count": null,
   "metadata": {},
   "outputs": [],
   "source": [
    "t = (1, 2, 3, 4, 5, 6, 7, 8)\n",
    "t[0] + t[3] + t[-1]"
   ]
  },
  {
   "cell_type": "code",
   "execution_count": null,
   "metadata": {},
   "outputs": [],
   "source": [
    "t[4] = 5"
   ]
  },
  {
   "cell_type": "code",
   "execution_count": 22,
   "metadata": {},
   "outputs": [
    {
     "data": {
      "text/plain": [
       "[0, 1, 2, 3, 4, 5, 6, 7, 8, 9, 10, 11, 12, 13]"
      ]
     },
     "execution_count": 22,
     "metadata": {},
     "output_type": "execute_result"
    }
   ],
   "source": [
    "num_prime = [2, 3, 5, 7, 11, 13, 17]\n",
    "num_prime[2:6]\n",
    "num_prime[2:-1]\n",
    "numeros = list(range(14))\n",
    "numeros"
   ]
  },
  {
   "cell_type": "code",
   "execution_count": 25,
   "metadata": {},
   "outputs": [
    {
     "data": {
      "text/plain": [
       "[5, 7, 11]"
      ]
     },
     "execution_count": 25,
     "metadata": {},
     "output_type": "execute_result"
    }
   ],
   "source": [
    "num_prime[2:-2]"
   ]
  },
  {
   "cell_type": "code",
   "execution_count": 27,
   "metadata": {},
   "outputs": [
    {
     "data": {
      "text/plain": [
       "[1, 3, 5, 7, 9]"
      ]
     },
     "execution_count": 27,
     "metadata": {},
     "output_type": "execute_result"
    }
   ],
   "source": [
    "# the last argument (2) stands for the step\n",
    "numeros[1:10:2]"
   ]
  },
  {
   "cell_type": "code",
   "execution_count": 14,
   "metadata": {},
   "outputs": [
    {
     "data": {
      "text/plain": [
       "[0, 1, 2, 3, 4, 5, 6, 7, 8, 9]"
      ]
     },
     "execution_count": 14,
     "metadata": {},
     "output_type": "execute_result"
    }
   ],
   "source": [
    "numeros[:10]"
   ]
  },
  {
   "cell_type": "code",
   "execution_count": 15,
   "metadata": {},
   "outputs": [
    {
     "data": {
      "text/plain": [
       "[0, 2, 4, 6, 8, 10, 12]"
      ]
     },
     "execution_count": 15,
     "metadata": {},
     "output_type": "execute_result"
    }
   ],
   "source": [
    "numeros[::2]"
   ]
  },
  {
   "cell_type": "code",
   "execution_count": 16,
   "metadata": {},
   "outputs": [
    {
     "data": {
      "text/plain": [
       "[13, 12, 11, 10, 9, 8, 7, 6, 5, 4, 3, 2, 1, 0]"
      ]
     },
     "execution_count": 16,
     "metadata": {},
     "output_type": "execute_result"
    }
   ],
   "source": [
    "numeros[:: -1]"
   ]
  },
  {
   "cell_type": "code",
   "execution_count": 17,
   "metadata": {},
   "outputs": [],
   "source": [
    "a , b = 5, 7"
   ]
  },
  {
   "cell_type": "code",
   "execution_count": 18,
   "metadata": {},
   "outputs": [],
   "source": [
    "a,b = b,a"
   ]
  },
  {
   "cell_type": "code",
   "execution_count": 19,
   "metadata": {},
   "outputs": [
    {
     "data": {
      "text/plain": [
       "7"
      ]
     },
     "execution_count": 19,
     "metadata": {},
     "output_type": "execute_result"
    }
   ],
   "source": [
    "a"
   ]
  },
  {
   "cell_type": "code",
   "execution_count": 20,
   "metadata": {},
   "outputs": [
    {
     "data": {
      "text/plain": [
       "5"
      ]
     },
     "execution_count": 20,
     "metadata": {},
     "output_type": "execute_result"
    }
   ],
   "source": [
    "b"
   ]
  },
  {
   "cell_type": "code",
   "execution_count": 21,
   "metadata": {},
   "outputs": [],
   "source": [
    "x = 1, 2, 3"
   ]
  },
  {
   "cell_type": "code",
   "execution_count": 22,
   "metadata": {},
   "outputs": [
    {
     "data": {
      "text/plain": [
       "(1, 2, 3)"
      ]
     },
     "execution_count": 22,
     "metadata": {},
     "output_type": "execute_result"
    }
   ],
   "source": [
    "x"
   ]
  },
  {
   "cell_type": "code",
   "execution_count": 33,
   "metadata": {},
   "outputs": [
    {
     "ename": "TypeError",
     "evalue": "'int' object is not subscriptable",
     "output_type": "error",
     "traceback": [
      "\u001b[0;31m---------------------------------------------------------------------------\u001b[0m",
      "\u001b[0;31mTypeError\u001b[0m                                 Traceback (most recent call last)",
      "\u001b[0;32m<ipython-input-33-2f755f117ac9>\u001b[0m in \u001b[0;36m<module>\u001b[0;34m\u001b[0m\n\u001b[0;32m----> 1\u001b[0;31m \u001b[0mx\u001b[0m\u001b[0;34m[\u001b[0m\u001b[0;36m0\u001b[0m\u001b[0;34m]\u001b[0m\u001b[0;34m\u001b[0m\u001b[0;34m\u001b[0m\u001b[0m\n\u001b[0m",
      "\u001b[0;31mTypeError\u001b[0m: 'int' object is not subscriptable"
     ]
    }
   ],
   "source": [
    "x[0]"
   ]
  },
  {
   "cell_type": "code",
   "execution_count": 23,
   "metadata": {},
   "outputs": [
    {
     "data": {
      "text/plain": [
       "[1, 2, 3]"
      ]
     },
     "execution_count": 23,
     "metadata": {},
     "output_type": "execute_result"
    }
   ],
   "source": [
    "y = list(x)"
   ]
  },
  {
   "cell_type": "code",
   "execution_count": 24,
   "metadata": {},
   "outputs": [
    {
     "data": {
      "text/plain": [
       "(1, 2, 3)"
      ]
     },
     "execution_count": 24,
     "metadata": {},
     "output_type": "execute_result"
    }
   ],
   "source": [
    "x"
   ]
  },
  {
   "cell_type": "code",
   "execution_count": 25,
   "metadata": {},
   "outputs": [],
   "source": [
    "y = list(x)"
   ]
  },
  {
   "cell_type": "code",
   "execution_count": 26,
   "metadata": {},
   "outputs": [
    {
     "data": {
      "text/plain": [
       "[1, 2, 3]"
      ]
     },
     "execution_count": 26,
     "metadata": {},
     "output_type": "execute_result"
    }
   ],
   "source": [
    "y"
   ]
  },
  {
   "cell_type": "code",
   "execution_count": 27,
   "metadata": {},
   "outputs": [
    {
     "data": {
      "text/plain": [
       "(1, 2, 3)"
      ]
     },
     "execution_count": 27,
     "metadata": {},
     "output_type": "execute_result"
    }
   ],
   "source": [
    "tuple(y)"
   ]
  },
  {
   "cell_type": "code",
   "execution_count": 28,
   "metadata": {},
   "outputs": [
    {
     "data": {
      "text/plain": [
       "('b', 'u', 'e', 'n', 'a', 's', ' ', 'd', 'i', 'a', 's')"
      ]
     },
     "execution_count": 28,
     "metadata": {},
     "output_type": "execute_result"
    }
   ],
   "source": [
    "tuple('buenas dias')"
   ]
  },
  {
   "cell_type": "code",
   "execution_count": 29,
   "metadata": {},
   "outputs": [],
   "source": [
    "#Block indexing in Python\n",
    "#Syntax is the following:\n",
    "#sequence[intitial point: final point: step]\n",
    "num_primos= [1,3,5,7,11,13,17,19,23]"
   ]
  },
  {
   "cell_type": "code",
   "execution_count": null,
   "metadata": {},
   "outputs": [],
   "source": [
    "num_primos[2:6]"
   ]
  },
  {
   "cell_type": "code",
   "execution_count": null,
   "metadata": {},
   "outputs": [],
   "source": [
    "num_primos[:4]\n",
    "numeros = list(range(1:14))"
   ]
  },
  {
   "cell_type": "code",
   "execution_count": null,
   "metadata": {},
   "outputs": [],
   "source": [
    "stringa = ['hola','a todos']\n",
    "stringa[:2]"
   ]
  },
  {
   "cell_type": "code",
   "execution_count": null,
   "metadata": {},
   "outputs": [],
   "source": [
    "numeros = [0,1,2,3,4,5,6,7,8,9,10,11,12,13,14,15,16, 18 ,20]\n",
    "numeros[0:16:2]"
   ]
  },
  {
   "cell_type": "code",
   "execution_count": null,
   "metadata": {},
   "outputs": [],
   "source": [
    "numeros"
   ]
  },
  {
   "cell_type": "code",
   "execution_count": null,
   "metadata": {},
   "outputs": [],
   "source": [
    "numeros[10:]"
   ]
  },
  {
   "cell_type": "code",
   "execution_count": null,
   "metadata": {},
   "outputs": [],
   "source": [
    "numeros[::2]"
   ]
  },
  {
   "cell_type": "code",
   "execution_count": null,
   "metadata": {},
   "outputs": [],
   "source": [
    "numeros[::-2]"
   ]
  },
  {
   "cell_type": "code",
   "execution_count": null,
   "metadata": {},
   "outputs": [],
   "source": [
    "numeros[::-1]"
   ]
  },
  {
   "cell_type": "code",
   "execution_count": null,
   "metadata": {},
   "outputs": [],
   "source": [
    "semana = 'lun mar mie jue vie sab dom'"
   ]
  },
  {
   "cell_type": "code",
   "execution_count": null,
   "metadata": {},
   "outputs": [],
   "source": [
    "semana"
   ]
  },
  {
   "cell_type": "code",
   "execution_count": null,
   "metadata": {},
   "outputs": [],
   "source": [
    "semana.split()"
   ]
  },
  {
   "cell_type": "code",
   "execution_count": null,
   "metadata": {},
   "outputs": [],
   "source": [
    "semana.split()[2]"
   ]
  },
  {
   "cell_type": "code",
   "execution_count": null,
   "metadata": {},
   "outputs": [],
   "source": [
    "stri = 'Domingo'"
   ]
  },
  {
   "cell_type": "code",
   "execution_count": null,
   "metadata": {},
   "outputs": [],
   "source": [
    "if stri.lower()[:3] not in semana:\n",
    "    print('Ingrese el día de la semana correctamente')\n",
    "else:\n",
    "    print('Día de la semana correcto')"
   ]
  },
  {
   "cell_type": "code",
   "execution_count": 39,
   "metadata": {},
   "outputs": [],
   "source": [
    "#DICTIONARIES: The starting point of data frames....\n",
    "d = {'png ': 'image file','txt' : 'text file','ipynb' : 'notebook file','java' : 'java file','pdf' : 'Acrobat file'\n",
    "}"
   ]
  },
  {
   "cell_type": "code",
   "execution_count": 36,
   "metadata": {},
   "outputs": [
    {
     "data": {
      "text/plain": [
       "'text file'"
      ]
     },
     "execution_count": 36,
     "metadata": {},
     "output_type": "execute_result"
    }
   ],
   "source": [
    "d['txt']"
   ]
  },
  {
   "cell_type": "code",
   "execution_count": 37,
   "metadata": {},
   "outputs": [
    {
     "data": {
      "text/plain": [
       "True"
      ]
     },
     "execution_count": 37,
     "metadata": {},
     "output_type": "execute_result"
    }
   ],
   "source": [
    "'png' in d"
   ]
  },
  {
   "cell_type": "code",
   "execution_count": 38,
   "metadata": {},
   "outputs": [
    {
     "data": {
      "text/plain": [
       "False"
      ]
     },
     "execution_count": 38,
     "metadata": {},
     "output_type": "execute_result"
    }
   ],
   "source": [
    "'jpg' in d"
   ]
  },
  {
   "cell_type": "code",
   "execution_count": 34,
   "metadata": {},
   "outputs": [
    {
     "data": {
      "text/plain": [
       "['png', 'txt', 'ipynb', 'java', 'pdf']"
      ]
     },
     "execution_count": 34,
     "metadata": {},
     "output_type": "execute_result"
    }
   ],
   "source": [
    "list(d.keys())"
   ]
  },
  {
   "cell_type": "code",
   "execution_count": 35,
   "metadata": {},
   "outputs": [
    {
     "data": {
      "text/plain": [
       "['image file', 'text file', 'notebook file', 'java file', 'Acrobat file']"
      ]
     },
     "execution_count": 35,
     "metadata": {},
     "output_type": "execute_result"
    }
   ],
   "source": [
    "list(d.values())"
   ]
  },
  {
   "cell_type": "code",
   "execution_count": 36,
   "metadata": {},
   "outputs": [],
   "source": [
    "d['bin'] = 'binary file'"
   ]
  },
  {
   "cell_type": "code",
   "execution_count": 37,
   "metadata": {},
   "outputs": [
    {
     "data": {
      "text/plain": [
       "{'png': 'image file',\n",
       " 'txt': 'text file',\n",
       " 'ipynb': 'notebook file',\n",
       " 'java': 'java file',\n",
       " 'pdf': 'Acrobat file',\n",
       " 'bin': 'binary file'}"
      ]
     },
     "execution_count": 37,
     "metadata": {},
     "output_type": "execute_result"
    }
   ],
   "source": [
    "d"
   ]
  },
  {
   "cell_type": "code",
   "execution_count": 42,
   "metadata": {},
   "outputs": [],
   "source": [
    "d['pdf'] = 'Portable Document Format'"
   ]
  },
  {
   "cell_type": "code",
   "execution_count": 43,
   "metadata": {},
   "outputs": [
    {
     "data": {
      "text/plain": [
       "{'png ': 'image file',\n",
       " 'txt': 'text file',\n",
       " 'ipynb': 'notebook file',\n",
       " 'java': 'java file',\n",
       " 'pdf': 'Portable Document Format'}"
      ]
     },
     "execution_count": 43,
     "metadata": {},
     "output_type": "execute_result"
    }
   ],
   "source": [
    "d"
   ]
  },
  {
   "cell_type": "code",
   "execution_count": 44,
   "metadata": {},
   "outputs": [],
   "source": [
    "del d['java']"
   ]
  },
  {
   "cell_type": "code",
   "execution_count": 45,
   "metadata": {},
   "outputs": [
    {
     "data": {
      "text/plain": [
       "{'png ': 'image file',\n",
       " 'txt': 'text file',\n",
       " 'ipynb': 'notebook file',\n",
       " 'pdf': 'Portable Document Format'}"
      ]
     },
     "execution_count": 45,
     "metadata": {},
     "output_type": "execute_result"
    }
   ],
   "source": [
    "d"
   ]
  },
  {
   "cell_type": "code",
   "execution_count": null,
   "metadata": {},
   "outputs": [],
   "source": [
    "d.del('bin')"
   ]
  },
  {
   "cell_type": "code",
   "execution_count": null,
   "metadata": {},
   "outputs": [],
   "source": [
    "d.pop('bin')"
   ]
  },
  {
   "cell_type": "code",
   "execution_count": null,
   "metadata": {},
   "outputs": [],
   "source": [
    "d"
   ]
  },
  {
   "cell_type": "code",
   "execution_count": null,
   "metadata": {},
   "outputs": [],
   "source": [
    "d.get('txt')"
   ]
  },
  {
   "cell_type": "code",
   "execution_count": 41,
   "metadata": {},
   "outputs": [],
   "source": [
    "d.update({'png': 'image file', 'exe': 'executable file'})"
   ]
  },
  {
   "cell_type": "code",
   "execution_count": 42,
   "metadata": {},
   "outputs": [
    {
     "data": {
      "text/plain": [
       "{'png': 'image file',\n",
       " 'txt': 'text file',\n",
       " 'ipynb': 'notebook file',\n",
       " 'java': 'java file',\n",
       " 'pdf': 'Portable Document Format',\n",
       " 'exe': 'executable file'}"
      ]
     },
     "execution_count": 42,
     "metadata": {},
     "output_type": "execute_result"
    }
   ],
   "source": [
    "d"
   ]
  },
  {
   "cell_type": "code",
   "execution_count": 43,
   "metadata": {},
   "outputs": [
    {
     "data": {
      "text/plain": [
       "False"
      ]
     },
     "execution_count": 43,
     "metadata": {},
     "output_type": "execute_result"
    }
   ],
   "source": [
    "'bin' in d"
   ]
  },
  {
   "cell_type": "code",
   "execution_count": 44,
   "metadata": {},
   "outputs": [
    {
     "data": {
      "text/plain": [
       "True"
      ]
     },
     "execution_count": 44,
     "metadata": {},
     "output_type": "execute_result"
    }
   ],
   "source": [
    "'exe' in d"
   ]
  },
  {
   "cell_type": "code",
   "execution_count": null,
   "metadata": {},
   "outputs": [],
   "source": [
    "'executable file' in d"
   ]
  },
  {
   "cell_type": "code",
   "execution_count": null,
   "metadata": {},
   "outputs": [],
   "source": [
    "d1 = dict(png='image file', txt='text file')"
   ]
  },
  {
   "cell_type": "code",
   "execution_count": null,
   "metadata": {},
   "outputs": [],
   "source": [
    "d1"
   ]
  },
  {
   "cell_type": "code",
   "execution_count": null,
   "metadata": {},
   "outputs": [],
   "source": [
    "a_list=[1,2,3,4,5,6,7,8]"
   ]
  },
  {
   "cell_type": "code",
   "execution_count": null,
   "metadata": {},
   "outputs": [],
   "source": [
    "a_juntos = set(a_list)"
   ]
  },
  {
   "cell_type": "code",
   "execution_count": null,
   "metadata": {},
   "outputs": [],
   "source": [
    "a_juntos"
   ]
  },
  {
   "cell_type": "code",
   "execution_count": 45,
   "metadata": {},
   "outputs": [],
   "source": [
    "# (Mathematical) sets\n",
    "Juntos1 = set([1,2,3,5,8])\n",
    "Juntos2 = set([2,3,5,7])"
   ]
  },
  {
   "cell_type": "code",
   "execution_count": 46,
   "metadata": {},
   "outputs": [
    {
     "data": {
      "text/plain": [
       "{1, 2, 3, 5, 7, 8}"
      ]
     },
     "execution_count": 46,
     "metadata": {},
     "output_type": "execute_result"
    }
   ],
   "source": [
    "Juntos1 | Juntos2"
   ]
  },
  {
   "cell_type": "code",
   "execution_count": 47,
   "metadata": {},
   "outputs": [
    {
     "data": {
      "text/plain": [
       "{2, 3, 5}"
      ]
     },
     "execution_count": 47,
     "metadata": {},
     "output_type": "execute_result"
    }
   ],
   "source": [
    "Juntos1 & Juntos2"
   ]
  },
  {
   "cell_type": "code",
   "execution_count": 48,
   "metadata": {},
   "outputs": [
    {
     "data": {
      "text/plain": [
       "{1, 8}"
      ]
     },
     "execution_count": 48,
     "metadata": {},
     "output_type": "execute_result"
    }
   ],
   "source": [
    "Juntos1 - Juntos2"
   ]
  },
  {
   "cell_type": "code",
   "execution_count": 50,
   "metadata": {},
   "outputs": [
    {
     "data": {
      "text/plain": [
       "{1, 7, 8}"
      ]
     },
     "execution_count": 50,
     "metadata": {},
     "output_type": "execute_result"
    }
   ],
   "source": [
    "Juntos1 ^ Juntos2"
   ]
  },
  {
   "cell_type": "code",
   "execution_count": 55,
   "metadata": {},
   "outputs": [],
   "source": [
    "Juntos3 = set([1,2,3,4,5,6,7,8,9,10,11])"
   ]
  },
  {
   "cell_type": "code",
   "execution_count": 56,
   "metadata": {},
   "outputs": [
    {
     "data": {
      "text/plain": [
       "False"
      ]
     },
     "execution_count": 56,
     "metadata": {},
     "output_type": "execute_result"
    }
   ],
   "source": [
    "Juntos3 < Juntos1"
   ]
  },
  {
   "cell_type": "code",
   "execution_count": 57,
   "metadata": {},
   "outputs": [
    {
     "data": {
      "text/plain": [
       "False"
      ]
     },
     "execution_count": 57,
     "metadata": {},
     "output_type": "execute_result"
    }
   ],
   "source": [
    "Juntos1 < Juntos1"
   ]
  },
  {
   "cell_type": "code",
   "execution_count": 58,
   "metadata": {},
   "outputs": [
    {
     "data": {
      "text/plain": [
       "True"
      ]
     },
     "execution_count": 58,
     "metadata": {},
     "output_type": "execute_result"
    }
   ],
   "source": [
    "Juntos1 <= Juntos1"
   ]
  },
  {
   "cell_type": "code",
   "execution_count": 59,
   "metadata": {},
   "outputs": [
    {
     "data": {
      "text/plain": [
       "True"
      ]
     },
     "execution_count": 59,
     "metadata": {},
     "output_type": "execute_result"
    }
   ],
   "source": [
    "1 in Juntos1"
   ]
  },
  {
   "cell_type": "code",
   "execution_count": 60,
   "metadata": {},
   "outputs": [
    {
     "name": "stdout",
     "output_type": "stream",
     "text": [
      "1\n",
      "2\n",
      "3\n",
      "5\n",
      "8\n"
     ]
    }
   ],
   "source": [
    "for i in Juntos1:\n",
    "    print(i)"
   ]
  },
  {
   "cell_type": "code",
   "execution_count": 61,
   "metadata": {},
   "outputs": [],
   "source": [
    "#Functions\n",
    "def fun(x):\n",
    "    return (x*x)"
   ]
  },
  {
   "cell_type": "code",
   "execution_count": 62,
   "metadata": {},
   "outputs": [
    {
     "data": {
      "text/plain": [
       "16"
      ]
     },
     "execution_count": 62,
     "metadata": {},
     "output_type": "execute_result"
    }
   ],
   "source": [
    "fun(4)"
   ]
  },
  {
   "cell_type": "code",
   "execution_count": 63,
   "metadata": {},
   "outputs": [],
   "source": [
    "def Cervantes():\n",
    "    print('En un lugar de la Mancha')"
   ]
  },
  {
   "cell_type": "code",
   "execution_count": 64,
   "metadata": {},
   "outputs": [
    {
     "name": "stdout",
     "output_type": "stream",
     "text": [
      "En un lugar de la Mancha\n"
     ]
    }
   ],
   "source": [
    "Cervantes()"
   ]
  },
  {
   "cell_type": "code",
   "execution_count": null,
   "metadata": {},
   "outputs": [],
   "source": [
    "def promedio(a,b):\n",
    "    return (a+b)/2"
   ]
  },
  {
   "cell_type": "code",
   "execution_count": null,
   "metadata": {},
   "outputs": [],
   "source": [
    " promedio(3,5)"
   ]
  },
  {
   "cell_type": "code",
   "execution_count": null,
   "metadata": {},
   "outputs": [],
   "source": [
    "valores = [27,28,30,30,18,23,29,30]\n",
    "longitud = len(valori)"
   ]
  },
  {
   "cell_type": "code",
   "execution_count": null,
   "metadata": {},
   "outputs": [],
   "source": [
    "abs(-5)"
   ]
  },
  {
   "cell_type": "code",
   "execution_count": 65,
   "metadata": {},
   "outputs": [],
   "source": [
    "documento = open('DonQuixote.txt', encoding = 'mac roman', mode = 'r')"
   ]
  },
  {
   "cell_type": "code",
   "execution_count": 66,
   "metadata": {},
   "outputs": [],
   "source": [
    "leggi = documento.read()"
   ]
  },
  {
   "cell_type": "code",
   "execution_count": 67,
   "metadata": {},
   "outputs": [
    {
     "data": {
      "text/plain": [
       "'En un lugar de la Mancha, \\nde cuyo nombre no quiero acordarme, \\nno ha mucho tiempo que vivía un hidalgo de los de lanza en astillero, \\nadarga antigua, \\nrocín flaco y galgo corredor'"
      ]
     },
     "execution_count": 67,
     "metadata": {},
     "output_type": "execute_result"
    }
   ],
   "source": [
    "leggi"
   ]
  },
  {
   "cell_type": "code",
   "execution_count": 68,
   "metadata": {},
   "outputs": [],
   "source": [
    "leggi_list = leggi.splitlines()"
   ]
  },
  {
   "cell_type": "code",
   "execution_count": 69,
   "metadata": {},
   "outputs": [
    {
     "data": {
      "text/plain": [
       "['En un lugar de la Mancha, ',\n",
       " 'de cuyo nombre no quiero acordarme, ',\n",
       " 'no ha mucho tiempo que vivía un hidalgo de los de lanza en astillero, ',\n",
       " 'adarga antigua, ',\n",
       " 'rocín flaco y galgo corredor']"
      ]
     },
     "execution_count": 69,
     "metadata": {},
     "output_type": "execute_result"
    }
   ],
   "source": [
    "leggi_list"
   ]
  },
  {
   "cell_type": "code",
   "execution_count": 70,
   "metadata": {},
   "outputs": [
    {
     "data": {
      "text/plain": [
       "list"
      ]
     },
     "execution_count": 70,
     "metadata": {},
     "output_type": "execute_result"
    }
   ],
   "source": [
    "type(leggi_list)"
   ]
  },
  {
   "cell_type": "code",
   "execution_count": 71,
   "metadata": {},
   "outputs": [],
   "source": [
    "documento.close()"
   ]
  },
  {
   "cell_type": "code",
   "execution_count": 1,
   "metadata": {},
   "outputs": [
    {
     "name": "stdout",
     "output_type": "stream",
     "text": [
      "En un lugar de la Mancha, \n",
      "\n",
      "de cuyo nombre no quiero acordarme, \n",
      "\n",
      "no ha mucho tiempo que vivía un hidalgo de los de lanza en astillero, \n",
      "\n",
      "adarga antigua, \n",
      "\n",
      "rocín flaco y galgo corredor\n"
     ]
    }
   ],
   "source": [
    "for riga in open('DonQuixote.txt', encoding = 'mac roman', mode = 'r'):\n",
    "    print(riga)"
   ]
  },
  {
   "cell_type": "markdown",
   "metadata": {},
   "source": [
    "# High-level introduction to <code>pandas</code>\n",
    "For a more complete introduction to <code>pandas</code>, see [https://pandas.pydata.org/](https://pandas.pydata.org/)."
   ]
  },
  {
   "cell_type": "code",
   "execution_count": 46,
   "metadata": {},
   "outputs": [
    {
     "name": "stdout",
     "output_type": "stream",
     "text": [
      "Requirement already satisfied: pandas in /opt/anaconda3/lib/python3.8/site-packages (1.3.4)\n",
      "Requirement already satisfied: pytz>=2017.3 in /opt/anaconda3/lib/python3.8/site-packages (from pandas) (2021.1)\n",
      "Requirement already satisfied: python-dateutil>=2.7.3 in /opt/anaconda3/lib/python3.8/site-packages (from pandas) (2.8.1)\n",
      "Requirement already satisfied: numpy>=1.17.3 in /opt/anaconda3/lib/python3.8/site-packages (from pandas) (1.22.1)\n",
      "Requirement already satisfied: six>=1.5 in /opt/anaconda3/lib/python3.8/site-packages (from python-dateutil>=2.7.3->pandas) (1.15.0)\n",
      "\u001b[33mWARNING: You are using pip version 21.2.2; however, version 22.1.2 is available.\n",
      "You should consider upgrading via the '/opt/anaconda3/bin/python -m pip install --upgrade pip' command.\u001b[0m\n",
      "Note: you may need to restart the kernel to use updated packages.\n"
     ]
    }
   ],
   "source": [
    "pip install pandas"
   ]
  },
  {
   "cell_type": "code",
   "execution_count": 34,
   "metadata": {},
   "outputs": [],
   "source": [
    "import pandas as pd\n",
    "import numpy as np\n",
    "import matplotlib.pyplot as plt"
   ]
  },
  {
   "cell_type": "code",
   "execution_count": 132,
   "metadata": {},
   "outputs": [
    {
     "data": {
      "text/html": [
       "\n",
       "<style>\n",
       "\n",
       "div.cell { /* Tunes the space between cells */\n",
       "margin-top:1em;\n",
       "margin-bottom:1em;\n",
       "}\n",
       "\n",
       "div.text_cell_render h1 { /* Main titles bigger, centered */\n",
       "font-size: 2.2em;\n",
       "line-height:1.4em;\n",
       "text-align:center;\n",
       "}\n",
       "\n",
       "div.text_cell_render h2 { /*  Parts names nearer from text */\n",
       "margin-bottom: -0.4em;\n",
       "}\n",
       "\n",
       "\n",
       "div.text_cell_render { /* Customize text cells */\n",
       "font-family: 'Times New Roman';\n",
       "font-size:1.5em;\n",
       "line-height:1.4em;\n",
       "padding-left:3em;\n",
       "padding-right:3em;\n",
       "}\n",
       "</style>\n"
      ],
      "text/plain": [
       "<IPython.core.display.HTML object>"
      ]
     },
     "execution_count": 132,
     "metadata": {},
     "output_type": "execute_result"
    }
   ],
   "source": [
    "#This is to let you have larger fonts...\n",
    "from IPython.core.display import HTML\n",
    "HTML(\"\"\"\n",
    "<style>\n",
    "\n",
    "div.cell { /* Tunes the space between cells */\n",
    "margin-top:1em;\n",
    "margin-bottom:1em;\n",
    "}\n",
    "\n",
    "div.text_cell_render h1 { /* Main titles bigger, centered */\n",
    "font-size: 2.2em;\n",
    "line-height:1.4em;\n",
    "text-align:center;\n",
    "}\n",
    "\n",
    "div.text_cell_render h2 { /*  Parts names nearer from text */\n",
    "margin-bottom: -0.4em;\n",
    "}\n",
    "\n",
    "\n",
    "div.text_cell_render { /* Customize text cells */\n",
    "font-family: 'Times New Roman';\n",
    "font-size:1.5em;\n",
    "line-height:1.4em;\n",
    "padding-left:3em;\n",
    "padding-right:3em;\n",
    "}\n",
    "</style>\n",
    "\"\"\")"
   ]
  },
  {
   "cell_type": "code",
   "execution_count": null,
   "metadata": {},
   "outputs": [],
   "source": []
  }
 ],
 "metadata": {
  "anaconda-cloud": {},
  "celltoolbar": "Tags",
  "kernelspec": {
   "display_name": "Python 3",
   "language": "python",
   "name": "python3"
  },
  "language_info": {
   "codemirror_mode": {
    "name": "ipython",
    "version": 3
   },
   "file_extension": ".py",
   "mimetype": "text/x-python",
   "name": "python",
   "nbconvert_exporter": "python",
   "pygments_lexer": "ipython3",
   "version": "3.8.5"
  }
 },
 "nbformat": 4,
 "nbformat_minor": 1
}
