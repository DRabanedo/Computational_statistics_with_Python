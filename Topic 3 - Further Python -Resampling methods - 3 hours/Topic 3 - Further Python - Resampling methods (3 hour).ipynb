{
 "cells": [
  {
   "cell_type": "markdown",
   "metadata": {},
   "source": [
    "# <p style=\"text-align: center;\">Computational Statistics with Python</p>\n",
    "\n",
    "\n",
    "## <p style=\"text-align: center;\">Topic 3: Further Python - Resampling methods</p>\n",
    "\n",
    "## <p style=\"text-align: center;\">Expected lecture time: 3 hours</p>\n",
    "\n",
    "\n",
    "<p style=\"text-align: center;\">Giancarlo Manzi</p>\n",
    "<p style=\"text-align: center;\">Department of Economics, Management and Quantitative Methods</p>\n",
    "<p style=\"text-align: center;\">University of Milan, Milan, Italy</p>"
   ]
  },
  {
   "cell_type": "markdown",
   "metadata": {},
   "source": [
    "## Series\n",
    "Series is a one-dimensional labeled array from the library Pandas capable of holding any data type (integers, strings, floating point numbers, Python objects, etc.)."
   ]
  },
  {
   "cell_type": "code",
   "execution_count": 30,
   "metadata": {},
   "outputs": [],
   "source": [
    "# Using Numpy's pseudo random number generator\n",
    "import numpy as np\n",
    "data = np.random.randn(20)\n",
    "index = range(1990, 2010)"
   ]
  },
  {
   "cell_type": "code",
   "execution_count": 31,
   "metadata": {},
   "outputs": [
    {
     "name": "stdout",
     "output_type": "stream",
     "text": [
      "[ 0.14608728 -0.25847766  0.10689618  0.142993    0.69142831 -0.17412547\n",
      " -0.04217579 -1.2043232   0.24564655 -1.07508499 -1.12669524 -0.38446108\n",
      " -0.47653808  0.02463384 -1.42284515 -1.16603711  0.54471964  1.90033034\n",
      " -1.68963194 -0.54532219]\n",
      "[1990, 1991, 1992, 1993, 1994, 1995, 1996, 1997, 1998, 1999, 2000, 2001, 2002, 2003, 2004, 2005, 2006, 2007, 2008, 2009]\n"
     ]
    }
   ],
   "source": [
    "print (data)\n",
    "print (list(index))"
   ]
  },
  {
   "cell_type": "code",
   "execution_count": 35,
   "metadata": {},
   "outputs": [],
   "source": [
    "y = pd.Series(data, index=index)"
   ]
  },
  {
   "cell_type": "code",
   "execution_count": 36,
   "metadata": {},
   "outputs": [
    {
     "name": "stdout",
     "output_type": "stream",
     "text": [
      "1990    0.146087\n",
      "1991   -0.258478\n",
      "1992    0.106896\n",
      "1993    0.142993\n",
      "1994    0.691428\n",
      "1995   -0.174125\n",
      "1996   -0.042176\n",
      "1997   -1.204323\n",
      "1998    0.245647\n",
      "1999   -1.075085\n",
      "2000   -1.126695\n",
      "2001   -0.384461\n",
      "2002   -0.476538\n",
      "2003    0.024634\n",
      "2004   -1.422845\n",
      "2005   -1.166037\n",
      "2006    0.544720\n",
      "2007    1.900330\n",
      "2008   -1.689632\n",
      "2009   -0.545322\n",
      "dtype: float64\n"
     ]
    }
   ],
   "source": [
    "print (y)"
   ]
  },
  {
   "cell_type": "code",
   "execution_count": 40,
   "metadata": {},
   "outputs": [],
   "source": [
    "salaries = {\n",
    "    'juan': 1500, 'maria': 2560.34, 'cesc': None, 'juan carlos': 2451\n",
    "}"
   ]
  },
  {
   "cell_type": "code",
   "execution_count": 41,
   "metadata": {},
   "outputs": [],
   "source": [
    "s = pd.Series(salaries)"
   ]
  },
  {
   "cell_type": "code",
   "execution_count": 42,
   "metadata": {},
   "outputs": [
    {
     "name": "stdout",
     "output_type": "stream",
     "text": [
      "juan           1500.00\n",
      "maria          2560.34\n",
      "cesc               NaN\n",
      "juan carlos    2451.00\n",
      "dtype: float64\n"
     ]
    }
   ],
   "source": [
    "print (s)"
   ]
  },
  {
   "cell_type": "markdown",
   "metadata": {},
   "source": [
    "### Access series as arrays"
   ]
  },
  {
   "cell_type": "code",
   "execution_count": 43,
   "metadata": {},
   "outputs": [
    {
     "name": "stdout",
     "output_type": "stream",
     "text": [
      "juan     1500.00\n",
      "maria    2560.34\n",
      "dtype: float64 \n",
      "\n",
      "maria    2560.34\n",
      "dtype: float64 \n",
      "\n",
      "juan           7.313220\n",
      "maria          7.847895\n",
      "cesc                NaN\n",
      "juan carlos    7.804251\n",
      "dtype: float64 \n",
      "\n",
      "juan           3000.00\n",
      "maria          5120.68\n",
      "cesc               NaN\n",
      "juan carlos    4902.00\n",
      "dtype: float64 \n",
      "\n",
      "juan           4500.00\n",
      "maria          7681.02\n",
      "cesc               NaN\n",
      "juan carlos    7353.00\n",
      "dtype: float64 \n",
      "\n",
      "1994    1.382857\n",
      "1995   -0.348251\n",
      "1996   -0.084352\n",
      "1997   -2.408646\n",
      "1998         NaN\n",
      "1999         NaN\n",
      "dtype: float64\n"
     ]
    }
   ],
   "source": [
    "print (s[:2], '\\n')\n",
    "print (s[s > s.median()], '\\n')\n",
    "print (np.log(s), '\\n')\n",
    "print (s + s, '\\n')\n",
    "print (s * 3, '\\n')\n",
    "print (y[4:8] + y[4:10])"
   ]
  },
  {
   "cell_type": "markdown",
   "metadata": {},
   "source": [
    "### Difference between Python list and Pandas series"
   ]
  },
  {
   "cell_type": "code",
   "execution_count": 44,
   "metadata": {},
   "outputs": [
    {
     "name": "stdout",
     "output_type": "stream",
     "text": [
      "['a', 'b', 'c', 'd']\n"
     ]
    }
   ],
   "source": [
    "my_list = ['a', 'b', 'c', 'd']\n",
    "print(my_list)"
   ]
  },
  {
   "cell_type": "code",
   "execution_count": 45,
   "metadata": {},
   "outputs": [
    {
     "name": "stdout",
     "output_type": "stream",
     "text": [
      "2    a\n",
      "1    b\n",
      "3    c\n",
      "0    d\n",
      "dtype: object\n"
     ]
    }
   ],
   "source": [
    "my_series = pd.Series(my_list, index = [2,1,3,0])\n",
    "print(my_series)"
   ]
  },
  {
   "cell_type": "code",
   "execution_count": 46,
   "metadata": {},
   "outputs": [
    {
     "name": "stdout",
     "output_type": "stream",
     "text": [
      "c\n"
     ]
    }
   ],
   "source": [
    "print(my_series[3])"
   ]
  },
  {
   "cell_type": "code",
   "execution_count": 47,
   "metadata": {},
   "outputs": [
    {
     "name": "stdout",
     "output_type": "stream",
     "text": [
      "d\n"
     ]
    }
   ],
   "source": [
    "print(my_list[3])"
   ]
  },
  {
   "cell_type": "markdown",
   "metadata": {},
   "source": [
    "# Data Frames\n",
    "From [http://pandas.pydata.org/pandas-docs/stable/dsintro.html#dataframe](http://pandas.pydata.org/pandas-docs/stable/dsintro.html#dataframe)\n",
    "\n",
    "DataFrame is a 2-dimensional labeled data structure with columns of potentially different types. You can think of it like a spreadsheet or SQL table, or a dict of Series objects. It is generally the most commonly used pandas object. Like Series, DataFrame accepts many different kinds of input:\n",
    "\n",
    "- Dict of 1D ndarrays, lists, dicts, or Series\n",
    "- 2-D numpy.ndarray\n",
    "- Structured or record ndarray\n",
    "- A series\n",
    "- Another data frame\n",
    "\n",
    "Along with the data, you can optionally pass index (row labels) and columns (column labels) arguments. If you pass an index and / or columns, you are guaranteeing the index and / or columns of the resulting DataFrame. Thus, a dict of Series plus a specific index will discard all data not matching up to the passed index.\n",
    "\n",
    "If axis labels are not passed, they will be constructed from the input data based on common sense rules."
   ]
  },
  {
   "cell_type": "code",
   "execution_count": 48,
   "metadata": {},
   "outputs": [
    {
     "data": {
      "text/plain": [
       "{'Smith': 2020, 'McDonald': 2000}"
      ]
     },
     "execution_count": 48,
     "metadata": {},
     "output_type": "execute_result"
    }
   ],
   "source": [
    "y = 2020\n",
    "s = 2000\n",
    "k = {'Smith': y, 'McDonald': s}\n",
    "k"
   ]
  },
  {
   "cell_type": "code",
   "execution_count": 49,
   "metadata": {},
   "outputs": [
    {
     "data": {
      "text/html": [
       "<div>\n",
       "<style scoped>\n",
       "    .dataframe tbody tr th:only-of-type {\n",
       "        vertical-align: middle;\n",
       "    }\n",
       "\n",
       "    .dataframe tbody tr th {\n",
       "        vertical-align: top;\n",
       "    }\n",
       "\n",
       "    .dataframe thead th {\n",
       "        text-align: right;\n",
       "    }\n",
       "</style>\n",
       "<table border=\"1\" class=\"dataframe\">\n",
       "  <thead>\n",
       "    <tr style=\"text-align: right;\">\n",
       "      <th></th>\n",
       "      <th>0</th>\n",
       "      <th>1</th>\n",
       "    </tr>\n",
       "  </thead>\n",
       "  <tbody>\n",
       "    <tr>\n",
       "      <th>0</th>\n",
       "      <td>Smith</td>\n",
       "      <td>2020</td>\n",
       "    </tr>\n",
       "    <tr>\n",
       "      <th>1</th>\n",
       "      <td>McDonald</td>\n",
       "      <td>2000</td>\n",
       "    </tr>\n",
       "  </tbody>\n",
       "</table>\n",
       "</div>"
      ],
      "text/plain": [
       "          0     1\n",
       "0     Smith  2020\n",
       "1  McDonald  2000"
      ]
     },
     "execution_count": 49,
     "metadata": {},
     "output_type": "execute_result"
    }
   ],
   "source": [
    "df = pd.DataFrame(k.items())\n",
    "df"
   ]
  },
  {
   "cell_type": "code",
   "execution_count": 50,
   "metadata": {},
   "outputs": [
    {
     "name": "stdout",
     "output_type": "stream",
     "text": [
      "          0     1\n",
      "0     Smith  2020\n",
      "1  McDonald  2000\n"
     ]
    }
   ],
   "source": [
    "print (df)"
   ]
  },
  {
   "cell_type": "code",
   "execution_count": 51,
   "metadata": {},
   "outputs": [
    {
     "data": {
      "text/html": [
       "<div>\n",
       "<style scoped>\n",
       "    .dataframe tbody tr th:only-of-type {\n",
       "        vertical-align: middle;\n",
       "    }\n",
       "\n",
       "    .dataframe tbody tr th {\n",
       "        vertical-align: top;\n",
       "    }\n",
       "\n",
       "    .dataframe thead th {\n",
       "        text-align: right;\n",
       "    }\n",
       "</style>\n",
       "<table border=\"1\" class=\"dataframe\">\n",
       "  <thead>\n",
       "    <tr style=\"text-align: right;\">\n",
       "      <th></th>\n",
       "      <th>Name</th>\n",
       "      <th>Salary</th>\n",
       "    </tr>\n",
       "  </thead>\n",
       "  <tbody>\n",
       "    <tr>\n",
       "      <th>0</th>\n",
       "      <td>Smith</td>\n",
       "      <td>2020</td>\n",
       "    </tr>\n",
       "    <tr>\n",
       "      <th>1</th>\n",
       "      <td>McDonald</td>\n",
       "      <td>2000</td>\n",
       "    </tr>\n",
       "  </tbody>\n",
       "</table>\n",
       "</div>"
      ],
      "text/plain": [
       "       Name  Salary\n",
       "0     Smith    2020\n",
       "1  McDonald    2000"
      ]
     },
     "execution_count": 51,
     "metadata": {},
     "output_type": "execute_result"
    }
   ],
   "source": [
    "pd.DataFrame(k.items(), columns=['Name', 'Salary'])"
   ]
  },
  {
   "cell_type": "code",
   "execution_count": 52,
   "metadata": {},
   "outputs": [],
   "source": [
    "s = pd.Series(k, name='DateValue')"
   ]
  },
  {
   "cell_type": "code",
   "execution_count": 53,
   "metadata": {},
   "outputs": [
    {
     "data": {
      "text/plain": [
       "Name\n",
       "Smith       2020\n",
       "McDonald    2000\n",
       "Name: DateValue, dtype: int64"
      ]
     },
     "execution_count": 53,
     "metadata": {},
     "output_type": "execute_result"
    }
   ],
   "source": [
    "s.index.name = 'Name'\n",
    "s"
   ]
  },
  {
   "cell_type": "markdown",
   "metadata": {},
   "source": [
    "## Loading and manipulating data\n",
    "Retrieve the complete local dataset from <a href=\"https://www.kaggle.com/daveianhickey/2000-16-traffic-flow-england-scotland-wales\">Kaggle website</a>."
   ]
  },
  {
   "cell_type": "code",
   "execution_count": 54,
   "metadata": {},
   "outputs": [],
   "source": [
    "accidents = '//Users/giancarlomanzi/Documents/Box Sync BackUp PC Lavoro 24062015/documenti/Ricerca/ALTERNATIVE ERASMUS PROJECT/NUOVO PROGETTO DI VISITING/Lectures/Topic 2 - Introduction to Python and the Anaconda-Jupyter environment - 3 hours/accidents_2012_to_2014.csv'\n",
    "A = pd.read_csv(accidents, low_memory=False, index_col=0)"
   ]
  },
  {
   "cell_type": "code",
   "execution_count": 55,
   "metadata": {},
   "outputs": [
    {
     "data": {
      "text/html": [
       "<div>\n",
       "<style scoped>\n",
       "    .dataframe tbody tr th:only-of-type {\n",
       "        vertical-align: middle;\n",
       "    }\n",
       "\n",
       "    .dataframe tbody tr th {\n",
       "        vertical-align: top;\n",
       "    }\n",
       "\n",
       "    .dataframe thead th {\n",
       "        text-align: right;\n",
       "    }\n",
       "</style>\n",
       "<table border=\"1\" class=\"dataframe\">\n",
       "  <thead>\n",
       "    <tr style=\"text-align: right;\">\n",
       "      <th></th>\n",
       "      <th>Location_Easting_OSGR</th>\n",
       "      <th>Location_Northing_OSGR</th>\n",
       "      <th>Longitude</th>\n",
       "      <th>Latitude</th>\n",
       "      <th>Police_Force</th>\n",
       "      <th>Accident_Severity</th>\n",
       "      <th>Number_of_Vehicles</th>\n",
       "      <th>Number_of_Casualties</th>\n",
       "      <th>Date</th>\n",
       "      <th>Day_of_Week</th>\n",
       "      <th>...</th>\n",
       "      <th>Pedestrian_Crossing-Physical_Facilities</th>\n",
       "      <th>Light_Conditions</th>\n",
       "      <th>Weather_Conditions</th>\n",
       "      <th>Road_Surface_Conditions</th>\n",
       "      <th>Special_Conditions_at_Site</th>\n",
       "      <th>Carriageway_Hazards</th>\n",
       "      <th>Urban_or_Rural_Area</th>\n",
       "      <th>Did_Police_Officer_Attend_Scene_of_Accident</th>\n",
       "      <th>LSOA_of_Accident_Location</th>\n",
       "      <th>Year</th>\n",
       "    </tr>\n",
       "    <tr>\n",
       "      <th>Accident_Index</th>\n",
       "      <th></th>\n",
       "      <th></th>\n",
       "      <th></th>\n",
       "      <th></th>\n",
       "      <th></th>\n",
       "      <th></th>\n",
       "      <th></th>\n",
       "      <th></th>\n",
       "      <th></th>\n",
       "      <th></th>\n",
       "      <th></th>\n",
       "      <th></th>\n",
       "      <th></th>\n",
       "      <th></th>\n",
       "      <th></th>\n",
       "      <th></th>\n",
       "      <th></th>\n",
       "      <th></th>\n",
       "      <th></th>\n",
       "      <th></th>\n",
       "      <th></th>\n",
       "    </tr>\n",
       "  </thead>\n",
       "  <tbody>\n",
       "    <tr>\n",
       "      <th>201201BS70001</th>\n",
       "      <td>527200</td>\n",
       "      <td>178760</td>\n",
       "      <td>-0.169101</td>\n",
       "      <td>51.493429</td>\n",
       "      <td>1</td>\n",
       "      <td>3</td>\n",
       "      <td>2</td>\n",
       "      <td>1</td>\n",
       "      <td>19/01/2012</td>\n",
       "      <td>5</td>\n",
       "      <td>...</td>\n",
       "      <td>Pedestrian phase at traffic signal junction</td>\n",
       "      <td>Darkness: Street lights present and lit</td>\n",
       "      <td>Fine without high winds</td>\n",
       "      <td>Dry</td>\n",
       "      <td>None</td>\n",
       "      <td>None</td>\n",
       "      <td>1</td>\n",
       "      <td>Yes</td>\n",
       "      <td>E01002821</td>\n",
       "      <td>2012</td>\n",
       "    </tr>\n",
       "    <tr>\n",
       "      <th>201201BS70002</th>\n",
       "      <td>524930</td>\n",
       "      <td>181430</td>\n",
       "      <td>-0.200838</td>\n",
       "      <td>51.517931</td>\n",
       "      <td>1</td>\n",
       "      <td>3</td>\n",
       "      <td>2</td>\n",
       "      <td>1</td>\n",
       "      <td>04/01/2012</td>\n",
       "      <td>4</td>\n",
       "      <td>...</td>\n",
       "      <td>No physical crossing within 50 meters</td>\n",
       "      <td>Darkness: Street lights present and lit</td>\n",
       "      <td>Fine without high winds</td>\n",
       "      <td>Dry</td>\n",
       "      <td>None</td>\n",
       "      <td>None</td>\n",
       "      <td>1</td>\n",
       "      <td>Yes</td>\n",
       "      <td>E01004760</td>\n",
       "      <td>2012</td>\n",
       "    </tr>\n",
       "    <tr>\n",
       "      <th>201201BS70003</th>\n",
       "      <td>525860</td>\n",
       "      <td>178080</td>\n",
       "      <td>-0.188636</td>\n",
       "      <td>51.487618</td>\n",
       "      <td>1</td>\n",
       "      <td>3</td>\n",
       "      <td>2</td>\n",
       "      <td>1</td>\n",
       "      <td>10/01/2012</td>\n",
       "      <td>3</td>\n",
       "      <td>...</td>\n",
       "      <td>non-junction pedestrian crossing</td>\n",
       "      <td>Daylight: Street light present</td>\n",
       "      <td>Fine without high winds</td>\n",
       "      <td>Dry</td>\n",
       "      <td>None</td>\n",
       "      <td>None</td>\n",
       "      <td>1</td>\n",
       "      <td>Yes</td>\n",
       "      <td>E01002893</td>\n",
       "      <td>2012</td>\n",
       "    </tr>\n",
       "    <tr>\n",
       "      <th>201201BS70004</th>\n",
       "      <td>524980</td>\n",
       "      <td>181030</td>\n",
       "      <td>-0.200259</td>\n",
       "      <td>51.514325</td>\n",
       "      <td>1</td>\n",
       "      <td>3</td>\n",
       "      <td>1</td>\n",
       "      <td>1</td>\n",
       "      <td>18/01/2012</td>\n",
       "      <td>4</td>\n",
       "      <td>...</td>\n",
       "      <td>No physical crossing within 50 meters</td>\n",
       "      <td>Daylight: Street light present</td>\n",
       "      <td>Fine without high winds</td>\n",
       "      <td>Dry</td>\n",
       "      <td>None</td>\n",
       "      <td>None</td>\n",
       "      <td>1</td>\n",
       "      <td>Yes</td>\n",
       "      <td>E01002886</td>\n",
       "      <td>2012</td>\n",
       "    </tr>\n",
       "    <tr>\n",
       "      <th>201201BS70005</th>\n",
       "      <td>526170</td>\n",
       "      <td>179200</td>\n",
       "      <td>-0.183773</td>\n",
       "      <td>51.497614</td>\n",
       "      <td>1</td>\n",
       "      <td>3</td>\n",
       "      <td>1</td>\n",
       "      <td>1</td>\n",
       "      <td>17/01/2012</td>\n",
       "      <td>3</td>\n",
       "      <td>...</td>\n",
       "      <td>No physical crossing within 50 meters</td>\n",
       "      <td>Darkness: Street lights present and lit</td>\n",
       "      <td>Fine without high winds</td>\n",
       "      <td>Dry</td>\n",
       "      <td>None</td>\n",
       "      <td>None</td>\n",
       "      <td>1</td>\n",
       "      <td>Yes</td>\n",
       "      <td>E01002890</td>\n",
       "      <td>2012</td>\n",
       "    </tr>\n",
       "  </tbody>\n",
       "</table>\n",
       "<p>5 rows × 32 columns</p>\n",
       "</div>"
      ],
      "text/plain": [
       "                Location_Easting_OSGR  Location_Northing_OSGR  Longitude  \\\n",
       "Accident_Index                                                             \n",
       "201201BS70001                  527200                  178760  -0.169101   \n",
       "201201BS70002                  524930                  181430  -0.200838   \n",
       "201201BS70003                  525860                  178080  -0.188636   \n",
       "201201BS70004                  524980                  181030  -0.200259   \n",
       "201201BS70005                  526170                  179200  -0.183773   \n",
       "\n",
       "                 Latitude  Police_Force  Accident_Severity  \\\n",
       "Accident_Index                                               \n",
       "201201BS70001   51.493429             1                  3   \n",
       "201201BS70002   51.517931             1                  3   \n",
       "201201BS70003   51.487618             1                  3   \n",
       "201201BS70004   51.514325             1                  3   \n",
       "201201BS70005   51.497614             1                  3   \n",
       "\n",
       "                Number_of_Vehicles  Number_of_Casualties        Date  \\\n",
       "Accident_Index                                                         \n",
       "201201BS70001                    2                     1  19/01/2012   \n",
       "201201BS70002                    2                     1  04/01/2012   \n",
       "201201BS70003                    2                     1  10/01/2012   \n",
       "201201BS70004                    1                     1  18/01/2012   \n",
       "201201BS70005                    1                     1  17/01/2012   \n",
       "\n",
       "                Day_of_Week  ...      Pedestrian_Crossing-Physical_Facilities  \\\n",
       "Accident_Index               ...                                                \n",
       "201201BS70001             5  ...  Pedestrian phase at traffic signal junction   \n",
       "201201BS70002             4  ...        No physical crossing within 50 meters   \n",
       "201201BS70003             3  ...             non-junction pedestrian crossing   \n",
       "201201BS70004             4  ...        No physical crossing within 50 meters   \n",
       "201201BS70005             3  ...        No physical crossing within 50 meters   \n",
       "\n",
       "                                       Light_Conditions  \\\n",
       "Accident_Index                                            \n",
       "201201BS70001   Darkness: Street lights present and lit   \n",
       "201201BS70002   Darkness: Street lights present and lit   \n",
       "201201BS70003            Daylight: Street light present   \n",
       "201201BS70004            Daylight: Street light present   \n",
       "201201BS70005   Darkness: Street lights present and lit   \n",
       "\n",
       "                     Weather_Conditions  Road_Surface_Conditions  \\\n",
       "Accident_Index                                                     \n",
       "201201BS70001   Fine without high winds                      Dry   \n",
       "201201BS70002   Fine without high winds                      Dry   \n",
       "201201BS70003   Fine without high winds                      Dry   \n",
       "201201BS70004   Fine without high winds                      Dry   \n",
       "201201BS70005   Fine without high winds                      Dry   \n",
       "\n",
       "                Special_Conditions_at_Site Carriageway_Hazards  \\\n",
       "Accident_Index                                                   \n",
       "201201BS70001                         None                None   \n",
       "201201BS70002                         None                None   \n",
       "201201BS70003                         None                None   \n",
       "201201BS70004                         None                None   \n",
       "201201BS70005                         None                None   \n",
       "\n",
       "                Urban_or_Rural_Area  \\\n",
       "Accident_Index                        \n",
       "201201BS70001                     1   \n",
       "201201BS70002                     1   \n",
       "201201BS70003                     1   \n",
       "201201BS70004                     1   \n",
       "201201BS70005                     1   \n",
       "\n",
       "                Did_Police_Officer_Attend_Scene_of_Accident  \\\n",
       "Accident_Index                                                \n",
       "201201BS70001                                           Yes   \n",
       "201201BS70002                                           Yes   \n",
       "201201BS70003                                           Yes   \n",
       "201201BS70004                                           Yes   \n",
       "201201BS70005                                           Yes   \n",
       "\n",
       "               LSOA_of_Accident_Location  Year  \n",
       "Accident_Index                                  \n",
       "201201BS70001                  E01002821  2012  \n",
       "201201BS70002                  E01004760  2012  \n",
       "201201BS70003                  E01002893  2012  \n",
       "201201BS70004                  E01002886  2012  \n",
       "201201BS70005                  E01002890  2012  \n",
       "\n",
       "[5 rows x 32 columns]"
      ]
     },
     "execution_count": 55,
     "metadata": {},
     "output_type": "execute_result"
    }
   ],
   "source": [
    "A.head()"
   ]
  },
  {
   "cell_type": "code",
   "execution_count": 25,
   "metadata": {
    "scrolled": true
   },
   "outputs": [
    {
     "data": {
      "text/html": [
       "<div>\n",
       "<style scoped>\n",
       "    .dataframe tbody tr th:only-of-type {\n",
       "        vertical-align: middle;\n",
       "    }\n",
       "\n",
       "    .dataframe tbody tr th {\n",
       "        vertical-align: top;\n",
       "    }\n",
       "\n",
       "    .dataframe thead th {\n",
       "        text-align: right;\n",
       "    }\n",
       "</style>\n",
       "<table border=\"1\" class=\"dataframe\">\n",
       "  <thead>\n",
       "    <tr style=\"text-align: right;\">\n",
       "      <th></th>\n",
       "      <th>Date</th>\n",
       "      <th>Time</th>\n",
       "    </tr>\n",
       "    <tr>\n",
       "      <th>Accident_Index</th>\n",
       "      <th></th>\n",
       "      <th></th>\n",
       "    </tr>\n",
       "  </thead>\n",
       "  <tbody>\n",
       "    <tr>\n",
       "      <th>201201BS70001</th>\n",
       "      <td>19/01/2012</td>\n",
       "      <td>20:35</td>\n",
       "    </tr>\n",
       "    <tr>\n",
       "      <th>201201BS70002</th>\n",
       "      <td>04/01/2012</td>\n",
       "      <td>17:00</td>\n",
       "    </tr>\n",
       "    <tr>\n",
       "      <th>201201BS70003</th>\n",
       "      <td>10/01/2012</td>\n",
       "      <td>10:07</td>\n",
       "    </tr>\n",
       "    <tr>\n",
       "      <th>201201BS70004</th>\n",
       "      <td>18/01/2012</td>\n",
       "      <td>12:20</td>\n",
       "    </tr>\n",
       "    <tr>\n",
       "      <th>201201BS70005</th>\n",
       "      <td>17/01/2012</td>\n",
       "      <td>20:24</td>\n",
       "    </tr>\n",
       "  </tbody>\n",
       "</table>\n",
       "</div>"
      ],
      "text/plain": [
       "                      Date   Time\n",
       "Accident_Index                   \n",
       "201201BS70001   19/01/2012  20:35\n",
       "201201BS70002   04/01/2012  17:00\n",
       "201201BS70003   10/01/2012  10:07\n",
       "201201BS70004   18/01/2012  12:20\n",
       "201201BS70005   17/01/2012  20:24"
      ]
     },
     "execution_count": 25,
     "metadata": {},
     "output_type": "execute_result"
    }
   ],
   "source": [
    "A[['Date', 'Time']].head()"
   ]
  },
  {
   "cell_type": "code",
   "execution_count": 56,
   "metadata": {},
   "outputs": [
    {
     "data": {
      "text/plain": [
       "Location_Easting_OSGR                            int64\n",
       "Location_Northing_OSGR                           int64\n",
       "Longitude                                      float64\n",
       "Latitude                                       float64\n",
       "Police_Force                                     int64\n",
       "Accident_Severity                                int64\n",
       "Number_of_Vehicles                               int64\n",
       "Number_of_Casualties                             int64\n",
       "Date                                            object\n",
       "Day_of_Week                                      int64\n",
       "Time                                            object\n",
       "Local_Authority_(District)                       int64\n",
       "Local_Authority_(Highway)                       object\n",
       "1st_Road_Class                                   int64\n",
       "1st_Road_Number                                  int64\n",
       "Road_Type                                       object\n",
       "Speed_limit                                      int64\n",
       "Junction_Detail                                float64\n",
       "Junction_Control                                object\n",
       "2nd_Road_Class                                   int64\n",
       "2nd_Road_Number                                  int64\n",
       "Pedestrian_Crossing-Human_Control               object\n",
       "Pedestrian_Crossing-Physical_Facilities         object\n",
       "Light_Conditions                                object\n",
       "Weather_Conditions                              object\n",
       "Road_Surface_Conditions                         object\n",
       "Special_Conditions_at_Site                      object\n",
       "Carriageway_Hazards                             object\n",
       "Urban_or_Rural_Area                              int64\n",
       "Did_Police_Officer_Attend_Scene_of_Accident     object\n",
       "LSOA_of_Accident_Location                       object\n",
       "Year                                             int64\n",
       "dtype: object"
      ]
     },
     "execution_count": 56,
     "metadata": {},
     "output_type": "execute_result"
    }
   ],
   "source": [
    "A.dtypes"
   ]
  },
  {
   "cell_type": "code",
   "execution_count": 57,
   "metadata": {},
   "outputs": [],
   "source": [
    "from datetime import datetime\n",
    "\n",
    "def todate(d, t):\n",
    "    try:\n",
    "        dt = datetime.strptime(\" \".join([d, t]), '%d/%m/%Y %H:%M')\n",
    "    except TypeError:\n",
    "        dt = np.nan\n",
    "    return dt"
   ]
  },
  {
   "cell_type": "code",
   "execution_count": 58,
   "metadata": {},
   "outputs": [],
   "source": [
    "A['Datetime'] = [todate(x.Date, x.Time) for i, x in A.iterrows()]"
   ]
  },
  {
   "cell_type": "code",
   "execution_count": 61,
   "metadata": {},
   "outputs": [
    {
     "data": {
      "text/html": [
       "<div>\n",
       "<style scoped>\n",
       "    .dataframe tbody tr th:only-of-type {\n",
       "        vertical-align: middle;\n",
       "    }\n",
       "\n",
       "    .dataframe tbody tr th {\n",
       "        vertical-align: top;\n",
       "    }\n",
       "\n",
       "    .dataframe thead th {\n",
       "        text-align: right;\n",
       "    }\n",
       "</style>\n",
       "<table border=\"1\" class=\"dataframe\">\n",
       "  <thead>\n",
       "    <tr style=\"text-align: right;\">\n",
       "      <th></th>\n",
       "      <th>Datetime</th>\n",
       "      <th>Police_Force</th>\n",
       "    </tr>\n",
       "    <tr>\n",
       "      <th>Accident_Index</th>\n",
       "      <th></th>\n",
       "      <th></th>\n",
       "    </tr>\n",
       "  </thead>\n",
       "  <tbody>\n",
       "    <tr>\n",
       "      <th>201201BS70001</th>\n",
       "      <td>2012-01-19 20:35:00</td>\n",
       "      <td>1</td>\n",
       "    </tr>\n",
       "    <tr>\n",
       "      <th>201201BS70002</th>\n",
       "      <td>2012-01-04 17:00:00</td>\n",
       "      <td>1</td>\n",
       "    </tr>\n",
       "    <tr>\n",
       "      <th>201201BS70003</th>\n",
       "      <td>2012-01-10 10:07:00</td>\n",
       "      <td>1</td>\n",
       "    </tr>\n",
       "    <tr>\n",
       "      <th>201201BS70004</th>\n",
       "      <td>2012-01-18 12:20:00</td>\n",
       "      <td>1</td>\n",
       "    </tr>\n",
       "    <tr>\n",
       "      <th>201201BS70005</th>\n",
       "      <td>2012-01-17 20:24:00</td>\n",
       "      <td>1</td>\n",
       "    </tr>\n",
       "  </tbody>\n",
       "</table>\n",
       "</div>"
      ],
      "text/plain": [
       "                          Datetime  Police_Force\n",
       "Accident_Index                                  \n",
       "201201BS70001  2012-01-19 20:35:00             1\n",
       "201201BS70002  2012-01-04 17:00:00             1\n",
       "201201BS70003  2012-01-10 10:07:00             1\n",
       "201201BS70004  2012-01-18 12:20:00             1\n",
       "201201BS70005  2012-01-17 20:24:00             1"
      ]
     },
     "execution_count": 61,
     "metadata": {},
     "output_type": "execute_result"
    }
   ],
   "source": [
    "A[['Datetime', 'Police_Force']].head()"
   ]
  },
  {
   "cell_type": "code",
   "execution_count": 29,
   "metadata": {},
   "outputs": [
    {
     "data": {
      "text/plain": [
       "(464697, 33)"
      ]
     },
     "execution_count": 29,
     "metadata": {},
     "output_type": "execute_result"
    }
   ],
   "source": [
    "A.shape"
   ]
  },
  {
   "cell_type": "code",
   "execution_count": 30,
   "metadata": {},
   "outputs": [
    {
     "data": {
      "text/plain": [
       "Location_Easting_OSGR                                   int64\n",
       "Location_Northing_OSGR                                  int64\n",
       "Longitude                                             float64\n",
       "Latitude                                              float64\n",
       "Police_Force                                            int64\n",
       "Accident_Severity                                       int64\n",
       "Number_of_Vehicles                                      int64\n",
       "Number_of_Casualties                                    int64\n",
       "Date                                                   object\n",
       "Day_of_Week                                             int64\n",
       "Time                                                   object\n",
       "Local_Authority_(District)                              int64\n",
       "Local_Authority_(Highway)                              object\n",
       "1st_Road_Class                                          int64\n",
       "1st_Road_Number                                         int64\n",
       "Road_Type                                              object\n",
       "Speed_limit                                             int64\n",
       "Junction_Detail                                       float64\n",
       "Junction_Control                                       object\n",
       "2nd_Road_Class                                          int64\n",
       "2nd_Road_Number                                         int64\n",
       "Pedestrian_Crossing-Human_Control                      object\n",
       "Pedestrian_Crossing-Physical_Facilities                object\n",
       "Light_Conditions                                       object\n",
       "Weather_Conditions                                     object\n",
       "Road_Surface_Conditions                                object\n",
       "Special_Conditions_at_Site                             object\n",
       "Carriageway_Hazards                                    object\n",
       "Urban_or_Rural_Area                                     int64\n",
       "Did_Police_Officer_Attend_Scene_of_Accident            object\n",
       "LSOA_of_Accident_Location                              object\n",
       "Year                                                    int64\n",
       "Datetime                                       datetime64[ns]\n",
       "dtype: object"
      ]
     },
     "execution_count": 30,
     "metadata": {},
     "output_type": "execute_result"
    }
   ],
   "source": [
    "A.dtypes"
   ]
  },
  {
   "cell_type": "markdown",
   "metadata": {},
   "source": [
    "## Access dataframe by index and col"
   ]
  },
  {
   "cell_type": "code",
   "execution_count": 31,
   "metadata": {},
   "outputs": [
    {
     "data": {
      "text/html": [
       "<div>\n",
       "<style scoped>\n",
       "    .dataframe tbody tr th:only-of-type {\n",
       "        vertical-align: middle;\n",
       "    }\n",
       "\n",
       "    .dataframe tbody tr th {\n",
       "        vertical-align: top;\n",
       "    }\n",
       "\n",
       "    .dataframe thead th {\n",
       "        text-align: right;\n",
       "    }\n",
       "</style>\n",
       "<table border=\"1\" class=\"dataframe\">\n",
       "  <thead>\n",
       "    <tr style=\"text-align: right;\">\n",
       "      <th></th>\n",
       "      <th>Location_Easting_OSGR</th>\n",
       "      <th>Location_Northing_OSGR</th>\n",
       "      <th>Longitude</th>\n",
       "      <th>Latitude</th>\n",
       "      <th>Police_Force</th>\n",
       "      <th>Accident_Severity</th>\n",
       "      <th>Number_of_Vehicles</th>\n",
       "      <th>Number_of_Casualties</th>\n",
       "      <th>Date</th>\n",
       "      <th>Day_of_Week</th>\n",
       "      <th>...</th>\n",
       "      <th>Light_Conditions</th>\n",
       "      <th>Weather_Conditions</th>\n",
       "      <th>Road_Surface_Conditions</th>\n",
       "      <th>Special_Conditions_at_Site</th>\n",
       "      <th>Carriageway_Hazards</th>\n",
       "      <th>Urban_or_Rural_Area</th>\n",
       "      <th>Did_Police_Officer_Attend_Scene_of_Accident</th>\n",
       "      <th>LSOA_of_Accident_Location</th>\n",
       "      <th>Year</th>\n",
       "      <th>Datetime</th>\n",
       "    </tr>\n",
       "    <tr>\n",
       "      <th>Accident_Index</th>\n",
       "      <th></th>\n",
       "      <th></th>\n",
       "      <th></th>\n",
       "      <th></th>\n",
       "      <th></th>\n",
       "      <th></th>\n",
       "      <th></th>\n",
       "      <th></th>\n",
       "      <th></th>\n",
       "      <th></th>\n",
       "      <th></th>\n",
       "      <th></th>\n",
       "      <th></th>\n",
       "      <th></th>\n",
       "      <th></th>\n",
       "      <th></th>\n",
       "      <th></th>\n",
       "      <th></th>\n",
       "      <th></th>\n",
       "      <th></th>\n",
       "      <th></th>\n",
       "    </tr>\n",
       "  </thead>\n",
       "  <tbody>\n",
       "    <tr>\n",
       "      <th>201201BS70003</th>\n",
       "      <td>525860</td>\n",
       "      <td>178080</td>\n",
       "      <td>-0.188636</td>\n",
       "      <td>51.487618</td>\n",
       "      <td>1</td>\n",
       "      <td>3</td>\n",
       "      <td>2</td>\n",
       "      <td>1</td>\n",
       "      <td>10/01/2012</td>\n",
       "      <td>3</td>\n",
       "      <td>...</td>\n",
       "      <td>Daylight: Street light present</td>\n",
       "      <td>Fine without high winds</td>\n",
       "      <td>Dry</td>\n",
       "      <td>None</td>\n",
       "      <td>None</td>\n",
       "      <td>1</td>\n",
       "      <td>Yes</td>\n",
       "      <td>E01002893</td>\n",
       "      <td>2012</td>\n",
       "      <td>2012-01-10 10:07:00</td>\n",
       "    </tr>\n",
       "    <tr>\n",
       "      <th>201201BS70004</th>\n",
       "      <td>524980</td>\n",
       "      <td>181030</td>\n",
       "      <td>-0.200259</td>\n",
       "      <td>51.514325</td>\n",
       "      <td>1</td>\n",
       "      <td>3</td>\n",
       "      <td>1</td>\n",
       "      <td>1</td>\n",
       "      <td>18/01/2012</td>\n",
       "      <td>4</td>\n",
       "      <td>...</td>\n",
       "      <td>Daylight: Street light present</td>\n",
       "      <td>Fine without high winds</td>\n",
       "      <td>Dry</td>\n",
       "      <td>None</td>\n",
       "      <td>None</td>\n",
       "      <td>1</td>\n",
       "      <td>Yes</td>\n",
       "      <td>E01002886</td>\n",
       "      <td>2012</td>\n",
       "      <td>2012-01-18 12:20:00</td>\n",
       "    </tr>\n",
       "    <tr>\n",
       "      <th>201201BS70005</th>\n",
       "      <td>526170</td>\n",
       "      <td>179200</td>\n",
       "      <td>-0.183773</td>\n",
       "      <td>51.497614</td>\n",
       "      <td>1</td>\n",
       "      <td>3</td>\n",
       "      <td>1</td>\n",
       "      <td>1</td>\n",
       "      <td>17/01/2012</td>\n",
       "      <td>3</td>\n",
       "      <td>...</td>\n",
       "      <td>Darkness: Street lights present and lit</td>\n",
       "      <td>Fine without high winds</td>\n",
       "      <td>Dry</td>\n",
       "      <td>None</td>\n",
       "      <td>None</td>\n",
       "      <td>1</td>\n",
       "      <td>Yes</td>\n",
       "      <td>E01002890</td>\n",
       "      <td>2012</td>\n",
       "      <td>2012-01-17 20:24:00</td>\n",
       "    </tr>\n",
       "    <tr>\n",
       "      <th>201201BS70006</th>\n",
       "      <td>526090</td>\n",
       "      <td>177600</td>\n",
       "      <td>-0.185496</td>\n",
       "      <td>51.483253</td>\n",
       "      <td>1</td>\n",
       "      <td>3</td>\n",
       "      <td>2</td>\n",
       "      <td>1</td>\n",
       "      <td>19/01/2012</td>\n",
       "      <td>5</td>\n",
       "      <td>...</td>\n",
       "      <td>Darkness: Street lights present and lit</td>\n",
       "      <td>Raining without high winds</td>\n",
       "      <td>Wet/Damp</td>\n",
       "      <td>None</td>\n",
       "      <td>None</td>\n",
       "      <td>1</td>\n",
       "      <td>Yes</td>\n",
       "      <td>E01002912</td>\n",
       "      <td>2012</td>\n",
       "      <td>2012-01-19 07:30:00</td>\n",
       "    </tr>\n",
       "  </tbody>\n",
       "</table>\n",
       "<p>4 rows × 33 columns</p>\n",
       "</div>"
      ],
      "text/plain": [
       "                Location_Easting_OSGR  Location_Northing_OSGR  Longitude  \\\n",
       "Accident_Index                                                             \n",
       "201201BS70003                  525860                  178080  -0.188636   \n",
       "201201BS70004                  524980                  181030  -0.200259   \n",
       "201201BS70005                  526170                  179200  -0.183773   \n",
       "201201BS70006                  526090                  177600  -0.185496   \n",
       "\n",
       "                 Latitude  Police_Force  Accident_Severity  \\\n",
       "Accident_Index                                               \n",
       "201201BS70003   51.487618             1                  3   \n",
       "201201BS70004   51.514325             1                  3   \n",
       "201201BS70005   51.497614             1                  3   \n",
       "201201BS70006   51.483253             1                  3   \n",
       "\n",
       "                Number_of_Vehicles  Number_of_Casualties        Date  \\\n",
       "Accident_Index                                                         \n",
       "201201BS70003                    2                     1  10/01/2012   \n",
       "201201BS70004                    1                     1  18/01/2012   \n",
       "201201BS70005                    1                     1  17/01/2012   \n",
       "201201BS70006                    2                     1  19/01/2012   \n",
       "\n",
       "                Day_of_Week  ...                         Light_Conditions  \\\n",
       "Accident_Index               ...                                            \n",
       "201201BS70003             3  ...           Daylight: Street light present   \n",
       "201201BS70004             4  ...           Daylight: Street light present   \n",
       "201201BS70005             3  ...  Darkness: Street lights present and lit   \n",
       "201201BS70006             5  ...  Darkness: Street lights present and lit   \n",
       "\n",
       "                        Weather_Conditions Road_Surface_Conditions  \\\n",
       "Accident_Index                                                       \n",
       "201201BS70003      Fine without high winds                     Dry   \n",
       "201201BS70004      Fine without high winds                     Dry   \n",
       "201201BS70005      Fine without high winds                     Dry   \n",
       "201201BS70006   Raining without high winds                Wet/Damp   \n",
       "\n",
       "                Special_Conditions_at_Site  Carriageway_Hazards  \\\n",
       "Accident_Index                                                    \n",
       "201201BS70003                         None                 None   \n",
       "201201BS70004                         None                 None   \n",
       "201201BS70005                         None                 None   \n",
       "201201BS70006                         None                 None   \n",
       "\n",
       "               Urban_or_Rural_Area  \\\n",
       "Accident_Index                       \n",
       "201201BS70003                    1   \n",
       "201201BS70004                    1   \n",
       "201201BS70005                    1   \n",
       "201201BS70006                    1   \n",
       "\n",
       "                Did_Police_Officer_Attend_Scene_of_Accident  \\\n",
       "Accident_Index                                                \n",
       "201201BS70003                                           Yes   \n",
       "201201BS70004                                           Yes   \n",
       "201201BS70005                                           Yes   \n",
       "201201BS70006                                           Yes   \n",
       "\n",
       "                LSOA_of_Accident_Location  Year            Datetime  \n",
       "Accident_Index                                                       \n",
       "201201BS70003                   E01002893  2012 2012-01-10 10:07:00  \n",
       "201201BS70004                   E01002886  2012 2012-01-18 12:20:00  \n",
       "201201BS70005                   E01002890  2012 2012-01-17 20:24:00  \n",
       "201201BS70006                   E01002912  2012 2012-01-19 07:30:00  \n",
       "\n",
       "[4 rows x 33 columns]"
      ]
     },
     "execution_count": 31,
     "metadata": {},
     "output_type": "execute_result"
    }
   ],
   "source": [
    "my_df = A.iloc[2:6] # gets rows (or columns) at particular positions in the index (so it only takes integers).\n",
    "my_df"
   ]
  },
  {
   "cell_type": "code",
   "execution_count": 62,
   "metadata": {},
   "outputs": [
    {
     "data": {
      "text/html": [
       "<div>\n",
       "<style scoped>\n",
       "    .dataframe tbody tr th:only-of-type {\n",
       "        vertical-align: middle;\n",
       "    }\n",
       "\n",
       "    .dataframe tbody tr th {\n",
       "        vertical-align: top;\n",
       "    }\n",
       "\n",
       "    .dataframe thead th {\n",
       "        text-align: right;\n",
       "    }\n",
       "</style>\n",
       "<table border=\"1\" class=\"dataframe\">\n",
       "  <thead>\n",
       "    <tr style=\"text-align: right;\">\n",
       "      <th></th>\n",
       "      <th>Location_Easting_OSGR</th>\n",
       "      <th>Location_Northing_OSGR</th>\n",
       "      <th>Longitude</th>\n",
       "      <th>Latitude</th>\n",
       "      <th>Police_Force</th>\n",
       "      <th>Accident_Severity</th>\n",
       "      <th>Number_of_Vehicles</th>\n",
       "      <th>Number_of_Casualties</th>\n",
       "      <th>Date</th>\n",
       "      <th>Day_of_Week</th>\n",
       "      <th>...</th>\n",
       "      <th>Light_Conditions</th>\n",
       "      <th>Weather_Conditions</th>\n",
       "      <th>Road_Surface_Conditions</th>\n",
       "      <th>Special_Conditions_at_Site</th>\n",
       "      <th>Carriageway_Hazards</th>\n",
       "      <th>Urban_or_Rural_Area</th>\n",
       "      <th>Did_Police_Officer_Attend_Scene_of_Accident</th>\n",
       "      <th>LSOA_of_Accident_Location</th>\n",
       "      <th>Year</th>\n",
       "      <th>Datetime</th>\n",
       "    </tr>\n",
       "    <tr>\n",
       "      <th>Accident_Index</th>\n",
       "      <th></th>\n",
       "      <th></th>\n",
       "      <th></th>\n",
       "      <th></th>\n",
       "      <th></th>\n",
       "      <th></th>\n",
       "      <th></th>\n",
       "      <th></th>\n",
       "      <th></th>\n",
       "      <th></th>\n",
       "      <th></th>\n",
       "      <th></th>\n",
       "      <th></th>\n",
       "      <th></th>\n",
       "      <th></th>\n",
       "      <th></th>\n",
       "      <th></th>\n",
       "      <th></th>\n",
       "      <th></th>\n",
       "      <th></th>\n",
       "      <th></th>\n",
       "    </tr>\n",
       "  </thead>\n",
       "  <tbody>\n",
       "    <tr>\n",
       "      <th>20144100J0489</th>\n",
       "      <td>523000</td>\n",
       "      <td>199780</td>\n",
       "      <td>-0.222211</td>\n",
       "      <td>51.683269</td>\n",
       "      <td>41</td>\n",
       "      <td>2</td>\n",
       "      <td>2</td>\n",
       "      <td>93</td>\n",
       "      <td>20/10/2014</td>\n",
       "      <td>2</td>\n",
       "      <td>...</td>\n",
       "      <td>Daylight: Street light present</td>\n",
       "      <td>Fine without high winds</td>\n",
       "      <td>Dry</td>\n",
       "      <td>None</td>\n",
       "      <td>None</td>\n",
       "      <td>2</td>\n",
       "      <td>Yes</td>\n",
       "      <td>E01023584</td>\n",
       "      <td>2014</td>\n",
       "      <td>2014-10-20 08:22:00</td>\n",
       "    </tr>\n",
       "    <tr>\n",
       "      <th>201411NH11644</th>\n",
       "      <td>418196</td>\n",
       "      <td>552132</td>\n",
       "      <td>-1.718034</td>\n",
       "      <td>54.863663</td>\n",
       "      <td>11</td>\n",
       "      <td>2</td>\n",
       "      <td>2</td>\n",
       "      <td>87</td>\n",
       "      <td>03/06/2014</td>\n",
       "      <td>3</td>\n",
       "      <td>...</td>\n",
       "      <td>Daylight: Street light present</td>\n",
       "      <td>Fine without high winds</td>\n",
       "      <td>Dry</td>\n",
       "      <td>None</td>\n",
       "      <td>None</td>\n",
       "      <td>2</td>\n",
       "      <td>Yes</td>\n",
       "      <td>E01020624</td>\n",
       "      <td>2014</td>\n",
       "      <td>2014-06-03 08:22:00</td>\n",
       "    </tr>\n",
       "    <tr>\n",
       "      <th>2.01E+12</th>\n",
       "      <td>591380</td>\n",
       "      <td>169440</td>\n",
       "      <td>0.749417</td>\n",
       "      <td>51.391660</td>\n",
       "      <td>46</td>\n",
       "      <td>2</td>\n",
       "      <td>67</td>\n",
       "      <td>70</td>\n",
       "      <td>05/09/2013</td>\n",
       "      <td>5</td>\n",
       "      <td>...</td>\n",
       "      <td>Daylight: Street light present</td>\n",
       "      <td>Fog or mist</td>\n",
       "      <td>Dry</td>\n",
       "      <td>None</td>\n",
       "      <td>None</td>\n",
       "      <td>2</td>\n",
       "      <td>Yes</td>\n",
       "      <td>E01024597</td>\n",
       "      <td>2013</td>\n",
       "      <td>2013-09-05 07:15:00</td>\n",
       "    </tr>\n",
       "    <tr>\n",
       "      <th>2.01E+12</th>\n",
       "      <td>375840</td>\n",
       "      <td>203065</td>\n",
       "      <td>-2.351207</td>\n",
       "      <td>51.725734</td>\n",
       "      <td>53</td>\n",
       "      <td>2</td>\n",
       "      <td>1</td>\n",
       "      <td>54</td>\n",
       "      <td>19/08/2014</td>\n",
       "      <td>3</td>\n",
       "      <td>...</td>\n",
       "      <td>Daylight: Street light present</td>\n",
       "      <td>Fine without high winds</td>\n",
       "      <td>Dry</td>\n",
       "      <td>None</td>\n",
       "      <td>None</td>\n",
       "      <td>2</td>\n",
       "      <td>Yes</td>\n",
       "      <td>E01022371</td>\n",
       "      <td>2014</td>\n",
       "      <td>2014-08-19 09:57:00</td>\n",
       "    </tr>\n",
       "    <tr>\n",
       "      <th>201422E404170</th>\n",
       "      <td>355950</td>\n",
       "      <td>235980</td>\n",
       "      <td>-2.643371</td>\n",
       "      <td>52.020443</td>\n",
       "      <td>22</td>\n",
       "      <td>2</td>\n",
       "      <td>2</td>\n",
       "      <td>41</td>\n",
       "      <td>10/11/2014</td>\n",
       "      <td>2</td>\n",
       "      <td>...</td>\n",
       "      <td>Daylight: Street light present</td>\n",
       "      <td>Fine without high winds</td>\n",
       "      <td>Dry</td>\n",
       "      <td>None</td>\n",
       "      <td>None</td>\n",
       "      <td>2</td>\n",
       "      <td>Yes</td>\n",
       "      <td>E01014026</td>\n",
       "      <td>2014</td>\n",
       "      <td>2014-11-10 08:20:00</td>\n",
       "    </tr>\n",
       "    <tr>\n",
       "      <th>...</th>\n",
       "      <td>...</td>\n",
       "      <td>...</td>\n",
       "      <td>...</td>\n",
       "      <td>...</td>\n",
       "      <td>...</td>\n",
       "      <td>...</td>\n",
       "      <td>...</td>\n",
       "      <td>...</td>\n",
       "      <td>...</td>\n",
       "      <td>...</td>\n",
       "      <td>...</td>\n",
       "      <td>...</td>\n",
       "      <td>...</td>\n",
       "      <td>...</td>\n",
       "      <td>...</td>\n",
       "      <td>...</td>\n",
       "      <td>...</td>\n",
       "      <td>...</td>\n",
       "      <td>...</td>\n",
       "      <td>...</td>\n",
       "      <td>...</td>\n",
       "    </tr>\n",
       "    <tr>\n",
       "      <th>201297QC00409</th>\n",
       "      <td>304120</td>\n",
       "      <td>637780</td>\n",
       "      <td>-3.524192</td>\n",
       "      <td>55.624152</td>\n",
       "      <td>97</td>\n",
       "      <td>3</td>\n",
       "      <td>5</td>\n",
       "      <td>1</td>\n",
       "      <td>07/09/2012</td>\n",
       "      <td>6</td>\n",
       "      <td>...</td>\n",
       "      <td>Daylight: Street light present</td>\n",
       "      <td>Fine without high winds</td>\n",
       "      <td>Dry</td>\n",
       "      <td>None</td>\n",
       "      <td>None</td>\n",
       "      <td>2</td>\n",
       "      <td>Yes</td>\n",
       "      <td>NaN</td>\n",
       "      <td>2012</td>\n",
       "      <td>2012-09-07 15:45:00</td>\n",
       "    </tr>\n",
       "    <tr>\n",
       "      <th>201297QC00510</th>\n",
       "      <td>281810</td>\n",
       "      <td>652360</td>\n",
       "      <td>-3.884585</td>\n",
       "      <td>55.750175</td>\n",
       "      <td>97</td>\n",
       "      <td>3</td>\n",
       "      <td>2</td>\n",
       "      <td>1</td>\n",
       "      <td>02/10/2012</td>\n",
       "      <td>3</td>\n",
       "      <td>...</td>\n",
       "      <td>Daylight: Street light present</td>\n",
       "      <td>Fine without high winds</td>\n",
       "      <td>Dry</td>\n",
       "      <td>None</td>\n",
       "      <td>None</td>\n",
       "      <td>2</td>\n",
       "      <td>Yes</td>\n",
       "      <td>NaN</td>\n",
       "      <td>2012</td>\n",
       "      <td>2012-10-02 17:45:00</td>\n",
       "    </tr>\n",
       "    <tr>\n",
       "      <th>201297QC00605</th>\n",
       "      <td>294640</td>\n",
       "      <td>612550</td>\n",
       "      <td>-3.665077</td>\n",
       "      <td>55.395579</td>\n",
       "      <td>97</td>\n",
       "      <td>3</td>\n",
       "      <td>1</td>\n",
       "      <td>1</td>\n",
       "      <td>05/05/2012</td>\n",
       "      <td>7</td>\n",
       "      <td>...</td>\n",
       "      <td>Daylight: Street light present</td>\n",
       "      <td>Fine without high winds</td>\n",
       "      <td>Dry</td>\n",
       "      <td>Road surface defective</td>\n",
       "      <td>None</td>\n",
       "      <td>2</td>\n",
       "      <td>No</td>\n",
       "      <td>NaN</td>\n",
       "      <td>2012</td>\n",
       "      <td>2012-05-05 16:00:00</td>\n",
       "    </tr>\n",
       "    <tr>\n",
       "      <th>201297QC00606</th>\n",
       "      <td>302140</td>\n",
       "      <td>641540</td>\n",
       "      <td>-3.556962</td>\n",
       "      <td>55.657530</td>\n",
       "      <td>97</td>\n",
       "      <td>1</td>\n",
       "      <td>2</td>\n",
       "      <td>1</td>\n",
       "      <td>05/06/2012</td>\n",
       "      <td>3</td>\n",
       "      <td>...</td>\n",
       "      <td>Daylight: Street light present</td>\n",
       "      <td>Fine without high winds</td>\n",
       "      <td>Dry</td>\n",
       "      <td>None</td>\n",
       "      <td>None</td>\n",
       "      <td>2</td>\n",
       "      <td>Yes</td>\n",
       "      <td>NaN</td>\n",
       "      <td>2012</td>\n",
       "      <td>2012-06-05 15:39:00</td>\n",
       "    </tr>\n",
       "    <tr>\n",
       "      <th>2.01E+12</th>\n",
       "      <td>311812</td>\n",
       "      <td>580747</td>\n",
       "      <td>-3.384080</td>\n",
       "      <td>55.113274</td>\n",
       "      <td>98</td>\n",
       "      <td>3</td>\n",
       "      <td>1</td>\n",
       "      <td>1</td>\n",
       "      <td>17/11/2014</td>\n",
       "      <td>2</td>\n",
       "      <td>...</td>\n",
       "      <td>Daylight: Street light present</td>\n",
       "      <td>Fine without high winds</td>\n",
       "      <td>Dry</td>\n",
       "      <td>None</td>\n",
       "      <td>None</td>\n",
       "      <td>2</td>\n",
       "      <td>Yes</td>\n",
       "      <td>NaN</td>\n",
       "      <td>2014</td>\n",
       "      <td>2014-11-17 13:10:00</td>\n",
       "    </tr>\n",
       "  </tbody>\n",
       "</table>\n",
       "<p>319370 rows × 33 columns</p>\n",
       "</div>"
      ],
      "text/plain": [
       "                Location_Easting_OSGR  Location_Northing_OSGR  Longitude  \\\n",
       "Accident_Index                                                             \n",
       "20144100J0489                  523000                  199780  -0.222211   \n",
       "201411NH11644                  418196                  552132  -1.718034   \n",
       "2.01E+12                       591380                  169440   0.749417   \n",
       "2.01E+12                       375840                  203065  -2.351207   \n",
       "201422E404170                  355950                  235980  -2.643371   \n",
       "...                               ...                     ...        ...   \n",
       "201297QC00409                  304120                  637780  -3.524192   \n",
       "201297QC00510                  281810                  652360  -3.884585   \n",
       "201297QC00605                  294640                  612550  -3.665077   \n",
       "201297QC00606                  302140                  641540  -3.556962   \n",
       "2.01E+12                       311812                  580747  -3.384080   \n",
       "\n",
       "                 Latitude  Police_Force  Accident_Severity  \\\n",
       "Accident_Index                                               \n",
       "20144100J0489   51.683269            41                  2   \n",
       "201411NH11644   54.863663            11                  2   \n",
       "2.01E+12        51.391660            46                  2   \n",
       "2.01E+12        51.725734            53                  2   \n",
       "201422E404170   52.020443            22                  2   \n",
       "...                   ...           ...                ...   \n",
       "201297QC00409   55.624152            97                  3   \n",
       "201297QC00510   55.750175            97                  3   \n",
       "201297QC00605   55.395579            97                  3   \n",
       "201297QC00606   55.657530            97                  1   \n",
       "2.01E+12        55.113274            98                  3   \n",
       "\n",
       "                Number_of_Vehicles  Number_of_Casualties        Date  \\\n",
       "Accident_Index                                                         \n",
       "20144100J0489                    2                    93  20/10/2014   \n",
       "201411NH11644                    2                    87  03/06/2014   \n",
       "2.01E+12                        67                    70  05/09/2013   \n",
       "2.01E+12                         1                    54  19/08/2014   \n",
       "201422E404170                    2                    41  10/11/2014   \n",
       "...                            ...                   ...         ...   \n",
       "201297QC00409                    5                     1  07/09/2012   \n",
       "201297QC00510                    2                     1  02/10/2012   \n",
       "201297QC00605                    1                     1  05/05/2012   \n",
       "201297QC00606                    2                     1  05/06/2012   \n",
       "2.01E+12                         1                     1  17/11/2014   \n",
       "\n",
       "                Day_of_Week  ...                Light_Conditions  \\\n",
       "Accident_Index               ...                                   \n",
       "20144100J0489             2  ...  Daylight: Street light present   \n",
       "201411NH11644             3  ...  Daylight: Street light present   \n",
       "2.01E+12                  5  ...  Daylight: Street light present   \n",
       "2.01E+12                  3  ...  Daylight: Street light present   \n",
       "201422E404170             2  ...  Daylight: Street light present   \n",
       "...                     ...  ...                             ...   \n",
       "201297QC00409             6  ...  Daylight: Street light present   \n",
       "201297QC00510             3  ...  Daylight: Street light present   \n",
       "201297QC00605             7  ...  Daylight: Street light present   \n",
       "201297QC00606             3  ...  Daylight: Street light present   \n",
       "2.01E+12                  2  ...  Daylight: Street light present   \n",
       "\n",
       "                     Weather_Conditions Road_Surface_Conditions  \\\n",
       "Accident_Index                                                    \n",
       "20144100J0489   Fine without high winds                     Dry   \n",
       "201411NH11644   Fine without high winds                     Dry   \n",
       "2.01E+12                    Fog or mist                     Dry   \n",
       "2.01E+12        Fine without high winds                     Dry   \n",
       "201422E404170   Fine without high winds                     Dry   \n",
       "...                                 ...                     ...   \n",
       "201297QC00409   Fine without high winds                     Dry   \n",
       "201297QC00510   Fine without high winds                     Dry   \n",
       "201297QC00605   Fine without high winds                     Dry   \n",
       "201297QC00606   Fine without high winds                     Dry   \n",
       "2.01E+12        Fine without high winds                     Dry   \n",
       "\n",
       "                Special_Conditions_at_Site  Carriageway_Hazards  \\\n",
       "Accident_Index                                                    \n",
       "20144100J0489                         None                 None   \n",
       "201411NH11644                         None                 None   \n",
       "2.01E+12                              None                 None   \n",
       "2.01E+12                              None                 None   \n",
       "201422E404170                         None                 None   \n",
       "...                                    ...                  ...   \n",
       "201297QC00409                         None                 None   \n",
       "201297QC00510                         None                 None   \n",
       "201297QC00605       Road surface defective                 None   \n",
       "201297QC00606                         None                 None   \n",
       "2.01E+12                              None                 None   \n",
       "\n",
       "               Urban_or_Rural_Area  \\\n",
       "Accident_Index                       \n",
       "20144100J0489                    2   \n",
       "201411NH11644                    2   \n",
       "2.01E+12                         2   \n",
       "2.01E+12                         2   \n",
       "201422E404170                    2   \n",
       "...                            ...   \n",
       "201297QC00409                    2   \n",
       "201297QC00510                    2   \n",
       "201297QC00605                    2   \n",
       "201297QC00606                    2   \n",
       "2.01E+12                         2   \n",
       "\n",
       "                Did_Police_Officer_Attend_Scene_of_Accident  \\\n",
       "Accident_Index                                                \n",
       "20144100J0489                                           Yes   \n",
       "201411NH11644                                           Yes   \n",
       "2.01E+12                                                Yes   \n",
       "2.01E+12                                                Yes   \n",
       "201422E404170                                           Yes   \n",
       "...                                                     ...   \n",
       "201297QC00409                                           Yes   \n",
       "201297QC00510                                           Yes   \n",
       "201297QC00605                                            No   \n",
       "201297QC00606                                           Yes   \n",
       "2.01E+12                                                Yes   \n",
       "\n",
       "                LSOA_of_Accident_Location  Year            Datetime  \n",
       "Accident_Index                                                       \n",
       "20144100J0489                   E01023584  2014 2014-10-20 08:22:00  \n",
       "201411NH11644                   E01020624  2014 2014-06-03 08:22:00  \n",
       "2.01E+12                        E01024597  2013 2013-09-05 07:15:00  \n",
       "2.01E+12                        E01022371  2014 2014-08-19 09:57:00  \n",
       "201422E404170                   E01014026  2014 2014-11-10 08:20:00  \n",
       "...                                   ...   ...                 ...  \n",
       "201297QC00409                         NaN  2012 2012-09-07 15:45:00  \n",
       "201297QC00510                         NaN  2012 2012-10-02 17:45:00  \n",
       "201297QC00605                         NaN  2012 2012-05-05 16:00:00  \n",
       "201297QC00606                         NaN  2012 2012-06-05 15:39:00  \n",
       "2.01E+12                              NaN  2014 2014-11-17 13:10:00  \n",
       "\n",
       "[319370 rows x 33 columns]"
      ]
     },
     "execution_count": 62,
     "metadata": {},
     "output_type": "execute_result"
    }
   ],
   "source": [
    "#SUBSETTING a data frame\n",
    "selection = A[A['Road_Surface_Conditions'] == 'Dry'].sort_values(\n",
    "    'Number_of_Casualties', ascending=False)\n",
    "selection\n",
    "#selection[['Weather_Conditions', 'Police_Force', \n",
    "#           'Accident_Severity', 'Number_of_Vehicles', 'Number_of_Casualties']].head()"
   ]
  },
  {
   "cell_type": "code",
   "execution_count": 33,
   "metadata": {},
   "outputs": [
    {
     "data": {
      "text/html": [
       "<div>\n",
       "<style scoped>\n",
       "    .dataframe tbody tr th:only-of-type {\n",
       "        vertical-align: middle;\n",
       "    }\n",
       "\n",
       "    .dataframe tbody tr th {\n",
       "        vertical-align: top;\n",
       "    }\n",
       "\n",
       "    .dataframe thead th {\n",
       "        text-align: right;\n",
       "    }\n",
       "</style>\n",
       "<table border=\"1\" class=\"dataframe\">\n",
       "  <thead>\n",
       "    <tr style=\"text-align: right;\">\n",
       "      <th></th>\n",
       "      <th>Police_Force</th>\n",
       "      <th>Accident_Severity</th>\n",
       "      <th>Number_of_Vehicles</th>\n",
       "      <th>Number_of_Casualties</th>\n",
       "    </tr>\n",
       "    <tr>\n",
       "      <th>Weather_Conditions</th>\n",
       "      <th></th>\n",
       "      <th></th>\n",
       "      <th></th>\n",
       "      <th></th>\n",
       "    </tr>\n",
       "  </thead>\n",
       "  <tbody>\n",
       "    <tr>\n",
       "      <th>Fine with high winds</th>\n",
       "      <td>32.652875</td>\n",
       "      <td>2.811360</td>\n",
       "      <td>1.796283</td>\n",
       "      <td>1.352384</td>\n",
       "    </tr>\n",
       "    <tr>\n",
       "      <th>Fine without high winds</th>\n",
       "      <td>27.051892</td>\n",
       "      <td>2.830949</td>\n",
       "      <td>1.846165</td>\n",
       "      <td>1.321455</td>\n",
       "    </tr>\n",
       "    <tr>\n",
       "      <th>Fog or mist</th>\n",
       "      <td>39.051163</td>\n",
       "      <td>2.797674</td>\n",
       "      <td>1.997674</td>\n",
       "      <td>1.520930</td>\n",
       "    </tr>\n",
       "    <tr>\n",
       "      <th>Other</th>\n",
       "      <td>29.449333</td>\n",
       "      <td>2.868000</td>\n",
       "      <td>1.788000</td>\n",
       "      <td>1.269333</td>\n",
       "    </tr>\n",
       "    <tr>\n",
       "      <th>Raining with high winds</th>\n",
       "      <td>32.687500</td>\n",
       "      <td>2.833333</td>\n",
       "      <td>1.895833</td>\n",
       "      <td>1.458333</td>\n",
       "    </tr>\n",
       "    <tr>\n",
       "      <th>Raining without high winds</th>\n",
       "      <td>38.734211</td>\n",
       "      <td>2.873684</td>\n",
       "      <td>1.792105</td>\n",
       "      <td>1.297368</td>\n",
       "    </tr>\n",
       "    <tr>\n",
       "      <th>Snowing with high winds</th>\n",
       "      <td>45.666667</td>\n",
       "      <td>2.666667</td>\n",
       "      <td>1.777778</td>\n",
       "      <td>1.777778</td>\n",
       "    </tr>\n",
       "    <tr>\n",
       "      <th>Snowing without high winds</th>\n",
       "      <td>31.560976</td>\n",
       "      <td>2.902439</td>\n",
       "      <td>1.780488</td>\n",
       "      <td>1.195122</td>\n",
       "    </tr>\n",
       "    <tr>\n",
       "      <th>Unknown</th>\n",
       "      <td>27.058422</td>\n",
       "      <td>2.872004</td>\n",
       "      <td>1.766977</td>\n",
       "      <td>1.217710</td>\n",
       "    </tr>\n",
       "  </tbody>\n",
       "</table>\n",
       "</div>"
      ],
      "text/plain": [
       "                            Police_Force  Accident_Severity  \\\n",
       "Weather_Conditions                                            \n",
       "Fine with high winds           32.652875           2.811360   \n",
       "Fine without high winds        27.051892           2.830949   \n",
       "Fog or mist                    39.051163           2.797674   \n",
       "Other                          29.449333           2.868000   \n",
       "Raining with high winds        32.687500           2.833333   \n",
       "Raining without high winds     38.734211           2.873684   \n",
       "Snowing with high winds        45.666667           2.666667   \n",
       "Snowing without high winds     31.560976           2.902439   \n",
       "Unknown                        27.058422           2.872004   \n",
       "\n",
       "                            Number_of_Vehicles  Number_of_Casualties  \n",
       "Weather_Conditions                                                    \n",
       "Fine with high winds                  1.796283              1.352384  \n",
       "Fine without high winds               1.846165              1.321455  \n",
       "Fog or mist                           1.997674              1.520930  \n",
       "Other                                 1.788000              1.269333  \n",
       "Raining with high winds               1.895833              1.458333  \n",
       "Raining without high winds            1.792105              1.297368  \n",
       "Snowing with high winds               1.777778              1.777778  \n",
       "Snowing without high winds            1.780488              1.195122  \n",
       "Unknown                               1.766977              1.217710  "
      ]
     },
     "execution_count": 33,
     "metadata": {},
     "output_type": "execute_result"
    }
   ],
   "source": [
    "selection[['Weather_Conditions', 'Police_Force', 'Accident_Severity', \n",
    "           'Number_of_Vehicles', 'Number_of_Casualties']].groupby('Weather_Conditions').mean()"
   ]
  },
  {
   "cell_type": "code",
   "execution_count": 34,
   "metadata": {},
   "outputs": [],
   "source": [
    "sel = selection[['Weather_Conditions', 'Police_Force', 'Accident_Severity', \n",
    "           'Number_of_Vehicles', 'Number_of_Casualties', 'Datetime']]"
   ]
  },
  {
   "cell_type": "code",
   "execution_count": 35,
   "metadata": {},
   "outputs": [
    {
     "data": {
      "image/png": "[encoded data removed]",
      "text/plain": [
       "<Figure size 432x288 with 6 Axes>"
      ]
     },
     "metadata": {
      "needs_background": "light"
     },
     "output_type": "display_data"
    }
   ],
   "source": [
    "sel.hist()\n",
    "plt.tight_layout()\n",
    "plt.show()"
   ]
  },
  {
   "cell_type": "code",
   "execution_count": 36,
   "metadata": {},
   "outputs": [],
   "source": [
    "minutes = []\n",
    "for i, row in sel.iterrows():\n",
    "    h, m = row['Datetime'].hour, row['Datetime'].minute\n",
    "    minutes.append(h*60 + m)\n",
    "sel = sel.copy()\n",
    "sel['Minutes'] = minutes"
   ]
  },
  {
   "cell_type": "code",
   "execution_count": 37,
   "metadata": {},
   "outputs": [
    {
     "data": {
      "image/png": "[encoded data removed]",
      "text/plain": [
       "<Figure size 432x288 with 6 Axes>"
      ]
     },
     "metadata": {
      "needs_background": "light"
     },
     "output_type": "display_data"
    }
   ],
   "source": [
    "sel.hist()\n",
    "plt.tight_layout()\n",
    "plt.show()"
   ]
  },
  {
   "cell_type": "code",
   "execution_count": 38,
   "metadata": {},
   "outputs": [
    {
     "data": {
      "image/png": "[encoded data removed]",
      "text/plain": [
       "<Figure size 720x288 with 1 Axes>"
      ]
     },
     "metadata": {
      "needs_background": "light"
     },
     "output_type": "display_data"
    }
   ],
   "source": [
    "fig, axes = plt.subplots(nrows=1, ncols=1, figsize=(10, 4), sharey=True)\n",
    "sel.boxplot(ax=axes)\n",
    "plt.tight_layout()\n",
    "plt.show()"
   ]
  },
  {
   "cell_type": "code",
   "execution_count": 39,
   "metadata": {},
   "outputs": [
    {
     "data": {
      "image/png": "[encoded data removed]",
      "text/plain": [
       "<Figure size 720x720 with 1 Axes>"
      ]
     },
     "metadata": {
      "needs_background": "light"
     },
     "output_type": "display_data"
    }
   ],
   "source": [
    "fig, axes = plt.subplots(nrows=1, ncols=1, figsize=(10, 10), sharey=True)\n",
    "axes.scatter(selection.Longitude.values, selection.Latitude.values, alpha=0.2)\n",
    "plt.show()"
   ]
  },
  {
   "cell_type": "code",
   "execution_count": 40,
   "metadata": {},
   "outputs": [],
   "source": [
    "import geopandas as gpd"
   ]
  },
  {
   "cell_type": "code",
   "execution_count": 41,
   "metadata": {},
   "outputs": [],
   "source": [
    "world = gpd.read_file(gpd.datasets.get_path('naturalearth_lowres'))"
   ]
  },
  {
   "cell_type": "code",
   "execution_count": 42,
   "metadata": {},
   "outputs": [],
   "source": [
    "UK = world[world['iso_a3']=='GBR']"
   ]
  },
  {
   "cell_type": "code",
   "execution_count": 43,
   "metadata": {},
   "outputs": [
    {
     "data": {
      "image/png": "[encoded data removed]",
      "text/plain": [
       "<Figure size 720x720 with 1 Axes>"
      ]
     },
     "metadata": {
      "needs_background": "light"
     },
     "output_type": "display_data"
    }
   ],
   "source": [
    "limit = 2000\n",
    "fig, axes = plt.subplots(nrows=1, ncols=1, figsize=(10, 10), sharey=True)\n",
    "UK.plot(ax=axes, color='#CCCCCC')\n",
    "axes.scatter(selection.Longitude.values[:limit], selection.Latitude.values[:limit], alpha=0.2)\n",
    "plt.show()"
   ]
  },
  {
   "cell_type": "markdown",
   "metadata": {},
   "source": [
    "# Standard tools for machine learning"
   ]
  },
  {
   "cell_type": "code",
   "execution_count": 44,
   "metadata": {},
   "outputs": [],
   "source": [
    "# Standard import for ML\n",
    "import numpy as np\n",
    "import os\n",
    "import tarfile\n",
    "import requests\n",
    "import pandas as pd\n",
    "import matplotlib as mpl\n",
    "import matplotlib.pyplot as plt\n",
    "%matplotlib inline\n",
    "\n",
    "# Matplotlib defaul setting\n",
    "%matplotlib inline\n",
    "\n",
    "mpl.rc('axes', labelsize=14)\n",
    "mpl.rc('xtick', labelsize=12)\n",
    "mpl.rc('ytick', labelsize=12)\n",
    "#np1. + any method or function you want to use"
   ]
  },
  {
   "cell_type": "markdown",
   "metadata": {},
   "source": [
    "# Get the data\n",
    "Get the housing data (https://www.kaggle.com/harrywang/housing) from the Web through requests and load into a DataFrame from file"
   ]
  },
  {
   "cell_type": "code",
   "execution_count": 45,
   "metadata": {},
   "outputs": [],
   "source": [
    "url_data = \"https://raw.githubusercontent.com/ageron/handson-ml/master/datasets/housing/housing.tgz\"\n",
    "data_path = os.path.join(\"datasets\", \"housing\")\n",
    "if not os.path.isdir(data_path):\n",
    "    os.makedirs(data_path)\n",
    "with open(os.path.join(data_path,'housing.tgz'),'wb') as f:\n",
    "    f.write(requests.get(url_data).content)\n",
    "housing_tgz = tarfile.open(os.path.join(data_path,'housing.tgz'))\n",
    "housing_tgz.extractall(path=data_path)\n",
    "housing_tgz.close()"
   ]
  },
  {
   "cell_type": "code",
   "execution_count": 46,
   "metadata": {},
   "outputs": [],
   "source": [
    "housing = pd.read_csv('datasets/housing/housing.csv')"
   ]
  },
  {
   "cell_type": "markdown",
   "metadata": {},
   "source": [
    "## Data exploration"
   ]
  },
  {
   "cell_type": "code",
   "execution_count": 47,
   "metadata": {},
   "outputs": [
    {
     "data": {
      "text/html": [
       "<div>\n",
       "<style scoped>\n",
       "    .dataframe tbody tr th:only-of-type {\n",
       "        vertical-align: middle;\n",
       "    }\n",
       "\n",
       "    .dataframe tbody tr th {\n",
       "        vertical-align: top;\n",
       "    }\n",
       "\n",
       "    .dataframe thead th {\n",
       "        text-align: right;\n",
       "    }\n",
       "</style>\n",
       "<table border=\"1\" class=\"dataframe\">\n",
       "  <thead>\n",
       "    <tr style=\"text-align: right;\">\n",
       "      <th></th>\n",
       "      <th>longitude</th>\n",
       "      <th>latitude</th>\n",
       "      <th>housing_median_age</th>\n",
       "      <th>total_rooms</th>\n",
       "      <th>total_bedrooms</th>\n",
       "      <th>population</th>\n",
       "      <th>households</th>\n",
       "      <th>median_income</th>\n",
       "      <th>median_house_value</th>\n",
       "      <th>ocean_proximity</th>\n",
       "    </tr>\n",
       "  </thead>\n",
       "  <tbody>\n",
       "    <tr>\n",
       "      <th>0</th>\n",
       "      <td>-122.23</td>\n",
       "      <td>37.88</td>\n",
       "      <td>41.0</td>\n",
       "      <td>880.0</td>\n",
       "      <td>129.0</td>\n",
       "      <td>322.0</td>\n",
       "      <td>126.0</td>\n",
       "      <td>8.3252</td>\n",
       "      <td>452600.0</td>\n",
       "      <td>NEAR BAY</td>\n",
       "    </tr>\n",
       "    <tr>\n",
       "      <th>1</th>\n",
       "      <td>-122.22</td>\n",
       "      <td>37.86</td>\n",
       "      <td>21.0</td>\n",
       "      <td>7099.0</td>\n",
       "      <td>1106.0</td>\n",
       "      <td>2401.0</td>\n",
       "      <td>1138.0</td>\n",
       "      <td>8.3014</td>\n",
       "      <td>358500.0</td>\n",
       "      <td>NEAR BAY</td>\n",
       "    </tr>\n",
       "    <tr>\n",
       "      <th>2</th>\n",
       "      <td>-122.24</td>\n",
       "      <td>37.85</td>\n",
       "      <td>52.0</td>\n",
       "      <td>1467.0</td>\n",
       "      <td>190.0</td>\n",
       "      <td>496.0</td>\n",
       "      <td>177.0</td>\n",
       "      <td>7.2574</td>\n",
       "      <td>352100.0</td>\n",
       "      <td>NEAR BAY</td>\n",
       "    </tr>\n",
       "    <tr>\n",
       "      <th>3</th>\n",
       "      <td>-122.25</td>\n",
       "      <td>37.85</td>\n",
       "      <td>52.0</td>\n",
       "      <td>1274.0</td>\n",
       "      <td>235.0</td>\n",
       "      <td>558.0</td>\n",
       "      <td>219.0</td>\n",
       "      <td>5.6431</td>\n",
       "      <td>341300.0</td>\n",
       "      <td>NEAR BAY</td>\n",
       "    </tr>\n",
       "    <tr>\n",
       "      <th>4</th>\n",
       "      <td>-122.25</td>\n",
       "      <td>37.85</td>\n",
       "      <td>52.0</td>\n",
       "      <td>1627.0</td>\n",
       "      <td>280.0</td>\n",
       "      <td>565.0</td>\n",
       "      <td>259.0</td>\n",
       "      <td>3.8462</td>\n",
       "      <td>342200.0</td>\n",
       "      <td>NEAR BAY</td>\n",
       "    </tr>\n",
       "  </tbody>\n",
       "</table>\n",
       "</div>"
      ],
      "text/plain": [
       "   longitude  latitude  housing_median_age  total_rooms  total_bedrooms  \\\n",
       "0    -122.23     37.88                41.0        880.0           129.0   \n",
       "1    -122.22     37.86                21.0       7099.0          1106.0   \n",
       "2    -122.24     37.85                52.0       1467.0           190.0   \n",
       "3    -122.25     37.85                52.0       1274.0           235.0   \n",
       "4    -122.25     37.85                52.0       1627.0           280.0   \n",
       "\n",
       "   population  households  median_income  median_house_value ocean_proximity  \n",
       "0       322.0       126.0         8.3252            452600.0        NEAR BAY  \n",
       "1      2401.0      1138.0         8.3014            358500.0        NEAR BAY  \n",
       "2       496.0       177.0         7.2574            352100.0        NEAR BAY  \n",
       "3       558.0       219.0         5.6431            341300.0        NEAR BAY  \n",
       "4       565.0       259.0         3.8462            342200.0        NEAR BAY  "
      ]
     },
     "execution_count": 47,
     "metadata": {},
     "output_type": "execute_result"
    }
   ],
   "source": [
    "housing.head()"
   ]
  },
  {
   "cell_type": "markdown",
   "metadata": {},
   "source": [
    "Get information about all the columns"
   ]
  },
  {
   "cell_type": "code",
   "execution_count": 48,
   "metadata": {},
   "outputs": [
    {
     "name": "stdout",
     "output_type": "stream",
     "text": [
      "<class 'pandas.core.frame.DataFrame'>\n",
      "RangeIndex: 20640 entries, 0 to 20639\n",
      "Data columns (total 10 columns):\n",
      " #   Column              Non-Null Count  Dtype  \n",
      "---  ------              --------------  -----  \n",
      " 0   longitude           20640 non-null  float64\n",
      " 1   latitude            20640 non-null  float64\n",
      " 2   housing_median_age  20640 non-null  float64\n",
      " 3   total_rooms         20640 non-null  float64\n",
      " 4   total_bedrooms      20433 non-null  float64\n",
      " 5   population          20640 non-null  float64\n",
      " 6   households          20640 non-null  float64\n",
      " 7   median_income       20640 non-null  float64\n",
      " 8   median_house_value  20640 non-null  float64\n",
      " 9   ocean_proximity     20640 non-null  object \n",
      "dtypes: float64(9), object(1)\n",
      "memory usage: 1.6+ MB\n"
     ]
    }
   ],
   "source": [
    "housing.info()"
   ]
  },
  {
   "cell_type": "markdown",
   "metadata": {},
   "source": [
    "Count the unique values in column (e.g. *ocean_proximity*)"
   ]
  },
  {
   "cell_type": "code",
   "execution_count": 49,
   "metadata": {},
   "outputs": [
    {
     "data": {
      "text/plain": [
       "<1H OCEAN     9136\n",
       "INLAND        6551\n",
       "NEAR OCEAN    2658\n",
       "NEAR BAY      2290\n",
       "ISLAND           5\n",
       "Name: ocean_proximity, dtype: int64"
      ]
     },
     "execution_count": 49,
     "metadata": {},
     "output_type": "execute_result"
    }
   ],
   "source": [
    "housing['ocean_proximity'].value_counts()"
   ]
  },
  {
   "cell_type": "markdown",
   "metadata": {},
   "source": [
    "Summary statistics of the columns"
   ]
  },
  {
   "cell_type": "code",
   "execution_count": 50,
   "metadata": {},
   "outputs": [
    {
     "data": {
      "text/html": [
       "<div>\n",
       "<style scoped>\n",
       "    .dataframe tbody tr th:only-of-type {\n",
       "        vertical-align: middle;\n",
       "    }\n",
       "\n",
       "    .dataframe tbody tr th {\n",
       "        vertical-align: top;\n",
       "    }\n",
       "\n",
       "    .dataframe thead th {\n",
       "        text-align: right;\n",
       "    }\n",
       "</style>\n",
       "<table border=\"1\" class=\"dataframe\">\n",
       "  <thead>\n",
       "    <tr style=\"text-align: right;\">\n",
       "      <th></th>\n",
       "      <th>longitude</th>\n",
       "      <th>latitude</th>\n",
       "      <th>housing_median_age</th>\n",
       "      <th>total_rooms</th>\n",
       "      <th>total_bedrooms</th>\n",
       "      <th>population</th>\n",
       "      <th>households</th>\n",
       "      <th>median_income</th>\n",
       "      <th>median_house_value</th>\n",
       "    </tr>\n",
       "  </thead>\n",
       "  <tbody>\n",
       "    <tr>\n",
       "      <th>count</th>\n",
       "      <td>20640.000000</td>\n",
       "      <td>20640.000000</td>\n",
       "      <td>20640.000000</td>\n",
       "      <td>20640.000000</td>\n",
       "      <td>20433.000000</td>\n",
       "      <td>20640.000000</td>\n",
       "      <td>20640.000000</td>\n",
       "      <td>20640.000000</td>\n",
       "      <td>20640.000000</td>\n",
       "    </tr>\n",
       "    <tr>\n",
       "      <th>mean</th>\n",
       "      <td>-119.569704</td>\n",
       "      <td>35.631861</td>\n",
       "      <td>28.639486</td>\n",
       "      <td>2635.763081</td>\n",
       "      <td>537.870553</td>\n",
       "      <td>1425.476744</td>\n",
       "      <td>499.539680</td>\n",
       "      <td>3.870671</td>\n",
       "      <td>206855.816909</td>\n",
       "    </tr>\n",
       "    <tr>\n",
       "      <th>std</th>\n",
       "      <td>2.003532</td>\n",
       "      <td>2.135952</td>\n",
       "      <td>12.585558</td>\n",
       "      <td>2181.615252</td>\n",
       "      <td>421.385070</td>\n",
       "      <td>1132.462122</td>\n",
       "      <td>382.329753</td>\n",
       "      <td>1.899822</td>\n",
       "      <td>115395.615874</td>\n",
       "    </tr>\n",
       "    <tr>\n",
       "      <th>min</th>\n",
       "      <td>-124.350000</td>\n",
       "      <td>32.540000</td>\n",
       "      <td>1.000000</td>\n",
       "      <td>2.000000</td>\n",
       "      <td>1.000000</td>\n",
       "      <td>3.000000</td>\n",
       "      <td>1.000000</td>\n",
       "      <td>0.499900</td>\n",
       "      <td>14999.000000</td>\n",
       "    </tr>\n",
       "    <tr>\n",
       "      <th>25%</th>\n",
       "      <td>-121.800000</td>\n",
       "      <td>33.930000</td>\n",
       "      <td>18.000000</td>\n",
       "      <td>1447.750000</td>\n",
       "      <td>296.000000</td>\n",
       "      <td>787.000000</td>\n",
       "      <td>280.000000</td>\n",
       "      <td>2.563400</td>\n",
       "      <td>119600.000000</td>\n",
       "    </tr>\n",
       "    <tr>\n",
       "      <th>50%</th>\n",
       "      <td>-118.490000</td>\n",
       "      <td>34.260000</td>\n",
       "      <td>29.000000</td>\n",
       "      <td>2127.000000</td>\n",
       "      <td>435.000000</td>\n",
       "      <td>1166.000000</td>\n",
       "      <td>409.000000</td>\n",
       "      <td>3.534800</td>\n",
       "      <td>179700.000000</td>\n",
       "    </tr>\n",
       "    <tr>\n",
       "      <th>75%</th>\n",
       "      <td>-118.010000</td>\n",
       "      <td>37.710000</td>\n",
       "      <td>37.000000</td>\n",
       "      <td>3148.000000</td>\n",
       "      <td>647.000000</td>\n",
       "      <td>1725.000000</td>\n",
       "      <td>605.000000</td>\n",
       "      <td>4.743250</td>\n",
       "      <td>264725.000000</td>\n",
       "    </tr>\n",
       "    <tr>\n",
       "      <th>max</th>\n",
       "      <td>-114.310000</td>\n",
       "      <td>41.950000</td>\n",
       "      <td>52.000000</td>\n",
       "      <td>39320.000000</td>\n",
       "      <td>6445.000000</td>\n",
       "      <td>35682.000000</td>\n",
       "      <td>6082.000000</td>\n",
       "      <td>15.000100</td>\n",
       "      <td>500001.000000</td>\n",
       "    </tr>\n",
       "  </tbody>\n",
       "</table>\n",
       "</div>"
      ],
      "text/plain": [
       "          longitude      latitude  housing_median_age   total_rooms  \\\n",
       "count  20640.000000  20640.000000        20640.000000  20640.000000   \n",
       "mean    -119.569704     35.631861           28.639486   2635.763081   \n",
       "std        2.003532      2.135952           12.585558   2181.615252   \n",
       "min     -124.350000     32.540000            1.000000      2.000000   \n",
       "25%     -121.800000     33.930000           18.000000   1447.750000   \n",
       "50%     -118.490000     34.260000           29.000000   2127.000000   \n",
       "75%     -118.010000     37.710000           37.000000   3148.000000   \n",
       "max     -114.310000     41.950000           52.000000  39320.000000   \n",
       "\n",
       "       total_bedrooms    population    households  median_income  \\\n",
       "count    20433.000000  20640.000000  20640.000000   20640.000000   \n",
       "mean       537.870553   1425.476744    499.539680       3.870671   \n",
       "std        421.385070   1132.462122    382.329753       1.899822   \n",
       "min          1.000000      3.000000      1.000000       0.499900   \n",
       "25%        296.000000    787.000000    280.000000       2.563400   \n",
       "50%        435.000000   1166.000000    409.000000       3.534800   \n",
       "75%        647.000000   1725.000000    605.000000       4.743250   \n",
       "max       6445.000000  35682.000000   6082.000000      15.000100   \n",
       "\n",
       "       median_house_value  \n",
       "count        20640.000000  \n",
       "mean        206855.816909  \n",
       "std         115395.615874  \n",
       "min          14999.000000  \n",
       "25%         119600.000000  \n",
       "50%         179700.000000  \n",
       "75%         264725.000000  \n",
       "max         500001.000000  "
      ]
     },
     "execution_count": 50,
     "metadata": {},
     "output_type": "execute_result"
    }
   ],
   "source": [
    "housing.describe()"
   ]
  },
  {
   "cell_type": "markdown",
   "metadata": {},
   "source": [
    "Simple visualization of the distribution of a subset of features:<br>\n",
    "'households','housing_median_age', 'median_house_value','median_income','population','total_bedrooms','total_rooms'"
   ]
  },
  {
   "cell_type": "code",
   "execution_count": 51,
   "metadata": {},
   "outputs": [
    {
     "data": {
      "image/png": "[encoded data removed]",
      "text/plain": [
       "<Figure size 1152x648 with 9 Axes>"
      ]
     },
     "metadata": {
      "needs_background": "light"
     },
     "output_type": "display_data"
    }
   ],
   "source": [
    "housing.hist(column=['households','housing_median_age', 'median_house_value','median_income','population','total_bedrooms','total_rooms'],\n",
    "            bins=50,\n",
    "            figsize=(16,9))\n",
    "plt.show()"
   ]
  },
  {
   "cell_type": "code",
   "execution_count": 52,
   "metadata": {},
   "outputs": [
    {
     "data": {
      "text/plain": [
       "<AxesSubplot:>"
      ]
     },
     "execution_count": 52,
     "metadata": {},
     "output_type": "execute_result"
    },
    {
     "data": {
      "image/png": "[encoded data removed]",
      "text/plain": [
       "<Figure size 432x288 with 1 Axes>"
      ]
     },
     "metadata": {
      "needs_background": "light"
     },
     "output_type": "display_data"
    }
   ],
   "source": [
    "housing['median_income'].hist()"
   ]
  },
  {
   "cell_type": "code",
   "execution_count": 53,
   "metadata": {},
   "outputs": [
    {
     "data": {
      "text/html": [
       "<div>\n",
       "<style scoped>\n",
       "    .dataframe tbody tr th:only-of-type {\n",
       "        vertical-align: middle;\n",
       "    }\n",
       "\n",
       "    .dataframe tbody tr th {\n",
       "        vertical-align: top;\n",
       "    }\n",
       "\n",
       "    .dataframe thead th {\n",
       "        text-align: right;\n",
       "    }\n",
       "</style>\n",
       "<table border=\"1\" class=\"dataframe\">\n",
       "  <thead>\n",
       "    <tr style=\"text-align: right;\">\n",
       "      <th></th>\n",
       "      <th>longitude</th>\n",
       "      <th>latitude</th>\n",
       "      <th>housing_median_age</th>\n",
       "      <th>total_rooms</th>\n",
       "      <th>total_bedrooms</th>\n",
       "      <th>population</th>\n",
       "      <th>households</th>\n",
       "      <th>median_income</th>\n",
       "      <th>median_house_value</th>\n",
       "      <th>ocean_proximity</th>\n",
       "      <th>income_cat</th>\n",
       "    </tr>\n",
       "  </thead>\n",
       "  <tbody>\n",
       "    <tr>\n",
       "      <th>0</th>\n",
       "      <td>-122.23</td>\n",
       "      <td>37.88</td>\n",
       "      <td>41.0</td>\n",
       "      <td>880.0</td>\n",
       "      <td>129.0</td>\n",
       "      <td>322.0</td>\n",
       "      <td>126.0</td>\n",
       "      <td>8.3252</td>\n",
       "      <td>452600.0</td>\n",
       "      <td>NEAR BAY</td>\n",
       "      <td>Very High</td>\n",
       "    </tr>\n",
       "    <tr>\n",
       "      <th>1</th>\n",
       "      <td>-122.22</td>\n",
       "      <td>37.86</td>\n",
       "      <td>21.0</td>\n",
       "      <td>7099.0</td>\n",
       "      <td>1106.0</td>\n",
       "      <td>2401.0</td>\n",
       "      <td>1138.0</td>\n",
       "      <td>8.3014</td>\n",
       "      <td>358500.0</td>\n",
       "      <td>NEAR BAY</td>\n",
       "      <td>Very High</td>\n",
       "    </tr>\n",
       "    <tr>\n",
       "      <th>2</th>\n",
       "      <td>-122.24</td>\n",
       "      <td>37.85</td>\n",
       "      <td>52.0</td>\n",
       "      <td>1467.0</td>\n",
       "      <td>190.0</td>\n",
       "      <td>496.0</td>\n",
       "      <td>177.0</td>\n",
       "      <td>7.2574</td>\n",
       "      <td>352100.0</td>\n",
       "      <td>NEAR BAY</td>\n",
       "      <td>Very High</td>\n",
       "    </tr>\n",
       "    <tr>\n",
       "      <th>3</th>\n",
       "      <td>-122.25</td>\n",
       "      <td>37.85</td>\n",
       "      <td>52.0</td>\n",
       "      <td>1274.0</td>\n",
       "      <td>235.0</td>\n",
       "      <td>558.0</td>\n",
       "      <td>219.0</td>\n",
       "      <td>5.6431</td>\n",
       "      <td>341300.0</td>\n",
       "      <td>NEAR BAY</td>\n",
       "      <td>High</td>\n",
       "    </tr>\n",
       "    <tr>\n",
       "      <th>4</th>\n",
       "      <td>-122.25</td>\n",
       "      <td>37.85</td>\n",
       "      <td>52.0</td>\n",
       "      <td>1627.0</td>\n",
       "      <td>280.0</td>\n",
       "      <td>565.0</td>\n",
       "      <td>259.0</td>\n",
       "      <td>3.8462</td>\n",
       "      <td>342200.0</td>\n",
       "      <td>NEAR BAY</td>\n",
       "      <td>Medium</td>\n",
       "    </tr>\n",
       "    <tr>\n",
       "      <th>...</th>\n",
       "      <td>...</td>\n",
       "      <td>...</td>\n",
       "      <td>...</td>\n",
       "      <td>...</td>\n",
       "      <td>...</td>\n",
       "      <td>...</td>\n",
       "      <td>...</td>\n",
       "      <td>...</td>\n",
       "      <td>...</td>\n",
       "      <td>...</td>\n",
       "      <td>...</td>\n",
       "    </tr>\n",
       "    <tr>\n",
       "      <th>20635</th>\n",
       "      <td>-121.09</td>\n",
       "      <td>39.48</td>\n",
       "      <td>25.0</td>\n",
       "      <td>1665.0</td>\n",
       "      <td>374.0</td>\n",
       "      <td>845.0</td>\n",
       "      <td>330.0</td>\n",
       "      <td>1.5603</td>\n",
       "      <td>78100.0</td>\n",
       "      <td>INLAND</td>\n",
       "      <td>Low</td>\n",
       "    </tr>\n",
       "    <tr>\n",
       "      <th>20636</th>\n",
       "      <td>-121.21</td>\n",
       "      <td>39.49</td>\n",
       "      <td>18.0</td>\n",
       "      <td>697.0</td>\n",
       "      <td>150.0</td>\n",
       "      <td>356.0</td>\n",
       "      <td>114.0</td>\n",
       "      <td>2.5568</td>\n",
       "      <td>77100.0</td>\n",
       "      <td>INLAND</td>\n",
       "      <td>Low</td>\n",
       "    </tr>\n",
       "    <tr>\n",
       "      <th>20637</th>\n",
       "      <td>-121.22</td>\n",
       "      <td>39.43</td>\n",
       "      <td>17.0</td>\n",
       "      <td>2254.0</td>\n",
       "      <td>485.0</td>\n",
       "      <td>1007.0</td>\n",
       "      <td>433.0</td>\n",
       "      <td>1.7000</td>\n",
       "      <td>92300.0</td>\n",
       "      <td>INLAND</td>\n",
       "      <td>Low</td>\n",
       "    </tr>\n",
       "    <tr>\n",
       "      <th>20638</th>\n",
       "      <td>-121.32</td>\n",
       "      <td>39.43</td>\n",
       "      <td>18.0</td>\n",
       "      <td>1860.0</td>\n",
       "      <td>409.0</td>\n",
       "      <td>741.0</td>\n",
       "      <td>349.0</td>\n",
       "      <td>1.8672</td>\n",
       "      <td>84700.0</td>\n",
       "      <td>INLAND</td>\n",
       "      <td>Low</td>\n",
       "    </tr>\n",
       "    <tr>\n",
       "      <th>20639</th>\n",
       "      <td>-121.24</td>\n",
       "      <td>39.37</td>\n",
       "      <td>16.0</td>\n",
       "      <td>2785.0</td>\n",
       "      <td>616.0</td>\n",
       "      <td>1387.0</td>\n",
       "      <td>530.0</td>\n",
       "      <td>2.3886</td>\n",
       "      <td>89400.0</td>\n",
       "      <td>INLAND</td>\n",
       "      <td>Low</td>\n",
       "    </tr>\n",
       "  </tbody>\n",
       "</table>\n",
       "<p>20640 rows × 11 columns</p>\n",
       "</div>"
      ],
      "text/plain": [
       "       longitude  latitude  housing_median_age  total_rooms  total_bedrooms  \\\n",
       "0        -122.23     37.88                41.0        880.0           129.0   \n",
       "1        -122.22     37.86                21.0       7099.0          1106.0   \n",
       "2        -122.24     37.85                52.0       1467.0           190.0   \n",
       "3        -122.25     37.85                52.0       1274.0           235.0   \n",
       "4        -122.25     37.85                52.0       1627.0           280.0   \n",
       "...          ...       ...                 ...          ...             ...   \n",
       "20635    -121.09     39.48                25.0       1665.0           374.0   \n",
       "20636    -121.21     39.49                18.0        697.0           150.0   \n",
       "20637    -121.22     39.43                17.0       2254.0           485.0   \n",
       "20638    -121.32     39.43                18.0       1860.0           409.0   \n",
       "20639    -121.24     39.37                16.0       2785.0           616.0   \n",
       "\n",
       "       population  households  median_income  median_house_value  \\\n",
       "0           322.0       126.0         8.3252            452600.0   \n",
       "1          2401.0      1138.0         8.3014            358500.0   \n",
       "2           496.0       177.0         7.2574            352100.0   \n",
       "3           558.0       219.0         5.6431            341300.0   \n",
       "4           565.0       259.0         3.8462            342200.0   \n",
       "...           ...         ...            ...                 ...   \n",
       "20635       845.0       330.0         1.5603             78100.0   \n",
       "20636       356.0       114.0         2.5568             77100.0   \n",
       "20637      1007.0       433.0         1.7000             92300.0   \n",
       "20638       741.0       349.0         1.8672             84700.0   \n",
       "20639      1387.0       530.0         2.3886             89400.0   \n",
       "\n",
       "      ocean_proximity income_cat  \n",
       "0            NEAR BAY  Very High  \n",
       "1            NEAR BAY  Very High  \n",
       "2            NEAR BAY  Very High  \n",
       "3            NEAR BAY       High  \n",
       "4            NEAR BAY     Medium  \n",
       "...               ...        ...  \n",
       "20635          INLAND        Low  \n",
       "20636          INLAND        Low  \n",
       "20637          INLAND        Low  \n",
       "20638          INLAND        Low  \n",
       "20639          INLAND        Low  \n",
       "\n",
       "[20640 rows x 11 columns]"
      ]
     },
     "execution_count": 53,
     "metadata": {},
     "output_type": "execute_result"
    }
   ],
   "source": [
    "housing['income_cat'] = pd.cut(housing['median_income'],\n",
    "                              bins=[0,1.5,3,4.5,6, np.inf],\n",
    "                              labels = ['Very Low', 'Low', 'Medium', 'High', 'Very High'])\n",
    "housing"
   ]
  },
  {
   "cell_type": "markdown",
   "metadata": {},
   "source": [
    "# Partitioning the dataset into separate training and test sets\n",
    "\n",
    "## 1) Random partition"
   ]
  },
  {
   "cell_type": "code",
   "execution_count": 54,
   "metadata": {},
   "outputs": [],
   "source": [
    "from sklearn.model_selection import train_test_split\n",
    "\n",
    "train_set, test_set = train_test_split(housing, test_size = 0.2, random_state = 42)"
   ]
  },
  {
   "cell_type": "code",
   "execution_count": 55,
   "metadata": {},
   "outputs": [
    {
     "data": {
      "text/html": [
       "<div>\n",
       "<style scoped>\n",
       "    .dataframe tbody tr th:only-of-type {\n",
       "        vertical-align: middle;\n",
       "    }\n",
       "\n",
       "    .dataframe tbody tr th {\n",
       "        vertical-align: top;\n",
       "    }\n",
       "\n",
       "    .dataframe thead th {\n",
       "        text-align: right;\n",
       "    }\n",
       "</style>\n",
       "<table border=\"1\" class=\"dataframe\">\n",
       "  <thead>\n",
       "    <tr style=\"text-align: right;\">\n",
       "      <th></th>\n",
       "      <th>longitude</th>\n",
       "      <th>latitude</th>\n",
       "      <th>housing_median_age</th>\n",
       "      <th>total_rooms</th>\n",
       "      <th>total_bedrooms</th>\n",
       "      <th>population</th>\n",
       "      <th>households</th>\n",
       "      <th>median_income</th>\n",
       "      <th>median_house_value</th>\n",
       "      <th>ocean_proximity</th>\n",
       "      <th>income_cat</th>\n",
       "    </tr>\n",
       "  </thead>\n",
       "  <tbody>\n",
       "    <tr>\n",
       "      <th>14196</th>\n",
       "      <td>-117.03</td>\n",
       "      <td>32.71</td>\n",
       "      <td>33.0</td>\n",
       "      <td>3126.0</td>\n",
       "      <td>627.0</td>\n",
       "      <td>2300.0</td>\n",
       "      <td>623.0</td>\n",
       "      <td>3.2596</td>\n",
       "      <td>103000.0</td>\n",
       "      <td>NEAR OCEAN</td>\n",
       "      <td>Medium</td>\n",
       "    </tr>\n",
       "    <tr>\n",
       "      <th>8267</th>\n",
       "      <td>-118.16</td>\n",
       "      <td>33.77</td>\n",
       "      <td>49.0</td>\n",
       "      <td>3382.0</td>\n",
       "      <td>787.0</td>\n",
       "      <td>1314.0</td>\n",
       "      <td>756.0</td>\n",
       "      <td>3.8125</td>\n",
       "      <td>382100.0</td>\n",
       "      <td>NEAR OCEAN</td>\n",
       "      <td>Medium</td>\n",
       "    </tr>\n",
       "    <tr>\n",
       "      <th>17445</th>\n",
       "      <td>-120.48</td>\n",
       "      <td>34.66</td>\n",
       "      <td>4.0</td>\n",
       "      <td>1897.0</td>\n",
       "      <td>331.0</td>\n",
       "      <td>915.0</td>\n",
       "      <td>336.0</td>\n",
       "      <td>4.1563</td>\n",
       "      <td>172600.0</td>\n",
       "      <td>NEAR OCEAN</td>\n",
       "      <td>Medium</td>\n",
       "    </tr>\n",
       "    <tr>\n",
       "      <th>14265</th>\n",
       "      <td>-117.11</td>\n",
       "      <td>32.69</td>\n",
       "      <td>36.0</td>\n",
       "      <td>1421.0</td>\n",
       "      <td>367.0</td>\n",
       "      <td>1418.0</td>\n",
       "      <td>355.0</td>\n",
       "      <td>1.9425</td>\n",
       "      <td>93400.0</td>\n",
       "      <td>NEAR OCEAN</td>\n",
       "      <td>Low</td>\n",
       "    </tr>\n",
       "    <tr>\n",
       "      <th>2271</th>\n",
       "      <td>-119.80</td>\n",
       "      <td>36.78</td>\n",
       "      <td>43.0</td>\n",
       "      <td>2382.0</td>\n",
       "      <td>431.0</td>\n",
       "      <td>874.0</td>\n",
       "      <td>380.0</td>\n",
       "      <td>3.5542</td>\n",
       "      <td>96500.0</td>\n",
       "      <td>INLAND</td>\n",
       "      <td>Medium</td>\n",
       "    </tr>\n",
       "  </tbody>\n",
       "</table>\n",
       "</div>"
      ],
      "text/plain": [
       "       longitude  latitude  housing_median_age  total_rooms  total_bedrooms  \\\n",
       "14196    -117.03     32.71                33.0       3126.0           627.0   \n",
       "8267     -118.16     33.77                49.0       3382.0           787.0   \n",
       "17445    -120.48     34.66                 4.0       1897.0           331.0   \n",
       "14265    -117.11     32.69                36.0       1421.0           367.0   \n",
       "2271     -119.80     36.78                43.0       2382.0           431.0   \n",
       "\n",
       "       population  households  median_income  median_house_value  \\\n",
       "14196      2300.0       623.0         3.2596            103000.0   \n",
       "8267       1314.0       756.0         3.8125            382100.0   \n",
       "17445       915.0       336.0         4.1563            172600.0   \n",
       "14265      1418.0       355.0         1.9425             93400.0   \n",
       "2271        874.0       380.0         3.5542             96500.0   \n",
       "\n",
       "      ocean_proximity income_cat  \n",
       "14196      NEAR OCEAN     Medium  \n",
       "8267       NEAR OCEAN     Medium  \n",
       "17445      NEAR OCEAN     Medium  \n",
       "14265      NEAR OCEAN        Low  \n",
       "2271           INLAND     Medium  "
      ]
     },
     "execution_count": 55,
     "metadata": {},
     "output_type": "execute_result"
    }
   ],
   "source": [
    "train_set.head()"
   ]
  },
  {
   "cell_type": "markdown",
   "metadata": {},
   "source": [
    "We assign 20% of the sample to the test and the remaining 70% to the training, BUT no guarantee both training and test sets  have the same label/outcome distribution, especially when the dataset is small. Let's see..."
   ]
  },
  {
   "cell_type": "code",
   "execution_count": 56,
   "metadata": {},
   "outputs": [],
   "source": [
    "def income_cat_proportions(data):\n",
    "    return data['income_cat'].value_counts() / len(data)"
   ]
  },
  {
   "cell_type": "code",
   "execution_count": 57,
   "metadata": {},
   "outputs": [],
   "source": [
    "compare_props = pd.DataFrame({\n",
    "    'Overall': income_cat_proportions(housing),\n",
    "    'Random' : income_cat_proportions(test_set)\n",
    "}).sort_index()"
   ]
  },
  {
   "cell_type": "code",
   "execution_count": 58,
   "metadata": {},
   "outputs": [],
   "source": [
    "compare_props['Rand %error'] = 100 * compare_props['Random'] / compare_props['Overall'] - 100"
   ]
  },
  {
   "cell_type": "code",
   "execution_count": 59,
   "metadata": {},
   "outputs": [
    {
     "data": {
      "text/html": [
       "<div>\n",
       "<style scoped>\n",
       "    .dataframe tbody tr th:only-of-type {\n",
       "        vertical-align: middle;\n",
       "    }\n",
       "\n",
       "    .dataframe tbody tr th {\n",
       "        vertical-align: top;\n",
       "    }\n",
       "\n",
       "    .dataframe thead th {\n",
       "        text-align: right;\n",
       "    }\n",
       "</style>\n",
       "<table border=\"1\" class=\"dataframe\">\n",
       "  <thead>\n",
       "    <tr style=\"text-align: right;\">\n",
       "      <th></th>\n",
       "      <th>Overall</th>\n",
       "      <th>Random</th>\n",
       "      <th>Rand %error</th>\n",
       "    </tr>\n",
       "  </thead>\n",
       "  <tbody>\n",
       "    <tr>\n",
       "      <th>Very Low</th>\n",
       "      <td>0.039826</td>\n",
       "      <td>0.040213</td>\n",
       "      <td>0.973236</td>\n",
       "    </tr>\n",
       "    <tr>\n",
       "      <th>Low</th>\n",
       "      <td>0.318847</td>\n",
       "      <td>0.324370</td>\n",
       "      <td>1.732260</td>\n",
       "    </tr>\n",
       "    <tr>\n",
       "      <th>Medium</th>\n",
       "      <td>0.350581</td>\n",
       "      <td>0.358527</td>\n",
       "      <td>2.266446</td>\n",
       "    </tr>\n",
       "    <tr>\n",
       "      <th>High</th>\n",
       "      <td>0.176308</td>\n",
       "      <td>0.167393</td>\n",
       "      <td>-5.056334</td>\n",
       "    </tr>\n",
       "    <tr>\n",
       "      <th>Very High</th>\n",
       "      <td>0.114438</td>\n",
       "      <td>0.109496</td>\n",
       "      <td>-4.318374</td>\n",
       "    </tr>\n",
       "  </tbody>\n",
       "</table>\n",
       "</div>"
      ],
      "text/plain": [
       "            Overall    Random  Rand %error\n",
       "Very Low   0.039826  0.040213     0.973236\n",
       "Low        0.318847  0.324370     1.732260\n",
       "Medium     0.350581  0.358527     2.266446\n",
       "High       0.176308  0.167393    -5.056334\n",
       "Very High  0.114438  0.109496    -4.318374"
      ]
     },
     "execution_count": 59,
     "metadata": {},
     "output_type": "execute_result"
    }
   ],
   "source": [
    "compare_props"
   ]
  },
  {
   "cell_type": "markdown",
   "metadata": {},
   "source": [
    "## 2) Stratified Sampling"
   ]
  },
  {
   "cell_type": "code",
   "execution_count": 60,
   "metadata": {},
   "outputs": [
    {
     "data": {
      "text/plain": [
       "((16512, 11), (4128, 11), (20640, 11))"
      ]
     },
     "execution_count": 60,
     "metadata": {},
     "output_type": "execute_result"
    }
   ],
   "source": [
    "from sklearn.model_selection import StratifiedShuffleSplit\n",
    "\n",
    "splitObject = StratifiedShuffleSplit(n_splits=1, test_size=0.2, random_state=42)\n",
    "\n",
    "train_index, test_index = next(splitObject.split(housing, housing['income_cat']))\n",
    "\n",
    "stratified_train_set = housing.loc[train_index]\n",
    "stratified_test_set = housing.loc[test_index]\n",
    "\n",
    "stratified_train_set.shape, stratified_test_set.shape, housing.shape"
   ]
  },
  {
   "cell_type": "code",
   "execution_count": 61,
   "metadata": {},
   "outputs": [],
   "source": [
    "compare_props['Stratified'] = stratified_test_set['income_cat'].value_counts() / len(stratified_test_set)"
   ]
  },
  {
   "cell_type": "code",
   "execution_count": 62,
   "metadata": {},
   "outputs": [],
   "source": [
    "compare_props['Stratified %error'] = 100 * compare_props['Stratified'] / compare_props['Overall'] - 100"
   ]
  },
  {
   "cell_type": "code",
   "execution_count": 63,
   "metadata": {
    "scrolled": true
   },
   "outputs": [
    {
     "data": {
      "text/html": [
       "<div>\n",
       "<style scoped>\n",
       "    .dataframe tbody tr th:only-of-type {\n",
       "        vertical-align: middle;\n",
       "    }\n",
       "\n",
       "    .dataframe tbody tr th {\n",
       "        vertical-align: top;\n",
       "    }\n",
       "\n",
       "    .dataframe thead th {\n",
       "        text-align: right;\n",
       "    }\n",
       "</style>\n",
       "<table border=\"1\" class=\"dataframe\">\n",
       "  <thead>\n",
       "    <tr style=\"text-align: right;\">\n",
       "      <th></th>\n",
       "      <th>Overall</th>\n",
       "      <th>Random</th>\n",
       "      <th>Rand %error</th>\n",
       "      <th>Stratified</th>\n",
       "      <th>Stratified %error</th>\n",
       "    </tr>\n",
       "  </thead>\n",
       "  <tbody>\n",
       "    <tr>\n",
       "      <th>Very Low</th>\n",
       "      <td>0.039826</td>\n",
       "      <td>0.040213</td>\n",
       "      <td>0.973236</td>\n",
       "      <td>0.039729</td>\n",
       "      <td>-0.243309</td>\n",
       "    </tr>\n",
       "    <tr>\n",
       "      <th>Low</th>\n",
       "      <td>0.318847</td>\n",
       "      <td>0.324370</td>\n",
       "      <td>1.732260</td>\n",
       "      <td>0.318798</td>\n",
       "      <td>-0.015195</td>\n",
       "    </tr>\n",
       "    <tr>\n",
       "      <th>Medium</th>\n",
       "      <td>0.350581</td>\n",
       "      <td>0.358527</td>\n",
       "      <td>2.266446</td>\n",
       "      <td>0.350533</td>\n",
       "      <td>-0.013820</td>\n",
       "    </tr>\n",
       "    <tr>\n",
       "      <th>High</th>\n",
       "      <td>0.176308</td>\n",
       "      <td>0.167393</td>\n",
       "      <td>-5.056334</td>\n",
       "      <td>0.176357</td>\n",
       "      <td>0.027480</td>\n",
       "    </tr>\n",
       "    <tr>\n",
       "      <th>Very High</th>\n",
       "      <td>0.114438</td>\n",
       "      <td>0.109496</td>\n",
       "      <td>-4.318374</td>\n",
       "      <td>0.114583</td>\n",
       "      <td>0.127011</td>\n",
       "    </tr>\n",
       "  </tbody>\n",
       "</table>\n",
       "</div>"
      ],
      "text/plain": [
       "            Overall    Random  Rand %error  Stratified  Stratified %error\n",
       "Very Low   0.039826  0.040213     0.973236    0.039729          -0.243309\n",
       "Low        0.318847  0.324370     1.732260    0.318798          -0.015195\n",
       "Medium     0.350581  0.358527     2.266446    0.350533          -0.013820\n",
       "High       0.176308  0.167393    -5.056334    0.176357           0.027480\n",
       "Very High  0.114438  0.109496    -4.318374    0.114583           0.127011"
      ]
     },
     "execution_count": 63,
     "metadata": {},
     "output_type": "execute_result"
    }
   ],
   "source": [
    "compare_props"
   ]
  },
  {
   "cell_type": "markdown",
   "metadata": {},
   "source": [
    "# Prepare the data for Machine Learning algorithms"
   ]
  },
  {
   "cell_type": "code",
   "execution_count": 64,
   "metadata": {},
   "outputs": [
    {
     "data": {
      "text/plain": [
       "Index(['longitude', 'latitude', 'housing_median_age', 'total_rooms',\n",
       "       'total_bedrooms', 'population', 'households', 'median_income',\n",
       "       'ocean_proximity', 'income_cat'],\n",
       "      dtype='object')"
      ]
     },
     "execution_count": 64,
     "metadata": {},
     "output_type": "execute_result"
    }
   ],
   "source": [
    "housing = stratified_train_set.drop('median_house_value',axis=1)\n",
    "housing_label = stratified_train_set['median_house_value'].copy()\n",
    "housing.columns"
   ]
  },
  {
   "cell_type": "code",
   "execution_count": 65,
   "metadata": {},
   "outputs": [
    {
     "data": {
      "text/plain": [
       "16126    500001.0\n",
       "17709    175800.0\n",
       "2501      58000.0\n",
       "2123      72000.0\n",
       "2144      72300.0\n",
       "           ...   \n",
       "3382     230100.0\n",
       "841      156300.0\n",
       "11749    217500.0\n",
       "3940     227700.0\n",
       "18827     61400.0\n",
       "Name: median_house_value, Length: 16512, dtype: float64"
      ]
     },
     "execution_count": 65,
     "metadata": {},
     "output_type": "execute_result"
    }
   ],
   "source": [
    "housing_label"
   ]
  },
  {
   "cell_type": "markdown",
   "metadata": {},
   "source": [
    "## Identifying missing values"
   ]
  },
  {
   "cell_type": "code",
   "execution_count": 66,
   "metadata": {},
   "outputs": [
    {
     "data": {
      "text/html": [
       "<div>\n",
       "<style scoped>\n",
       "    .dataframe tbody tr th:only-of-type {\n",
       "        vertical-align: middle;\n",
       "    }\n",
       "\n",
       "    .dataframe tbody tr th {\n",
       "        vertical-align: top;\n",
       "    }\n",
       "\n",
       "    .dataframe thead th {\n",
       "        text-align: right;\n",
       "    }\n",
       "</style>\n",
       "<table border=\"1\" class=\"dataframe\">\n",
       "  <thead>\n",
       "    <tr style=\"text-align: right;\">\n",
       "      <th></th>\n",
       "      <th>longitude</th>\n",
       "      <th>latitude</th>\n",
       "      <th>housing_median_age</th>\n",
       "      <th>total_rooms</th>\n",
       "      <th>total_bedrooms</th>\n",
       "      <th>population</th>\n",
       "      <th>households</th>\n",
       "      <th>median_income</th>\n",
       "      <th>ocean_proximity</th>\n",
       "      <th>income_cat</th>\n",
       "    </tr>\n",
       "  </thead>\n",
       "  <tbody>\n",
       "    <tr>\n",
       "      <th>8383</th>\n",
       "      <td>-118.36</td>\n",
       "      <td>33.96</td>\n",
       "      <td>26.0</td>\n",
       "      <td>3543.0</td>\n",
       "      <td>NaN</td>\n",
       "      <td>2742.0</td>\n",
       "      <td>951.0</td>\n",
       "      <td>2.5504</td>\n",
       "      <td>&lt;1H OCEAN</td>\n",
       "      <td>Low</td>\n",
       "    </tr>\n",
       "    <tr>\n",
       "      <th>10915</th>\n",
       "      <td>-117.87</td>\n",
       "      <td>33.73</td>\n",
       "      <td>45.0</td>\n",
       "      <td>2264.0</td>\n",
       "      <td>NaN</td>\n",
       "      <td>1970.0</td>\n",
       "      <td>499.0</td>\n",
       "      <td>3.4193</td>\n",
       "      <td>&lt;1H OCEAN</td>\n",
       "      <td>Medium</td>\n",
       "    </tr>\n",
       "    <tr>\n",
       "      <th>11311</th>\n",
       "      <td>-117.96</td>\n",
       "      <td>33.78</td>\n",
       "      <td>33.0</td>\n",
       "      <td>1520.0</td>\n",
       "      <td>NaN</td>\n",
       "      <td>658.0</td>\n",
       "      <td>242.0</td>\n",
       "      <td>4.8750</td>\n",
       "      <td>&lt;1H OCEAN</td>\n",
       "      <td>High</td>\n",
       "    </tr>\n",
       "    <tr>\n",
       "      <th>696</th>\n",
       "      <td>-122.10</td>\n",
       "      <td>37.69</td>\n",
       "      <td>41.0</td>\n",
       "      <td>746.0</td>\n",
       "      <td>NaN</td>\n",
       "      <td>387.0</td>\n",
       "      <td>161.0</td>\n",
       "      <td>3.9063</td>\n",
       "      <td>NEAR BAY</td>\n",
       "      <td>Medium</td>\n",
       "    </tr>\n",
       "    <tr>\n",
       "      <th>15137</th>\n",
       "      <td>-116.91</td>\n",
       "      <td>32.83</td>\n",
       "      <td>16.0</td>\n",
       "      <td>5203.0</td>\n",
       "      <td>NaN</td>\n",
       "      <td>2515.0</td>\n",
       "      <td>862.0</td>\n",
       "      <td>4.1050</td>\n",
       "      <td>&lt;1H OCEAN</td>\n",
       "      <td>Medium</td>\n",
       "    </tr>\n",
       "  </tbody>\n",
       "</table>\n",
       "</div>"
      ],
      "text/plain": [
       "       longitude  latitude  housing_median_age  total_rooms  total_bedrooms  \\\n",
       "8383     -118.36     33.96                26.0       3543.0             NaN   \n",
       "10915    -117.87     33.73                45.0       2264.0             NaN   \n",
       "11311    -117.96     33.78                33.0       1520.0             NaN   \n",
       "696      -122.10     37.69                41.0        746.0             NaN   \n",
       "15137    -116.91     32.83                16.0       5203.0             NaN   \n",
       "\n",
       "       population  households  median_income ocean_proximity income_cat  \n",
       "8383       2742.0       951.0         2.5504       <1H OCEAN        Low  \n",
       "10915      1970.0       499.0         3.4193       <1H OCEAN     Medium  \n",
       "11311       658.0       242.0         4.8750       <1H OCEAN       High  \n",
       "696         387.0       161.0         3.9063        NEAR BAY     Medium  \n",
       "15137      2515.0       862.0         4.1050       <1H OCEAN     Medium  "
      ]
     },
     "execution_count": 66,
     "metadata": {},
     "output_type": "execute_result"
    }
   ],
   "source": [
    "sample_incomplete_rows = housing[housing.isnull().any(axis=1)].head()\n",
    "sample_incomplete_rows"
   ]
  },
  {
   "cell_type": "markdown",
   "metadata": {},
   "source": [
    "## Eliminating rows with missing values"
   ]
  },
  {
   "cell_type": "code",
   "execution_count": 67,
   "metadata": {},
   "outputs": [
    {
     "data": {
      "text/html": [
       "<div>\n",
       "<style scoped>\n",
       "    .dataframe tbody tr th:only-of-type {\n",
       "        vertical-align: middle;\n",
       "    }\n",
       "\n",
       "    .dataframe tbody tr th {\n",
       "        vertical-align: top;\n",
       "    }\n",
       "\n",
       "    .dataframe thead th {\n",
       "        text-align: right;\n",
       "    }\n",
       "</style>\n",
       "<table border=\"1\" class=\"dataframe\">\n",
       "  <thead>\n",
       "    <tr style=\"text-align: right;\">\n",
       "      <th></th>\n",
       "      <th>longitude</th>\n",
       "      <th>latitude</th>\n",
       "      <th>housing_median_age</th>\n",
       "      <th>total_rooms</th>\n",
       "      <th>total_bedrooms</th>\n",
       "      <th>population</th>\n",
       "      <th>households</th>\n",
       "      <th>median_income</th>\n",
       "      <th>ocean_proximity</th>\n",
       "      <th>income_cat</th>\n",
       "    </tr>\n",
       "  </thead>\n",
       "  <tbody>\n",
       "  </tbody>\n",
       "</table>\n",
       "</div>"
      ],
      "text/plain": [
       "Empty DataFrame\n",
       "Columns: [longitude, latitude, housing_median_age, total_rooms, total_bedrooms, population, households, median_income, ocean_proximity, income_cat]\n",
       "Index: []"
      ]
     },
     "execution_count": 67,
     "metadata": {},
     "output_type": "execute_result"
    }
   ],
   "source": [
    "sample_incomplete_rows.dropna(subset=['total_bedrooms'], axis=0)"
   ]
  },
  {
   "cell_type": "markdown",
   "metadata": {},
   "source": [
    "## Eliminating variables with missing values"
   ]
  },
  {
   "cell_type": "code",
   "execution_count": 68,
   "metadata": {},
   "outputs": [
    {
     "data": {
      "text/html": [
       "<div>\n",
       "<style scoped>\n",
       "    .dataframe tbody tr th:only-of-type {\n",
       "        vertical-align: middle;\n",
       "    }\n",
       "\n",
       "    .dataframe tbody tr th {\n",
       "        vertical-align: top;\n",
       "    }\n",
       "\n",
       "    .dataframe thead th {\n",
       "        text-align: right;\n",
       "    }\n",
       "</style>\n",
       "<table border=\"1\" class=\"dataframe\">\n",
       "  <thead>\n",
       "    <tr style=\"text-align: right;\">\n",
       "      <th></th>\n",
       "      <th>longitude</th>\n",
       "      <th>latitude</th>\n",
       "      <th>housing_median_age</th>\n",
       "      <th>total_rooms</th>\n",
       "      <th>population</th>\n",
       "      <th>households</th>\n",
       "      <th>median_income</th>\n",
       "      <th>ocean_proximity</th>\n",
       "      <th>income_cat</th>\n",
       "    </tr>\n",
       "  </thead>\n",
       "  <tbody>\n",
       "    <tr>\n",
       "      <th>8383</th>\n",
       "      <td>-118.36</td>\n",
       "      <td>33.96</td>\n",
       "      <td>26.0</td>\n",
       "      <td>3543.0</td>\n",
       "      <td>2742.0</td>\n",
       "      <td>951.0</td>\n",
       "      <td>2.5504</td>\n",
       "      <td>&lt;1H OCEAN</td>\n",
       "      <td>Low</td>\n",
       "    </tr>\n",
       "    <tr>\n",
       "      <th>10915</th>\n",
       "      <td>-117.87</td>\n",
       "      <td>33.73</td>\n",
       "      <td>45.0</td>\n",
       "      <td>2264.0</td>\n",
       "      <td>1970.0</td>\n",
       "      <td>499.0</td>\n",
       "      <td>3.4193</td>\n",
       "      <td>&lt;1H OCEAN</td>\n",
       "      <td>Medium</td>\n",
       "    </tr>\n",
       "    <tr>\n",
       "      <th>11311</th>\n",
       "      <td>-117.96</td>\n",
       "      <td>33.78</td>\n",
       "      <td>33.0</td>\n",
       "      <td>1520.0</td>\n",
       "      <td>658.0</td>\n",
       "      <td>242.0</td>\n",
       "      <td>4.8750</td>\n",
       "      <td>&lt;1H OCEAN</td>\n",
       "      <td>High</td>\n",
       "    </tr>\n",
       "    <tr>\n",
       "      <th>696</th>\n",
       "      <td>-122.10</td>\n",
       "      <td>37.69</td>\n",
       "      <td>41.0</td>\n",
       "      <td>746.0</td>\n",
       "      <td>387.0</td>\n",
       "      <td>161.0</td>\n",
       "      <td>3.9063</td>\n",
       "      <td>NEAR BAY</td>\n",
       "      <td>Medium</td>\n",
       "    </tr>\n",
       "    <tr>\n",
       "      <th>15137</th>\n",
       "      <td>-116.91</td>\n",
       "      <td>32.83</td>\n",
       "      <td>16.0</td>\n",
       "      <td>5203.0</td>\n",
       "      <td>2515.0</td>\n",
       "      <td>862.0</td>\n",
       "      <td>4.1050</td>\n",
       "      <td>&lt;1H OCEAN</td>\n",
       "      <td>Medium</td>\n",
       "    </tr>\n",
       "  </tbody>\n",
       "</table>\n",
       "</div>"
      ],
      "text/plain": [
       "       longitude  latitude  housing_median_age  total_rooms  population  \\\n",
       "8383     -118.36     33.96                26.0       3543.0      2742.0   \n",
       "10915    -117.87     33.73                45.0       2264.0      1970.0   \n",
       "11311    -117.96     33.78                33.0       1520.0       658.0   \n",
       "696      -122.10     37.69                41.0        746.0       387.0   \n",
       "15137    -116.91     32.83                16.0       5203.0      2515.0   \n",
       "\n",
       "       households  median_income ocean_proximity income_cat  \n",
       "8383        951.0         2.5504       <1H OCEAN        Low  \n",
       "10915       499.0         3.4193       <1H OCEAN     Medium  \n",
       "11311       242.0         4.8750       <1H OCEAN       High  \n",
       "696         161.0         3.9063        NEAR BAY     Medium  \n",
       "15137       862.0         4.1050       <1H OCEAN     Medium  "
      ]
     },
     "execution_count": 68,
     "metadata": {},
     "output_type": "execute_result"
    }
   ],
   "source": [
    "sample_incomplete_rows.dropna(axis=1)"
   ]
  },
  {
   "cell_type": "markdown",
   "metadata": {},
   "source": [
    "## Imputing missing values\n",
    "\n",
    "### 1) Pandas"
   ]
  },
  {
   "cell_type": "code",
   "execution_count": 69,
   "metadata": {},
   "outputs": [
    {
     "data": {
      "text/html": [
       "<div>\n",
       "<style scoped>\n",
       "    .dataframe tbody tr th:only-of-type {\n",
       "        vertical-align: middle;\n",
       "    }\n",
       "\n",
       "    .dataframe tbody tr th {\n",
       "        vertical-align: top;\n",
       "    }\n",
       "\n",
       "    .dataframe thead th {\n",
       "        text-align: right;\n",
       "    }\n",
       "</style>\n",
       "<table border=\"1\" class=\"dataframe\">\n",
       "  <thead>\n",
       "    <tr style=\"text-align: right;\">\n",
       "      <th></th>\n",
       "      <th>longitude</th>\n",
       "      <th>latitude</th>\n",
       "      <th>housing_median_age</th>\n",
       "      <th>total_rooms</th>\n",
       "      <th>total_bedrooms</th>\n",
       "      <th>population</th>\n",
       "      <th>households</th>\n",
       "      <th>median_income</th>\n",
       "      <th>ocean_proximity</th>\n",
       "      <th>income_cat</th>\n",
       "    </tr>\n",
       "  </thead>\n",
       "  <tbody>\n",
       "    <tr>\n",
       "      <th>8383</th>\n",
       "      <td>-118.36</td>\n",
       "      <td>33.96</td>\n",
       "      <td>26.0</td>\n",
       "      <td>3543.0</td>\n",
       "      <td>437.0</td>\n",
       "      <td>2742.0</td>\n",
       "      <td>951.0</td>\n",
       "      <td>2.5504</td>\n",
       "      <td>&lt;1H OCEAN</td>\n",
       "      <td>Low</td>\n",
       "    </tr>\n",
       "    <tr>\n",
       "      <th>10915</th>\n",
       "      <td>-117.87</td>\n",
       "      <td>33.73</td>\n",
       "      <td>45.0</td>\n",
       "      <td>2264.0</td>\n",
       "      <td>437.0</td>\n",
       "      <td>1970.0</td>\n",
       "      <td>499.0</td>\n",
       "      <td>3.4193</td>\n",
       "      <td>&lt;1H OCEAN</td>\n",
       "      <td>Medium</td>\n",
       "    </tr>\n",
       "    <tr>\n",
       "      <th>11311</th>\n",
       "      <td>-117.96</td>\n",
       "      <td>33.78</td>\n",
       "      <td>33.0</td>\n",
       "      <td>1520.0</td>\n",
       "      <td>437.0</td>\n",
       "      <td>658.0</td>\n",
       "      <td>242.0</td>\n",
       "      <td>4.8750</td>\n",
       "      <td>&lt;1H OCEAN</td>\n",
       "      <td>High</td>\n",
       "    </tr>\n",
       "    <tr>\n",
       "      <th>696</th>\n",
       "      <td>-122.10</td>\n",
       "      <td>37.69</td>\n",
       "      <td>41.0</td>\n",
       "      <td>746.0</td>\n",
       "      <td>437.0</td>\n",
       "      <td>387.0</td>\n",
       "      <td>161.0</td>\n",
       "      <td>3.9063</td>\n",
       "      <td>NEAR BAY</td>\n",
       "      <td>Medium</td>\n",
       "    </tr>\n",
       "    <tr>\n",
       "      <th>15137</th>\n",
       "      <td>-116.91</td>\n",
       "      <td>32.83</td>\n",
       "      <td>16.0</td>\n",
       "      <td>5203.0</td>\n",
       "      <td>437.0</td>\n",
       "      <td>2515.0</td>\n",
       "      <td>862.0</td>\n",
       "      <td>4.1050</td>\n",
       "      <td>&lt;1H OCEAN</td>\n",
       "      <td>Medium</td>\n",
       "    </tr>\n",
       "  </tbody>\n",
       "</table>\n",
       "</div>"
      ],
      "text/plain": [
       "       longitude  latitude  housing_median_age  total_rooms  total_bedrooms  \\\n",
       "8383     -118.36     33.96                26.0       3543.0           437.0   \n",
       "10915    -117.87     33.73                45.0       2264.0           437.0   \n",
       "11311    -117.96     33.78                33.0       1520.0           437.0   \n",
       "696      -122.10     37.69                41.0        746.0           437.0   \n",
       "15137    -116.91     32.83                16.0       5203.0           437.0   \n",
       "\n",
       "       population  households  median_income ocean_proximity income_cat  \n",
       "8383       2742.0       951.0         2.5504       <1H OCEAN        Low  \n",
       "10915      1970.0       499.0         3.4193       <1H OCEAN     Medium  \n",
       "11311       658.0       242.0         4.8750       <1H OCEAN       High  \n",
       "696         387.0       161.0         3.9063        NEAR BAY     Medium  \n",
       "15137      2515.0       862.0         4.1050       <1H OCEAN     Medium  "
      ]
     },
     "execution_count": 69,
     "metadata": {},
     "output_type": "execute_result"
    }
   ],
   "source": [
    "median = housing['total_bedrooms'].median()\n",
    "sample_incomplete_rows['total_bedrooms'].fillna(median, inplace=True)\n",
    "sample_incomplete_rows"
   ]
  },
  {
   "cell_type": "markdown",
   "metadata": {},
   "source": [
    "### 2) Scikit-Learn\n",
    "The **SimpleImputer** class.\n",
    "\n",
    "The SimpleImputer class provides basic strategies for imputing missing values. Missing values can be imputed with a provided constant value, or using the statistics (mean, median or most frequent) of each column in which the missing values are located."
   ]
  },
  {
   "cell_type": "code",
   "execution_count": 70,
   "metadata": {},
   "outputs": [
    {
     "name": "stdout",
     "output_type": "stream",
     "text": [
      "Requirement already satisfied: sklearn in /opt/anaconda3/lib/python3.8/site-packages (0.0)\n",
      "Requirement already satisfied: scikit-learn in /opt/anaconda3/lib/python3.8/site-packages (from sklearn) (0.24.1)\n",
      "Requirement already satisfied: joblib>=0.11 in /opt/anaconda3/lib/python3.8/site-packages (from scikit-learn->sklearn) (1.0.1)\n",
      "Requirement already satisfied: scipy>=0.19.1 in /opt/anaconda3/lib/python3.8/site-packages (from scikit-learn->sklearn) (1.7.3)\n",
      "Requirement already satisfied: threadpoolctl>=2.0.0 in /opt/anaconda3/lib/python3.8/site-packages (from scikit-learn->sklearn) (2.1.0)\n",
      "Requirement already satisfied: numpy>=1.13.3 in /opt/anaconda3/lib/python3.8/site-packages (from scikit-learn->sklearn) (1.22.1)\n",
      "\u001b[33mWARNING: You are using pip version 21.2.2; however, version 22.1.2 is available.\n",
      "You should consider upgrading via the '/opt/anaconda3/bin/python -m pip install --upgrade pip' command.\u001b[0m\n",
      "Note: you may need to restart the kernel to use updated packages.\n"
     ]
    }
   ],
   "source": [
    "pip install sklearn"
   ]
  },
  {
   "cell_type": "code",
   "execution_count": 72,
   "metadata": {},
   "outputs": [],
   "source": [
    "from sklearn.impute import SimpleImputer\n",
    "imputer = SimpleImputer(missing_values = np.nan, strategy = 'median')"
   ]
  },
  {
   "cell_type": "markdown",
   "metadata": {},
   "source": [
    "Remove the text attribute because median can only be calculated on numerical attributes:"
   ]
  },
  {
   "cell_type": "code",
   "execution_count": 73,
   "metadata": {},
   "outputs": [],
   "source": [
    "housing_num = housing.select_dtypes(include=[np.number])"
   ]
  },
  {
   "cell_type": "code",
   "execution_count": 74,
   "metadata": {},
   "outputs": [
    {
     "data": {
      "text/plain": [
       "SimpleImputer(strategy='median')"
      ]
     },
     "execution_count": 74,
     "metadata": {},
     "output_type": "execute_result"
    }
   ],
   "source": [
    "imputer.fit(housing_num)"
   ]
  },
  {
   "cell_type": "code",
   "execution_count": 75,
   "metadata": {},
   "outputs": [
    {
     "data": {
      "text/plain": [
       "array([-118.5   ,   34.26  ,   29.    , 2137.    ,  437.    , 1170.    ,\n",
       "        411.    ,    3.5375])"
      ]
     },
     "execution_count": 75,
     "metadata": {},
     "output_type": "execute_result"
    }
   ],
   "source": [
    "imputer.statistics_"
   ]
  },
  {
   "cell_type": "markdown",
   "metadata": {},
   "source": [
    "Transform the training set:"
   ]
  },
  {
   "cell_type": "code",
   "execution_count": 76,
   "metadata": {},
   "outputs": [
    {
     "data": {
      "text/plain": [
       "array([[-1.2247e+02,  3.7790e+01,  5.2000e+01, ...,  1.9400e+02,\n",
       "         8.7000e+01,  2.8125e+00],\n",
       "       [-1.2182e+02,  3.7330e+01,  2.3000e+01, ...,  2.5820e+03,\n",
       "         6.3000e+02,  4.3782e+00],\n",
       "       [-1.2038e+02,  3.6760e+01,  2.5000e+01, ...,  9.4100e+02,\n",
       "         2.6200e+02,  1.8125e+00],\n",
       "       ...,\n",
       "       [-1.2115e+02,  3.8800e+01,  2.0000e+01, ...,  7.4500e+02,\n",
       "         3.1400e+02,  4.1685e+00],\n",
       "       [-1.1859e+02,  3.4210e+01,  3.4000e+01, ...,  8.9500e+02,\n",
       "         3.0500e+02,  5.0462e+00],\n",
       "       [-1.2226e+02,  4.1660e+01,  1.7000e+01, ...,  9.5300e+02,\n",
       "         3.2800e+02,  2.1607e+00]])"
      ]
     },
     "execution_count": 76,
     "metadata": {},
     "output_type": "execute_result"
    }
   ],
   "source": [
    "X = imputer.transform(housing_num)\n",
    "X"
   ]
  },
  {
   "cell_type": "markdown",
   "metadata": {},
   "source": [
    "Scikit-Learn API is organized around a bunch of design principles:\n",
    "<ul>\n",
    "    <li><b>Consistency</b>: all object share a consistent and simple interface\n",
    "        <ol>\n",
    "            <li><b>Estimator</b>: object that can estimate some parameters. Estimation performed by the method <i>fit</i> which takes only a dataset as parameter, any other parameter is an hyperparameter</li>\n",
    "            <li><b>Transformers</b>: some estimators transform a dataset. The transformation is performed by the method <i>transform</i> with the dataset to transform as a parameter. It returns the transformed dataset. There is a convenient <i>fit_transform</i> method, which is optimized and runs much faster</li>\n",
    "            <li><b>Predictors</b>: some estimator are able to make predictions. A predictor has a method <i>predict</i> that takes a dataset of new samples and returns the corresponding predictions</li>\n",
    "        </ol>\n",
    "    </li>\n",
    "    <li><b>Inspection</b>: all hyperparameter are accessible via instance variable as well as the learned parameters (underscore suffix)</li>\n",
    "    <li><b>Nonproliferation of classes</b>: datasets are Numpy arrays or Scipy sparse matrices. No homemade classes</li>\n",
    "    <li><b>Composition</b>: existing building block are reusable</li>\n",
    "    <li><b>Sensible defaults</b>: reasonable default values.</li>\n",
    "</ul>"
   ]
  },
  {
   "cell_type": "code",
   "execution_count": 77,
   "metadata": {},
   "outputs": [
    {
     "data": {
      "text/plain": [
       "'median'"
      ]
     },
     "execution_count": 77,
     "metadata": {},
     "output_type": "execute_result"
    }
   ],
   "source": [
    "imputer.strategy"
   ]
  },
  {
   "cell_type": "code",
   "execution_count": 78,
   "metadata": {},
   "outputs": [],
   "source": [
    "housing_trasformed = pd.DataFrame(X, columns= housing_num.columns, index = list(housing.index.values))"
   ]
  },
  {
   "cell_type": "markdown",
   "metadata": {},
   "source": [
    "## Encoding nominal features"
   ]
  },
  {
   "cell_type": "code",
   "execution_count": 79,
   "metadata": {},
   "outputs": [],
   "source": [
    "housing_cat = housing[['ocean_proximity']]"
   ]
  },
  {
   "cell_type": "markdown",
   "metadata": {},
   "source": [
    "To convert categorical features to such integer codes, we can use the **OrdinalEncoder**. This estimator transforms each categorical feature to one new feature of integers (0 to n_categories - 1)"
   ]
  },
  {
   "cell_type": "code",
   "execution_count": 80,
   "metadata": {},
   "outputs": [],
   "source": [
    "from sklearn.preprocessing import OrdinalEncoder"
   ]
  },
  {
   "cell_type": "code",
   "execution_count": 81,
   "metadata": {},
   "outputs": [
    {
     "data": {
      "text/plain": [
       "array([[3.],\n",
       "       [0.],\n",
       "       [1.],\n",
       "       [1.],\n",
       "       [1.],\n",
       "       [0.],\n",
       "       [4.],\n",
       "       [1.],\n",
       "       [0.],\n",
       "       [1.]])"
      ]
     },
     "execution_count": 81,
     "metadata": {},
     "output_type": "execute_result"
    }
   ],
   "source": [
    "ordinal_encoder = OrdinalEncoder()\n",
    "housing_cat_encoded = ordinal_encoder.fit_transform(housing_cat)\n",
    "housing_cat_encoded[:10]"
   ]
  },
  {
   "cell_type": "markdown",
   "metadata": {},
   "source": [
    "Such integer representation can, however, not be used directly with all scikit-learn estimators, as these expect continuous input, and would interpret the categories as being ordered, which is often not desired. A common workaround to this issue is to use a technique called **one-hot encoding**"
   ]
  },
  {
   "cell_type": "code",
   "execution_count": 82,
   "metadata": {},
   "outputs": [],
   "source": [
    "from sklearn.preprocessing import OneHotEncoder\n",
    "\n",
    "cat_encoder = OneHotEncoder()\n",
    "housing_cat_1hot = cat_encoder.fit_transform(housing_cat)"
   ]
  },
  {
   "cell_type": "markdown",
   "metadata": {},
   "source": [
    "By default, the `OneHotEncoder` class returns a sparse array, but we can convert it to a dense array if needed by calling the `toarray()` method:"
   ]
  },
  {
   "cell_type": "code",
   "execution_count": 83,
   "metadata": {},
   "outputs": [
    {
     "data": {
      "text/plain": [
       "array([[0., 0., 0., 1., 0.],\n",
       "       [1., 0., 0., 0., 0.],\n",
       "       [0., 1., 0., 0., 0.],\n",
       "       ...,\n",
       "       [0., 1., 0., 0., 0.],\n",
       "       [1., 0., 0., 0., 0.],\n",
       "       [0., 1., 0., 0., 0.]])"
      ]
     },
     "execution_count": 83,
     "metadata": {},
     "output_type": "execute_result"
    }
   ],
   "source": [
    "housing_cat_1hot.toarray()"
   ]
  },
  {
   "cell_type": "markdown",
   "metadata": {},
   "source": [
    "Alternatively, you can set `sparse=False` when creating the `OneHotEncoder`:"
   ]
  },
  {
   "cell_type": "code",
   "execution_count": 84,
   "metadata": {},
   "outputs": [
    {
     "data": {
      "text/plain": [
       "numpy.ndarray"
      ]
     },
     "execution_count": 84,
     "metadata": {},
     "output_type": "execute_result"
    }
   ],
   "source": [
    "cat_encoder = OneHotEncoder(sparse = False)\n",
    "housing_cat_1hot = cat_encoder.fit_transform(housing_cat)\n",
    "type(housing_cat_1hot)"
   ]
  },
  {
   "cell_type": "code",
   "execution_count": 85,
   "metadata": {},
   "outputs": [
    {
     "data": {
      "text/plain": [
       "[array(['<1H OCEAN', 'INLAND', 'ISLAND', 'NEAR BAY', 'NEAR OCEAN'],\n",
       "       dtype=object)]"
      ]
     },
     "execution_count": 85,
     "metadata": {},
     "output_type": "execute_result"
    }
   ],
   "source": [
    "cat_encoder.categories_"
   ]
  },
  {
   "cell_type": "markdown",
   "metadata": {},
   "source": [
    "## Attributes creation"
   ]
  },
  {
   "cell_type": "markdown",
   "metadata": {},
   "source": [
    "Let's create a new transformer to add extra attributes. All you need is to convert an existing Python function into a transformer to assist in data cleaning or processing. You can implement a transformer from an arbitrary function with the class **FunctionTransformer**"
   ]
  },
  {
   "cell_type": "code",
   "execution_count": 86,
   "metadata": {},
   "outputs": [
    {
     "data": {
      "text/plain": [
       "Index(['longitude', 'latitude', 'housing_median_age', 'total_rooms',\n",
       "       'total_bedrooms', 'population', 'households', 'median_income',\n",
       "       'ocean_proximity', 'income_cat'],\n",
       "      dtype='object')"
      ]
     },
     "execution_count": 86,
     "metadata": {},
     "output_type": "execute_result"
    }
   ],
   "source": [
    "housing.columns"
   ]
  },
  {
   "cell_type": "code",
   "execution_count": 87,
   "metadata": {},
   "outputs": [],
   "source": [
    "rooms_ix, bed_rooms_ix, population_ix, household_ix = [\n",
    "    list(housing.columns).index(col) for col in ['total_rooms','total_bedrooms','population','households']\n",
    "]\n",
    "\n",
    "def add_extra_features(X):\n",
    "    roomsXhouse = X[:, rooms_ix] / X[:, household_ix]\n",
    "    popXhouse = X[:,population_ix] / X[:,household_ix]\n",
    "    return np.c_[X,roomsXhouse, popXhouse]\n",
    "\n",
    "from sklearn.preprocessing import FunctionTransformer\n",
    "attr_adder = FunctionTransformer(add_extra_features, validate = False)\n",
    "\n",
    "housinhg_extra = attr_adder.fit_transform(housing.values)"
   ]
  },
  {
   "cell_type": "code",
   "execution_count": 88,
   "metadata": {},
   "outputs": [
    {
     "data": {
      "text/html": [
       "<div>\n",
       "<style scoped>\n",
       "    .dataframe tbody tr th:only-of-type {\n",
       "        vertical-align: middle;\n",
       "    }\n",
       "\n",
       "    .dataframe tbody tr th {\n",
       "        vertical-align: top;\n",
       "    }\n",
       "\n",
       "    .dataframe thead th {\n",
       "        text-align: right;\n",
       "    }\n",
       "</style>\n",
       "<table border=\"1\" class=\"dataframe\">\n",
       "  <thead>\n",
       "    <tr style=\"text-align: right;\">\n",
       "      <th></th>\n",
       "      <th>longitude</th>\n",
       "      <th>latitude</th>\n",
       "      <th>housing_median_age</th>\n",
       "      <th>total_rooms</th>\n",
       "      <th>total_bedrooms</th>\n",
       "      <th>population</th>\n",
       "      <th>households</th>\n",
       "      <th>median_income</th>\n",
       "      <th>ocean_proximity</th>\n",
       "      <th>income_cat</th>\n",
       "      <th>a</th>\n",
       "      <th>b</th>\n",
       "    </tr>\n",
       "  </thead>\n",
       "  <tbody>\n",
       "    <tr>\n",
       "      <th>0</th>\n",
       "      <td>-122.47</td>\n",
       "      <td>37.79</td>\n",
       "      <td>52.0</td>\n",
       "      <td>437.0</td>\n",
       "      <td>105.0</td>\n",
       "      <td>194.0</td>\n",
       "      <td>87.0</td>\n",
       "      <td>2.8125</td>\n",
       "      <td>NEAR BAY</td>\n",
       "      <td>Low</td>\n",
       "      <td>5.022989</td>\n",
       "      <td>2.229885</td>\n",
       "    </tr>\n",
       "    <tr>\n",
       "      <th>1</th>\n",
       "      <td>-121.82</td>\n",
       "      <td>37.33</td>\n",
       "      <td>23.0</td>\n",
       "      <td>3279.0</td>\n",
       "      <td>647.0</td>\n",
       "      <td>2582.0</td>\n",
       "      <td>630.0</td>\n",
       "      <td>4.3782</td>\n",
       "      <td>&lt;1H OCEAN</td>\n",
       "      <td>Medium</td>\n",
       "      <td>5.204762</td>\n",
       "      <td>4.098413</td>\n",
       "    </tr>\n",
       "    <tr>\n",
       "      <th>2</th>\n",
       "      <td>-120.38</td>\n",
       "      <td>36.76</td>\n",
       "      <td>25.0</td>\n",
       "      <td>991.0</td>\n",
       "      <td>272.0</td>\n",
       "      <td>941.0</td>\n",
       "      <td>262.0</td>\n",
       "      <td>1.8125</td>\n",
       "      <td>INLAND</td>\n",
       "      <td>Low</td>\n",
       "      <td>3.782443</td>\n",
       "      <td>3.591603</td>\n",
       "    </tr>\n",
       "    <tr>\n",
       "      <th>3</th>\n",
       "      <td>-119.71</td>\n",
       "      <td>36.76</td>\n",
       "      <td>28.0</td>\n",
       "      <td>2675.0</td>\n",
       "      <td>527.0</td>\n",
       "      <td>1392.0</td>\n",
       "      <td>521.0</td>\n",
       "      <td>2.3108</td>\n",
       "      <td>INLAND</td>\n",
       "      <td>Low</td>\n",
       "      <td>5.134357</td>\n",
       "      <td>2.671785</td>\n",
       "    </tr>\n",
       "    <tr>\n",
       "      <th>4</th>\n",
       "      <td>-119.76</td>\n",
       "      <td>36.77</td>\n",
       "      <td>36.0</td>\n",
       "      <td>2507.0</td>\n",
       "      <td>466.0</td>\n",
       "      <td>1227.0</td>\n",
       "      <td>474.0</td>\n",
       "      <td>2.785</td>\n",
       "      <td>INLAND</td>\n",
       "      <td>Low</td>\n",
       "      <td>5.28903</td>\n",
       "      <td>2.588608</td>\n",
       "    </tr>\n",
       "  </tbody>\n",
       "</table>\n",
       "</div>"
      ],
      "text/plain": [
       "  longitude latitude housing_median_age total_rooms total_bedrooms population  \\\n",
       "0   -122.47    37.79               52.0       437.0          105.0      194.0   \n",
       "1   -121.82    37.33               23.0      3279.0          647.0     2582.0   \n",
       "2   -120.38    36.76               25.0       991.0          272.0      941.0   \n",
       "3   -119.71    36.76               28.0      2675.0          527.0     1392.0   \n",
       "4   -119.76    36.77               36.0      2507.0          466.0     1227.0   \n",
       "\n",
       "  households median_income ocean_proximity income_cat         a         b  \n",
       "0       87.0        2.8125        NEAR BAY        Low  5.022989  2.229885  \n",
       "1      630.0        4.3782       <1H OCEAN     Medium  5.204762  4.098413  \n",
       "2      262.0        1.8125          INLAND        Low  3.782443  3.591603  \n",
       "3      521.0        2.3108          INLAND        Low  5.134357  2.671785  \n",
       "4      474.0         2.785          INLAND        Low   5.28903  2.588608  "
      ]
     },
     "execution_count": 88,
     "metadata": {},
     "output_type": "execute_result"
    }
   ],
   "source": [
    "housinhg_extra_df = pd.DataFrame(housinhg_extra,\n",
    "                                columns = list(housing.columns)+['a','b'])\n",
    "housinhg_extra_df.head()"
   ]
  },
  {
   "cell_type": "markdown",
   "metadata": {},
   "source": [
    "## Attribute or feature scaling\n",
    "\n",
    "ML algorithms don't perform well when the numerical attributes have very different scales. Two classes to report all the attributes to the same scale:\n",
    "\n",
    "- **Mix-max scaling**: SkLearn provides the transformer **MinMaxScaler**\n",
    "- **Standardization**: SkLearn provides the transformer **StandardScaler**"
   ]
  },
  {
   "cell_type": "markdown",
   "metadata": {},
   "source": [
    "## Transformation Pipeline\n",
    "\n",
    "Since there are many transformation steps that need to be executed in the right order, need a way to automatically create this sequence of transformation. SkLearn provides the **Pipeline** class. This class takes an arbitrary number of SkLearn transformers, as a list of name/estimator pairs. When you call the method _fit()_, it runs the method *fit_transform()* of each element in list, sequentially"
   ]
  },
  {
   "cell_type": "markdown",
   "metadata": {},
   "source": [
    "Now let's build a pipeline for preprocessing the numerical attributes:"
   ]
  },
  {
   "cell_type": "code",
   "execution_count": 89,
   "metadata": {},
   "outputs": [],
   "source": [
    "from sklearn.pipeline import Pipeline\n",
    "from sklearn.preprocessing import StandardScaler\n",
    "\n",
    "num_pipeline = Pipeline([\n",
    "    ('imputer', SimpleImputer(strategy = 'median')),\n",
    "    ('attribs_adder', FunctionTransformer(add_extra_features, validate=False)),\n",
    "    ('std_scaler', StandardScaler())\n",
    "])\n",
    "\n",
    "housing_num_tr = num_pipeline.fit_transform(housing_num)"
   ]
  },
  {
   "cell_type": "code",
   "execution_count": 90,
   "metadata": {},
   "outputs": [
    {
     "data": {
      "text/plain": [
       "(16512, 10)"
      ]
     },
     "execution_count": 90,
     "metadata": {},
     "output_type": "execute_result"
    }
   ],
   "source": [
    "housing_num_tr.shape"
   ]
  },
  {
   "cell_type": "markdown",
   "metadata": {},
   "source": [
    "If you have a Pandas DataFrame it is now preferable to use the **ColumnTransformer** class that was introduced in SkLearn 0.20."
   ]
  },
  {
   "cell_type": "code",
   "execution_count": 91,
   "metadata": {},
   "outputs": [],
   "source": [
    "from sklearn.compose import ColumnTransformer"
   ]
  },
  {
   "cell_type": "code",
   "execution_count": 92,
   "metadata": {},
   "outputs": [],
   "source": [
    "num_attribs = list(housing_num)\n",
    "cat_attribs = ['ocean_proximity']\n",
    "\n",
    "full_pipeline = ColumnTransformer([\n",
    "    ('num', num_pipeline, num_attribs),\n",
    "    ('cat', OneHotEncoder(), cat_attribs)\n",
    "])\n",
    "\n",
    "housing_final = full_pipeline.fit_transform(housing)"
   ]
  },
  {
   "cell_type": "code",
   "execution_count": 93,
   "metadata": {},
   "outputs": [
    {
     "data": {
      "text/plain": [
       "((16512, 15), (16512, 10))"
      ]
     },
     "execution_count": 93,
     "metadata": {},
     "output_type": "execute_result"
    }
   ],
   "source": [
    "housing_final.shape, housing.values.shape"
   ]
  },
  {
   "cell_type": "markdown",
   "metadata": {},
   "source": [
    "# Extra material"
   ]
  },
  {
   "cell_type": "markdown",
   "metadata": {},
   "source": [
    "## Model persistence using joblib"
   ]
  },
  {
   "cell_type": "code",
   "execution_count": 94,
   "metadata": {},
   "outputs": [],
   "source": [
    "my_model = full_pipeline"
   ]
  },
  {
   "cell_type": "code",
   "execution_count": 95,
   "metadata": {},
   "outputs": [],
   "source": [
    "#from sklearn.externals import joblib\n",
    "import joblib\n",
    "joblib.dump(my_model, \"full_pipeline.pkl\") # DIFF\n",
    "my_model_loaded = joblib.load(\"full_pipeline.pkl\") # DIFF"
   ]
  },
  {
   "cell_type": "code",
   "execution_count": 96,
   "metadata": {},
   "outputs": [
    {
     "data": {
      "text/plain": [
       "ColumnTransformer(transformers=[('num',\n",
       "                                 Pipeline(steps=[('imputer',\n",
       "                                                  SimpleImputer(strategy='median')),\n",
       "                                                 ('attribs_adder',\n",
       "                                                  FunctionTransformer(func=<function add_extra_features at 0x7ffae9462670>)),\n",
       "                                                 ('std_scaler',\n",
       "                                                  StandardScaler())]),\n",
       "                                 ['longitude', 'latitude', 'housing_median_age',\n",
       "                                  'total_rooms', 'total_bedrooms', 'population',\n",
       "                                  'households', 'median_income']),\n",
       "                                ('cat', OneHotEncoder(), ['ocean_proximity'])])"
      ]
     },
     "execution_count": 96,
     "metadata": {},
     "output_type": "execute_result"
    }
   ],
   "source": [
    "my_model_loaded "
   ]
  },
  {
   "cell_type": "code",
   "execution_count": 97,
   "metadata": {},
   "outputs": [],
   "source": [
    "import pandas as pd \n",
    "import pickle"
   ]
  },
  {
   "cell_type": "code",
   "execution_count": 98,
   "metadata": {},
   "outputs": [
    {
     "name": "stdout",
     "output_type": "stream",
     "text": [
      "convert: csv -> pkl\n"
     ]
    },
    {
     "data": {
      "text/html": [
       "<div>\n",
       "<style scoped>\n",
       "    .dataframe tbody tr th:only-of-type {\n",
       "        vertical-align: middle;\n",
       "    }\n",
       "\n",
       "    .dataframe tbody tr th {\n",
       "        vertical-align: top;\n",
       "    }\n",
       "\n",
       "    .dataframe thead th {\n",
       "        text-align: right;\n",
       "    }\n",
       "</style>\n",
       "<table border=\"1\" class=\"dataframe\">\n",
       "  <thead>\n",
       "    <tr style=\"text-align: right;\">\n",
       "      <th></th>\n",
       "      <th>Bicicletta</th>\n",
       "      <th>Tipo_bici</th>\n",
       "      <th>Cliente</th>\n",
       "      <th>Data_riferimento_prelievo</th>\n",
       "      <th>Data_prelievo</th>\n",
       "      <th>Ora_prelievo</th>\n",
       "      <th>Giorno_prelievo</th>\n",
       "      <th>Mese_prelievo</th>\n",
       "      <th>Anno_prelievo</th>\n",
       "      <th>GMA_prelievo</th>\n",
       "      <th>...</th>\n",
       "      <th>Precipitazioni_GA</th>\n",
       "      <th>Press_atm_GA</th>\n",
       "      <th>Pm10_GP</th>\n",
       "      <th>Pm25_GP</th>\n",
       "      <th>No2_mean_GP</th>\n",
       "      <th>Co_mean_GP</th>\n",
       "      <th>Pm10_GA</th>\n",
       "      <th>Pm25_GA</th>\n",
       "      <th>No2_mean_GA</th>\n",
       "      <th>Co_mean_GA</th>\n",
       "    </tr>\n",
       "  </thead>\n",
       "  <tbody>\n",
       "    <tr>\n",
       "      <th>0</th>\n",
       "      <td>7486</td>\n",
       "      <td>Bike</td>\n",
       "      <td>141116</td>\n",
       "      <td>01/01/18</td>\n",
       "      <td>01/01/18 07:18</td>\n",
       "      <td>7</td>\n",
       "      <td>1</td>\n",
       "      <td>1</td>\n",
       "      <td>2018</td>\n",
       "      <td>112018</td>\n",
       "      <td>...</td>\n",
       "      <td>Yes</td>\n",
       "      <td>1012</td>\n",
       "      <td>39</td>\n",
       "      <td>38</td>\n",
       "      <td>40.1</td>\n",
       "      <td>0.9</td>\n",
       "      <td>39</td>\n",
       "      <td>38</td>\n",
       "      <td>40.1</td>\n",
       "      <td>0.9</td>\n",
       "    </tr>\n",
       "    <tr>\n",
       "      <th>1</th>\n",
       "      <td>8279</td>\n",
       "      <td>Bike</td>\n",
       "      <td>265468</td>\n",
       "      <td>01/01/18</td>\n",
       "      <td>01/01/18 07:35</td>\n",
       "      <td>7</td>\n",
       "      <td>1</td>\n",
       "      <td>1</td>\n",
       "      <td>2018</td>\n",
       "      <td>112018</td>\n",
       "      <td>...</td>\n",
       "      <td>Yes</td>\n",
       "      <td>1012</td>\n",
       "      <td>39</td>\n",
       "      <td>38</td>\n",
       "      <td>40.1</td>\n",
       "      <td>0.9</td>\n",
       "      <td>39</td>\n",
       "      <td>38</td>\n",
       "      <td>40.1</td>\n",
       "      <td>0.9</td>\n",
       "    </tr>\n",
       "    <tr>\n",
       "      <th>2</th>\n",
       "      <td>1284</td>\n",
       "      <td>Bike</td>\n",
       "      <td>232605</td>\n",
       "      <td>01/01/18</td>\n",
       "      <td>01/01/18 07:49</td>\n",
       "      <td>7</td>\n",
       "      <td>1</td>\n",
       "      <td>1</td>\n",
       "      <td>2018</td>\n",
       "      <td>112018</td>\n",
       "      <td>...</td>\n",
       "      <td>Yes</td>\n",
       "      <td>1012</td>\n",
       "      <td>39</td>\n",
       "      <td>38</td>\n",
       "      <td>40.1</td>\n",
       "      <td>0.9</td>\n",
       "      <td>39</td>\n",
       "      <td>38</td>\n",
       "      <td>40.1</td>\n",
       "      <td>0.9</td>\n",
       "    </tr>\n",
       "    <tr>\n",
       "      <th>3</th>\n",
       "      <td>7411</td>\n",
       "      <td>Bike</td>\n",
       "      <td>21489</td>\n",
       "      <td>01/01/18</td>\n",
       "      <td>01/01/18 07:56</td>\n",
       "      <td>7</td>\n",
       "      <td>1</td>\n",
       "      <td>1</td>\n",
       "      <td>2018</td>\n",
       "      <td>112018</td>\n",
       "      <td>...</td>\n",
       "      <td>Yes</td>\n",
       "      <td>1012</td>\n",
       "      <td>39</td>\n",
       "      <td>38</td>\n",
       "      <td>40.1</td>\n",
       "      <td>0.9</td>\n",
       "      <td>39</td>\n",
       "      <td>38</td>\n",
       "      <td>40.1</td>\n",
       "      <td>0.9</td>\n",
       "    </tr>\n",
       "    <tr>\n",
       "      <th>4</th>\n",
       "      <td>1730</td>\n",
       "      <td>Bike</td>\n",
       "      <td>220370</td>\n",
       "      <td>01/01/18</td>\n",
       "      <td>01/01/18 07:58</td>\n",
       "      <td>7</td>\n",
       "      <td>1</td>\n",
       "      <td>1</td>\n",
       "      <td>2018</td>\n",
       "      <td>112018</td>\n",
       "      <td>...</td>\n",
       "      <td>Yes</td>\n",
       "      <td>1012</td>\n",
       "      <td>39</td>\n",
       "      <td>38</td>\n",
       "      <td>40.1</td>\n",
       "      <td>0.9</td>\n",
       "      <td>39</td>\n",
       "      <td>38</td>\n",
       "      <td>40.1</td>\n",
       "      <td>0.9</td>\n",
       "    </tr>\n",
       "    <tr>\n",
       "      <th>...</th>\n",
       "      <td>...</td>\n",
       "      <td>...</td>\n",
       "      <td>...</td>\n",
       "      <td>...</td>\n",
       "      <td>...</td>\n",
       "      <td>...</td>\n",
       "      <td>...</td>\n",
       "      <td>...</td>\n",
       "      <td>...</td>\n",
       "      <td>...</td>\n",
       "      <td>...</td>\n",
       "      <td>...</td>\n",
       "      <td>...</td>\n",
       "      <td>...</td>\n",
       "      <td>...</td>\n",
       "      <td>...</td>\n",
       "      <td>...</td>\n",
       "      <td>...</td>\n",
       "      <td>...</td>\n",
       "      <td>...</td>\n",
       "      <td>...</td>\n",
       "    </tr>\n",
       "    <tr>\n",
       "      <th>250156</th>\n",
       "      <td>7780</td>\n",
       "      <td>Bike</td>\n",
       "      <td>308325</td>\n",
       "      <td>31/01/18</td>\n",
       "      <td>01/02/18 00:37</td>\n",
       "      <td>0</td>\n",
       "      <td>1</td>\n",
       "      <td>2</td>\n",
       "      <td>2018</td>\n",
       "      <td>122018</td>\n",
       "      <td>...</td>\n",
       "      <td>Yes</td>\n",
       "      <td>1005</td>\n",
       "      <td>35</td>\n",
       "      <td>29</td>\n",
       "      <td>44.0</td>\n",
       "      <td>0.7</td>\n",
       "      <td>35</td>\n",
       "      <td>29</td>\n",
       "      <td>44.0</td>\n",
       "      <td>0.7</td>\n",
       "    </tr>\n",
       "    <tr>\n",
       "      <th>250157</th>\n",
       "      <td>3562</td>\n",
       "      <td>Bike</td>\n",
       "      <td>163545</td>\n",
       "      <td>31/01/18</td>\n",
       "      <td>01/02/18 00:42</td>\n",
       "      <td>0</td>\n",
       "      <td>1</td>\n",
       "      <td>2</td>\n",
       "      <td>2018</td>\n",
       "      <td>122018</td>\n",
       "      <td>...</td>\n",
       "      <td>Yes</td>\n",
       "      <td>1005</td>\n",
       "      <td>35</td>\n",
       "      <td>29</td>\n",
       "      <td>44.0</td>\n",
       "      <td>0.7</td>\n",
       "      <td>35</td>\n",
       "      <td>29</td>\n",
       "      <td>44.0</td>\n",
       "      <td>0.7</td>\n",
       "    </tr>\n",
       "    <tr>\n",
       "      <th>250158</th>\n",
       "      <td>11108</td>\n",
       "      <td>eBike</td>\n",
       "      <td>81098</td>\n",
       "      <td>31/01/18</td>\n",
       "      <td>01/02/18 00:52</td>\n",
       "      <td>0</td>\n",
       "      <td>1</td>\n",
       "      <td>2</td>\n",
       "      <td>2018</td>\n",
       "      <td>122018</td>\n",
       "      <td>...</td>\n",
       "      <td>Yes</td>\n",
       "      <td>1005</td>\n",
       "      <td>35</td>\n",
       "      <td>29</td>\n",
       "      <td>44.0</td>\n",
       "      <td>0.7</td>\n",
       "      <td>35</td>\n",
       "      <td>29</td>\n",
       "      <td>44.0</td>\n",
       "      <td>0.7</td>\n",
       "    </tr>\n",
       "    <tr>\n",
       "      <th>250159</th>\n",
       "      <td>7828</td>\n",
       "      <td>Bike</td>\n",
       "      <td>17302</td>\n",
       "      <td>31/01/18</td>\n",
       "      <td>01/02/18 00:58</td>\n",
       "      <td>0</td>\n",
       "      <td>1</td>\n",
       "      <td>2</td>\n",
       "      <td>2018</td>\n",
       "      <td>122018</td>\n",
       "      <td>...</td>\n",
       "      <td>Yes</td>\n",
       "      <td>1005</td>\n",
       "      <td>35</td>\n",
       "      <td>29</td>\n",
       "      <td>44.0</td>\n",
       "      <td>0.7</td>\n",
       "      <td>35</td>\n",
       "      <td>29</td>\n",
       "      <td>44.0</td>\n",
       "      <td>0.7</td>\n",
       "    </tr>\n",
       "    <tr>\n",
       "      <th>250160</th>\n",
       "      <td>6992</td>\n",
       "      <td>Bike</td>\n",
       "      <td>234044</td>\n",
       "      <td>31/01/18</td>\n",
       "      <td>01/02/18 00:59</td>\n",
       "      <td>0</td>\n",
       "      <td>1</td>\n",
       "      <td>2</td>\n",
       "      <td>2018</td>\n",
       "      <td>122018</td>\n",
       "      <td>...</td>\n",
       "      <td>Yes</td>\n",
       "      <td>1005</td>\n",
       "      <td>35</td>\n",
       "      <td>29</td>\n",
       "      <td>44.0</td>\n",
       "      <td>0.7</td>\n",
       "      <td>35</td>\n",
       "      <td>29</td>\n",
       "      <td>44.0</td>\n",
       "      <td>0.7</td>\n",
       "    </tr>\n",
       "  </tbody>\n",
       "</table>\n",
       "<p>250161 rows × 52 columns</p>\n",
       "</div>"
      ],
      "text/plain": [
       "        Bicicletta Tipo_bici  Cliente Data_riferimento_prelievo  \\\n",
       "0             7486      Bike   141116                  01/01/18   \n",
       "1             8279      Bike   265468                  01/01/18   \n",
       "2             1284      Bike   232605                  01/01/18   \n",
       "3             7411      Bike    21489                  01/01/18   \n",
       "4             1730      Bike   220370                  01/01/18   \n",
       "...            ...       ...      ...                       ...   \n",
       "250156        7780      Bike   308325                  31/01/18   \n",
       "250157        3562      Bike   163545                  31/01/18   \n",
       "250158       11108     eBike    81098                  31/01/18   \n",
       "250159        7828      Bike    17302                  31/01/18   \n",
       "250160        6992      Bike   234044                  31/01/18   \n",
       "\n",
       "         Data_prelievo  Ora_prelievo  Giorno_prelievo  Mese_prelievo  \\\n",
       "0       01/01/18 07:18             7                1              1   \n",
       "1       01/01/18 07:35             7                1              1   \n",
       "2       01/01/18 07:49             7                1              1   \n",
       "3       01/01/18 07:56             7                1              1   \n",
       "4       01/01/18 07:58             7                1              1   \n",
       "...                ...           ...              ...            ...   \n",
       "250156  01/02/18 00:37             0                1              2   \n",
       "250157  01/02/18 00:42             0                1              2   \n",
       "250158  01/02/18 00:52             0                1              2   \n",
       "250159  01/02/18 00:58             0                1              2   \n",
       "250160  01/02/18 00:59             0                1              2   \n",
       "\n",
       "        Anno_prelievo  GMA_prelievo  ...  Precipitazioni_GA  Press_atm_GA  \\\n",
       "0                2018        112018  ...                Yes          1012   \n",
       "1                2018        112018  ...                Yes          1012   \n",
       "2                2018        112018  ...                Yes          1012   \n",
       "3                2018        112018  ...                Yes          1012   \n",
       "4                2018        112018  ...                Yes          1012   \n",
       "...               ...           ...  ...                ...           ...   \n",
       "250156           2018        122018  ...                Yes          1005   \n",
       "250157           2018        122018  ...                Yes          1005   \n",
       "250158           2018        122018  ...                Yes          1005   \n",
       "250159           2018        122018  ...                Yes          1005   \n",
       "250160           2018        122018  ...                Yes          1005   \n",
       "\n",
       "        Pm10_GP  Pm25_GP No2_mean_GP  Co_mean_GP Pm10_GA Pm25_GA  No2_mean_GA  \\\n",
       "0            39       38        40.1         0.9      39      38         40.1   \n",
       "1            39       38        40.1         0.9      39      38         40.1   \n",
       "2            39       38        40.1         0.9      39      38         40.1   \n",
       "3            39       38        40.1         0.9      39      38         40.1   \n",
       "4            39       38        40.1         0.9      39      38         40.1   \n",
       "...         ...      ...         ...         ...     ...     ...          ...   \n",
       "250156       35       29        44.0         0.7      35      29         44.0   \n",
       "250157       35       29        44.0         0.7      35      29         44.0   \n",
       "250158       35       29        44.0         0.7      35      29         44.0   \n",
       "250159       35       29        44.0         0.7      35      29         44.0   \n",
       "250160       35       29        44.0         0.7      35      29         44.0   \n",
       "\n",
       "        Co_mean_GA  \n",
       "0              0.9  \n",
       "1              0.9  \n",
       "2              0.9  \n",
       "3              0.9  \n",
       "4              0.9  \n",
       "...            ...  \n",
       "250156         0.7  \n",
       "250157         0.7  \n",
       "250158         0.7  \n",
       "250159         0.7  \n",
       "250160         0.7  \n",
       "\n",
       "[250161 rows x 52 columns]"
      ]
     },
     "execution_count": 98,
     "metadata": {},
     "output_type": "execute_result"
    }
   ],
   "source": [
    "print ('convert: csv -> pkl')\n",
    "datimaggio18 = pd.read_csv('/Users/giancarlomanzi/Documents/Box Sync BackUp PC Lavoro 24062015/documenti/Ricerca/ALTERNATIVE ERASMUS PROJECT/NUOVO PROGETTO DI VISITING/Lectures/Topic 2 - Introduction to Python and the Anaconda-Jupyter environment - 3 hours/01_2018.csv', delimiter=';', header=0, encoding='mac_roman')\n",
    "datimaggio18"
   ]
  },
  {
   "cell_type": "code",
   "execution_count": 99,
   "metadata": {},
   "outputs": [],
   "source": [
    "pickle.dump(datimaggio18, open(\"datimaggio18.pkl\", \"wb\"))"
   ]
  },
  {
   "cell_type": "code",
   "execution_count": 100,
   "metadata": {},
   "outputs": [],
   "source": [
    "bikemi = pd.read_pickle('datimaggio18.pkl'.format(5,2018))"
   ]
  },
  {
   "cell_type": "code",
   "execution_count": 103,
   "metadata": {},
   "outputs": [
    {
     "name": "stdout",
     "output_type": "stream",
     "text": [
      "Number of rents\n"
     ]
    },
    {
     "data": {
      "text/plain": [
       "250161"
      ]
     },
     "execution_count": 103,
     "metadata": {},
     "output_type": "execute_result"
    }
   ],
   "source": [
    "print('Number of rents')\n",
    "len(bikemi)"
   ]
  },
  {
   "cell_type": "code",
   "execution_count": 102,
   "metadata": {},
   "outputs": [
    {
     "data": {
      "text/plain": [
       "24944"
      ]
     },
     "execution_count": 102,
     "metadata": {},
     "output_type": "execute_result"
    }
   ],
   "source": [
    "bikemi['Cliente'].nunique()"
   ]
  },
  {
   "cell_type": "markdown",
   "metadata": {},
   "source": [
    "# Let's see a bit of statistical visualization tools"
   ]
  },
  {
   "cell_type": "code",
   "execution_count": 104,
   "metadata": {},
   "outputs": [
    {
     "data": {
      "text/plain": [
       "Text(0.5, 1.0, 'Probability mass function of a Poisson random variable with different $\\\\lambda$ values')"
      ]
     },
     "execution_count": 104,
     "metadata": {},
     "output_type": "execute_result"
    },
    {
     "data": {
      "image/png": "[encoded data removed]",
      "text/plain": [
       "<Figure size 900x288 with 1 Axes>"
      ]
     },
     "metadata": {
      "needs_background": "light"
     },
     "output_type": "display_data"
    }
   ],
   "source": [
    "%matplotlib inline\n",
    "from IPython.core.pylabtools import figsize\n",
    "import numpy as np\n",
    "from matplotlib import pyplot as plt\n",
    "figsize(12.5, 4)\n",
    "\n",
    "import scipy.stats as stats\n",
    "a = np.arange(16)\n",
    "poi = stats.poisson\n",
    "lambda_ = [1.5, 4.25]\n",
    "colours = [\"#348ABD\", \"#A60628\"]\n",
    "\n",
    "plt.bar(a, poi.pmf(a, lambda_[0]), color=colours[0],\n",
    "        label=\"$\\lambda = %.1f$\" % lambda_[0], alpha=0.60,\n",
    "        edgecolor=colours[0], lw=\"3\")\n",
    "\n",
    "plt.bar(a, poi.pmf(a, lambda_[1]), color=colours[1],\n",
    "        label=\"$\\lambda = %.1f$\" % lambda_[1], alpha=0.60,\n",
    "        edgecolor=colours[1], lw=\"3\")\n",
    "\n",
    "plt.xticks(a + 0.4, a)\n",
    "plt.legend()\n",
    "plt.ylabel(\"probability of $k$\")\n",
    "plt.xlabel(\"$k$\")\n",
    "plt.title(\"Probability mass function of a Poisson random variable with different \\\n",
    "$\\lambda$ values\")"
   ]
  },
  {
   "cell_type": "code",
   "execution_count": 105,
   "metadata": {},
   "outputs": [
    {
     "data": {
      "image/png": "[encoded data removed]",
      "text/plain": [
       "<Figure size 900x288 with 1 Axes>"
      ]
     },
     "metadata": {
      "needs_background": "light"
     },
     "output_type": "display_data"
    }
   ],
   "source": [
    "a = np.linspace(0, 4, 100)\n",
    "expo = stats.expon\n",
    "lambda_ = [0.5, 1]\n",
    "\n",
    "for l, c in zip(lambda_, colours):\n",
    "    plt.plot(a, expo.pdf(a, scale=1. / l), lw=3,\n",
    "             color=c, label=\"$\\lambda = %.1f$\" % l)\n",
    "    plt.fill_between(a, expo.pdf(a, scale=1. / l), color=c, alpha=.33)\n",
    "\n",
    "plt.legend()\n",
    "plt.ylabel(\"PDF at $z$\")\n",
    "plt.xlabel(\"$z$\")\n",
    "plt.ylim(0, 1.2)\n",
    "plt.title(\"Probability density function of an Exponential random variable;\\\n",
    " differing $\\lambda$\");"
   ]
  },
  {
   "cell_type": "code",
   "execution_count": 107,
   "metadata": {},
   "outputs": [
    {
     "data": {
      "image/png": "[encoded data removed]",
      "text/plain": [
       "<Figure size 900x252 with 1 Axes>"
      ]
     },
     "metadata": {
      "needs_background": "light"
     },
     "output_type": "display_data"
    }
   ],
   "source": [
    "figsize(12.5, 3.5)\n",
    "count_data = np.loadtxt(\"/Users/giancarlomanzi/Documents/Box Sync BackUp PC Lavoro 24062015/documenti/Ricerca/ALTERNATIVE ERASMUS PROJECT/NUOVO PROGETTO DI VISITING/Lectures/Topic 2 - Introduction to Python and the Anaconda-Jupyter environment - 3 hours/txtdata.csv\")\n",
    "n_count_data = len(count_data)\n",
    "plt.bar(np.arange(n_count_data), count_data, color=\"#348ABD\")\n",
    "plt.xlabel(\"Time (days)\")\n",
    "plt.ylabel(\"count of text-msgs received\")\n",
    "plt.title(\"Did the user's texting habits change over time?\")\n",
    "plt.xlim(0, n_count_data);"
   ]
  },
  {
   "cell_type": "markdown",
   "metadata": {},
   "source": [
    "## Pipelines in scikit-learn (1)\n",
    "\n",
    "- We spent a lot of time in pre-processing and cleaning data\n",
    "- Therefore we need to create multipurpose software objects to be used in diffirent situations.\n",
    "- For this we can use the Pipeline tool in scikit-learn.\n",
    "- It is composed by *transformers* (tools for transforming data, for example to normalize a variable) and *estimators* (for example a fitting or predicting tool).\n",
    "- All transformers and estimators in scikit-learn are implemented as Python *classes*, each with their own attributes and methods.\n",
    "- We use *inherited* classes from scikit-learn to implement our own class."
   ]
  },
  {
   "cell_type": "markdown",
   "metadata": {},
   "source": [
    "<img src=\"Pipeline.png\" width=\"500\">"
   ]
  },
  {
   "cell_type": "code",
   "execution_count": 63,
   "metadata": {},
   "outputs": [],
   "source": [
    "# Example of inheritance\n",
    "from sklearn.preprocessing import OneHotEncoder \n",
    "#Some data:\n",
    "X = [[0, 0, 3], [1, 1, 0], [0, 2, 1], [1, 0, 2]]\n",
    "#Initializing an object of class OneHotEncoder\n",
    "# Here we are \"inheriting\" classes from OneHotEncoder into the variable 'one_hot_enc'\n",
    "one_hot_enc = OneHotEncoder( sparse = True )\n",
    "\n",
    "#Calling methods on our OneHotEncoder object\n",
    "one_hot_enc.fit( X ) #returns nothing\n",
    "transformed_data = one_hot_enc.transform(X).toarray() #returns something\n",
    "#fit_transformed_data = one_hot_enc.transform( X ) #returns something"
   ]
  },
  {
   "cell_type": "code",
   "execution_count": 64,
   "metadata": {},
   "outputs": [
    {
     "name": "stdout",
     "output_type": "stream",
     "text": [
      "   0  1  2\n",
      "0  0  0  3\n",
      "1  1  1  0\n",
      "2  0  2  1\n",
      "3  1  0  2\n"
     ]
    }
   ],
   "source": [
    "print(pd.DataFrame(X))\n",
    "#Comments: The first column takes on 2 values, the second 3 and the fourth 4"
   ]
  },
  {
   "cell_type": "code",
   "execution_count": 65,
   "metadata": {
    "scrolled": true
   },
   "outputs": [
    {
     "name": "stdout",
     "output_type": "stream",
     "text": [
      "[[1. 0. 1. 0. 0. 0. 0. 0. 1.]\n",
      " [0. 1. 0. 1. 0. 1. 0. 0. 0.]\n",
      " [1. 0. 0. 0. 1. 0. 1. 0. 0.]\n",
      " [0. 1. 1. 0. 0. 0. 0. 1. 0.]]\n"
     ]
    }
   ],
   "source": [
    "print(transformed_data)\n",
    "#Comments: the first two columns express the binary coding of the first \"feature\"; \n",
    "# the next three columns express the binary coding of the second \"feature\";\n",
    "# The next four columns express the binary coding of the third \"feature\";"
   ]
  },
  {
   "cell_type": "markdown",
   "metadata": {},
   "source": [
    "## Pipelines in scikit-learn (2)\n",
    "\n",
    "- Our own trasformer will be formed by inheriting from some other scikit-learn class.\n",
    "- See a tutorial here https://www.programiz.com/python-programming/class about classes and objects in python and a tutorial here https://www.programiz.com/python-programming/inheritance about inheritance.\n",
    "- The base classes inherited from scikit-learn are TransformerMixin (https://scikit-learn.org/stable/modules/generated/sklearn.base.TransformerMixin.html) and BaseEstimator (https://scikit-learn.org/stable/modules/generated/sklearn.base.BaseEstimator.html)."
   ]
  },
  {
   "cell_type": "code",
   "execution_count": 66,
   "metadata": {},
   "outputs": [],
   "source": [
    "import numpy as np\n",
    "import pandas as pd"
   ]
  },
  {
   "cell_type": "code",
   "execution_count": 67,
   "metadata": {},
   "outputs": [
    {
     "data": {
      "text/html": [
       "<div>\n",
       "<style scoped>\n",
       "    .dataframe tbody tr th:only-of-type {\n",
       "        vertical-align: middle;\n",
       "    }\n",
       "\n",
       "    .dataframe tbody tr th {\n",
       "        vertical-align: top;\n",
       "    }\n",
       "\n",
       "    .dataframe thead th {\n",
       "        text-align: right;\n",
       "    }\n",
       "</style>\n",
       "<table border=\"1\" class=\"dataframe\">\n",
       "  <thead>\n",
       "    <tr style=\"text-align: right;\">\n",
       "      <th></th>\n",
       "      <th>v1</th>\n",
       "      <th>v2</th>\n",
       "    </tr>\n",
       "  </thead>\n",
       "  <tbody>\n",
       "    <tr>\n",
       "      <th>0</th>\n",
       "      <td>positive</td>\n",
       "      <td>When I had problems with the return of the bike, the assistance was very kind, but could not solve the problem quickly nor prevent me from being charged for the rental because I had exceeded half an hour (not because of the route I took carried out, but due to the impossibility of hanging up the bike in 2 different stations). It would be desirable to be able to solve problems more efficiently or at least not to charge the user in the event of a reported malfunction. For the rest, when the service works, it's really practical and useful.\\t</td>\n",
       "    </tr>\n",
       "    <tr>\n",
       "      <th>1</th>\n",
       "      <td>positive</td>\n",
       "      <td>more electric bikes. often even if present they are not available when there are few, why?\\t</td>\n",
       "    </tr>\n",
       "    <tr>\n",
       "      <th>2</th>\n",
       "      <td>negative</td>\n",
       "      <td>pay more attention to stations that very often are without bicycles or full and do not allow their repositioning\\t</td>\n",
       "    </tr>\n",
       "    <tr>\n",
       "      <th>3</th>\n",
       "      <td>positive</td>\n",
       "      <td>essential to insert bikes with child seats\\t</td>\n",
       "    </tr>\n",
       "    <tr>\n",
       "      <th>4</th>\n",
       "      <td>positive</td>\n",
       "      <td>extension completed at train and metro stations not yet served\\t</td>\n",
       "    </tr>\n",
       "    <tr>\n",
       "      <th>...</th>\n",
       "      <td>...</td>\n",
       "      <td>...</td>\n",
       "    </tr>\n",
       "    <tr>\n",
       "      <th>995</th>\n",
       "      <td>negative</td>\n",
       "      <td>Main problem I think is the maintenance of traditional bikes, often you are forced to change bikes several times before finding a functioning one\\t</td>\n",
       "    </tr>\n",
       "    <tr>\n",
       "      <th>996</th>\n",
       "      <td>positive</td>\n",
       "      <td>I feel good but without a credit card you can't even buy a day card, it doesn't seem right because students like me often only have a prepaid card\\t</td>\n",
       "    </tr>\n",
       "    <tr>\n",
       "      <th>997</th>\n",
       "      <td>positive</td>\n",
       "      <td>I don't have any suggestions at the moment. the comment, thank you for the excellent service provided.\\t</td>\n",
       "    </tr>\n",
       "    <tr>\n",
       "      <th>998</th>\n",
       "      <td>positive</td>\n",
       "      <td>I would like it if the number of red ebikes increased considerably\\t</td>\n",
       "    </tr>\n",
       "    <tr>\n",
       "      <th>999</th>\n",
       "      <td>positive</td>\n",
       "      <td>need more maintenance, stations in the center with too many bikes\\t</td>\n",
       "    </tr>\n",
       "  </tbody>\n",
       "</table>\n",
       "<p>1000 rows × 2 columns</p>\n",
       "</div>"
      ],
      "text/plain": [
       "           v1  \\\n",
       "0    positive   \n",
       "1    positive   \n",
       "2    negative   \n",
       "3    positive   \n",
       "4    positive   \n",
       "..        ...   \n",
       "995  negative   \n",
       "996  positive   \n",
       "997  positive   \n",
       "998  positive   \n",
       "999  positive   \n",
       "\n",
       "                                                                                                                                                                                                                                                                                                                                                                                                                                                                                                                                                                   v2  \n",
       "0    When I had problems with the return of the bike, the assistance was very kind, but could not solve the problem quickly nor prevent me from being charged for the rental because I had exceeded half an hour (not because of the route I took carried out, but due to the impossibility of hanging up the bike in 2 different stations). It would be desirable to be able to solve problems more efficiently or at least not to charge the user in the event of a reported malfunction. For the rest, when the service works, it's really practical and useful.\\t  \n",
       "1                                                                                                                                                                                                                                                                                                                                                                                                                                                                        more electric bikes. often even if present they are not available when there are few, why?\\t  \n",
       "2                                                                                                                                                                                                                                                                                                                                                                                                                                                  pay more attention to stations that very often are without bicycles or full and do not allow their repositioning\\t  \n",
       "3                                                                                                                                                                                                                                                                                                                                                                                                                                                                                                                        essential to insert bikes with child seats\\t  \n",
       "4                                                                                                                                                                                                                                                                                                                                                                                                                                                                                                    extension completed at train and metro stations not yet served\\t  \n",
       "..                                                                                                                                                                                                                                                                                                                                                                                                                                                                                                                                                                ...  \n",
       "995                                                                                                                                                                                                                                                                                                                                                                                                               Main problem I think is the maintenance of traditional bikes, often you are forced to change bikes several times before finding a functioning one\\t  \n",
       "996                                                                                                                                                                                                                                                                                                                                                                                                              I feel good but without a credit card you can't even buy a day card, it doesn't seem right because students like me often only have a prepaid card\\t  \n",
       "997                                                                                                                                                                                                                                                                                                                                                                                                                                                          I don't have any suggestions at the moment. the comment, thank you for the excellent service provided.\\t  \n",
       "998                                                                                                                                                                                                                                                                                                                                                                                                                                                                                              I would like it if the number of red ebikes increased considerably\\t  \n",
       "999                                                                                                                                                                                                                                                                                                                                                                                                                                                                                               need more maintenance, stations in the center with too many bikes\\t  \n",
       "\n",
       "[1000 rows x 2 columns]"
      ]
     },
     "execution_count": 67,
     "metadata": {},
     "output_type": "execute_result"
    }
   ],
   "source": [
    "# Load Data\n",
    "pd.set_option('display.max_colwidth', None)\n",
    "BikeSent = pd.read_csv(\"BikeMiSentiment2019_UTF-8.csv\", sep=';')\n",
    "BikeSent"
   ]
  },
  {
   "cell_type": "code",
   "execution_count": 68,
   "metadata": {},
   "outputs": [
    {
     "data": {
      "text/html": [
       "<div>\n",
       "<style scoped>\n",
       "    .dataframe tbody tr th:only-of-type {\n",
       "        vertical-align: middle;\n",
       "    }\n",
       "\n",
       "    .dataframe tbody tr th {\n",
       "        vertical-align: top;\n",
       "    }\n",
       "\n",
       "    .dataframe thead th {\n",
       "        text-align: right;\n",
       "    }\n",
       "</style>\n",
       "<table border=\"1\" class=\"dataframe\">\n",
       "  <thead>\n",
       "    <tr style=\"text-align: right;\">\n",
       "      <th></th>\n",
       "      <th>target</th>\n",
       "      <th>text</th>\n",
       "    </tr>\n",
       "  </thead>\n",
       "  <tbody>\n",
       "    <tr>\n",
       "      <th>0</th>\n",
       "      <td>positive</td>\n",
       "      <td>When I had problems with the return of the bike, the assistance was very kind, but could not solve the problem quickly nor prevent me from being charged for the rental because I had exceeded half an hour (not because of the route I took carried out, but due to the impossibility of hanging up the bike in 2 different stations). It would be desirable to be able to solve problems more efficiently or at least not to charge the user in the event of a reported malfunction. For the rest, when the service works, it's really practical and useful.\\t</td>\n",
       "    </tr>\n",
       "    <tr>\n",
       "      <th>1</th>\n",
       "      <td>positive</td>\n",
       "      <td>more electric bikes. often even if present they are not available when there are few, why?\\t</td>\n",
       "    </tr>\n",
       "    <tr>\n",
       "      <th>2</th>\n",
       "      <td>negative</td>\n",
       "      <td>pay more attention to stations that very often are without bicycles or full and do not allow their repositioning\\t</td>\n",
       "    </tr>\n",
       "    <tr>\n",
       "      <th>3</th>\n",
       "      <td>positive</td>\n",
       "      <td>essential to insert bikes with child seats\\t</td>\n",
       "    </tr>\n",
       "    <tr>\n",
       "      <th>4</th>\n",
       "      <td>positive</td>\n",
       "      <td>extension completed at train and metro stations not yet served\\t</td>\n",
       "    </tr>\n",
       "  </tbody>\n",
       "</table>\n",
       "</div>"
      ],
      "text/plain": [
       "     target  \\\n",
       "0  positive   \n",
       "1  positive   \n",
       "2  negative   \n",
       "3  positive   \n",
       "4  positive   \n",
       "\n",
       "                                                                                                                                                                                                                                                                                                                                                                                                                                                                                                                                                               text  \n",
       "0  When I had problems with the return of the bike, the assistance was very kind, but could not solve the problem quickly nor prevent me from being charged for the rental because I had exceeded half an hour (not because of the route I took carried out, but due to the impossibility of hanging up the bike in 2 different stations). It would be desirable to be able to solve problems more efficiently or at least not to charge the user in the event of a reported malfunction. For the rest, when the service works, it's really practical and useful.\\t  \n",
       "1                                                                                                                                                                                                                                                                                                                                                                                                                                                                      more electric bikes. often even if present they are not available when there are few, why?\\t  \n",
       "2                                                                                                                                                                                                                                                                                                                                                                                                                                                pay more attention to stations that very often are without bicycles or full and do not allow their repositioning\\t  \n",
       "3                                                                                                                                                                                                                                                                                                                                                                                                                                                                                                                      essential to insert bikes with child seats\\t  \n",
       "4                                                                                                                                                                                                                                                                                                                                                                                                                                                                                                  extension completed at train and metro stations not yet served\\t  "
      ]
     },
     "execution_count": 68,
     "metadata": {},
     "output_type": "execute_result"
    }
   ],
   "source": [
    "# Rename columns\n",
    "BikeSent.columns = [\"target\", \"text\"]\n",
    "BikeSent.head()"
   ]
  },
  {
   "cell_type": "code",
   "execution_count": 69,
   "metadata": {},
   "outputs": [
    {
     "data": {
      "text/html": [
       "<div>\n",
       "<style scoped>\n",
       "    .dataframe tbody tr th:only-of-type {\n",
       "        vertical-align: middle;\n",
       "    }\n",
       "\n",
       "    .dataframe tbody tr th {\n",
       "        vertical-align: top;\n",
       "    }\n",
       "\n",
       "    .dataframe thead th {\n",
       "        text-align: right;\n",
       "    }\n",
       "</style>\n",
       "<table border=\"1\" class=\"dataframe\">\n",
       "  <thead>\n",
       "    <tr style=\"text-align: right;\">\n",
       "      <th></th>\n",
       "      <th>target</th>\n",
       "      <th>text</th>\n",
       "    </tr>\n",
       "  </thead>\n",
       "  <tbody>\n",
       "    <tr>\n",
       "      <th>0</th>\n",
       "      <td>1</td>\n",
       "      <td>When I had problems with the return of the bike, the assistance was very kind, but could not solve the problem quickly nor prevent me from being charged for the rental because I had exceeded half an hour (not because of the route I took carried out, but due to the impossibility of hanging up the bike in 2 different stations). It would be desirable to be able to solve problems more efficiently or at least not to charge the user in the event of a reported malfunction. For the rest, when the service works, it's really practical and useful.\\t</td>\n",
       "    </tr>\n",
       "    <tr>\n",
       "      <th>1</th>\n",
       "      <td>1</td>\n",
       "      <td>more electric bikes. often even if present they are not available when there are few, why?\\t</td>\n",
       "    </tr>\n",
       "    <tr>\n",
       "      <th>2</th>\n",
       "      <td>0</td>\n",
       "      <td>pay more attention to stations that very often are without bicycles or full and do not allow their repositioning\\t</td>\n",
       "    </tr>\n",
       "    <tr>\n",
       "      <th>3</th>\n",
       "      <td>1</td>\n",
       "      <td>essential to insert bikes with child seats\\t</td>\n",
       "    </tr>\n",
       "    <tr>\n",
       "      <th>4</th>\n",
       "      <td>1</td>\n",
       "      <td>extension completed at train and metro stations not yet served\\t</td>\n",
       "    </tr>\n",
       "  </tbody>\n",
       "</table>\n",
       "</div>"
      ],
      "text/plain": [
       "   target  \\\n",
       "0       1   \n",
       "1       1   \n",
       "2       0   \n",
       "3       1   \n",
       "4       1   \n",
       "\n",
       "                                                                                                                                                                                                                                                                                                                                                                                                                                                                                                                                                               text  \n",
       "0  When I had problems with the return of the bike, the assistance was very kind, but could not solve the problem quickly nor prevent me from being charged for the rental because I had exceeded half an hour (not because of the route I took carried out, but due to the impossibility of hanging up the bike in 2 different stations). It would be desirable to be able to solve problems more efficiently or at least not to charge the user in the event of a reported malfunction. For the rest, when the service works, it's really practical and useful.\\t  \n",
       "1                                                                                                                                                                                                                                                                                                                                                                                                                                                                      more electric bikes. often even if present they are not available when there are few, why?\\t  \n",
       "2                                                                                                                                                                                                                                                                                                                                                                                                                                                pay more attention to stations that very often are without bicycles or full and do not allow their repositioning\\t  \n",
       "3                                                                                                                                                                                                                                                                                                                                                                                                                                                                                                                      essential to insert bikes with child seats\\t  \n",
       "4                                                                                                                                                                                                                                                                                                                                                                                                                                                                                                  extension completed at train and metro stations not yet served\\t  "
      ]
     },
     "execution_count": 69,
     "metadata": {},
     "output_type": "execute_result"
    }
   ],
   "source": [
    "# Encode categories\n",
    "BikeSent['target'] = np.where(BikeSent['target']=='positive',1,0)\n",
    "BikeSent.head()"
   ]
  },
  {
   "cell_type": "code",
   "execution_count": 70,
   "metadata": {},
   "outputs": [],
   "source": [
    "# split the sample in train (used also for cross-validation) + test \n",
    "from sklearn.model_selection import train_test_split\n",
    "X = BikeSent[['text']]\n",
    "y = BikeSent['target']\n",
    "X_train, X_test, y_train, y_test = train_test_split(X, y, test_size=0.10, random_state=42)"
   ]
  },
  {
   "cell_type": "code",
   "execution_count": 71,
   "metadata": {},
   "outputs": [
    {
     "data": {
      "text/html": [
       "<div>\n",
       "<style scoped>\n",
       "    .dataframe tbody tr th:only-of-type {\n",
       "        vertical-align: middle;\n",
       "    }\n",
       "\n",
       "    .dataframe tbody tr th {\n",
       "        vertical-align: top;\n",
       "    }\n",
       "\n",
       "    .dataframe thead th {\n",
       "        text-align: right;\n",
       "    }\n",
       "</style>\n",
       "<table border=\"1\" class=\"dataframe\">\n",
       "  <thead>\n",
       "    <tr style=\"text-align: right;\">\n",
       "      <th></th>\n",
       "      <th>text</th>\n",
       "    </tr>\n",
       "  </thead>\n",
       "  <tbody>\n",
       "    <tr>\n",
       "      <th>716</th>\n",
       "      <td>Luckily I have tried the new bicycle models a few times and they are definitely uncomfortable. I think there is a design error because the saddle is too far forward and you have difficulty pedaling. I hope you realize this before increasing the number of bikes you buy\\t</td>\n",
       "    </tr>\n",
       "    <tr>\n",
       "      <th>351</th>\n",
       "      <td>Improve the bike pickup and storage system. For older people they are too heavy to lift\\t</td>\n",
       "    </tr>\n",
       "    <tr>\n",
       "      <th>936</th>\n",
       "      <td>I kindly ask you to make the stall n. 151 Balilla - Tibaldi. Sometimes it is uninhabitable and there are few bicycles available or they are generally few or poorly functioning (eg deflated wheels, poorly functioning brakes, gearshift changes).\\t</td>\n",
       "    </tr>\n",
       "    <tr>\n",
       "      <th>256</th>\n",
       "      <td>bikes should be maintained much, much better, often with badly maintained bicycles and without brakes or even for the electrics that the battery does not work\\t</td>\n",
       "    </tr>\n",
       "    <tr>\n",
       "      <th>635</th>\n",
       "      <td>Increase maintenance\\t</td>\n",
       "    </tr>\n",
       "    <tr>\n",
       "      <th>...</th>\n",
       "      <td>...</td>\n",
       "    </tr>\n",
       "    <tr>\n",
       "      <th>106</th>\n",
       "      <td>A really useful service, I hope in the possibility of using 24 hours a day, especially for us young people it can be very useful at night when the vehicles are almost zero and you are forced to use taxis.\\t</td>\n",
       "    </tr>\n",
       "    <tr>\n",
       "      <th>270</th>\n",
       "      <td>only problem to report too often the stalls do not record the correct establishment of the bike and you risk icorrerere nela penalty\\t</td>\n",
       "    </tr>\n",
       "    <tr>\n",
       "      <th>860</th>\n",
       "      <td>Some discounts for the renewal of the subscription. The offers seem to me always and only for the new subscribers. In addition, a few more conventions for Bikemi subscribers who give discounts elsewhere.\\t</td>\n",
       "    </tr>\n",
       "    <tr>\n",
       "      <th>435</th>\n",
       "      <td>the service is smart but is very limited by the location of the stations. They are all a center. There isn't one in Stazione Lambrate or the eastern suburbs.\\t</td>\n",
       "    </tr>\n",
       "    <tr>\n",
       "      <th>102</th>\n",
       "      <td>good\\t</td>\n",
       "    </tr>\n",
       "  </tbody>\n",
       "</table>\n",
       "<p>900 rows × 1 columns</p>\n",
       "</div>"
      ],
      "text/plain": [
       "                                                                                                                                                                                                                                                                               text\n",
       "716  Luckily I have tried the new bicycle models a few times and they are definitely uncomfortable. I think there is a design error because the saddle is too far forward and you have difficulty pedaling. I hope you realize this before increasing the number of bikes you buy\\t\n",
       "351                                                                                                                                                                                       Improve the bike pickup and storage system. For older people they are too heavy to lift\\t\n",
       "936                           I kindly ask you to make the stall n. 151 Balilla - Tibaldi. Sometimes it is uninhabitable and there are few bicycles available or they are generally few or poorly functioning (eg deflated wheels, poorly functioning brakes, gearshift changes).\\t\n",
       "256                                                                                                                bikes should be maintained much, much better, often with badly maintained bicycles and without brakes or even for the electrics that the battery does not work\\t\n",
       "635                                                                                                                                                                                                                                                          Increase maintenance\\t\n",
       "..                                                                                                                                                                                                                                                                              ...\n",
       "106                                                                  A really useful service, I hope in the possibility of using 24 hours a day, especially for us young people it can be very useful at night when the vehicles are almost zero and you are forced to use taxis.\\t\n",
       "270                                                                                                                                          only problem to report too often the stalls do not record the correct establishment of the bike and you risk icorrerere nela penalty\\t\n",
       "860                                                                   Some discounts for the renewal of the subscription. The offers seem to me always and only for the new subscribers. In addition, a few more conventions for Bikemi subscribers who give discounts elsewhere.\\t\n",
       "435                                                                                                                 the service is smart but is very limited by the location of the stations. They are all a center. There isn't one in Stazione Lambrate or the eastern suburbs.\\t\n",
       "102                                                                                                                                                                                                                                                                          good\\t\n",
       "\n",
       "[900 rows x 1 columns]"
      ]
     },
     "execution_count": 71,
     "metadata": {},
     "output_type": "execute_result"
    }
   ],
   "source": [
    "X_train"
   ]
  },
  {
   "cell_type": "markdown",
   "metadata": {},
   "source": [
    "## Custom Transformers\n"
   ]
  },
  {
   "cell_type": "markdown",
   "metadata": {},
   "source": [
    "\n",
    "### Cleaning Text\n",
    "- We create here our own transformer (which will be a class) inheriting the TransformerMixin and the BaseEstimator classes from scikit-learn"
   ]
  },
  {
   "cell_type": "code",
   "execution_count": 72,
   "metadata": {},
   "outputs": [],
   "source": [
    "from sklearn.base import BaseEstimator\n",
    "from sklearn.base import TransformerMixin\n",
    "from nltk.corpus import stopwords\n",
    "from nltk.tokenize import word_tokenize\n",
    "from nltk.stem import SnowballStemmer\n",
    "\n",
    "# Custom Transformer (Inheriting from classes)\n",
    "class CleanText( BaseEstimator, TransformerMixin ):\n",
    "    \n",
    "    # Class Constructor \n",
    "    # The class constructor is formed by a function with double underscore __ :\n",
    "    # these are called 'special functions' as they have special meaning.\n",
    "    # In particular the '__init__' gets called whenever \n",
    "    # a new object of that class is instantiated,\n",
    "    # and are used to initialize all the necessary variables.\n",
    "    # In this example we initialize the language variable 'lang' with 'English'\n",
    "    # and pick the SnowballStemmer as the default stemmer.\n",
    "    def __init__( self, lang = \"english\"):\n",
    "        self.lang = lang\n",
    "        self.stemmer = SnowballStemmer(self.lang)\n",
    "    \n",
    "    # The 'fit' method here is used to instantiate the class on the 'self' variable \n",
    "    # and return the object itself     \n",
    "    def fit( self, X, y = None ):\n",
    "        return self \n",
    "    \n",
    "    # Custom function: this applies the stemmer just created in the '__init__'\n",
    "    # part to the 'self' variable\n",
    "    def clean( self, x ):\n",
    "        words   = [self.stemmer.stem(word) for word in word_tokenize(x.lower()) if word.isalpha() and word not in stopwords.words(\"english\")]\n",
    "        return \" \".join(words)\n",
    "    \n",
    "    # Method that describes what we need this transformer to do i.e. cleaning the text\n",
    "    # in the 'text' column in the data frame.\n",
    "    # This will be used later on in the usage of the custom transformer \n",
    "    # within the pipeline.\n",
    "    def transform( self, X, y = None ):\n",
    "        return X[\"text\"].apply(self.clean)"
   ]
  },
  {
   "cell_type": "markdown",
   "metadata": {},
   "source": [
    "### Feature extraction"
   ]
  },
  {
   "cell_type": "code",
   "execution_count": 73,
   "metadata": {},
   "outputs": [],
   "source": [
    "# Custom Transformer: same parts as the previous custom transformer\n",
    "# This one will be used for feature extraction\n",
    "\n",
    "class CustomFeatures( BaseEstimator, TransformerMixin ):\n",
    "    \n",
    "    # Class Constructor \n",
    "    def __init__( self ):\n",
    "        return\n",
    "    \n",
    "    # Return self nothing else to do here    \n",
    "    def fit( self, X, y = None ):\n",
    "        return self \n",
    "        \n",
    "    # Method that describes what we need this transformer to do i.e.\n",
    "    # returning length, digits and punctuations in the 'text' column in data frame\n",
    "    def transform( self, X, y = None ):\n",
    "        f           = pd.DataFrame()\n",
    "        f['len']    = X['text'].str.len()\n",
    "        f['digits'] = X['text'].str.findall(r'\\d').str.len()\n",
    "        f['punct']  = X['text'].str.findall(r'[^a-zA-Z\\d\\s:]').str.len()\n",
    "        return f[['len','digits','punct']]"
   ]
  },
  {
   "cell_type": "markdown",
   "metadata": {},
   "source": [
    "## Pipeline usage\n"
   ]
  },
  {
   "cell_type": "markdown",
   "metadata": {},
   "source": [
    "### Pipeline for data pre processing"
   ]
  },
  {
   "cell_type": "code",
   "execution_count": 74,
   "metadata": {},
   "outputs": [],
   "source": [
    "from sklearn.pipeline import Pipeline\n",
    "from sklearn.pipeline import FeatureUnion\n",
    "# FeatureUnion combines two or more pipelines or transformers\n",
    "# and is very fast!\n",
    "from sklearn.feature_extraction.text import TfidfVectorizer\n",
    "from sklearn.feature_selection import SelectKBest, chi2\n",
    "from sklearn.preprocessing import StandardScaler\n",
    "# Our first pipeline called 'pipe' will be formed by three 'steps' or parts:\n",
    "# 1)\"extract\" which in turns is formed through FeatureUnion which put together two parts:\n",
    "# \"terms\" (formed by a pipeline with the CleanText() transformer we created above\n",
    "# and the TfidVectorize text vectorizing transformer from scikit-learn) and \"custom\" \n",
    "# (formed by the CustomFeatures transformer we created above);\n",
    "# 2) \"select\", formed by the scikit-learn transformer method \"SelectKBest\" for feature \n",
    "# selection with a chi squared score function;\n",
    "# 3) \"scale\", same as 2) using the StandardScaler method from scikit-learn. \n",
    "# The whole pipeline will be used as pre-processing task in classifying pipelines.\n",
    "pipe = Pipeline([(\"extract\", FeatureUnion([(\"terms\", Pipeline([('clean', CleanText()), \n",
    "                                                               ('tfidf', TfidfVectorizer())])),\n",
    "                                           (\"custom\", CustomFeatures())])),\n",
    "                 (\"select\", SelectKBest(score_func = chi2)),\n",
    "                 (\"scale\", StandardScaler(with_mean = False))]) "
   ]
  },
  {
   "cell_type": "markdown",
   "metadata": {},
   "source": [
    "### Classifier implemented through pipelines: Logistic Model"
   ]
  },
  {
   "cell_type": "code",
   "execution_count": 75,
   "metadata": {},
   "outputs": [],
   "source": [
    "# Logistic Model\n",
    "from sklearn.linear_model import LogisticRegression\n",
    "pipe_logistic = Pipeline([('pre_process', pipe),\n",
    "                          ('classify', LogisticRegression(max_iter=10000, tol=0.1, solver='lbfgs'))])"
   ]
  },
  {
   "cell_type": "code",
   "execution_count": 76,
   "metadata": {},
   "outputs": [
    {
     "data": {
      "text/plain": [
       "Pipeline(steps=[('pre_process',\n",
       "                 Pipeline(steps=[('extract',\n",
       "                                  FeatureUnion(transformer_list=[('terms',\n",
       "                                                                  Pipeline(steps=[('clean',\n",
       "                                                                                   CleanText()),\n",
       "                                                                                  ('tfidf',\n",
       "                                                                                   TfidfVectorizer())])),\n",
       "                                                                 ('custom',\n",
       "                                                                  CustomFeatures())])),\n",
       "                                 ('select',\n",
       "                                  SelectKBest(score_func=<function chi2 at 0x7ff7b3610af0>)),\n",
       "                                 ('scale', StandardScaler(with_mean=False))])),\n",
       "                ('classify', LogisticRegression(max_iter=10000, tol=0.1))])"
      ]
     },
     "execution_count": 76,
     "metadata": {},
     "output_type": "execute_result"
    }
   ],
   "source": [
    "# Fit on training\n",
    "pipe_logistic.fit(X_train, y_train)"
   ]
  },
  {
   "cell_type": "code",
   "execution_count": 77,
   "metadata": {},
   "outputs": [
    {
     "data": {
      "text/plain": [
       "0.7972972972972973"
      ]
     },
     "execution_count": 77,
     "metadata": {},
     "output_type": "execute_result"
    }
   ],
   "source": [
    "# Evaluate on test\n",
    "# The F1 score can be interpreted as a weighted average of the precision and recall, \n",
    "# where an F1 score reaches its best value at 1 and worst score at 0. The relative contribution of precision \n",
    "# and recall to the F1 score are equal. The formula for the F1 score is:\n",
    "# F1 = 2 * (precision * recall) / (precision + recall)\n",
    "from sklearn.metrics import f1_score\n",
    "y_pred = pipe_logistic.predict(X_test)\n",
    "f1_score(y_test, y_pred)"
   ]
  },
  {
   "cell_type": "code",
   "execution_count": 78,
   "metadata": {},
   "outputs": [
    {
     "data": {
      "text/plain": [
       "array([1])"
      ]
     },
     "execution_count": 78,
     "metadata": {},
     "output_type": "execute_result"
    }
   ],
   "source": [
    "# we can classify new messages!\n",
    "msg = pd.DataFrame(columns = [\"text\"],\n",
    "                   data    = [\"The bikes are heavy and unwieldy. The collection and return of the bicycle is super-comfortable because the bikes are heavy\"])\n",
    "\n",
    "pipe_logistic.predict(msg)"
   ]
  },
  {
   "cell_type": "code",
   "execution_count": 79,
   "metadata": {},
   "outputs": [
    {
     "data": {
      "text/plain": [
       "array([1])"
      ]
     },
     "execution_count": 79,
     "metadata": {},
     "output_type": "execute_result"
    }
   ],
   "source": [
    "# we can classify new messages!\n",
    "#msg = pd.DataFrame(columns = [\"text\"],\n",
    "                   #data    = [\"REMINDER FROM O2: To get 2.50 pounds free call credit and details of great offers pls reply 2 this text with your valid name, house no and postcode\"])\n",
    "\n",
    "msg = pd.DataFrame(columns = [\"text\"],\n",
    "                   data    = [\"Satisfied\"])\n",
    "\n",
    "\n",
    "pipe_logistic.predict(msg)"
   ]
  },
  {
   "cell_type": "markdown",
   "metadata": {},
   "source": [
    "## Using bi-grams"
   ]
  },
  {
   "cell_type": "code",
   "execution_count": 80,
   "metadata": {},
   "outputs": [],
   "source": [
    "# extract features\n",
    "pipe_extract = FeatureUnion([(\"terms\", Pipeline([('clean', CleanText()), \n",
    "                                                 ('tfidf', TfidfVectorizer())])),\n",
    "                             (\"custom\", CustomFeatures())])\n",
    "\n",
    "# select and scale features\n",
    "pipe_select_scale = Pipeline([(\"select\", SelectKBest(score_func = chi2)),\n",
    "                              (\"scale\", StandardScaler(with_mean = False))]) "
   ]
  },
  {
   "cell_type": "code",
   "execution_count": 81,
   "metadata": {},
   "outputs": [],
   "source": [
    "# extract features\n",
    "# you can also use bi-grams:\n",
    "X_extract = pipe_extract.set_params(terms__tfidf__ngram_range = (1,2)).fit_transform(X_train, y_train)"
   ]
  },
  {
   "cell_type": "code",
   "execution_count": 82,
   "metadata": {},
   "outputs": [
    {
     "name": "stdout",
     "output_type": "stream",
     "text": [
      "  (0, 697)\t0.07090144070985319\n",
      "  (0, 745)\t0.17483279959508186\n",
      "  (0, 785)\t0.043180618930796104\n",
      "  (0, 814)\t0.17483279959508186\n",
      "  (0, 1163)\t0.1648630344692586\n",
      "  (0, 1895)\t0.14402927962636455\n",
      "  (0, 1900)\t0.17483279959508186\n",
      "  (0, 1940)\t0.1648630344692586\n",
      "  (0, 1942)\t0.17483279959508186\n",
      "  (0, 2001)\t0.1523026158602164\n",
      "  (0, 2004)\t0.17483279959508186\n",
      "  (0, 2318)\t0.1648630344692586\n",
      "  (0, 2320)\t0.17483279959508186\n",
      "  (0, 2605)\t0.1307761823598249\n",
      "  (0, 2609)\t0.17483279959508186\n",
      "  (0, 2799)\t0.157789373540365\n",
      "  (0, 2800)\t0.17483279959508186\n",
      "  (0, 3315)\t0.13525918980549953\n",
      "  (0, 3323)\t0.17483279959508186\n",
      "  (0, 3509)\t0.09334204887662222\n",
      "  (0, 3529)\t0.12370252143093134\n",
      "  (0, 4020)\t0.17483279959508186\n",
      "  (0, 4021)\t0.17483279959508186\n",
      "  (0, 4343)\t0.1523026158602164\n",
      "  (0, 4346)\t0.17483279959508186\n",
      "  :\t:\n",
      "  (898, 1293)\t0.14945135091427067\n",
      "  (898, 1311)\t0.25345986443799984\n",
      "  (898, 2151)\t0.23900642479096382\n",
      "  (898, 2153)\t0.25345986443799984\n",
      "  (898, 3706)\t0.20880316378705438\n",
      "  (898, 3708)\t0.25345986443799984\n",
      "  (898, 3882)\t0.20880316378705438\n",
      "  (898, 3884)\t0.25345986443799984\n",
      "  (898, 3923)\t0.1771738498926844\n",
      "  (898, 3935)\t0.23900642479096382\n",
      "  (898, 4862)\t0.1334273238341794\n",
      "  (898, 4894)\t0.25345986443799984\n",
      "  (898, 6233)\t0.09131789001952145\n",
      "  (898, 6325)\t0.25345986443799984\n",
      "  (898, 6480)\t0.23900642479096382\n",
      "  (898, 6481)\t0.25345986443799984\n",
      "  (898, 6700)\t0.0829510509697508\n",
      "  (898, 6721)\t0.20404322788705004\n",
      "  (898, 6857)\t0.25345986443799984\n",
      "  (898, 6858)\t0.25345986443799984\n",
      "  (898, 6955)\t0.18673654039843596\n",
      "  (898, 8149)\t158.0\n",
      "  (898, 8151)\t4.0\n",
      "  (899, 3095)\t1.0\n",
      "  (899, 8149)\t5.0\n"
     ]
    }
   ],
   "source": [
    "print(X_extract)"
   ]
  },
  {
   "cell_type": "code",
   "execution_count": 83,
   "metadata": {},
   "outputs": [
    {
     "name": "stdout",
     "output_type": "stream",
     "text": [
      "  (0, 222)\t1.7463975570695727\n",
      "  (0, 224)\t4.868401476553422\n",
      "  (0, 332)\t3.3310922794931095\n",
      "  (0, 391)\t3.8799422337719514\n",
      "  (0, 457)\t4.664456373753558\n",
      "  (0, 498)\t2.431404727966195\n",
      "  (0, 499)\t0.6518039044082895\n",
      "  (1, 215)\t1.955545214342361\n",
      "  (1, 216)\t4.391664155129969\n",
      "  (1, 498)\t0.7954037771785323\n",
      "  (1, 499)\t0.32590195220414475\n",
      "  (2, 190)\t3.9374599587618193\n",
      "  (2, 415)\t2.9160268437218404\n",
      "  (2, 498)\t2.205437745813203\n",
      "  (2, 499)\t2.607215617633158\n",
      "  (3, 30)\t3.467617207975343\n",
      "  (3, 35)\t19.81764758098014\n",
      "  (3, 44)\t4.029061322449084\n",
      "  (3, 254)\t17.490606015887288\n",
      "  (3, 283)\t21.01627223472825\n",
      "  (3, 294)\t1.5146934286923344\n",
      "  (3, 295)\t9.407246305477612\n",
      "  (3, 487)\t4.614820388219279\n",
      "  (3, 498)\t1.4371500064930298\n",
      "  (3, 499)\t0.6518039044082895\n",
      "  :\t:\n",
      "  (893, 494)\t2.240618278439294\n",
      "  (893, 498)\t1.6992717057905007\n",
      "  (893, 499)\t0.6518039044082895\n",
      "  (894, 347)\t2.7889851989069125\n",
      "  (894, 498)\t0.831558494323011\n",
      "  (895, 211)\t2.8248704708645893\n",
      "  (895, 397)\t1.0910163308028165\n",
      "  (895, 498)\t1.8529292536545352\n",
      "  (895, 499)\t0.9777058566124343\n",
      "  (896, 72)\t24.41599739893815\n",
      "  (896, 294)\t1.6522845847666836\n",
      "  (896, 309)\t16.430593476368912\n",
      "  (896, 352)\t2.675593080916396\n",
      "  (896, 380)\t4.5285814862791804\n",
      "  (896, 386)\t13.6708637361617\n",
      "  (896, 498)\t1.202144345053918\n",
      "  (897, 13)\t2.5695129210768552\n",
      "  (897, 191)\t6.145400961179911\n",
      "  (897, 498)\t1.8438905743684155\n",
      "  (897, 499)\t1.303607808816579\n",
      "  (898, 397)\t1.4938347656108477\n",
      "  (898, 498)\t1.4281113272069101\n",
      "  (898, 499)\t1.303607808816579\n",
      "  (899, 193)\t11.497860975131363\n",
      "  (899, 498)\t0.04519339643059842\n"
     ]
    }
   ],
   "source": [
    "# extract all features\n",
    "X_select_scale = pipe_select_scale.set_params(select__k = 500).fit_transform(X_extract, y_train)\n",
    "print(X_select_scale)"
   ]
  },
  {
   "cell_type": "markdown",
   "metadata": {},
   "source": [
    "### Using cross-validation with parameters (grid)"
   ]
  },
  {
   "cell_type": "code",
   "execution_count": 84,
   "metadata": {},
   "outputs": [
    {
     "data": {
      "text/plain": [
       "GridSearchCV(cv=10, estimator=LogisticRegression(max_iter=10000, tol=0.1),\n",
       "             param_grid={'C': array([1.00000000e-04, 4.64158883e-02, 2.15443469e+01, 1.00000000e+04])},\n",
       "             scoring='f1')"
      ]
     },
     "execution_count": 84,
     "metadata": {},
     "output_type": "execute_result"
    }
   ],
   "source": [
    "# Select best hyperparameters by cross validation\n",
    "from sklearn.model_selection import GridSearchCV\n",
    "\n",
    "# Model\n",
    "logistic = LogisticRegression(max_iter=10000, tol=0.1, solver='lbfgs')\n",
    "\n",
    "# Parameters: (np.logspace returns numbers spaced evenly on a log scale.)\n",
    "param_logistic = {\n",
    "    'C': np.logspace(-4, 4, 4)\n",
    "}\n",
    "\n",
    "# For an explanation of the 'C' parameter in scikit-learn logistic regression see:\n",
    "# https://stackoverflow.com/questions/22851316/what-is-the-inverse-of-regularization-strength-in-logistic-regression-how-shoul\n",
    "# C= 1/\\lambda where \\lambda can be assimilated to the regulatization parameter\n",
    "# you probably have seen in the lasso regression\n",
    "# Grid Search\n",
    "cv_logistic = GridSearchCV(logistic, param_logistic, cv=10, scoring='f1')\n",
    "cv_logistic.fit(X_select_scale, y_train)"
   ]
  },
  {
   "cell_type": "code",
   "execution_count": 85,
   "metadata": {},
   "outputs": [
    {
     "name": "stdout",
     "output_type": "stream",
     "text": [
      "LogisticRegression(C=0.046415888336127774, max_iter=10000, tol=0.1)\n"
     ]
    }
   ],
   "source": [
    "# See https://scikit-learn.org/stable/modules/generated/sklearn.model_selection.GridSearchCV.html\n",
    "print(cv_logistic.best_estimator_)"
   ]
  },
  {
   "cell_type": "code",
   "execution_count": 86,
   "metadata": {},
   "outputs": [
    {
     "name": "stdout",
     "output_type": "stream",
     "text": [
      "0.9020406477845386\n"
     ]
    }
   ],
   "source": [
    "print(cv_logistic.best_score_)"
   ]
  },
  {
   "cell_type": "markdown",
   "metadata": {},
   "source": [
    "### Similar with pipeline"
   ]
  },
  {
   "cell_type": "code",
   "execution_count": 87,
   "metadata": {},
   "outputs": [
    {
     "data": {
      "text/plain": [
       "GridSearchCV(cv=10,\n",
       "             estimator=Pipeline(steps=[('select_scale',\n",
       "                                        Pipeline(steps=[('select',\n",
       "                                                         SelectKBest(k=500,\n",
       "                                                                     score_func=<function chi2 at 0x7ff7b3610af0>)),\n",
       "                                                        ('scale',\n",
       "                                                         StandardScaler(with_mean=False))])),\n",
       "                                       ('classify',\n",
       "                                        LogisticRegression(max_iter=10000,\n",
       "                                                           tol=0.1))]),\n",
       "             param_grid={'classify__C': array([1.e-04, 1.e+00, 1.e+04]),\n",
       "                         'select_scale__select__k': [600, 1000, 5000]},\n",
       "             scoring='f1')"
      ]
     },
     "execution_count": 87,
     "metadata": {},
     "output_type": "execute_result"
    }
   ],
   "source": [
    "# Pipe Logistic\n",
    "pipe_logistic = Pipeline([('select_scale', pipe_select_scale),\n",
    "                          ('classify', LogisticRegression(max_iter=10000, tol=0.1, solver='lbfgs'))])\n",
    "\n",
    "# Parameters of pipelines can be set using ‘__’ separated parameter names:\n",
    "param_logistic = {\n",
    "    'classify__C': np.logspace(-4, 4, 3),\n",
    "    'select_scale__select__k': [600, 1000, 5000]\n",
    "}\n",
    "\n",
    "cv_logistic = GridSearchCV(pipe_logistic, param_logistic, cv=10, scoring='f1')\n",
    "cv_logistic.fit(X_extract, y_train)"
   ]
  },
  {
   "cell_type": "code",
   "execution_count": 88,
   "metadata": {},
   "outputs": [
    {
     "name": "stdout",
     "output_type": "stream",
     "text": [
      "Pipeline(steps=[('select_scale',\n",
      "                 Pipeline(steps=[('select',\n",
      "                                  SelectKBest(k=5000,\n",
      "                                              score_func=<function chi2 at 0x7ff7b3610af0>)),\n",
      "                                 ('scale', StandardScaler(with_mean=False))])),\n",
      "                ('classify',\n",
      "                 LogisticRegression(C=10000.0, max_iter=10000, tol=0.1))])\n"
     ]
    }
   ],
   "source": [
    "print(cv_logistic.best_estimator_)"
   ]
  },
  {
   "cell_type": "code",
   "execution_count": 89,
   "metadata": {},
   "outputs": [
    {
     "name": "stdout",
     "output_type": "stream",
     "text": [
      "0.8457155973785053\n"
     ]
    }
   ],
   "source": [
    "print(cv_logistic.best_score_)"
   ]
  },
  {
   "cell_type": "markdown",
   "metadata": {},
   "source": [
    "## Other Models"
   ]
  },
  {
   "cell_type": "markdown",
   "metadata": {},
   "source": [
    "### Naive Bayes"
   ]
  },
  {
   "cell_type": "code",
   "execution_count": 90,
   "metadata": {},
   "outputs": [
    {
     "name": "stdout",
     "output_type": "stream",
     "text": [
      "0.8301298848126655\n"
     ]
    }
   ],
   "source": [
    "from sklearn.naive_bayes import MultinomialNB\n",
    "\n",
    "# Pipe NB\n",
    "pipe_nb = Pipeline([('select_scale', pipe_select_scale),\n",
    "                    ('classify', MultinomialNB())])\n",
    "\n",
    "# Parameters of pipelines can be set using ‘__’ separated parameter names:\n",
    "param_nb = {\n",
    "    'classify__alpha': [0.5, 1, 10],\n",
    "    'select_scale__select__k': [600, 1000, 5000]\n",
    "}\n",
    "\n",
    "cv_nb = GridSearchCV(pipe_nb, param_nb, cv=10, scoring='f1')\n",
    "cv_nb.fit(X_extract, y_train)\n",
    "print(cv_nb.best_score_)\n",
    "\n"
   ]
  },
  {
   "cell_type": "code",
   "execution_count": 91,
   "metadata": {},
   "outputs": [
    {
     "data": {
      "text/plain": [
       "0.782608695652174"
      ]
     },
     "execution_count": 91,
     "metadata": {},
     "output_type": "execute_result"
    }
   ],
   "source": [
    "# full pipeline\n",
    "model = Pipeline([(\"extract\", FeatureUnion([(\"terms\", Pipeline([('clean', CleanText()), \n",
    "                                                                ('tfidf', TfidfVectorizer(ngram_range = (1,2)))])),\n",
    "                                           (\"custom\", CustomFeatures())])),\n",
    "                 (\"select\", SelectKBest(score_func = chi2, k = 1000)),\n",
    "                 (\"scale\", StandardScaler(with_mean = False)),\n",
    "                 (\"classify\", MultinomialNB())]) \n",
    "\n",
    "# fitting\n",
    "model.fit(X_train, y_train)\n",
    "\n",
    "# final evaluation\n",
    "y_pred = model.predict(X_test)\n",
    "f1_score(y_test, y_pred)"
   ]
  },
  {
   "cell_type": "code",
   "execution_count": 92,
   "metadata": {},
   "outputs": [
    {
     "data": {
      "text/plain": [
       "array([0])"
      ]
     },
     "execution_count": 92,
     "metadata": {},
     "output_type": "execute_result"
    }
   ],
   "source": [
    "# we are now able to classify new messages!\n",
    "#msg = pd.DataFrame(columns = [\"text\"],\n",
    "                   #data    = [\"REMINDER FROM O2: To get 2.50 pounds free call credit and details of great offers pls reply 2 this text with your valid name, house no and postcode\"])\n",
    "\n",
    "msg = pd.DataFrame(columns = [\"text\"],\n",
    "                   data    = [\"The bikes are heavy and unwieldy. The collection and return of the bicycle is super-comfortable because the bikes are heavy\"])\n",
    "\n",
    "model.predict(msg)"
   ]
  },
  {
   "cell_type": "code",
   "execution_count": 93,
   "metadata": {},
   "outputs": [
    {
     "data": {
      "text/plain": [
       "array([1])"
      ]
     },
     "execution_count": 93,
     "metadata": {},
     "output_type": "execute_result"
    }
   ],
   "source": [
    "# we are now able to classify new messages!\n",
    "#msg = pd.DataFrame(columns = [\"text\"],\n",
    "                   #data    = [\"REMINDER FROM O2: To get 2.50 pounds free call credit and details of great offers pls reply 2 this text with your valid name, house no and postcode\"])\n",
    "\n",
    "msg = pd.DataFrame(columns = [\"text\"],\n",
    "                   data    = [\"Satisfied\"])\n",
    "\n",
    "\n",
    "model.predict(msg)"
   ]
  },
  {
   "cell_type": "markdown",
   "metadata": {},
   "source": [
    "### Support Vector Machine"
   ]
  },
  {
   "cell_type": "code",
   "execution_count": 94,
   "metadata": {},
   "outputs": [
    {
     "name": "stdout",
     "output_type": "stream",
     "text": [
      "0.8463498495228174\n"
     ]
    }
   ],
   "source": [
    "from sklearn.svm import LinearSVC\n",
    "\n",
    "# Pipe SVC\n",
    "pipe_svc = Pipeline([('select_scale', pipe_select_scale),\n",
    "                     ('classify', LinearSVC(max_iter=10000, tol=0.1))])\n",
    "\n",
    "# Parameters of pipelines can be set using ‘__’ separated parameter names:\n",
    "param_svc = {\n",
    "    'classify__C': [0.01, 0.1, 1],\n",
    "    'select_scale__select__k': [600, 1000, 5000]\n",
    "}\n",
    "\n",
    "cv_svc = GridSearchCV(pipe_svc, param_svc, cv=10, scoring='f1')\n",
    "cv_svc.fit(X_extract, y_train)\n",
    "print(cv_svc.best_score_)"
   ]
  },
  {
   "cell_type": "code",
   "execution_count": 95,
   "metadata": {},
   "outputs": [
    {
     "data": {
      "text/plain": [
       "0.7972972972972973"
      ]
     },
     "execution_count": 95,
     "metadata": {},
     "output_type": "execute_result"
    }
   ],
   "source": [
    "# full pipeline\n",
    "model = Pipeline([(\"extract\", FeatureUnion([(\"terms\", Pipeline([('clean', CleanText()), \n",
    "                                                                ('tfidf', TfidfVectorizer(ngram_range = (1,2)))])),\n",
    "                                           (\"custom\", CustomFeatures())])),\n",
    "                 (\"select\", SelectKBest(score_func = chi2, k = 1000)),\n",
    "                 (\"scale\", StandardScaler(with_mean = False)),\n",
    "                 (\"classify\", LinearSVC(C = 1, max_iter=10000, tol=0.1))]) \n",
    "\n",
    "# fitting\n",
    "model.fit(X_train, y_train)\n",
    "\n",
    "# final evaluation\n",
    "y_pred = model.predict(X_test)\n",
    "f1_score(y_test, y_pred)"
   ]
  },
  {
   "cell_type": "code",
   "execution_count": 96,
   "metadata": {},
   "outputs": [
    {
     "data": {
      "text/plain": [
       "array([0])"
      ]
     },
     "execution_count": 96,
     "metadata": {},
     "output_type": "execute_result"
    }
   ],
   "source": [
    "# we are now able to classify new messages!\n",
    "#msg = pd.DataFrame(columns = [\"text\"],\n",
    "                   #data    = [\"REMINDER FROM O2: To get 2.50 pounds free call credit and details of great offers pls reply 2 this text with your valid name, house no and postcode\"])\n",
    "\n",
    "msg = pd.DataFrame(columns = [\"text\"],\n",
    "                   data    = [\"The bikes are heavy and unwieldy. The collection and return of the bicycle is super-comfortable because the bikes are heavy\"])\n",
    "\n",
    "model.predict(msg)"
   ]
  },
  {
   "cell_type": "code",
   "execution_count": 97,
   "metadata": {},
   "outputs": [
    {
     "data": {
      "text/plain": [
       "array([1])"
      ]
     },
     "execution_count": 97,
     "metadata": {},
     "output_type": "execute_result"
    }
   ],
   "source": [
    "# we are now able to classify new messages!\n",
    "#msg = pd.DataFrame(columns = [\"text\"],\n",
    "                   #data    = [\"REMINDER FROM O2: To get 2.50 pounds free call credit and details of great offers pls reply 2 this text with your valid name, house no and postcode\"])\n",
    "\n",
    "msg = pd.DataFrame(columns = [\"text\"],\n",
    "                   data    = [\"Satisfied\"])\n",
    "\n",
    "\n",
    "model.predict(msg)"
   ]
  },
  {
   "cell_type": "markdown",
   "metadata": {},
   "source": [
    "### Random Forest"
   ]
  },
  {
   "cell_type": "code",
   "execution_count": 98,
   "metadata": {},
   "outputs": [
    {
     "name": "stdout",
     "output_type": "stream",
     "text": [
      "0.8500780730871836\n"
     ]
    }
   ],
   "source": [
    "from sklearn.ensemble import RandomForestClassifier\n",
    "\n",
    "# Pipe RF\n",
    "pipe_rf = Pipeline([('select_scale', pipe_select_scale),\n",
    "                    ('classify', RandomForestClassifier())])\n",
    "\n",
    "# Parameters of pipelines can be set using ‘__’ separated parameter names:\n",
    "param_rf = {\n",
    "    'classify__n_estimators': [100, 200],\n",
    "    'select_scale__select__k': [600, 1000]\n",
    "}\n",
    "\n",
    "cv_rf = GridSearchCV(pipe_rf, param_rf, cv=10, scoring='f1')\n",
    "cv_rf.fit(X_extract, y_train)\n",
    "print(cv_rf.best_score_)"
   ]
  },
  {
   "cell_type": "code",
   "execution_count": 99,
   "metadata": {},
   "outputs": [
    {
     "data": {
      "text/plain": [
       "0.8181818181818181"
      ]
     },
     "execution_count": 99,
     "metadata": {},
     "output_type": "execute_result"
    }
   ],
   "source": [
    "# full pipeline\n",
    "model = Pipeline([(\"extract\", FeatureUnion([(\"terms\", Pipeline([('clean', CleanText()), \n",
    "                                                                ('tfidf', TfidfVectorizer(ngram_range = (1,2)))])),\n",
    "                                           (\"custom\", CustomFeatures())])),\n",
    "                 (\"select\", SelectKBest(score_func = chi2, k = 1000)),\n",
    "                 (\"scale\", StandardScaler(with_mean = False)),\n",
    "                 (\"classify\", RandomForestClassifier())]) \n",
    "\n",
    "# fitting\n",
    "model.fit(X_train, y_train)\n",
    "\n",
    "# final evaluation\n",
    "y_pred = model.predict(X_test)\n",
    "f1_score(y_test, y_pred)"
   ]
  },
  {
   "cell_type": "code",
   "execution_count": 100,
   "metadata": {},
   "outputs": [
    {
     "data": {
      "text/plain": [
       "array([1])"
      ]
     },
     "execution_count": 100,
     "metadata": {},
     "output_type": "execute_result"
    }
   ],
   "source": [
    "# we are now able to classify new messages!\n",
    "#msg = pd.DataFrame(columns = [\"text\"],\n",
    "                   #data    = [\"REMINDER FROM O2: To get 2.50 pounds free call credit and details of great offers pls reply 2 this text with your valid name, house no and postcode\"])\n",
    "\n",
    "msg = pd.DataFrame(columns = [\"text\"],\n",
    "                   data    = [\"The bikes are heavy and unwieldy. The collection and return of the bicycle is super-comfortable because the bikes are heavy\"])\n",
    "\n",
    "model.predict(msg)"
   ]
  },
  {
   "cell_type": "code",
   "execution_count": 101,
   "metadata": {},
   "outputs": [
    {
     "data": {
      "text/plain": [
       "array([1])"
      ]
     },
     "execution_count": 101,
     "metadata": {},
     "output_type": "execute_result"
    }
   ],
   "source": [
    "# we are now able to classify new messages!\n",
    "#msg = pd.DataFrame(columns = [\"text\"],\n",
    "                   #data    = [\"REMINDER FROM O2: To get 2.50 pounds free call credit and details of great offers pls reply 2 this text with your valid name, house no and postcode\"])\n",
    "\n",
    "msg = pd.DataFrame(columns = [\"text\"],\n",
    "                   data    = [\"Satisfied\"])\n",
    "\n",
    "\n",
    "model.predict(msg)"
   ]
  },
  {
   "cell_type": "markdown",
   "metadata": {
    "slideshow": {
     "slide_type": "slide"
    }
   },
   "source": [
    "## Long Example 1: Text clustering"
   ]
  },
  {
   "cell_type": "code",
   "execution_count": 102,
   "metadata": {},
   "outputs": [],
   "source": [
    "import re\n",
    "import string\n",
    "import pandas as pd"
   ]
  },
  {
   "cell_type": "code",
   "execution_count": 103,
   "metadata": {},
   "outputs": [],
   "source": [
    "from sklearn.feature_extraction.text import TfidfVectorizer\n",
    "from sklearn.cluster import KMeans\n",
    "from sklearn.cluster import AgglomerativeClustering"
   ]
  },
  {
   "cell_type": "markdown",
   "metadata": {},
   "source": [
    "## Full text for clustering\n",
    "\n",
    "This corpus contain some strings about Google and some strings about TF-IDF from Wikipedia. Just for example"
   ]
  },
  {
   "cell_type": "code",
   "execution_count": 104,
   "metadata": {},
   "outputs": [],
   "source": [
    "all_text = \"\"\"\n",
    "Google and Facebook are strangling the free press to death. Democracy is the loser\n",
    "Your 60-second guide to security stuff Google touted today at Next '18\n",
    "A Guide to Using Android Without Selling Your Soul to Google\n",
    "Review: Lenovo’s Google Smart Display is pretty and intelligent\n",
    "Google Maps user spots mysterious object submerged off the coast of Greece - and no-one knows what it is\n",
    "Android is better than IOS\n",
    "In information retrieval, tf–idf or TFIDF, short for term frequency–inverse document frequency\n",
    "is a numerical statistic that is intended to reflect how important \n",
    "a word is to a document in a collection or corpus.\n",
    "It is often used as a weighting factor in searches of information retrieval\n",
    "text mining, and user modeling. The tf-idf value increases proportionally\n",
    "to the number of times a word appears in the document\n",
    "and is offset by the frequency of the word in the corpus\n",
    "\"\"\".split(\"\\n\")[1:-1]"
   ]
  },
  {
   "cell_type": "code",
   "execution_count": 105,
   "metadata": {},
   "outputs": [
    {
     "data": {
      "text/plain": [
       "['Google and Facebook are strangling the free press to death. Democracy is the loser',\n",
       " \"Your 60-second guide to security stuff Google touted today at Next '18\",\n",
       " 'A Guide to Using Android Without Selling Your Soul to Google',\n",
       " 'Review: Lenovo’s Google Smart Display is pretty and intelligent',\n",
       " 'Google Maps user spots mysterious object submerged off the coast of Greece - and no-one knows what it is',\n",
       " 'Android is better than IOS',\n",
       " 'In information retrieval, tf–idf or TFIDF, short for term frequency–inverse document frequency',\n",
       " 'is a numerical statistic that is intended to reflect how important ',\n",
       " 'a word is to a document in a collection or corpus.',\n",
       " 'It is often used as a weighting factor in searches of information retrieval',\n",
       " 'text mining, and user modeling. The tf-idf value increases proportionally',\n",
       " 'to the number of times a word appears in the document',\n",
       " 'and is offset by the frequency of the word in the corpus']"
      ]
     },
     "execution_count": 105,
     "metadata": {},
     "output_type": "execute_result"
    }
   ],
   "source": [
    "all_text"
   ]
  },
  {
   "cell_type": "markdown",
   "metadata": {},
   "source": [
    "## Preprocessing and tokenizing\n",
    "Firstly, we must bring every chars to lowercase and remove all punctuation, because it's not important for our task, but is very harmful for clustering algorithm. \n",
    "After that, we'll split strings to array of words."
   ]
  },
  {
   "cell_type": "code",
   "execution_count": 106,
   "metadata": {},
   "outputs": [],
   "source": [
    "def preprocessing(line):\n",
    "    line = line.lower()\n",
    "    line = re.sub(r\"[{}]\".format(string.punctuation), \" \", line)\n",
    "    return line"
   ]
  },
  {
   "cell_type": "markdown",
   "metadata": {},
   "source": [
    "Now, let's calculate tf-idf for this corpus"
   ]
  },
  {
   "cell_type": "code",
   "execution_count": 107,
   "metadata": {},
   "outputs": [],
   "source": [
    "tfidf_vectorizer = TfidfVectorizer(preprocessor=preprocessing)\n",
    "tfidf = tfidf_vectorizer.fit_transform(all_text)"
   ]
  },
  {
   "cell_type": "markdown",
   "metadata": {},
   "source": [
    "## K-means"
   ]
  },
  {
   "cell_type": "code",
   "execution_count": 108,
   "metadata": {},
   "outputs": [],
   "source": [
    "kmeans = KMeans(n_clusters=2)"
   ]
  },
  {
   "cell_type": "code",
   "execution_count": 109,
   "metadata": {},
   "outputs": [
    {
     "data": {
      "text/plain": [
       "[(1,\n",
       "  'Google and Facebook are strangling the free press to death. Democracy is the loser'),\n",
       " (0, \"Your 60-second guide to security stuff Google touted today at Next '18\"),\n",
       " (0, 'A Guide to Using Android Without Selling Your Soul to Google'),\n",
       " (0, 'Review: Lenovo’s Google Smart Display is pretty and intelligent'),\n",
       " (1,\n",
       "  'Google Maps user spots mysterious object submerged off the coast of Greece - and no-one knows what it is'),\n",
       " (0, 'Android is better than IOS'),\n",
       " (1,\n",
       "  'In information retrieval, tf–idf or TFIDF, short for term frequency–inverse document frequency'),\n",
       " (0, 'is a numerical statistic that is intended to reflect how important '),\n",
       " (1, 'a word is to a document in a collection or corpus.'),\n",
       " (1,\n",
       "  'It is often used as a weighting factor in searches of information retrieval'),\n",
       " (1,\n",
       "  'text mining, and user modeling. The tf-idf value increases proportionally'),\n",
       " (1, 'to the number of times a word appears in the document'),\n",
       " (1, 'and is offset by the frequency of the word in the corpus')]"
      ]
     },
     "execution_count": 109,
     "metadata": {},
     "output_type": "execute_result"
    }
   ],
   "source": [
    "list(zip(kmeans.fit_predict(tfidf), all_text))"
   ]
  },
  {
   "cell_type": "markdown",
   "metadata": {},
   "source": [
    "## Agglomerative Clustering"
   ]
  },
  {
   "cell_type": "code",
   "execution_count": 110,
   "metadata": {},
   "outputs": [],
   "source": [
    "hac = AgglomerativeClustering(n_clusters=2, affinity='cosine', linkage='average')"
   ]
  },
  {
   "cell_type": "code",
   "execution_count": 111,
   "metadata": {},
   "outputs": [
    {
     "data": {
      "text/plain": [
       "[(0,\n",
       "  'Google and Facebook are strangling the free press to death. Democracy is the loser'),\n",
       " (1, \"Your 60-second guide to security stuff Google touted today at Next '18\"),\n",
       " (1, 'A Guide to Using Android Without Selling Your Soul to Google'),\n",
       " (0, 'Review: Lenovo’s Google Smart Display is pretty and intelligent'),\n",
       " (0,\n",
       "  'Google Maps user spots mysterious object submerged off the coast of Greece - and no-one knows what it is'),\n",
       " (1, 'Android is better than IOS'),\n",
       " (0,\n",
       "  'In information retrieval, tf–idf or TFIDF, short for term frequency–inverse document frequency'),\n",
       " (1, 'is a numerical statistic that is intended to reflect how important '),\n",
       " (0, 'a word is to a document in a collection or corpus.'),\n",
       " (0,\n",
       "  'It is often used as a weighting factor in searches of information retrieval'),\n",
       " (0,\n",
       "  'text mining, and user modeling. The tf-idf value increases proportionally'),\n",
       " (0, 'to the number of times a word appears in the document'),\n",
       " (0, 'and is offset by the frequency of the word in the corpus')]"
      ]
     },
     "execution_count": 111,
     "metadata": {},
     "output_type": "execute_result"
    }
   ],
   "source": [
    "list(zip(hac.fit_predict(tfidf.toarray()), all_text))"
   ]
  },
  {
   "cell_type": "markdown",
   "metadata": {
    "slideshow": {
     "slide_type": "slide"
    }
   },
   "source": [
    "## Example 2: Topic model (1): BikeMi survey\n"
   ]
  },
  {
   "cell_type": "code",
   "execution_count": 112,
   "metadata": {
    "scrolled": true
   },
   "outputs": [
    {
     "name": "stderr",
     "output_type": "stream",
     "text": [
      "[nltk_data] Downloading package wordnet to\n",
      "[nltk_data]     /Users/giancarlomanzi/nltk_data...\n",
      "[nltk_data]   Package wordnet is already up-to-date!\n"
     ]
    },
    {
     "data": {
      "text/plain": [
       "True"
      ]
     },
     "execution_count": 112,
     "metadata": {},
     "output_type": "execute_result"
    }
   ],
   "source": [
    "import nltk\n",
    "nltk.download('wordnet')"
   ]
  },
  {
   "cell_type": "markdown",
   "metadata": {},
   "source": [
    "### Cleaning and pre-processing"
   ]
  },
  {
   "cell_type": "code",
   "execution_count": 116,
   "metadata": {},
   "outputs": [],
   "source": [
    "from nltk.corpus import stopwords\n",
    "from nltk.stem.wordnet import WordNetLemmatizer\n",
    "import string\n",
    "stop=set(stopwords.words('english'))\n",
    "exclude=set(string.punctuation)\n",
    "lemma=WordNetLemmatizer()\n",
    "def clean(doc):\n",
    "    stop_free=\" \".join([i for i in doc.lower().split() if i not in stop])\n",
    "    punc_free=''.join(ch for ch in stop_free if ch not in exclude)\n",
    "    normalized=\" \".join(lemma.lemmatize(word) for word in punc_free.split())\n",
    "    return normalized"
   ]
  },
  {
   "cell_type": "code",
   "execution_count": 117,
   "metadata": {
    "scrolled": false
   },
   "outputs": [
    {
     "data": {
      "text/plain": [
       "(354, 2)"
      ]
     },
     "execution_count": 117,
     "metadata": {},
     "output_type": "execute_result"
    }
   ],
   "source": [
    "import pandas as pd\n",
    "df = pd.read_csv('Polarity2014Reduced.csv', sep = \";\", header = 0)\n",
    "df.columns=['review','sentiment']\n",
    "df2=df[df['sentiment']==-1]\n",
    "df2.shape"
   ]
  },
  {
   "cell_type": "code",
   "execution_count": 118,
   "metadata": {},
   "outputs": [],
   "source": [
    "doc_complete=df2.iloc[0:2065,0].values.tolist()\n",
    "doc_clean=[clean(doc).split() for doc in doc_complete]"
   ]
  },
  {
   "cell_type": "markdown",
   "metadata": {},
   "source": [
    "# Getting the document-term matrix"
   ]
  },
  {
   "cell_type": "code",
   "execution_count": 119,
   "metadata": {},
   "outputs": [],
   "source": [
    "from sklearn.feature_extraction.text import CountVectorizer\n",
    "import numpy as np\n",
    "SOME_FIXED_SEED = 42\n",
    "np.random.seed(SOME_FIXED_SEED)"
   ]
  },
  {
   "cell_type": "code",
   "execution_count": 120,
   "metadata": {},
   "outputs": [],
   "source": [
    "cv=CountVectorizer(min_df=2,max_df=50,ngram_range=(1,2), token_pattern=None, tokenizer=lambda doc:doc,preprocessor=lambda doc:doc)"
   ]
  },
  {
   "cell_type": "code",
   "execution_count": 121,
   "metadata": {},
   "outputs": [
    {
     "name": "stdout",
     "output_type": "stream",
     "text": [
      "(354, 1392)\n"
     ]
    }
   ],
   "source": [
    "cv_features=cv.fit_transform(doc_clean)\n",
    "print(cv_features.shape)\n",
    "vocabulary=np.array(cv.get_feature_names())"
   ]
  },
  {
   "cell_type": "code",
   "execution_count": 122,
   "metadata": {},
   "outputs": [
    {
     "data": {
      "text/plain": [
       "array(['1', '1 volta', '10', ..., '√® stato', '√® troppo', '√® un'],\n",
       "      dtype='<U24')"
      ]
     },
     "execution_count": 122,
     "metadata": {},
     "output_type": "execute_result"
    }
   ],
   "source": [
    "vocabulary"
   ]
  },
  {
   "cell_type": "code",
   "execution_count": 123,
   "metadata": {},
   "outputs": [
    {
     "data": {
      "text/plain": [
       "array(['1', '1 volta', '10', ..., '√® stato', '√® troppo', '√® un'],\n",
       "      dtype='<U24')"
      ]
     },
     "execution_count": 123,
     "metadata": {},
     "output_type": "execute_result"
    }
   ],
   "source": [
    "vocabulary"
   ]
  },
  {
   "cell_type": "markdown",
   "metadata": {},
   "source": [
    "# LDA ANALYSIS"
   ]
  },
  {
   "cell_type": "code",
   "execution_count": 124,
   "metadata": {},
   "outputs": [],
   "source": [
    "# Using sklearn.decomposition LDA with 11 topics\n",
    "from sklearn.decomposition import LatentDirichletAllocation\n",
    "TOTAL_TOPICS=11"
   ]
  },
  {
   "cell_type": "code",
   "execution_count": 125,
   "metadata": {},
   "outputs": [],
   "source": [
    "lda_model=LatentDirichletAllocation(n_components=TOTAL_TOPICS,max_iter=500,max_doc_update_iter=50,learning_method='online',batch_size=1740,learning_offset=50.,random_state=42,n_jobs=16)"
   ]
  },
  {
   "cell_type": "code",
   "execution_count": 126,
   "metadata": {
    "scrolled": true
   },
   "outputs": [],
   "source": [
    "# Using the transformer 'fit_transform'\n",
    "document_topics=lda_model.fit_transform(cv_features)\n"
   ]
  },
  {
   "cell_type": "code",
   "execution_count": 127,
   "metadata": {},
   "outputs": [
    {
     "data": {
      "text/plain": [
       "(354, 11)"
      ]
     },
     "execution_count": 127,
     "metadata": {},
     "output_type": "execute_result"
    }
   ],
   "source": [
    "document_topics.shape"
   ]
  },
  {
   "cell_type": "code",
   "execution_count": 128,
   "metadata": {},
   "outputs": [
    {
     "name": "stderr",
     "output_type": "stream",
     "text": [
      "<ipython-input-128-515db2202b96>:7: FutureWarning: Passing a negative integer is deprecated in version 1.0 and will not be supported in future version. Instead, use None to not limit the column width.\n",
      "  pd.set_option('display.max_colwidth',-1)\n"
     ]
    },
    {
     "data": {
      "text/html": [
       "<div>\n",
       "<style scoped>\n",
       "    .dataframe tbody tr th:only-of-type {\n",
       "        vertical-align: middle;\n",
       "    }\n",
       "\n",
       "    .dataframe tbody tr th {\n",
       "        vertical-align: top;\n",
       "    }\n",
       "\n",
       "    .dataframe thead th {\n",
       "        text-align: right;\n",
       "    }\n",
       "</style>\n",
       "<table border=\"1\" class=\"dataframe\">\n",
       "  <thead>\n",
       "    <tr style=\"text-align: right;\">\n",
       "      <th></th>\n",
       "      <th>Term per Topic</th>\n",
       "    </tr>\n",
       "  </thead>\n",
       "  <tbody>\n",
       "    <tr>\n",
       "      <th>Topic1</th>\n",
       "      <td>della, completamente, servizio, la bici, possibilit√†, possibilit√† di, tramite, segnalare, app, troppo</td>\n",
       "    </tr>\n",
       "    <tr>\n",
       "      <th>Topic2</th>\n",
       "      <td>servizio, bicicletta, lasciare, la bicicletta, cambio, stalli, se, le stazioni, lasciare la, la bici</td>\n",
       "    </tr>\n",
       "    <tr>\n",
       "      <th>Topic3</th>\n",
       "      <td>piene, con, sempre, al, vuote, molto, tutte, alcune, le colonnine, colonnine</td>\n",
       "    </tr>\n",
       "    <tr>\n",
       "      <th>Topic4</th>\n",
       "      <td>mi, da, mi √®, servizio, stazione, la bici, se, √® capitato, capitato, bikemi</td>\n",
       "    </tr>\n",
       "    <tr>\n",
       "      <th>Topic5</th>\n",
       "      <td>con, tempo, migliorare, al, ecc, cambio, sistema, delle bici, migliorare il, anche</td>\n",
       "    </tr>\n",
       "    <tr>\n",
       "      <th>Topic6</th>\n",
       "      <td>essere, con, le bici, frequenza, essere pi√π, manutenzione, bike, bici con, bici sono, troppo</td>\n",
       "    </tr>\n",
       "    <tr>\n",
       "      <th>Topic7</th>\n",
       "      <td>pi√π spesso, al, gomme, spesso le, della, cambio, le bici, del, gonfiare, controllare</td>\n",
       "    </tr>\n",
       "    <tr>\n",
       "      <th>Topic8</th>\n",
       "      <td>possibilit√† di, possibilit√†, segnalare, della, di segnalare, che non, dei, controllare pi√π, delle biciclette, al</td>\n",
       "    </tr>\n",
       "    <tr>\n",
       "      <th>Topic9</th>\n",
       "      <td>troppo, piste, piste ciclabili, ciclabili, cambio, con, problemi, ruote, manutenzione, sgonfie</td>\n",
       "    </tr>\n",
       "    <tr>\n",
       "      <th>Topic10</th>\n",
       "      <td>anche, le stazioni, stazione, molto, piene, servizio, tempo, del, da, cambio</td>\n",
       "    </tr>\n",
       "    <tr>\n",
       "      <th>Topic11</th>\n",
       "      <td>stalli, gli, centro, gli stalli, ci, nelle, di punta, punta, aumentare, le bici</td>\n",
       "    </tr>\n",
       "  </tbody>\n",
       "</table>\n",
       "</div>"
      ],
      "text/plain": [
       "                                                                                                              Term per Topic\n",
       "Topic1   della, completamente, servizio, la bici, possibilit√†, possibilit√† di, tramite, segnalare, app, troppo            \n",
       "Topic2   servizio, bicicletta, lasciare, la bicicletta, cambio, stalli, se, le stazioni, lasciare la, la bici               \n",
       "Topic3   piene, con, sempre, al, vuote, molto, tutte, alcune, le colonnine, colonnine                                       \n",
       "Topic4   mi, da, mi √®, servizio, stazione, la bici, se, √® capitato, capitato, bikemi                                      \n",
       "Topic5   con, tempo, migliorare, al, ecc, cambio, sistema, delle bici, migliorare il, anche                                 \n",
       "Topic6   essere, con, le bici, frequenza, essere pi√π, manutenzione, bike, bici con, bici sono, troppo                      \n",
       "Topic7   pi√π spesso, al, gomme, spesso le, della, cambio, le bici, del, gonfiare, controllare                              \n",
       "Topic8   possibilit√† di, possibilit√†, segnalare, della, di segnalare, che non, dei, controllare pi√π, delle biciclette, al\n",
       "Topic9   troppo, piste, piste ciclabili, ciclabili, cambio, con, problemi, ruote, manutenzione, sgonfie                     \n",
       "Topic10  anche, le stazioni, stazione, molto, piene, servizio, tempo, del, da, cambio                                       \n",
       "Topic11  stalli, gli, centro, gli stalli, ci, nelle, di punta, punta, aumentare, le bici                                    "
      ]
     },
     "execution_count": 128,
     "metadata": {},
     "output_type": "execute_result"
    }
   ],
   "source": [
    "# Extraqcting the most important 10 terms for each topic\n",
    "topic_terms=lda_model.components_\n",
    "top_terms=10 # number of 'top terms'\n",
    "topic_key_terms_idxs=np.argsort(-np.absolute(topic_terms), axis=1)[:,:top_terms]\n",
    "topic_keyterms=vocabulary[topic_key_terms_idxs]\n",
    "topics=[', '.join(topic) for topic in topic_keyterms]\n",
    "pd.set_option('display.max_colwidth',-1)\n",
    "topics_df=pd.DataFrame(topics,columns=['Term per Topic'], index=['Topic'+str(t) for t in range(1,TOTAL_TOPICS+1)])\n",
    "topics_df"
   ]
  },
  {
   "cell_type": "code",
   "execution_count": 129,
   "metadata": {},
   "outputs": [
    {
     "data": {
      "text/html": [
       "<div>\n",
       "<style scoped>\n",
       "    .dataframe tbody tr th:only-of-type {\n",
       "        vertical-align: middle;\n",
       "    }\n",
       "\n",
       "    .dataframe tbody tr th {\n",
       "        vertical-align: top;\n",
       "    }\n",
       "\n",
       "    .dataframe thead th {\n",
       "        text-align: right;\n",
       "    }\n",
       "</style>\n",
       "<table border=\"1\" class=\"dataframe\">\n",
       "  <thead>\n",
       "    <tr style=\"text-align: right;\">\n",
       "      <th></th>\n",
       "      <th>T1</th>\n",
       "      <th>T2</th>\n",
       "      <th>T3</th>\n",
       "      <th>T4</th>\n",
       "      <th>T5</th>\n",
       "      <th>T6</th>\n",
       "      <th>T7</th>\n",
       "      <th>T8</th>\n",
       "      <th>T9</th>\n",
       "      <th>T10</th>\n",
       "      <th>T11</th>\n",
       "    </tr>\n",
       "  </thead>\n",
       "  <tbody>\n",
       "    <tr>\n",
       "      <th>0</th>\n",
       "      <td>0.005348</td>\n",
       "      <td>0.005348</td>\n",
       "      <td>0.005348</td>\n",
       "      <td>0.005348</td>\n",
       "      <td>0.005348</td>\n",
       "      <td>0.005348</td>\n",
       "      <td>0.005348</td>\n",
       "      <td>0.005348</td>\n",
       "      <td>0.946523</td>\n",
       "      <td>0.005348</td>\n",
       "      <td>0.005348</td>\n",
       "    </tr>\n",
       "    <tr>\n",
       "      <th>1</th>\n",
       "      <td>0.009091</td>\n",
       "      <td>0.909084</td>\n",
       "      <td>0.009091</td>\n",
       "      <td>0.009091</td>\n",
       "      <td>0.009091</td>\n",
       "      <td>0.009091</td>\n",
       "      <td>0.009092</td>\n",
       "      <td>0.009092</td>\n",
       "      <td>0.009093</td>\n",
       "      <td>0.009091</td>\n",
       "      <td>0.009091</td>\n",
       "    </tr>\n",
       "    <tr>\n",
       "      <th>2</th>\n",
       "      <td>0.002841</td>\n",
       "      <td>0.971589</td>\n",
       "      <td>0.002841</td>\n",
       "      <td>0.002841</td>\n",
       "      <td>0.002841</td>\n",
       "      <td>0.002841</td>\n",
       "      <td>0.002841</td>\n",
       "      <td>0.002841</td>\n",
       "      <td>0.002841</td>\n",
       "      <td>0.002841</td>\n",
       "      <td>0.002841</td>\n",
       "    </tr>\n",
       "    <tr>\n",
       "      <th>3</th>\n",
       "      <td>0.015152</td>\n",
       "      <td>0.015153</td>\n",
       "      <td>0.015154</td>\n",
       "      <td>0.848456</td>\n",
       "      <td>0.015152</td>\n",
       "      <td>0.015160</td>\n",
       "      <td>0.015157</td>\n",
       "      <td>0.015152</td>\n",
       "      <td>0.015156</td>\n",
       "      <td>0.015152</td>\n",
       "      <td>0.015157</td>\n",
       "    </tr>\n",
       "    <tr>\n",
       "      <th>4</th>\n",
       "      <td>0.001567</td>\n",
       "      <td>0.001567</td>\n",
       "      <td>0.984325</td>\n",
       "      <td>0.001567</td>\n",
       "      <td>0.001567</td>\n",
       "      <td>0.001567</td>\n",
       "      <td>0.001567</td>\n",
       "      <td>0.001567</td>\n",
       "      <td>0.001568</td>\n",
       "      <td>0.001567</td>\n",
       "      <td>0.001568</td>\n",
       "    </tr>\n",
       "    <tr>\n",
       "      <th>...</th>\n",
       "      <td>...</td>\n",
       "      <td>...</td>\n",
       "      <td>...</td>\n",
       "      <td>...</td>\n",
       "      <td>...</td>\n",
       "      <td>...</td>\n",
       "      <td>...</td>\n",
       "      <td>...</td>\n",
       "      <td>...</td>\n",
       "      <td>...</td>\n",
       "      <td>...</td>\n",
       "    </tr>\n",
       "    <tr>\n",
       "      <th>349</th>\n",
       "      <td>0.003637</td>\n",
       "      <td>0.003637</td>\n",
       "      <td>0.003636</td>\n",
       "      <td>0.003637</td>\n",
       "      <td>0.003636</td>\n",
       "      <td>0.003637</td>\n",
       "      <td>0.003637</td>\n",
       "      <td>0.003637</td>\n",
       "      <td>0.433846</td>\n",
       "      <td>0.003637</td>\n",
       "      <td>0.533425</td>\n",
       "    </tr>\n",
       "    <tr>\n",
       "      <th>350</th>\n",
       "      <td>0.010101</td>\n",
       "      <td>0.010102</td>\n",
       "      <td>0.010102</td>\n",
       "      <td>0.898987</td>\n",
       "      <td>0.010101</td>\n",
       "      <td>0.010101</td>\n",
       "      <td>0.010102</td>\n",
       "      <td>0.010101</td>\n",
       "      <td>0.010101</td>\n",
       "      <td>0.010101</td>\n",
       "      <td>0.010101</td>\n",
       "    </tr>\n",
       "    <tr>\n",
       "      <th>351</th>\n",
       "      <td>0.018183</td>\n",
       "      <td>0.018182</td>\n",
       "      <td>0.018182</td>\n",
       "      <td>0.018182</td>\n",
       "      <td>0.018183</td>\n",
       "      <td>0.018182</td>\n",
       "      <td>0.018183</td>\n",
       "      <td>0.818175</td>\n",
       "      <td>0.018182</td>\n",
       "      <td>0.018182</td>\n",
       "      <td>0.018182</td>\n",
       "    </tr>\n",
       "    <tr>\n",
       "      <th>352</th>\n",
       "      <td>0.002392</td>\n",
       "      <td>0.002393</td>\n",
       "      <td>0.002393</td>\n",
       "      <td>0.002392</td>\n",
       "      <td>0.002392</td>\n",
       "      <td>0.002392</td>\n",
       "      <td>0.002392</td>\n",
       "      <td>0.002392</td>\n",
       "      <td>0.002393</td>\n",
       "      <td>0.976075</td>\n",
       "      <td>0.002392</td>\n",
       "    </tr>\n",
       "    <tr>\n",
       "      <th>353</th>\n",
       "      <td>0.011365</td>\n",
       "      <td>0.011364</td>\n",
       "      <td>0.011364</td>\n",
       "      <td>0.011364</td>\n",
       "      <td>0.886355</td>\n",
       "      <td>0.011365</td>\n",
       "      <td>0.011365</td>\n",
       "      <td>0.011365</td>\n",
       "      <td>0.011364</td>\n",
       "      <td>0.011364</td>\n",
       "      <td>0.011364</td>\n",
       "    </tr>\n",
       "  </tbody>\n",
       "</table>\n",
       "<p>354 rows × 11 columns</p>\n",
       "</div>"
      ],
      "text/plain": [
       "           T1        T2        T3        T4        T5        T6        T7  \\\n",
       "0    0.005348  0.005348  0.005348  0.005348  0.005348  0.005348  0.005348   \n",
       "1    0.009091  0.909084  0.009091  0.009091  0.009091  0.009091  0.009092   \n",
       "2    0.002841  0.971589  0.002841  0.002841  0.002841  0.002841  0.002841   \n",
       "3    0.015152  0.015153  0.015154  0.848456  0.015152  0.015160  0.015157   \n",
       "4    0.001567  0.001567  0.984325  0.001567  0.001567  0.001567  0.001567   \n",
       "..        ...       ...       ...       ...       ...       ...       ...   \n",
       "349  0.003637  0.003637  0.003636  0.003637  0.003636  0.003637  0.003637   \n",
       "350  0.010101  0.010102  0.010102  0.898987  0.010101  0.010101  0.010102   \n",
       "351  0.018183  0.018182  0.018182  0.018182  0.018183  0.018182  0.018183   \n",
       "352  0.002392  0.002393  0.002393  0.002392  0.002392  0.002392  0.002392   \n",
       "353  0.011365  0.011364  0.011364  0.011364  0.886355  0.011365  0.011365   \n",
       "\n",
       "           T8        T9       T10       T11  \n",
       "0    0.005348  0.946523  0.005348  0.005348  \n",
       "1    0.009092  0.009093  0.009091  0.009091  \n",
       "2    0.002841  0.002841  0.002841  0.002841  \n",
       "3    0.015152  0.015156  0.015152  0.015157  \n",
       "4    0.001567  0.001568  0.001567  0.001568  \n",
       "..        ...       ...       ...       ...  \n",
       "349  0.003637  0.433846  0.003637  0.533425  \n",
       "350  0.010101  0.010101  0.010101  0.010101  \n",
       "351  0.818175  0.018182  0.018182  0.018182  \n",
       "352  0.002392  0.002393  0.976075  0.002392  \n",
       "353  0.011365  0.011364  0.011364  0.011364  \n",
       "\n",
       "[354 rows x 11 columns]"
      ]
     },
     "execution_count": 129,
     "metadata": {},
     "output_type": "execute_result"
    }
   ],
   "source": [
    "dt_df=pd.DataFrame(document_topics,columns=['T'+str(i) for i in range(1,TOTAL_TOPICS+1)])\n",
    "dt_df                                                                      "
   ]
  },
  {
   "cell_type": "code",
   "execution_count": 130,
   "metadata": {},
   "outputs": [
    {
     "data": {
      "text/html": [
       "<div>\n",
       "<style scoped>\n",
       "    .dataframe tbody tr th:only-of-type {\n",
       "        vertical-align: middle;\n",
       "    }\n",
       "\n",
       "    .dataframe tbody tr th {\n",
       "        vertical-align: top;\n",
       "    }\n",
       "\n",
       "    .dataframe thead th {\n",
       "        text-align: right;\n",
       "    }\n",
       "</style>\n",
       "<table border=\"1\" class=\"dataframe\">\n",
       "  <thead>\n",
       "    <tr style=\"text-align: right;\">\n",
       "      <th></th>\n",
       "      <th>Dominant Topic</th>\n",
       "      <th>Contribution%</th>\n",
       "      <th>Answer Num</th>\n",
       "      <th>Topic</th>\n",
       "    </tr>\n",
       "  </thead>\n",
       "  <tbody>\n",
       "    <tr>\n",
       "      <th>Topic1</th>\n",
       "      <td>T1</td>\n",
       "      <td>0.97159</td>\n",
       "      <td>193</td>\n",
       "      <td>della, completamente, servizio, la bici, possibilit√†, possibilit√† di, tramite, segnalare, app, troppo</td>\n",
       "    </tr>\n",
       "    <tr>\n",
       "      <th>Topic2</th>\n",
       "      <td>T2</td>\n",
       "      <td>0.99209</td>\n",
       "      <td>179</td>\n",
       "      <td>servizio, bicicletta, lasciare, la bicicletta, cambio, stalli, se, le stazioni, lasciare la, la bici</td>\n",
       "    </tr>\n",
       "    <tr>\n",
       "      <th>Topic3</th>\n",
       "      <td>T3</td>\n",
       "      <td>0.98510</td>\n",
       "      <td>52</td>\n",
       "      <td>piene, con, sempre, al, vuote, molto, tutte, alcune, le colonnine, colonnine</td>\n",
       "    </tr>\n",
       "    <tr>\n",
       "      <th>Topic4</th>\n",
       "      <td>T4</td>\n",
       "      <td>0.98978</td>\n",
       "      <td>328</td>\n",
       "      <td>mi, da, mi √®, servizio, stazione, la bici, se, √® capitato, capitato, bikemi</td>\n",
       "    </tr>\n",
       "    <tr>\n",
       "      <th>Topic5</th>\n",
       "      <td>T5</td>\n",
       "      <td>0.99072</td>\n",
       "      <td>28</td>\n",
       "      <td>con, tempo, migliorare, al, ecc, cambio, sistema, delle bici, migliorare il, anche</td>\n",
       "    </tr>\n",
       "    <tr>\n",
       "      <th>Topic6</th>\n",
       "      <td>T6</td>\n",
       "      <td>0.96503</td>\n",
       "      <td>126</td>\n",
       "      <td>essere, con, le bici, frequenza, essere pi√π, manutenzione, bike, bici con, bici sono, troppo</td>\n",
       "    </tr>\n",
       "    <tr>\n",
       "      <th>Topic7</th>\n",
       "      <td>T7</td>\n",
       "      <td>0.98557</td>\n",
       "      <td>342</td>\n",
       "      <td>pi√π spesso, al, gomme, spesso le, della, cambio, le bici, del, gonfiare, controllare</td>\n",
       "    </tr>\n",
       "    <tr>\n",
       "      <th>Topic8</th>\n",
       "      <td>T8</td>\n",
       "      <td>0.96503</td>\n",
       "      <td>174</td>\n",
       "      <td>possibilit√† di, possibilit√†, segnalare, della, di segnalare, che non, dei, controllare pi√π, delle biciclette, al</td>\n",
       "    </tr>\n",
       "    <tr>\n",
       "      <th>Topic9</th>\n",
       "      <td>T9</td>\n",
       "      <td>0.98943</td>\n",
       "      <td>294</td>\n",
       "      <td>troppo, piste, piste ciclabili, ciclabili, cambio, con, problemi, ruote, manutenzione, sgonfie</td>\n",
       "    </tr>\n",
       "    <tr>\n",
       "      <th>Topic10</th>\n",
       "      <td>T10</td>\n",
       "      <td>0.98864</td>\n",
       "      <td>198</td>\n",
       "      <td>anche, le stazioni, stazione, molto, piene, servizio, tempo, del, da, cambio</td>\n",
       "    </tr>\n",
       "    <tr>\n",
       "      <th>Topic11</th>\n",
       "      <td>T11</td>\n",
       "      <td>0.99126</td>\n",
       "      <td>114</td>\n",
       "      <td>stalli, gli, centro, gli stalli, ci, nelle, di punta, punta, aumentare, le bici</td>\n",
       "    </tr>\n",
       "  </tbody>\n",
       "</table>\n",
       "</div>"
      ],
      "text/plain": [
       "        Dominant Topic  Contribution%  Answer Num  \\\n",
       "Topic1              T1        0.97159         193   \n",
       "Topic2              T2        0.99209         179   \n",
       "Topic3              T3        0.98510          52   \n",
       "Topic4              T4        0.98978         328   \n",
       "Topic5              T5        0.99072          28   \n",
       "Topic6              T6        0.96503         126   \n",
       "Topic7              T7        0.98557         342   \n",
       "Topic8              T8        0.96503         174   \n",
       "Topic9              T9        0.98943         294   \n",
       "Topic10            T10        0.98864         198   \n",
       "Topic11            T11        0.99126         114   \n",
       "\n",
       "                                                                                                                       Topic  \n",
       "Topic1               della, completamente, servizio, la bici, possibilit√†, possibilit√† di, tramite, segnalare, app, troppo  \n",
       "Topic2                  servizio, bicicletta, lasciare, la bicicletta, cambio, stalli, se, le stazioni, lasciare la, la bici  \n",
       "Topic3                                          piene, con, sempre, al, vuote, molto, tutte, alcune, le colonnine, colonnine  \n",
       "Topic4                                         mi, da, mi √®, servizio, stazione, la bici, se, √® capitato, capitato, bikemi  \n",
       "Topic5                                    con, tempo, migliorare, al, ecc, cambio, sistema, delle bici, migliorare il, anche  \n",
       "Topic6                         essere, con, le bici, frequenza, essere pi√π, manutenzione, bike, bici con, bici sono, troppo  \n",
       "Topic7                                 pi√π spesso, al, gomme, spesso le, della, cambio, le bici, del, gonfiare, controllare  \n",
       "Topic8   possibilit√† di, possibilit√†, segnalare, della, di segnalare, che non, dei, controllare pi√π, delle biciclette, al  \n",
       "Topic9                        troppo, piste, piste ciclabili, ciclabili, cambio, con, problemi, ruote, manutenzione, sgonfie  \n",
       "Topic10                                         anche, le stazioni, stazione, molto, piene, servizio, tempo, del, da, cambio  \n",
       "Topic11                                      stalli, gli, centro, gli stalli, ci, nelle, di punta, punta, aumentare, le bici  "
      ]
     },
     "execution_count": 130,
     "metadata": {},
     "output_type": "execute_result"
    }
   ],
   "source": [
    "# Column 'Contribution%' gives the max probability among the 354 \n",
    "# features (terms) for each topic\n",
    "dt_df=pd.DataFrame(document_topics,columns=['T'+str(i) for i in range(1,TOTAL_TOPICS+1)])\n",
    "pd.options.display.float_format='{:,.5f}'.format\n",
    "pd.set_option('display.max_colwidth',200)\n",
    "max_contrib_topics=dt_df.max(axis=0)\n",
    "dominant_topics=max_contrib_topics.index\n",
    "contrib_perc=max_contrib_topics.values\n",
    "document_numbers=[dt_df[dt_df[t]==max_contrib_topics.loc[t]].index[0] for t in dominant_topics]\n",
    "results_df=pd.DataFrame({'Dominant Topic':dominant_topics,'Contribution%':contrib_perc, 'Answer Num': document_numbers,'Topic':topics_df['Term per Topic']})\n",
    "results_df"
   ]
  },
  {
   "cell_type": "code",
   "execution_count": 131,
   "metadata": {},
   "outputs": [
    {
     "data": {
      "text/html": [
       "<div>\n",
       "<style scoped>\n",
       "    .dataframe tbody tr th:only-of-type {\n",
       "        vertical-align: middle;\n",
       "    }\n",
       "\n",
       "    .dataframe tbody tr th {\n",
       "        vertical-align: top;\n",
       "    }\n",
       "\n",
       "    .dataframe thead th {\n",
       "        text-align: right;\n",
       "    }\n",
       "</style>\n",
       "<table border=\"1\" class=\"dataframe\">\n",
       "  <thead>\n",
       "    <tr style=\"text-align: right;\">\n",
       "      <th></th>\n",
       "      <th>Dominant Topic</th>\n",
       "      <th>Contribution%</th>\n",
       "      <th>Answer Num</th>\n",
       "      <th>Topic</th>\n",
       "      <th>Freq 0.9-1</th>\n",
       "    </tr>\n",
       "  </thead>\n",
       "  <tbody>\n",
       "    <tr>\n",
       "      <th>Topic1</th>\n",
       "      <td>T1</td>\n",
       "      <td>0.97159</td>\n",
       "      <td>193</td>\n",
       "      <td>della, completamente, servizio, la bici, possibilit√†, possibilit√† di, tramite, segnalare, app, troppo</td>\n",
       "      <td>0.00516</td>\n",
       "    </tr>\n",
       "    <tr>\n",
       "      <th>Topic2</th>\n",
       "      <td>T2</td>\n",
       "      <td>0.99209</td>\n",
       "      <td>179</td>\n",
       "      <td>servizio, bicicletta, lasciare, la bicicletta, cambio, stalli, se, le stazioni, lasciare la, la bici</td>\n",
       "      <td>0.01547</td>\n",
       "    </tr>\n",
       "    <tr>\n",
       "      <th>Topic3</th>\n",
       "      <td>T3</td>\n",
       "      <td>0.98510</td>\n",
       "      <td>52</td>\n",
       "      <td>piene, con, sempre, al, vuote, molto, tutte, alcune, le colonnine, colonnine</td>\n",
       "      <td>0.01172</td>\n",
       "    </tr>\n",
       "    <tr>\n",
       "      <th>Topic4</th>\n",
       "      <td>T4</td>\n",
       "      <td>0.98978</td>\n",
       "      <td>328</td>\n",
       "      <td>mi, da, mi √®, servizio, stazione, la bici, se, √® capitato, capitato, bikemi</td>\n",
       "      <td>0.00891</td>\n",
       "    </tr>\n",
       "    <tr>\n",
       "      <th>Topic5</th>\n",
       "      <td>T5</td>\n",
       "      <td>0.99072</td>\n",
       "      <td>28</td>\n",
       "      <td>con, tempo, migliorare, al, ecc, cambio, sistema, delle bici, migliorare il, anche</td>\n",
       "      <td>0.00609</td>\n",
       "    </tr>\n",
       "    <tr>\n",
       "      <th>Topic6</th>\n",
       "      <td>T6</td>\n",
       "      <td>0.96503</td>\n",
       "      <td>126</td>\n",
       "      <td>essere, con, le bici, frequenza, essere pi√π, manutenzione, bike, bici con, bici sono, troppo</td>\n",
       "      <td>0.00469</td>\n",
       "    </tr>\n",
       "    <tr>\n",
       "      <th>Topic7</th>\n",
       "      <td>T7</td>\n",
       "      <td>0.98557</td>\n",
       "      <td>342</td>\n",
       "      <td>pi√π spesso, al, gomme, spesso le, della, cambio, le bici, del, gonfiare, controllare</td>\n",
       "      <td>0.00797</td>\n",
       "    </tr>\n",
       "    <tr>\n",
       "      <th>Topic8</th>\n",
       "      <td>T8</td>\n",
       "      <td>0.96503</td>\n",
       "      <td>174</td>\n",
       "      <td>possibilit√† di, possibilit√†, segnalare, della, di segnalare, che non, dei, controllare pi√π, delle biciclette, al</td>\n",
       "      <td>0.00797</td>\n",
       "    </tr>\n",
       "    <tr>\n",
       "      <th>Topic9</th>\n",
       "      <td>T9</td>\n",
       "      <td>0.98943</td>\n",
       "      <td>294</td>\n",
       "      <td>troppo, piste, piste ciclabili, ciclabili, cambio, con, problemi, ruote, manutenzione, sgonfie</td>\n",
       "      <td>0.02391</td>\n",
       "    </tr>\n",
       "    <tr>\n",
       "      <th>Topic10</th>\n",
       "      <td>T10</td>\n",
       "      <td>0.98864</td>\n",
       "      <td>198</td>\n",
       "      <td>anche, le stazioni, stazione, molto, piene, servizio, tempo, del, da, cambio</td>\n",
       "      <td>0.00656</td>\n",
       "    </tr>\n",
       "    <tr>\n",
       "      <th>Topic11</th>\n",
       "      <td>T11</td>\n",
       "      <td>0.99126</td>\n",
       "      <td>114</td>\n",
       "      <td>stalli, gli, centro, gli stalli, ci, nelle, di punta, punta, aumentare, le bici</td>\n",
       "      <td>0.01828</td>\n",
       "    </tr>\n",
       "  </tbody>\n",
       "</table>\n",
       "</div>"
      ],
      "text/plain": [
       "        Dominant Topic  Contribution%  Answer Num  \\\n",
       "Topic1              T1        0.97159         193   \n",
       "Topic2              T2        0.99209         179   \n",
       "Topic3              T3        0.98510          52   \n",
       "Topic4              T4        0.98978         328   \n",
       "Topic5              T5        0.99072          28   \n",
       "Topic6              T6        0.96503         126   \n",
       "Topic7              T7        0.98557         342   \n",
       "Topic8              T8        0.96503         174   \n",
       "Topic9              T9        0.98943         294   \n",
       "Topic10            T10        0.98864         198   \n",
       "Topic11            T11        0.99126         114   \n",
       "\n",
       "                                                                                                                       Topic  \\\n",
       "Topic1               della, completamente, servizio, la bici, possibilit√†, possibilit√† di, tramite, segnalare, app, troppo   \n",
       "Topic2                  servizio, bicicletta, lasciare, la bicicletta, cambio, stalli, se, le stazioni, lasciare la, la bici   \n",
       "Topic3                                          piene, con, sempre, al, vuote, molto, tutte, alcune, le colonnine, colonnine   \n",
       "Topic4                                         mi, da, mi √®, servizio, stazione, la bici, se, √® capitato, capitato, bikemi   \n",
       "Topic5                                    con, tempo, migliorare, al, ecc, cambio, sistema, delle bici, migliorare il, anche   \n",
       "Topic6                         essere, con, le bici, frequenza, essere pi√π, manutenzione, bike, bici con, bici sono, troppo   \n",
       "Topic7                                 pi√π spesso, al, gomme, spesso le, della, cambio, le bici, del, gonfiare, controllare   \n",
       "Topic8   possibilit√† di, possibilit√†, segnalare, della, di segnalare, che non, dei, controllare pi√π, delle biciclette, al   \n",
       "Topic9                        troppo, piste, piste ciclabili, ciclabili, cambio, con, problemi, ruote, manutenzione, sgonfie   \n",
       "Topic10                                         anche, le stazioni, stazione, molto, piene, servizio, tempo, del, da, cambio   \n",
       "Topic11                                      stalli, gli, centro, gli stalli, ci, nelle, di punta, punta, aumentare, le bici   \n",
       "\n",
       "         Freq 0.9-1  \n",
       "Topic1      0.00516  \n",
       "Topic2      0.01547  \n",
       "Topic3      0.01172  \n",
       "Topic4      0.00891  \n",
       "Topic5      0.00609  \n",
       "Topic6      0.00469  \n",
       "Topic7      0.00797  \n",
       "Topic8      0.00797  \n",
       "Topic9      0.02391  \n",
       "Topic10     0.00656  \n",
       "Topic11     0.01828  "
      ]
     },
     "execution_count": 131,
     "metadata": {},
     "output_type": "execute_result"
    }
   ],
   "source": [
    "# This gives, for each topic, the % of features having prob >0.9\n",
    "numT1=np.count_nonzero(dt_df['T1']>0.9)\n",
    "FrT1=numT1/2133\n",
    "numT2=np.count_nonzero(dt_df['T2']>0.9)\n",
    "FrT2=numT2/2133\n",
    "numT3=np.count_nonzero(dt_df['T3']>0.9)\n",
    "FrT3=numT3/2133\n",
    "numT4=np.count_nonzero(dt_df['T4']>0.9)\n",
    "FrT4=numT4/2133\n",
    "numT5=np.count_nonzero(dt_df['T5']>0.9)\n",
    "FrT5=numT5/2133\n",
    "numT6=np.count_nonzero(dt_df['T6']>0.9)\n",
    "FrT6=numT6/2133\n",
    "numT7=np.count_nonzero(dt_df['T7']>0.9)\n",
    "FrT7=numT7/2133\n",
    "numT8=np.count_nonzero(dt_df['T8']>0.9)\n",
    "FrT8=numT8/2133\n",
    "numT9=np.count_nonzero(dt_df['T9']>0.9)\n",
    "FrT9=numT9/2133\n",
    "numT10=np.count_nonzero(dt_df['T10']>0.9)\n",
    "FrT10=numT10/2133\n",
    "numT11=np.count_nonzero(dt_df['T11']>0.9)\n",
    "FrT11=numT11/2133\n",
    "d=(FrT1,FrT2,FrT3,FrT4,FrT5,FrT6,FrT7,FrT8,FrT9,FrT10,FrT11)\n",
    "df_Fr=pd.DataFrame(data=d)\n",
    "results_df.insert(4,'Freq 0.9-1',df_Fr.values)\n",
    "results_df"
   ]
  },
  {
   "cell_type": "code",
   "execution_count": null,
   "metadata": {},
   "outputs": [],
   "source": []
  },
  {
   "cell_type": "markdown",
   "metadata": {},
   "source": [
    "# Resampling Methods\n",
    "\n",
    "\n",
    "\n",
    "## Resampling methods are simulation methods in the field of computational statistics:\n",
    "   \n",
    "   \n",
    "\n",
    "- In general, in resampling methods sample data are the **only source of information about the population**.\n",
    "\n",
    "\n",
    "- **No assumptions** or guess **about the population** are available. \n",
    "\n",
    "\n",
    "- They involve repeatedly sampling (i.i.d. in most cases) from a training set and <u>refitting a model of interest on each sample</u> in order to obtain additional information about the population parameters. \n",
    "\n",
    "\n",
    "- Resampling methods are a **class of Monte Carlo methods** and are generally considered computer intensive.\n"
   ]
  },
  {
   "cell_type": "markdown",
   "metadata": {},
   "source": [
    "# A first example: the standard bootstrap\n",
    "   \n",
    "1. The bootstrap is a statistical method originally proposed to evaluate the *accuracy* of an estimator (i.e. its precision) for a parameter of interest. \n",
    "\n",
    "\n",
    "2. In a non-parametric context the (classical) bootstrap methodology is based on the fact that the empirical distribution function (EDF) $\\hat{F}$ is a **good estimate of the underlying and unknown distribution function** $F$ from which an independent and identically (iid) $n$-sized sample is drawn.\n",
    "\n",
    "\n",
    "3. The EDF puts mass $1/n$ on each element $X_i$ of the sample. \n",
    "\n",
    "\n",
    "4. $\\hat{F}$ is the 'population' under which we can simulate the distribution of a particular statistic $\\hat{\\theta} (F)$.\n",
    "\n",
    "\n",
    "5. Hence, all the possible $n$-sized samples under $\\hat{F}$ should be computed and all the values corresponding to the above statistic should be calculated. In this way an 'ideal' bootstrap estimate is produced. \n",
    "\n",
    "\n",
    "6. But this is impossible to obtain and we rely on a bootstrap estimate obtained by repeatedly resampling *many times* the original sample in order to *mimic* the sampling variability.\n"
   ]
  },
  {
   "cell_type": "markdown",
   "metadata": {},
   "source": [
    "# EDF: formal definition and example\n",
    "   \n",
    "- Formally, the EDF is defined as follows:\n",
    "\n",
    " $$\n",
    " \\hat{F}_n(t)=\\frac{\\text{number of elements in the sample} \\leq t}{n}= \\frac{1}{n} \\sum_{i=1}^n \\mathbb{1} \\{x_i \\leq t \\}.\n",
    " $$ \n",
    " \n",
    "- Example data: elbow measurements of 247 phisically active men taken from Heinz, G., Peterson, L.J., Johnson, R.W. and Kerk, C.J. (2003). Exploring Relationships in Body Dimensions. *Journal of Statistics Education*, 11(2): 1-10.\n",
    "\n",
    "\n",
    "- Data set: 'body.dat.txt'.\n",
    "\n",
    "\n",
    "- Data description: 'body.txt'.\n",
    " \n"
   ]
  },
  {
   "cell_type": "code",
   "execution_count": 9,
   "metadata": {},
   "outputs": [
    {
     "data": {
      "text/plain": [
       "dtype([('id', '<i4')], align=True)"
      ]
     },
     "execution_count": 9,
     "metadata": {},
     "output_type": "execute_result"
    }
   ],
   "source": [
    "import numpy as np\n",
    "dt = np.dtype ([('id','i4')],('name','S12'))\n",
    "dt"
   ]
  },
  {
   "cell_type": "code",
   "execution_count": 6,
   "metadata": {},
   "outputs": [
    {
     "data": {
      "text/plain": [
       "Int64Index([0, 1], dtype='int64')"
      ]
     },
     "execution_count": 6,
     "metadata": {},
     "output_type": "execute_result"
    }
   ],
   "source": [
    "import numpy as np\n",
    "import pandas as pd\n",
    "#Read the txt file\n",
    "elbow_data = pd.read_csv('body.dat.txt', sep=\"\\t\", header=None,usecols=[0,1])\n",
    "elbow_data.columns "
   ]
  },
  {
   "cell_type": "code",
   "execution_count": 7,
   "metadata": {
    "scrolled": true
   },
   "outputs": [
    {
     "data": {
      "text/html": [
       "<div>\n",
       "<style scoped>\n",
       "    .dataframe tbody tr th:only-of-type {\n",
       "        vertical-align: middle;\n",
       "    }\n",
       "\n",
       "    .dataframe tbody tr th {\n",
       "        vertical-align: top;\n",
       "    }\n",
       "\n",
       "    .dataframe thead th {\n",
       "        text-align: right;\n",
       "    }\n",
       "</style>\n",
       "<table border=\"1\" class=\"dataframe\">\n",
       "  <thead>\n",
       "    <tr style=\"text-align: right;\">\n",
       "      <th></th>\n",
       "      <th>0</th>\n",
       "      <th>1</th>\n",
       "    </tr>\n",
       "  </thead>\n",
       "  <tbody>\n",
       "    <tr>\n",
       "      <th>0</th>\n",
       "      <td>42.9</td>\n",
       "      <td>26.0</td>\n",
       "    </tr>\n",
       "    <tr>\n",
       "      <th>1</th>\n",
       "      <td>43.7</td>\n",
       "      <td>28.5</td>\n",
       "    </tr>\n",
       "    <tr>\n",
       "      <th>2</th>\n",
       "      <td>40.1</td>\n",
       "      <td>28.2</td>\n",
       "    </tr>\n",
       "    <tr>\n",
       "      <th>3</th>\n",
       "      <td>44.3</td>\n",
       "      <td>29.9</td>\n",
       "    </tr>\n",
       "    <tr>\n",
       "      <th>4</th>\n",
       "      <td>42.5</td>\n",
       "      <td>29.9</td>\n",
       "    </tr>\n",
       "    <tr>\n",
       "      <th>5</th>\n",
       "      <td>43.3</td>\n",
       "      <td>27.0</td>\n",
       "    </tr>\n",
       "    <tr>\n",
       "      <th>6</th>\n",
       "      <td>43.5</td>\n",
       "      <td>30.0</td>\n",
       "    </tr>\n",
       "    <tr>\n",
       "      <th>7</th>\n",
       "      <td>44.4</td>\n",
       "      <td>29.8</td>\n",
       "    </tr>\n",
       "    <tr>\n",
       "      <th>8</th>\n",
       "      <td>43.5</td>\n",
       "      <td>26.5</td>\n",
       "    </tr>\n",
       "    <tr>\n",
       "      <th>9</th>\n",
       "      <td>42.0</td>\n",
       "      <td>28.0</td>\n",
       "    </tr>\n",
       "    <tr>\n",
       "      <th>10</th>\n",
       "      <td>40.3</td>\n",
       "      <td>29.0</td>\n",
       "    </tr>\n",
       "    <tr>\n",
       "      <th>11</th>\n",
       "      <td>43.7</td>\n",
       "      <td>29.0</td>\n",
       "    </tr>\n",
       "    <tr>\n",
       "      <th>12</th>\n",
       "      <td>47.4</td>\n",
       "      <td>29.6</td>\n",
       "    </tr>\n",
       "    <tr>\n",
       "      <th>13</th>\n",
       "      <td>40.3</td>\n",
       "      <td>27.5</td>\n",
       "    </tr>\n",
       "    <tr>\n",
       "      <th>14</th>\n",
       "      <td>41.0</td>\n",
       "      <td>26.8</td>\n",
       "    </tr>\n",
       "    <tr>\n",
       "      <th>15</th>\n",
       "      <td>45.0</td>\n",
       "      <td>27.0</td>\n",
       "    </tr>\n",
       "    <tr>\n",
       "      <th>16</th>\n",
       "      <td>39.9</td>\n",
       "      <td>30.0</td>\n",
       "    </tr>\n",
       "    <tr>\n",
       "      <th>17</th>\n",
       "      <td>43.0</td>\n",
       "      <td>26.5</td>\n",
       "    </tr>\n",
       "    <tr>\n",
       "      <th>18</th>\n",
       "      <td>43.1</td>\n",
       "      <td>28.6</td>\n",
       "    </tr>\n",
       "    <tr>\n",
       "      <th>19</th>\n",
       "      <td>43.6</td>\n",
       "      <td>29.3</td>\n",
       "    </tr>\n",
       "    <tr>\n",
       "      <th>20</th>\n",
       "      <td>42.0</td>\n",
       "      <td>27.5</td>\n",
       "    </tr>\n",
       "    <tr>\n",
       "      <th>21</th>\n",
       "      <td>43.8</td>\n",
       "      <td>28.0</td>\n",
       "    </tr>\n",
       "    <tr>\n",
       "      <th>22</th>\n",
       "      <td>42.3</td>\n",
       "      <td>26.4</td>\n",
       "    </tr>\n",
       "    <tr>\n",
       "      <th>23</th>\n",
       "      <td>42.7</td>\n",
       "      <td>29.9</td>\n",
       "    </tr>\n",
       "    <tr>\n",
       "      <th>24</th>\n",
       "      <td>44.8</td>\n",
       "      <td>27.8</td>\n",
       "    </tr>\n",
       "    <tr>\n",
       "      <th>25</th>\n",
       "      <td>46.0</td>\n",
       "      <td>30.1</td>\n",
       "    </tr>\n",
       "    <tr>\n",
       "      <th>26</th>\n",
       "      <td>45.4</td>\n",
       "      <td>31.8</td>\n",
       "    </tr>\n",
       "    <tr>\n",
       "      <th>27</th>\n",
       "      <td>40.5</td>\n",
       "      <td>28.3</td>\n",
       "    </tr>\n",
       "    <tr>\n",
       "      <th>28</th>\n",
       "      <td>39.4</td>\n",
       "      <td>25.5</td>\n",
       "    </tr>\n",
       "    <tr>\n",
       "      <th>29</th>\n",
       "      <td>40.2</td>\n",
       "      <td>27.2</td>\n",
       "    </tr>\n",
       "    <tr>\n",
       "      <th>...</th>\n",
       "      <td>...</td>\n",
       "      <td>...</td>\n",
       "    </tr>\n",
       "    <tr>\n",
       "      <th>477</th>\n",
       "      <td>35.6</td>\n",
       "      <td>27.3</td>\n",
       "    </tr>\n",
       "    <tr>\n",
       "      <th>478</th>\n",
       "      <td>37.8</td>\n",
       "      <td>29.0</td>\n",
       "    </tr>\n",
       "    <tr>\n",
       "      <th>479</th>\n",
       "      <td>40.9</td>\n",
       "      <td>28.7</td>\n",
       "    </tr>\n",
       "    <tr>\n",
       "      <th>480</th>\n",
       "      <td>34.0</td>\n",
       "      <td>25.9</td>\n",
       "    </tr>\n",
       "    <tr>\n",
       "      <th>481</th>\n",
       "      <td>34.9</td>\n",
       "      <td>31.3</td>\n",
       "    </tr>\n",
       "    <tr>\n",
       "      <th>482</th>\n",
       "      <td>35.8</td>\n",
       "      <td>31.5</td>\n",
       "    </tr>\n",
       "    <tr>\n",
       "      <th>483</th>\n",
       "      <td>36.5</td>\n",
       "      <td>27.5</td>\n",
       "    </tr>\n",
       "    <tr>\n",
       "      <th>484</th>\n",
       "      <td>32.9</td>\n",
       "      <td>26.8</td>\n",
       "    </tr>\n",
       "    <tr>\n",
       "      <th>485</th>\n",
       "      <td>36.9</td>\n",
       "      <td>28.5</td>\n",
       "    </tr>\n",
       "    <tr>\n",
       "      <th>486</th>\n",
       "      <td>35.8</td>\n",
       "      <td>29.4</td>\n",
       "    </tr>\n",
       "    <tr>\n",
       "      <th>487</th>\n",
       "      <td>39.4</td>\n",
       "      <td>28.3</td>\n",
       "    </tr>\n",
       "    <tr>\n",
       "      <th>488</th>\n",
       "      <td>36.5</td>\n",
       "      <td>28.3</td>\n",
       "    </tr>\n",
       "    <tr>\n",
       "      <th>489</th>\n",
       "      <td>35.8</td>\n",
       "      <td>27.3</td>\n",
       "    </tr>\n",
       "    <tr>\n",
       "      <th>490</th>\n",
       "      <td>34.4</td>\n",
       "      <td>29.7</td>\n",
       "    </tr>\n",
       "    <tr>\n",
       "      <th>491</th>\n",
       "      <td>36.5</td>\n",
       "      <td>26.6</td>\n",
       "    </tr>\n",
       "    <tr>\n",
       "      <th>492</th>\n",
       "      <td>38.5</td>\n",
       "      <td>25.6</td>\n",
       "    </tr>\n",
       "    <tr>\n",
       "      <th>493</th>\n",
       "      <td>35.3</td>\n",
       "      <td>25.4</td>\n",
       "    </tr>\n",
       "    <tr>\n",
       "      <th>494</th>\n",
       "      <td>36.2</td>\n",
       "      <td>28.7</td>\n",
       "    </tr>\n",
       "    <tr>\n",
       "      <th>495</th>\n",
       "      <td>34.9</td>\n",
       "      <td>28.7</td>\n",
       "    </tr>\n",
       "    <tr>\n",
       "      <th>496</th>\n",
       "      <td>38.7</td>\n",
       "      <td>29.7</td>\n",
       "    </tr>\n",
       "    <tr>\n",
       "      <th>497</th>\n",
       "      <td>37.6</td>\n",
       "      <td>25.2</td>\n",
       "    </tr>\n",
       "    <tr>\n",
       "      <th>498</th>\n",
       "      <td>34.7</td>\n",
       "      <td>29.4</td>\n",
       "    </tr>\n",
       "    <tr>\n",
       "      <th>499</th>\n",
       "      <td>37.8</td>\n",
       "      <td>29.7</td>\n",
       "    </tr>\n",
       "    <tr>\n",
       "      <th>500</th>\n",
       "      <td>39.8</td>\n",
       "      <td>27.5</td>\n",
       "    </tr>\n",
       "    <tr>\n",
       "      <th>501</th>\n",
       "      <td>36.5</td>\n",
       "      <td>29.7</td>\n",
       "    </tr>\n",
       "    <tr>\n",
       "      <th>502</th>\n",
       "      <td>38.0</td>\n",
       "      <td>30.4</td>\n",
       "    </tr>\n",
       "    <tr>\n",
       "      <th>503</th>\n",
       "      <td>35.3</td>\n",
       "      <td>28.7</td>\n",
       "    </tr>\n",
       "    <tr>\n",
       "      <th>504</th>\n",
       "      <td>34.7</td>\n",
       "      <td>24.9</td>\n",
       "    </tr>\n",
       "    <tr>\n",
       "      <th>505</th>\n",
       "      <td>38.5</td>\n",
       "      <td>29.0</td>\n",
       "    </tr>\n",
       "    <tr>\n",
       "      <th>506</th>\n",
       "      <td>35.6</td>\n",
       "      <td>29.0</td>\n",
       "    </tr>\n",
       "  </tbody>\n",
       "</table>\n",
       "<p>507 rows × 2 columns</p>\n",
       "</div>"
      ],
      "text/plain": [
       "        0     1\n",
       "0    42.9  26.0\n",
       "1    43.7  28.5\n",
       "2    40.1  28.2\n",
       "3    44.3  29.9\n",
       "4    42.5  29.9\n",
       "5    43.3  27.0\n",
       "6    43.5  30.0\n",
       "7    44.4  29.8\n",
       "8    43.5  26.5\n",
       "9    42.0  28.0\n",
       "10   40.3  29.0\n",
       "11   43.7  29.0\n",
       "12   47.4  29.6\n",
       "13   40.3  27.5\n",
       "14   41.0  26.8\n",
       "15   45.0  27.0\n",
       "16   39.9  30.0\n",
       "17   43.0  26.5\n",
       "18   43.1  28.6\n",
       "19   43.6  29.3\n",
       "20   42.0  27.5\n",
       "21   43.8  28.0\n",
       "22   42.3  26.4\n",
       "23   42.7  29.9\n",
       "24   44.8  27.8\n",
       "25   46.0  30.1\n",
       "26   45.4  31.8\n",
       "27   40.5  28.3\n",
       "28   39.4  25.5\n",
       "29   40.2  27.2\n",
       "..    ...   ...\n",
       "477  35.6  27.3\n",
       "478  37.8  29.0\n",
       "479  40.9  28.7\n",
       "480  34.0  25.9\n",
       "481  34.9  31.3\n",
       "482  35.8  31.5\n",
       "483  36.5  27.5\n",
       "484  32.9  26.8\n",
       "485  36.9  28.5\n",
       "486  35.8  29.4\n",
       "487  39.4  28.3\n",
       "488  36.5  28.3\n",
       "489  35.8  27.3\n",
       "490  34.4  29.7\n",
       "491  36.5  26.6\n",
       "492  38.5  25.6\n",
       "493  35.3  25.4\n",
       "494  36.2  28.7\n",
       "495  34.9  28.7\n",
       "496  38.7  29.7\n",
       "497  37.6  25.2\n",
       "498  34.7  29.4\n",
       "499  37.8  29.7\n",
       "500  39.8  27.5\n",
       "501  36.5  29.7\n",
       "502  38.0  30.4\n",
       "503  35.3  28.7\n",
       "504  34.7  24.9\n",
       "505  38.5  29.0\n",
       "506  35.6  29.0\n",
       "\n",
       "[507 rows x 2 columns]"
      ]
     },
     "execution_count": 7,
     "metadata": {},
     "output_type": "execute_result"
    }
   ],
   "source": [
    "#6th column is the sum length of the two elbows\n",
    "elbow_data"
   ]
  },
  {
   "cell_type": "code",
   "execution_count": null,
   "metadata": {
    "scrolled": true
   },
   "outputs": [],
   "source": [
    "elbow_data_males = elbow_data.loc[elbow_data['Gender'] == 1]\n",
    "#histogram + mean and std:\n",
    "hist = elbow_data_males['Elbow_lgth'].hist(bins=10)\n",
    "mean_elbow = elbow_data_males['Elbow_lgth'].mean()\n",
    "sd_elbow = elbow_data_males['Elbow_lgth'].std()"
   ]
  },
  {
   "cell_type": "code",
   "execution_count": null,
   "metadata": {
    "scrolled": true
   },
   "outputs": [],
   "source": [
    "import matplotlib.pyplot as plt\n",
    "import numpy as np\n",
    "from scipy import stats\n",
    "#histogram + normal superimposed\n",
    "x = np.linspace(elbow_data_males['Elbow_lgth'].min(), elbow_data_males['Elbow_lgth'].max(), 1000)\n",
    "plt.hist(elbow_data_males['Elbow_lgth'], density = True, bins=10 ) # plotting histogram \n",
    "plt.plot(x, stats.norm.pdf(x, mean_elbow, sd_elbow))\n",
    "plt.show() "
   ]
  },
  {
   "cell_type": "code",
   "execution_count": null,
   "metadata": {},
   "outputs": [],
   "source": [
    "from scipy import stats\n",
    "from matplotlib import pyplot as plt\n",
    "import numpy as np\n",
    "n = stats.norm(loc=mean_elbow, scale=sd_elbow)"
   ]
  },
  {
   "cell_type": "code",
   "execution_count": null,
   "metadata": {},
   "outputs": [],
   "source": [
    "import numpy as np\n",
    "\n",
    "def ecdf(sample):\n",
    "\n",
    "    # convert sample to a numpy array, if it isn't already\n",
    "    sample = np.atleast_1d(sample)\n",
    "\n",
    "    # find the unique values and their corresponding counts\n",
    "    quantiles, counts = np.unique(sample, return_counts=True)\n",
    "\n",
    "    # take the cumulative sum of the counts and divide by the sample size to\n",
    "    # get the cumulative probabilities between 0 and 1\n",
    "    cumprob = np.cumsum(counts).astype(np.double) / sample.size\n",
    "\n",
    "    return quantiles, cumprob"
   ]
  },
  {
   "cell_type": "code",
   "execution_count": null,
   "metadata": {},
   "outputs": [],
   "source": [
    "qe, pe = ecdf(elbow_data_males['Elbow_lgth'])\n",
    "q = np.linspace(elbow_data_males['Elbow_lgth'].min(), elbow_data_males['Elbow_lgth'].max(), 1000)\n",
    "p = n.cdf(q)\n",
    "# plot\n",
    "fig, ax = plt.subplots(1, 1)\n",
    "ax.plot(q, p, '-k', lw=2, label='Theoretical CDF')\n",
    "ax.plot(qe, pe, '-r', lw=2, label='Empirical CDF')\n",
    "ax.set_xlabel('Quantile')\n",
    "ax.set_ylabel('Cumulative probability')\n",
    "ax.legend(fancybox=True, loc='right')\n",
    "plt.show()"
   ]
  },
  {
   "cell_type": "markdown",
   "metadata": {},
   "source": [
    "# Generalities on the standard bootstrap\n",
    "   \n",
    "- The bootstrap is a computer-intensive statistical method originally proposed to evaluate the accuracy of an estimator of a parameter of interest. \n",
    "\n",
    "\n",
    "- Since its first appearance in statistical literature (Efron, 1979), it has been widely used both in theoretical and in applied statistics.  \n",
    "\n",
    "\n",
    "- In a non-parametric context the bootstrap methodology is based on the assumption that the empirical distribution function (EDF) $\\hat{F}$ is a good estimate of the true *unknown distribution* function $F$ from which an independent and identically (iid) $n$-sized sample $\\bf X= X_1, X_2, \\dots, X_n$ is drawn in order to estimate a single parameter or a set of parameters of $F$. \n",
    "\n",
    "\n",
    "- The empirical distribution function puts mass $1/n$  on each $X_i$.\n"
   ]
  },
  {
   "cell_type": "markdown",
   "metadata": {},
   "source": [
    "# Generalities on the standard bootstrap (cont'd)\n",
    "   \n",
    "- The parameter (or the parameters) $\\theta$ of interest can be considered as a functional $\\theta(F)$ of the underlying distribution. \n",
    "\n",
    "\n",
    "- For example, the mean is such that $\\mu=\\mu(F)=\\int x dF(x)=\\int x f(x)dx$ ($f(x)$ is the density function), or the median is such that $Me= F^{-1}(0.5)$.\n",
    "\n",
    "\n",
    "- In its original formulation, the bootstrap aims at solving problems of **non-parametric estimation** to evaluate the **adequacy/precision of an estimator**. \n",
    "\n",
    "\n",
    "- Its two basic principles are:\n",
    "    - The *plug-in principle*, which substitutes the CDF with the ECDF and uses estimators having similar forms with respect to the parameters. \n",
    "    - The *Monte Carlo principle, which repeatedly simulates using a computer program. \n",
    "\n",
    "\n",
    "- The plug-in principle then uses the estimator $\\theta(\\hat{F})$ instead of $\\theta(F)$.\n",
    "\n"
   ]
  },
  {
   "cell_type": "markdown",
   "metadata": {},
   "source": [
    "# Generalities on the standard bootstrap (cont'd)\n",
    "   \n",
    "- The sample mean is a typical application of the plug-in principle: we know that $\\mu=\\theta(F)=\\int xdF(x)$, and we use the sample mean $\\theta(\\hat{F})=\\int xd\\hat{F}_{n}(x)=\\sum\\frac{x_i}{n}=\\bar{x}$. \n",
    "\n",
    "\n",
    "- For precision estimation problems we could use the variance of the estimator under $F$ (let's call it $V_F(\\hat{\\theta})$), and under the plug-in principle we use the variance of the estimator under $\\hat{F_n}$ instead (let's call it $V_{\\hat{F}}(\\hat{\\theta})$). \n",
    "\n",
    "\n",
    "- However this is nonsense, since under $\\hat{F}_n$, i.e. once a sample is drawn, the estimator $\\hat{\\theta}$ has been determined and has its proper value which is *without variability*. \n",
    "\n",
    "\n",
    "- **We must simulate this variability**."
   ]
  },
  {
   "cell_type": "markdown",
   "metadata": {},
   "source": [
    "# Ideal bootstrap estimates\n",
    "   \n",
    "- Therefore, in the bootstrap setting $\\hat{F}$ becomes central. \n",
    "\n",
    "\n",
    "- It is the population under which the distribution of a particular estimator $\\hat{\\theta}(F)$, based on the original sample $\\bf X$, can be simulated.\n",
    "\n",
    "\n",
    "- Hence, all possible $n$-sized samples under $\\hat{F}$ have to be computed and all the values corresponding to the above estimator have to be calculated.\n",
    "\n",
    "\n",
    "- This is the *ideal bootstrap estimate*. \n",
    "\n",
    "\n",
    "- However, when the sample size $n$ is very large, this is indeed a hard job, since the number of the distinct samples (without considering the order of the sample elements) is given by $\\binom{2n-1}{n}=\\binom{2n-1}{n-1}$ which corresponds to the number of the combinations with replacement of $n$ elements.\n",
    "\n",
    "\n",
    "- For example for $n=50$ we have $5.044567 \\times 10^{28}$ possible bootstrap samples and therefore the same number of possible ideal bootstrap estimates."
   ]
  },
  {
   "cell_type": "code",
   "execution_count": null,
   "metadata": {
    "scrolled": true
   },
   "outputs": [],
   "source": [
    "# How many \"ideal\" bootstrap replicates are possible?\n",
    "#Algorithm due to Nijenhuis and Wilf (1978, Chapter 5 algorithm NEXCOM with k=n) exploiting the \n",
    "#so-called Gray code simplex (see also http://statweb.stanford.edu/~susan/courses/s208/node43.html)\n",
    "import numpy as np\n",
    "import scipy.special\n",
    "import pdb\n",
    "def ideal_bootstrap():\n",
    "    np.random.seed(42)\n",
    "    n1 = 100\n",
    "    #Original sample\n",
    "    original_sample = np.random.randint(0, 9, size = n1)\n",
    "    print(original_sample)\n",
    "    #Computation of the number of possible bootstrap samples\n",
    "    B = scipy.special.comb(2*n1 -1, n1, exact=True)\n",
    "    #print(B)\n",
    "    d1 = np.zeros((B,n1))\n",
    "    #First get the compositions:\n",
    "    #first row of the composition matrix:\n",
    "    d1[0,0]= n1\n",
    "    #last row of the composition matrix\n",
    "    d1[B-1,n1-1]= n1\n",
    "    t1 = n1; h1 = -1;\n",
    "    \n",
    "    for i  in range(1, B-1):\n",
    "        #import pdb; pdb.set_trace()\n",
    "        if t1 != 1:\n",
    "            h1 = -1\n",
    "            h1= h1+1\n",
    "            t1 = d1[i-1,h1]\n",
    "            d1[i,0] = t1 -1\n",
    "            d1[i, h1 +1]= d1[i-1, h1 +1] +1\n",
    "            for j in range (h1+2,n1):\n",
    "                d1[i,j] = d1[i-1,j]\n",
    "        else:\n",
    "            #import pdb; pdb.set_trace()\n",
    "            h1 = h1+1\n",
    "            t1 = d1[i-1,h1]\n",
    "            d1[i,h1] = 0\n",
    "            d1[i,0] = t1 -1\n",
    "            d1[i, h1 +1]= d1[i-1, h1 +1] +1  \n",
    "            for j in range (h1+2,n1):\n",
    "                d1[i,j] = d1[i-1,j]\n",
    "    #Rest of the matrix:\n",
    "    print(d1)\n",
    "    #pdb.set_trace()\n",
    "    d2 = np.zeros((B,n1))\n",
    "    for j in range (0,B):\n",
    "        #pdb.set_trace()\n",
    "        array_app = np.zeros(n1)\n",
    "        for k in range (0,n1):\n",
    "            if d1[j,k] !=0:\n",
    "                #take the value to be replicated:\n",
    "                value_rep = original_sample[k]\n",
    "                #take how many times it has to be replicated:\n",
    "                times_rep = d1[j,k].astype(int)\n",
    "                res = next(x for x, val in enumerate(array_app) \n",
    "                                  if val == 0) \n",
    "                array_app[res:res+times_rep] =value_rep\n",
    "        d2[j,] = array_app\n",
    "    print(d2)\n",
    "#def convert_to_int(numb):\n",
    "#    return int(numb.replace(\",\", \"\"))"
   ]
  },
  {
   "cell_type": "code",
   "execution_count": null,
   "metadata": {
    "scrolled": true
   },
   "outputs": [],
   "source": [
    "ideal_bootstrap()"
   ]
  },
  {
   "cell_type": "markdown",
   "metadata": {},
   "source": [
    "# Bootstrap solution: simulating the estimator variability\n",
    "   \n",
    "- A popular solution is generally given by assessing $B$ Monte Carlo replications of the plug-in values $\\hat{\\theta}^{*b}(\\hat{F})$, $b=1, \\dots , B$, (obtained with simple random sampling with replacement from the original sample (this samples are called *bootstrap samples*), which give the *bootstrap replicates* of the estimator. \n",
    "\n",
    "\n",
    "- At the end, the final result of this procedure is a distribution of the $\\hat{\\theta}^{*b}(\\hat{F})$ values which *mimics* the distribution of the $\\hat{\\theta}(F)$ values, and thus one can obtain confidence intervals, $p$-values for hypothesis tests, bias evaluation and so forth."
   ]
  },
  {
   "cell_type": "markdown",
   "metadata": {},
   "source": [
    "# Ingredients of the bootstrap\n",
    "   \n",
    "- A population distribution function $F(\\cdot) \\mapsto $ sample $X_1,\\ldots,X_n \\mapsto$ vs. an empirical distribution function $F_n(x) = \\frac 1n \\sum \\rm 1\\kern-.3em I [ X_i \\le x] \\equiv E_n \\rm 1\\kern-.3em I [X_i \\le x]$.\n",
    "\n",
    "\n",
    "- A parameter $\\theta = T(F)$ and its estimate $\\hat\\theta_n = T(F_n)$.\n",
    "\n",
    "\n",
    "- An inference goal: assess sampling variability of $\\hat\\theta_n$ about $\\theta$.\n",
    "\n",
    "\n",
    "- Actions: take samples of size $n$ *with replacement* $(X_1^{(b)},\\ldots,X_n^{(b)}), b=1,\\ldots,B$ from $F_n(\\cdot)$, then obtain parameter estimates $\\tilde\\theta_*^{(b)} = T(F_n^{(b)})$.\n",
    "\n",
    "\n",
    "- *Exact bootstrap solution*: take all possible subsamples (not feasible, as seen). \n",
    "\n",
    "\n",
    "- *Monte Carlo solution*: random set of $B$ replications of the estimator.\n",
    "\n",
    "\n",
    "- Obtain an estimate of the distribution function of $\\hat\\theta_n$, that is $G_{n,B}(t) = \\frac 1B \\sum_{b=1}^B \\rm 1\\kern-.3em I [ \\tilde\\theta_*^{(b)} \\le t ] \\equiv E_* [ \\tilde\\theta_* \\le t]$.\n",
    "\n",
    "\n",
    "- With this estimate, compute variance, standard error, bias, confidence intervals, tests for $\\hat\\theta_n$, etc."
   ]
  },
  {
   "cell_type": "code",
   "execution_count": null,
   "metadata": {},
   "outputs": [],
   "source": [
    "import numpy as np\n",
    "import matplotlib.pyplot as plt\n",
    "#Population data: A little bit of heteroschedasticity\n",
    "N = 200\n",
    "n = 20\n",
    "beta1 = 0.5\n",
    "beta2 = 0.5\n",
    "I = 1000\n",
    "import numpy as np\n",
    "x = np.random.beta(beta1, beta2, size=N)\n",
    "norm_uj = np.random.normal(0,1, size = N)\n",
    "norm_epsilon_ij = np.random.normal(0,1, size = N)\n",
    "vectorx = x\n",
    "vectory = x + norm_uj + norm_epsilon_ij\n",
    "# Plot\n",
    "plt.scatter(vectorx, vectory)\n",
    "plt.title('X and Y')\n",
    "plt.xlabel('X')\n",
    "plt.ylabel('Y')\n",
    "plt.show()"
   ]
  },
  {
   "cell_type": "code",
   "execution_count": null,
   "metadata": {},
   "outputs": [],
   "source": [
    "import pandas as pd\n",
    "import random\n",
    "import numpy as np\n",
    "import pdb\n",
    "import statistics\n",
    "dataxy = pd.DataFrame({'ID': range(1, N + 1 ,1), 'x': vectorx, 'y': vectory}, columns=['ID', 'x', 'y'])\n",
    "#data_list = list(dataxy['ID'])\n",
    "original_sample = random.choices(list(dataxy['ID']), k = n)\n",
    "b = 1\n",
    "vectorAveBootstrap = 0\n",
    "vectmeanbootnew = 0\n",
    "vectvarboot1new = 0\n",
    "vectstandboot1new = 0\n",
    "currentbootstrapratio = [0] * I\n",
    "bootstrapsample = np.zeros((n,1))\n",
    "bootstrapsamplenew = np.zeros((n,1))\n",
    "while(b<=I):\n",
    "    bootstrapsample = random.choices(list(original_sample), k = n)\n",
    "    bootstrapsamplenew = bootstrapsample\n",
    "    #pdb.set_trace()\n",
    "    currentbootstrapratio[b-1] = (sum(dataxy['y'][bootstrapsamplenew])/sum(dataxy['x'][bootstrapsamplenew]))\n",
    "    b += 1\n",
    "varbootestimate = statistics.variance(list(currentbootstrapratio))\n",
    "varbootestimate"
   ]
  },
  {
   "cell_type": "markdown",
   "metadata": {},
   "source": [
    "# Bootstrap advantages\n",
    "Bootstrapping offers a number of advantages:\n",
    "\n",
    "- The bootstrap is quite general, although there are some cases in which it fails.\n",
    "\n",
    "\n",
    "- Because it does not require distributional assumptions (such as normally distributed errors), the bootstrap can provide more accurate inferences when the data are not well behaved or when the sample size is small.\n",
    "\n",
    "\n",
    "- It is possible to apply the bootstrap to statistics with sampling distributions that are difficult to derive, even asymptotically (think about the median or the ratio statistic).\n",
    "\n",
    "\n",
    "- It is relatively simple to apply the bootstrap to complex data-collection plans (such as stratified and clustered samples) provided that we are able to adjust it for allowing for dependence in the sampling plan."
   ]
  },
  {
   "cell_type": "markdown",
   "metadata": {},
   "source": [
    "# Distribution assumptions not met. Example on normality assumption violated\n",
    "\n",
    "- Consider making inference on a mean $\\mu$. Usually we take the sample mean $\\bar{X}$ as a point estimate for $\\mu$.\n",
    "\n",
    "\n",
    "- To make inference on $\\mu$ (for example to construct confidence intervals) we use the statistic $T=\\frac {\\bar{X}-\\mu}{\\frac {s}{\\sqrt{n}}}$, where $s$ is the sample standard deviation and $n$ is the sample size.\n",
    "\n",
    "\n",
    "- The assumption of normality of the data allows us to say that $T \\sim t_{n-1}$, i.e. it is Student's $t$ with $n-1$ degrees of freedom.\n",
    "\n",
    "\n",
    "- Without normality, we cannot assume that $T$ has this density!\n",
    "\n",
    "\n",
    "- If this assumption is violated, we cannot make valid confidence intervals for $\\mu$, nor run hypothesis tests on $\\mu$ with a known error rate using our usual methods.\n",
    "\n",
    "\n",
    "- The key fact in bootstrapping is that **the sample gives us a good representation of the population from which the sample comes from**: This is why we use the empirical distribution function (from the original sample) as a sort of 'population' and use the bootstrap samples to simulate the sampling distribution."
   ]
  },
  {
   "cell_type": "markdown",
   "metadata": {},
   "source": [
    "# Example: estimating the standard error of the mean\n",
    "\n",
    "- Let $\\mu_F=E_F (x)$ and $\\sigma_F^2=\\text{var}_F (x)= E_F [(x-\\mu_F)^2]$ be the expectation and the variance of a cdf $F$, i.e. $X \\sim (\\mu_F, \\sigma^2_F)$. \n",
    "\n",
    "\n",
    "- Let $s=(x_1, x_2, \\dots, x_n)$ be a simple random sample of size $n$ extracted from $F$. \n",
    "\n",
    "\n",
    "- We know from basic statistics that the expected value and the variance of the sample mean $\\bar{x}$ are $\\mu_F$ and $\\frac{\\sigma^2_F}{n}$, respectively,  i.e. $\\bar{X} \\sim (\\mu_F, \\frac {\\sigma^2_F}{n})$. \n",
    "\n",
    "\n",
    "- Now the *standard error* of the mean $\\bar{X}$ is:\n",
    "$$\n",
    "\\text{se}_F (\\bar{X})=[\\text{var}_F (\\bar{X})]^{\\frac{1}{2}}=\\frac{\\sigma_F}{\\sqrt{n}}.\n",
    "$$ \n",
    "\n",
    "\n",
    "- We expect $\\bar{X}$ to be less that one standard error from $\\mu_F$ about 68\\% of the time, and less than two standard errors away from $\\mu_F$ about 95\\% of the time. \n",
    "\n",
    "- This is due to the central limit theorem when $n$ is big: $\\bar{X} \\sim N(\\mu_F,\\frac{\\sigma_F^2}{n})$. \n",
    "\n",
    "\n",
    "- One of the advantages of the bootstrap is that we can afford not to use the central limit theorem.\n"
   ]
  },
  {
   "cell_type": "markdown",
   "metadata": {},
   "source": [
    "# Example: estimating the standard error of the mean (cont.d)\n",
    "\n",
    "- Having only a sample $s=(x_1, x_2, \\dots, x_n)$ implies that we cannot use $\\sigma_F^2$ for computing $\\text{se}_F (\\bar{x})$. \n",
    "\n",
    "\n",
    "- Therefore, we have to estimate it from the sample. \n",
    "\n",
    "\n",
    "- Using the plug-in principle, one customary solution from basic statistics is to use the sample variance:\n",
    "$$\n",
    "\\hat{\\sigma}^2=\\sigma^2_{\\hat{F}}=\\frac{1}{n-1} \\sum_{i=1}^n (x_i-\\bar{x})^2.\n",
    "$$ \n",
    "Therefore the standard error of $\\bar{x}$ will be estimated by:\n",
    "$$\n",
    "\\hat{\\text{se}}(\\bar{x})=\\frac{\\sigma_{\\hat{F}}}{\\sqrt{n}}.\n",
    "$$ \n",
    "\n",
    "\n",
    "- If $n$ is sufficiently large one can use also: $$\\hat{\\sigma}^2=\\sigma^2_{\\hat{F}}=\\frac{1}{n} \\sum_{i=1}^n (x_i-\\bar{x})^2.$$\n"
   ]
  },
  {
   "cell_type": "markdown",
   "metadata": {},
   "source": [
    "# Example: estimating the standard error of the mean (cont.d)\n",
    "\n",
    "- Now, we might perform a bootstrap estimate of the standard error in the following way. \n",
    "\n",
    "\n",
    "- Let $s=(x_1, x_2, \\dots , x_n)$ be an $n$-sized *original random sample*. \n",
    "\n",
    "\n",
    "- As we have seen, a \\emph{bootstrap sample} (called also a randomized or *resampled* version of the original sample) of size $n$ is a sample randomly selected with replacement from $\\hat{F}$:\n",
    "$$\n",
    "s^*=(x_1^*, x_2^*, \\dots , x_n^*).\n",
    "$$ \n",
    "\n",
    "\n",
    "- Together with replications of the original sample we are interested in the (bootstrap) replication $\\hat{\\theta}^*$of the estimator $\\hat{\\theta}$\n",
    "$$\n",
    "\\hat{\\theta}^*=t(x_1^*, x_2^*, \\dots , x_n^*).\n",
    "$$ \n",
    "\n",
    "\n",
    "- With this setting, the bootstrap estimate of $\\text{se}_F(\\hat{\\theta})$ is:\n",
    "$$\n",
    "\\text{se}_{\\hat{F}}(\\hat{\\theta}^*).\n",
    "$$\n"
   ]
  },
  {
   "cell_type": "markdown",
   "metadata": {},
   "source": [
    "# Example: estimating the standard error of the mean (cont.d)\n",
    "\n",
    "- Draw an original random sample $s=(x_1, x_2, \\dots x_n)$ of size $n$.\n",
    "\n",
    "\n",
    "- For ($b$ in $1:B$):\n",
    "\n",
    "\n",
    "- Select with replacement and independently a bootstrap sample $s^{*b}=(x_1^{*b}, x_2^{*b}, \\dots, x_n^{*b})$ from the original sample $s$.\n",
    "\n",
    "\n",
    "    - Compute the bootstrap replication of the estimator: $\\hat{\\theta}^*(b)=t(x_1^{*b}, x_2^{*b}, \\dots, x_n^{*b})$.\n",
    "    \n",
    "    \n",
    "    - Next $b$.\n",
    "    \n",
    "    \n",
    "    - End For.\n",
    "\n",
    "\n",
    "- Estimate the standard error $\\text{se}_F(\\hat{\\theta})$ by the sample standard deviation of the $B$ replications:\n",
    "$$\n",
    "\\hat{se}_B=\\{\\frac{ \\sum_{b=1}^B [\\hat{\\theta}^*(b)-\\hat{\\theta}^*(\\cdot)]^2 }{B-1}\\}^{\\frac{1}{2}},\n",
    "$$\n",
    "where $\\hat{\\theta}^*(\\cdot)=\\frac{\\sum_{b=1}^B  \\hat{\\theta}^*(b)}{B}$.\n"
   ]
  },
  {
   "cell_type": "markdown",
   "metadata": {},
   "source": [
    "# Example: confidence intervals for $\\rho$\n",
    "\n",
    "- Classical inference on population $\\rho$ depends on $X$ and $Y$ having a joint bivariate normal distribution.\n",
    "\n",
    "\n",
    "- The sampling distribution of $r$, the sample correlation coefficient, is not normally distributed.\n",
    "\n",
    "\n",
    "- One of the classical solutions is due to Fisher who proposed the transformation:\n",
    "$$z=\\frac {1}{2}\\ln \\left( \\frac {1+r}{1-r} \\right).$$\n",
    "\n",
    "\n",
    "- As $n$ increases $z$ becomes normal, so asymptotically we can use the r.v. $Z$ to obtain C.I. for $\\rho$ after $z$ is back transformed to $r$.\n",
    "\n",
    "\n",
    "- Fisher also showed that the standard error of $Z$ is $\\frac {1}{\\sqrt{n-3}}$, but $Z$ is slightly biased.\n",
    "\n",
    "\n",
    "- So, especially with low values of $n$, the issue is not completely solved."
   ]
  },
  {
   "cell_type": "markdown",
   "metadata": {},
   "source": [
    "# Example: confidence intervals for $\\rho$ (cont.d)\n",
    "\n",
    "- Let's take the data contained in Efron & Tibshirani (1993).\n",
    "\n",
    "\n",
    "- Data are average values for GPA and LSAT scores for students admitted to $n=15$ Law Schools (a random sampling of law schools). \n",
    "\n",
    "\n",
    "- (Grade Point Average (GPA) score is the grade point average of all grades from all current classes - Law School Admission Test (LSAT) is a half-day standardized test administered four times each year. Both are considered to enter university law faculties in the U.S.).\n",
    "\n",
    "<img src=\"LawSchoolDataPlot.png\">\n"
   ]
  },
  {
   "cell_type": "code",
   "execution_count": null,
   "metadata": {},
   "outputs": [],
   "source": [
    "#pip install rpy2\n",
    "import rpy2.robjects as robjects\n",
    "import rpy2.robjects.packages as rpackages\n",
    "from rpy2.robjects.vectors import StrVector\n",
    "package_names = ('bootstrap','stats')\n",
    "if all(rpackages.isinstalled(x) for x in package_names):\n",
    "    have_package = True\n",
    "else:\n",
    "    have_package = False\n",
    "if not have_package:\n",
    "    utils = rpackages.importr('utils')\n",
    "    utils.chooseCRANmirror(ind = 1)\n",
    "    packnames_to_install = [x for x in package_names if not rpackages.isinstalled(x)]\n",
    "    if len(packnames_to_install) > 0:\n",
    "        utils.install_packages(StrVector(packnames_to_install))\n",
    "bootstrap = rpackages.importr('bootstrap')\n"
   ]
  },
  {
   "cell_type": "code",
   "execution_count": null,
   "metadata": {
    "scrolled": true
   },
   "outputs": [],
   "source": [
    "import random\n",
    "import pandas as pd\n",
    "import statistics\n",
    "from scipy import stats \n",
    "import pdb\n",
    "import matplotlib.pyplot as plt\n",
    "import numpy as np\n",
    "\n",
    "data = pd.read_csv('law.csv', sep=\";\")\n",
    "#data = robjects.r('read.csv(file = \"law.csv\", header=TRUE, sep = \";\")')\n",
    "#data.columns = ['ID', 'GPA', 'LSAT']\n",
    "#{'ID': range(1, N + 1 ,1), 'x': vectorx, 'y': vectory}, columns=['ID', 'x', 'y']\n",
    "#dataDF = pd.DataFrame({'ID': data[1]}, columns=['ID'])\n",
    "#print(data)\n",
    "#robjects.r('n <- dim(law)[1]')\n",
    "n = len(data)\n",
    "B = 100\n",
    "\n",
    "bootstrap_r_values = []\n",
    "#robjects.r('bootstrap_r_values = rep(0,B)')\n",
    "\n",
    "lista = []\n",
    "calc = 0\n",
    "\n",
    "while(calc < int(n)):\n",
    "    lista.append(calc)\n",
    "    calc = int(calc) + 1\n",
    "\n",
    "for i in range(0,B):\n",
    "    #pdb.set_trace()\n",
    "    bootsample_indexes = random.choices(lista, k = n)\n",
    "    LSAT = data['LSAT'][bootsample_indexes]\n",
    "    GPA = data['GPA'][bootsample_indexes]\n",
    "    bootstrap_r_values.append(stats.pearsonr(LSAT, GPA)[0])\n",
    "#histogram of bootstrap r values with 20 bins and the confidence limits calculated with Fisher's z:\n",
    "\n",
    "plt.hist(bootstrap_r_values, bins=10, color='red' ) # plotting histogram \n",
    "plt.axvline(0.44, color='k', linestyle='dashed', linewidth=1)\n",
    "plt.axvline(0.92, color='k', linestyle='dashed', linewidth=1)\n",
    "plt.show() \n",
    "\n"
   ]
  },
  {
   "cell_type": "code",
   "execution_count": null,
   "metadata": {},
   "outputs": [],
   "source": [
    "import numpy as np\n",
    "import pylab\n",
    "#Compute bootstrap c.i.\n",
    "#To do this, compute 2.5% and 97.5% percentile of bootstrap distribution:\n",
    "#First percentile:\n",
    "perc1 = np.quantile(bootstrap_r_values, 0.025)\n",
    "perc2 = np.quantile(bootstrap_r_values, 0.975)\n",
    "plt.hist(bootstrap_r_values, bins=10, color='red' ) # plotting histogram \n",
    "plt.axvline(0.44, color='k', linestyle='dashed', linewidth=1, label='Fisher Z CIs')\n",
    "plt.axvline(0.92, color='k', linestyle='dashed', linewidth=1)\n",
    "plt.axvline(perc1, color='y', linestyle='dashed', linewidth=1, label='Bootstrap CIs')\n",
    "plt.axvline(perc2, color='y', linestyle='dashed', linewidth=1)\n",
    "pylab.legend(loc='upper left')\n",
    "plt.show() "
   ]
  },
  {
   "cell_type": "markdown",
   "metadata": {},
   "source": [
    "# Using Python libraries\n",
    "\n",
    "## The library \"bootstrapped\"\n",
    "\n",
    "\n",
    "\n",
    "*bootstrapped* is a Python library that allows you to build confidence intervals from data. This is useful in a variety of contexts - including during ad-hoc a/b test analysis."
   ]
  },
  {
   "cell_type": "code",
   "execution_count": null,
   "metadata": {},
   "outputs": [],
   "source": [
    "#Classical bootstrap in Python\n",
    "import numpy as np\n",
    "import bootstrapped.bootstrap as bs\n",
    "import bootstrapped.stats_functions as bs_stats\n",
    "\n",
    "# take 1k 'samples' from the larger population\n",
    "samples = np.array(bootstrap_r_values)[:15]\n",
    "\n",
    "print(bs.bootstrap(samples, stat_func=bs_stats.mean))\n",
    "\n",
    "print(bs.bootstrap(samples, stat_func=bs_stats.std))\n"
   ]
  },
  {
   "cell_type": "markdown",
   "metadata": {},
   "source": [
    "## Example from pypi project\n",
    "\n",
    "- Imagine we own a website and think changing the color of a ‘subscribe’ button will improve signups. \n",
    "\n",
    "\n",
    "- One method to measure the improvement is to conduct an A/B test where we show 50% of people the old version and 50% of the people the new version. \n",
    "\n",
    "\n",
    "- We can use the bootstrap to understand how much the button color improves responses and give us the error bars associated with the test - this will give us lower and upper bounds on how good we should expect the change to be!"
   ]
  },
  {
   "cell_type": "code",
   "execution_count": 30,
   "metadata": {},
   "outputs": [],
   "source": [
    "import matplotlib.pyplot as plt\n",
    "import pandas as pd\n",
    "import numpy as np\n",
    "import bootstrapped.bootstrap as bs\n",
    "import bootstrapped.compare_functions as bs_compare\n",
    "import bootstrapped.stats_functions as bs_stats"
   ]
  },
  {
   "cell_type": "markdown",
   "metadata": {},
   "source": [
    "## Bootstrap Examples\n",
    "\n",
    "Bootstrap at a high level: The bootstrap lets you resample a numeric series to (typically) estimate confidence intervals."
   ]
  },
  {
   "cell_type": "code",
   "execution_count": 28,
   "metadata": {},
   "outputs": [],
   "source": [
    "# little a/b test\n",
    "# score in test are 10% greater than ctrl (per record)\n",
    "# ctrl has 5x the number of records as test\n",
    "\n",
    "# 10% lift in test\n",
    "lift = 1.1\n",
    "test = np.random.binomial(100, p=0.2 * lift, size=10000) * 1.0\n",
    "ctrl = np.random.binomial(100, p=0.2, size=50000) * 1.0"
   ]
  },
  {
   "cell_type": "code",
   "execution_count": 31,
   "metadata": {},
   "outputs": [
    {
     "data": {
      "text/plain": [
       "<matplotlib.legend.Legend at 0x7ffb10d873a0>"
      ]
     },
     "execution_count": 31,
     "metadata": {},
     "output_type": "execute_result"
    },
    {
     "data": {
      "image/png": "[encoded data removed]",
      "text/plain": [
       "<Figure size 432x288 with 1 Axes>"
      ]
     },
     "metadata": {
      "needs_background": "light"
     },
     "output_type": "display_data"
    }
   ],
   "source": [
    "bins = np.linspace(0, 40, 20)\n",
    "\n",
    "plt.hist(ctrl, bins=bins, label='Control')\n",
    "plt.hist(test, bins=bins, label='Test', color='orange')\n",
    "plt.title('Test/Ctrl Data')\n",
    "plt.legend()"
   ]
  },
  {
   "cell_type": "code",
   "execution_count": 32,
   "metadata": {},
   "outputs": [
    {
     "name": "stdout",
     "output_type": "stream",
     "text": [
      "9.833351671984879\n",
      "9.833351671984879    (9.36965260049617, 10.290349899676166)\n"
     ]
    }
   ],
   "source": [
    "# run an a/b test simulation ignoring the lengths of the series (average)\n",
    "# just what is the 'typical' value\n",
    "# use percent change to compare test and control\n",
    "\n",
    "print(bs_compare.percent_change(test.mean(), ctrl.mean()))\n",
    "\n",
    "print(bs.bootstrap_ab(test, ctrl, bs_stats.mean, bs_compare.percent_change))"
   ]
  },
  {
   "cell_type": "code",
   "execution_count": 33,
   "metadata": {},
   "outputs": [
    {
     "name": "stdout",
     "output_type": "stream",
     "text": [
      "10000\n",
      "50000\n"
     ]
    }
   ],
   "source": [
    "print(len(test))\n",
    "print(len(ctrl))"
   ]
  },
  {
   "cell_type": "code",
   "execution_count": 34,
   "metadata": {},
   "outputs": [
    {
     "name": "stdout",
     "output_type": "stream",
     "text": [
      "-78.03332966560302\n",
      "-78.03332966560302    (-78.12575779930737, -77.94204361425027)\n"
     ]
    }
   ],
   "source": [
    "# run an a/b test simulation considering the lengths of the series (sum)\n",
    "# consider the full 'volume' of values that are passed in\n",
    "\n",
    "print(bs_compare.percent_change(test.sum(), ctrl.sum()))\n",
    "\n",
    "print(bs.bootstrap_ab(\n",
    "    test, \n",
    "    ctrl, \n",
    "    stat_func=bs_stats.sum,\n",
    "    compare_func=bs_compare.percent_change\n",
    "))"
   ]
  },
  {
   "cell_type": "markdown",
   "metadata": {},
   "source": [
    "**Advice**: For most situations we reccomend that we use 'sum' aggregate function as this will take the size of the population into account. This can be useful if you think your test will increase the total number of individuals in the population and not only the typical value per individual.\n",
    "\n",
    "Exception to the above advice\n",
    "\n",
    "There are situations where you might need to make some adjustments, for example if your holdouts are sized differently.\n",
    "\n",
    "- You give 100 dollars to **person_A** and you give 1000 dollars to **person_B** to bring people to your store\n",
    "- Say you don't know how many people person_A or person_B went after but they did each get paying customers to attend\n",
    "- However you do need to correct at the end for the fact that you gave person_B 10x more money than person_A"
   ]
  },
  {
   "cell_type": "code",
   "execution_count": 35,
   "metadata": {},
   "outputs": [],
   "source": [
    "# Gave $100, got 1k events on the store, $20 per event \n",
    "person_A_results = np.random.binomial(100, p=0.2, size=1000) * 1.0\n",
    "\n",
    "# Gave $1000, got 5k events on the store, $30 per event\n",
    "person_B_results = np.random.binomial(100, p=0.3, size=5000) * 1.0"
   ]
  },
  {
   "cell_type": "code",
   "execution_count": 36,
   "metadata": {},
   "outputs": [
    {
     "name": "stdout",
     "output_type": "stream",
     "text": [
      "-129944.0    (-130636.0, -129287.0)\n"
     ]
    }
   ],
   "source": [
    "# The test earned much less in terms of total dollars\n",
    "print(bs.bootstrap_ab(\n",
    "    person_A_results, \n",
    "    person_B_results, \n",
    "    stat_func=bs_stats.sum,\n",
    "    compare_func=bs_compare.difference,\n",
    "))"
   ]
  },
  {
   "cell_type": "code",
   "execution_count": 37,
   "metadata": {},
   "outputs": [
    {
     "name": "stdout",
     "output_type": "stream",
     "text": [
      "-10.087999999999997    (-10.356999999999992, -9.813194999999995)\n"
     ]
    }
   ],
   "source": [
    "# The test gives ~$10 less per event\n",
    "print(bs.bootstrap_ab(\n",
    "    person_A_results, \n",
    "    person_B_results, \n",
    "    stat_func=bs_stats.mean,\n",
    "    compare_func=bs_compare.difference,\n",
    "))"
   ]
  },
  {
   "cell_type": "code",
   "execution_count": 38,
   "metadata": {},
   "outputs": [
    {
     "name": "stdout",
     "output_type": "stream",
     "text": [
      "48940.0    (46359.95, 51485.05)\n"
     ]
    }
   ],
   "source": [
    "# If we scale the text by $$ spent - person_A should be a better return on investment\n",
    "#  - assuming person_A can achieve similar results with 10x more money\n",
    "print(bs.bootstrap_ab(\n",
    "    person_A_results, \n",
    "    person_B_results, \n",
    "    stat_func=bs_stats.sum,\n",
    "    compare_func=bs_compare.difference,\n",
    "    scale_test_by=10.,\n",
    "))"
   ]
  },
  {
   "cell_type": "markdown",
   "metadata": {},
   "source": [
    " # Reasons to apply the bootstrap in regression contexts\n",
    "\n",
    "- Distributional assumptions (above all, normality) not met. \n",
    "\n",
    "\n",
    "- Presence of outliers.\n",
    "\n",
    "\n",
    "- Data set sizes too small.\n",
    "\n",
    "\n",
    "- Heteroskedasticity."
   ]
  },
  {
   "cell_type": "markdown",
   "metadata": {},
   "source": [
    " # Bootstrap for regression models (Method 1)\n",
    "\n",
    "- The procedures previously seen can be easily extended to regression models. The most straightforward approach is to collect the response-variable value and regressors for each observation:\n",
    "$$\n",
    "\\mathbf{z}_i^{'}=[Y_i, X_{i1}, \\dots X_{ip}].\n",
    "$$\n",
    "\n",
    "\n",
    "- Then a way to extend the bootstrap in regression models can be the following:\n",
    "\n",
    "    - The original sample $s= \\left[\\mathbf{z}_1^{'},\\mathbf{z}_2^{'}, \\dots, \\mathbf{z}_n^{'}\\right]$ can be resampled with replacement $B$ times, obtaining bootstrap samples $s^*_b= \\left[\\mathbf{z}_{b1}^{*'},\\mathbf{z}_{b2}^{*'}, \\dots, \\mathbf{z}_{bn}^{*'}\\right]$, $b=1, \\dots , B$.\n",
    "\n",
    "    - For each of this bootstrap samples, perform an OLS estimation and obtain regression coefficient estimates $\\boldsymbol{\\beta}^*_b=[\\beta_{b0}^*, \\beta_{b1}^*, \\dots , \\beta_{bp}^*]^{'}$.\n",
    "\n",
    "    - Use these $B$ estimates to compute biases, standard errors, confidence intervals, etc. of regression coefficient estimates.\n"
   ]
  },
  {
   "cell_type": "markdown",
   "metadata": {},
   "source": [
    " # Bootstrap for regression models (Method 1) (cont'd)\n",
    "\n",
    "- An important problem of the previous setting is that we treat the $X$s as **stochastic regressors** (which is a possibility not usually contemplated by linear model classical assumptions, but still an important possibility; see, for example, Frees, 2004. \n",
    "\n",
    "\n",
    "- To avoid this and treat the regressors as fixed (like, for example, in experimental design), we can use the so-called *residual bootstrap*, which consists on bootstrapping regression residuals rather than the entire original sample."
   ]
  },
  {
   "cell_type": "markdown",
   "metadata": {},
   "source": [
    " # Bootstrap for regression model (Method 2): The residual bootstrap\n",
    "\n",
    "The residual bootstrap works as follows:\n",
    "\n",
    "1. Estimate $\\hat{\\beta}_0, \\hat{\\beta}_1, \\dots , \\hat{\\beta}_p$ for the original sample, and calculate the fitted value and residual for each observation:\n",
    "\\begin{equation*}\n",
    "\\begin{split}\n",
    "&\\hat{y}_i=\\hat{\\beta}_0+\\hat{\\beta}_1 x_{i1} + \\dots +\\hat{\\beta}_p x_{ip}\\\\\n",
    "&e_i=y_i- \\hat{y}_i.\n",
    "\\end{split}\n",
    "\\end{equation*}\n",
    "\n",
    "\n",
    "2. From the original sample of residuals $e_i$ select with replacement bootstrap samples of residuals of the form $\\boldsymbol{e}^*_b=[e_{b1}^*, e_{b2}^*, \\dots , e_{bn}^*]^{'}$, and, from these bootstrap samples, calculate bootstrapped values $\\mathbf{y}_b^*=[y_{b1}^*, y_{b2}^*, \\dots , Y_{bn}^*]^{'}$, with $y_{bi}^*=\\hat{y}_i+ e_{bi}^*$.\n",
    "\n",
    "\n",
    "3. Regress the bootstrapped $Y$ values on the fixed $X $values to obtain bootstrap regression coefficients. For example, if estimates are calculated via OLS, then $\\boldsymbol{\\beta}^*_b=(\\mathbf{X}^{'}\\mathbf{X})^{-1}\\mathbf{X}^{'}\\mathbf{y}_b^*$, for $b=1,2, \\dots , B$.\n",
    "\n",
    "\n",
    "4. Use the $B$ bootstrap estimates $\\boldsymbol{\\beta}^*_b$ to construct bootstrap standard errors, confidence intervals, etc. for regression coefficients.\n"
   ]
  },
  {
   "cell_type": "markdown",
   "metadata": {},
   "source": [
    " # First conclusion: pros and cons of bootstrapping\n",
    "\n",
    "Some of the advantages and disadvantages of the bootstrap method are the following:\n",
    "\n",
    "1. Only need the software that does weighted estimation.\n",
    "\n",
    "\n",
    "2. No need for programming specific estimators for each model.\n",
    "\n",
    "\n",
    "3. No need to release the unit identifiers in public data sets.\n",
    "\n",
    "\n",
    "4. No need to give formal assumptions and hypotheses.\n",
    "\n",
    "\n",
    "5. (Still) Computationally intensive.\n",
    "\n",
    "\n",
    "6. Problems in detecting outlier data.\n",
    " \n",
    "\n"
   ]
  },
  {
   "cell_type": "markdown",
   "metadata": {},
   "source": [
    " # Assignment in class (or to be continued at home)\n",
    "\n",
    "Use data set 'Anscombe.xls'.\n",
    "\n",
    "1. Perform a simple linear regression analysis using 'education' as response variable either in R (using lm()) or in Python (using, for example, linear_model from sklearn or OLS from statsmodels.api, or other methods). Choose one independent variable among the three available.\n",
    "\n",
    "\n",
    "2. Find a way to give confidence intervals for $\\beta_1$.\n",
    "\n",
    "\n",
    "3. Implement a bootstrap routine (Method 1) to get confidence intervals for $\\beta_1$.\n",
    "\n",
    "\n",
    "4. Compare the results.\n",
    "\n",
    "\n",
    "\n"
   ]
  },
  {
   "cell_type": "markdown",
   "metadata": {
    "slideshow": {
     "slide_type": "slide"
    }
   },
   "source": [
    "# An example of a (popular but potentially wrong) application of the bootstrap in finance\n",
    "\n",
    "\n",
    "- Problem: estimation of the risk and reward of an asset over a long-run horizon given a short-run set of observations. \n",
    "\n",
    "\n",
    "- People use the bootstrap method to do this. \n",
    "\n",
    "\n",
    "- More worrying, they use the classical (standard) bootstrap, which is supposed to work well in an *independence* data structure. \n",
    "\n",
    "\n",
    "-  An important modification, called the **moving-block bootstrap** can overcome this problem to work better than the classical bootstrap when serial dependency is present in the data.\n",
    "\n",
    "\n",
    "-  We will see very briefly an example on the application of bootstrap methods to financial data (Cogneau \\& Zakamouline, 2013).\n"
   ]
  },
  {
   "cell_type": "markdown",
   "metadata": {
    "slideshow": {
     "slide_type": "slide"
    }
   },
   "source": [
    "# Estimating the log return\n",
    "\n",
    "\n",
    "- Setting:\n",
    "    - A time interval $[t,T]$.\n",
    "    - Time interval divided into $n$ equally spaced subintervals of length $\\Delta t$ ($n=\\frac{T-t}{\\Delta t}$).\n",
    "    - At time $t_k=t+k\\Delta t, k=0,1,\\dots, n$ we observe the value of a risky asset $P(t_k)$.\n",
    "    - The one-period log return of this asset during interval $k$ is $x_k=\\log (\\frac{P(t_k)}{P(t_{k-1)}})$.\n",
    "    - Then, our original sample will be $(x_1, x_2, \\dots, x_n)$.\n",
    "\n",
    "\n",
    "- The problem will be to estimate the parameter $\\theta(F_m)$, where $F_m$ is is the probability distribution of log return over $m$ successive intervals, i.e. the probability distribution of:\n",
    "$$\n",
    "x_{k,k+m}=\\log(\\frac{P(t_{k+m-1})}{P(t_{k-1)}}) \\sim F_m.\n",
    "$$\n"
   ]
  },
  {
   "cell_type": "markdown",
   "metadata": {
    "slideshow": {
     "slide_type": "slide"
    }
   },
   "source": [
    "# Application of the classical bootstrap to the log return problem\n",
    "\n",
    "\n",
    "-  The classical bootstrap method is applied to the original sample $(x_1, x_2, \\dots, x_n)$ of log returns, obtaining with replacement bootstrap samples $(x_1^*, x_2^*, \\dots, x_n^*)$.\n",
    "\n",
    "\n",
    "- Sometimes the with-replacement bootstrap samples are of dimension $m$ rather than $n$: $(x_1^*, x_2^*, \\dots , x_m^*)$ since the focus is on the $m$-period horizon.\n",
    "\n",
    "\n",
    "- Then, one computes $B$ times the bootstrap $m$-period return:\n",
    "$$\n",
    "x^*_{t,t+m}=\\sum_{k=1}^m x_k^*.\n",
    "$$\n",
    "\n",
    "\n",
    "- In this way, one obtains the bootstrap probability distribution $F_m^*$ of the real $F_m$ of log returns over a period of $m$.\n",
    "\n",
    "\n",
    "- $F_m^*$ is used to compute the bootstrap estimate of the parameter of interest $\\theta(F_m)$."
   ]
  },
  {
   "cell_type": "markdown",
   "metadata": {
    "slideshow": {
     "slide_type": "slide"
    }
   },
   "source": [
    "# Application of the classical bootstrap to the log return problem (cont'd)\n",
    "\n",
    "\n",
    "-  Since the independence constraint is required for the standard bootstrap, if we have, for example:\n",
    "$$\n",
    "y_t=y_{t-1}+ \\epsilon_t,\n",
    "$$\n",
    "where $\\epsilon \\sim N(\\mu, \\sigma^2)$, and they are uncorrelated, i.e. we have a random walk model, we can compute differences of the time series values, assuming that they are independent:\n",
    "$$\n",
    "\\epsilon_t=y_t-y_{t-1},\n",
    "$$\n",
    "and bootstrap them.\n"
   ]
  },
  {
   "cell_type": "markdown",
   "metadata": {
    "slideshow": {
     "slide_type": "slide"
    }
   },
   "source": [
    "# The log return problem: A toy example\n",
    "\n",
    "\n",
    "- *Data*. Twelve stock prices (from March 14th, 2018 to March 29th, 2018) of Sony Corporation (SNE) (from Yahoo Finance):\n",
    "\n",
    "\n",
    "*50.95, 51.34, 50.64, 48.34, 48.83, 48.69, 48.13, 47.89, 48.67, 47.87, 48.08, 48.34*.\n",
    "\n",
    "\n",
    "- *Hypothesis*: $\\epsilon_i \\sim N(-0.24,0.73)$.\n",
    "\n",
    "\n",
    "- *Statistic of interest*. Maximum drawdown (difference between a peak and a trough in a given period):\n",
    "\n",
    "\n",
    "*3.47*.\n",
    "\n",
    "\n",
    "- *Differences* are:\n",
    "\n",
    "\n",
    "*0.39, -0.70, -2.30, 0.49, -0.14, -0.56, -0.24, 0.78, -0.80, 0.21, 0.26*.\n",
    "\n",
    "\n",
    "- Example of *bootstrapped differences*:\n",
    "\n",
    "\n",
    "*-0.14, -0.24, 0.21, -0.70, -0.14, -0.14, 0.49, -0.70, -2.30, 0.78, 0.49*.\n",
    "\n",
    "\n",
    "- Example of *bootstrap replicate* (by summing differences):\n",
    "\n",
    "\n",
    "*50.95, 50.81, 50.57, 50.78, 50.08, 49.94, 49.80, 50.29, 49.59, 47.29, 48.07*.\n",
    "\n",
    "\n",
    "- *Replicate of statistic of interest*. Maximum drawdown: 3.66*."
   ]
  },
  {
   "cell_type": "markdown",
   "metadata": {},
   "source": [
    "# Bootstrap universe: spaghetti-type plot\n",
    "\n",
    "<img src=\"Figure1.png\">\n",
    "\n"
   ]
  },
  {
   "cell_type": "markdown",
   "metadata": {
    "slideshow": {
     "slide_type": "slide"
    }
   },
   "source": [
    "# The block bootstrap method\n",
    "\n",
    "\n",
    "- Due to dependence between the financial observations, the standard bootstrap method might give biased results because simple random resampling might not capture the structure of the data. \n",
    "\n",
    "\n",
    "- The block bootstrap (Hall, 1985) tries to avoid this. \n",
    "\n",
    "\n",
    "- The idea is that we resample *blocks of data*, hoping that within blocks structure is preserved. \n",
    "\n",
    "\n",
    "- Let $l$ and $b$ be integers such that $bl=n$, i.e. the sample $(x_1,x_2, \\dots , x_n)$ is divided into $b$ *blocks* of length $l$. \n",
    "\n",
    "\n",
    "- In the non-overlapping block version the original sample is divided among $b$ disjoint blocks, where the $k$-th block is: $B_k=(x_{(k-1)\\cdot l+1}, x_{(k-1)\\cdot l+2}, \\dots , x_{kl})$. \n",
    "\n",
    "\n",
    "- For example if we have a monthly series with length one year, we have $n=12$. Suppose you want quarterly blocks, i.e. blocks of length $l=3$.  Then we have:\n",
    "\n",
    "$$\n",
    "\\begin{split}\n",
    "& B_1 = (x_1, x_2, x_3)\\\\\n",
    "& B_2 = (x_4, x_5, x_6)\\\\\n",
    "& B_3 = (x_7, x_8, x_9)\\\\\n",
    "& B_4 = (x_{10}, x_{11}, x_{12}).\n",
    "\\end{split}\n",
    "$$\n"
   ]
  },
  {
   "cell_type": "markdown",
   "metadata": {
    "slideshow": {
     "slide_type": "slide"
    }
   },
   "source": [
    "# Application of the moving block bootstrap method\n",
    "\n",
    "\n",
    "- The moving block bootstrap works if the structure between blocks is (quasi) i.i.d. \n",
    "\n",
    "\n",
    "- In the moving block method, the original sample is divided into $n-l+1$ overlapping blocks, and the $k$-th block is given by: $B_k=(x_{k}, x_{k+1}, \\dots , x_{k+l-1})$. \n",
    "\n",
    "\n",
    "- In the example above with $n=12$, suppose you want overlapping blocks of length $l=5$.  Then we have:\n",
    "$$\n",
    "\\begin{split}\n",
    "& B_1 = (x_1, x_2, x_3, x_4, x_5)\\\\\n",
    "& B_2 = (x_2, x_3, x_4, x_5, x_6)\\\\\n",
    "& B_3 = (x_3, x_4, x_5, x_6, x_7)\\\\\n",
    "& B_4 = (x_4, x_5, x_6, x_7, x_8)\\\\\n",
    "& B_5 = (x_5, x_6, x_7, x_8, x_9)\\\\\n",
    "& B_6 = (x_6, x_7, x_8, x_9, x_{10})\\\\\n",
    "& B_7 = (x_7, x_8, x_9, x_{10}, x_{11})\\\\\n",
    "& B_8 = (x_8, x_9, x_{10}, x_{11}, x_{12}).\n",
    "\\end{split}\n",
    "$$\n",
    "\n",
    "\n",
    "# Bootstrap samples in the non-overlapping and the moving block methods\n",
    "\n",
    "\n",
    "- In both cases, once you have set $N$ equal to $b$ or $n-l+1$ depending on if you are using non-overlapping or moving block bootstrap, respectively, you pick at random and with replacement block $(B^*_1, B_2^*, \\dots, B_b^*)$, from the original blocks $(B_1, B_2; \\dots, B_N)$. The bootstrap sample will be:\n",
    "$$\n",
    "X^*=(B_1^*,B_2^*,, \\dots, B_b^*)\n",
    "$$\n",
    "\n",
    "\n",
    "- As usual with the bootstrap, you take a large number of these bootstrap samples to construct the required probability distribution.\n",
    "\n",
    "\n",
    "# Other bootstrap methods relating to the moving block bootstrap\n",
    "\n",
    "\n",
    "- *Circular block bootstrap* (Politis \\& Romano, 1992; Shao \\& Yu, 1993). This method allows blocks which start at the end of the data to wrap around to the start.\n",
    "\n",
    "\n",
    "- *Double block bootstrap* (Kunsch, 1989). This method allows two levels of blocking.\n",
    "\n",
    "\n",
    "- *Stationary block bootstrap* (Politis \\& Romano, 1994). This method allows the length of the block to be random.\n"
   ]
  },
  {
   "cell_type": "markdown",
   "metadata": {
    "slideshow": {
     "slide_type": "slide"
    }
   },
   "source": [
    "# Some useful references for the block bootstrap (available on the internet)\n",
    "\n",
    "\n",
    "- Cogneau, P., Zakamouline, Z. (2010). Bootstrap Methods for Finance: Review and Analysis. Draft paper, University of Liege.\n",
    "\n",
    "\n",
    "- Radovanov, B., Marcikić, A. (2014). A comparison of four different block bootstrap methods. *Croatian Operational Research Review*, 5: 189-202.\n",
    "\n",
    "\n",
    "- Sunesson, A. (2014). *Bootstrap of Dependent Data in Finance*. Master of Science's Thesis, Chalmers University of Technology, Sweden.\n"
   ]
  },
  {
   "cell_type": "markdown",
   "metadata": {
    "slideshow": {
     "slide_type": "slide"
    }
   },
   "source": [
    "# General references for the bootstrap and the block bootstrap\n",
    "\n",
    "\n",
    "- Chernick, M.R., LaBudde, R.A. (2011). *An introduction to Bootstrap Methods with Applications to R*. Wiley.\n",
    "\n",
    "\n",
    "- Cogneau, P., Zakamouline, V. (2013).  Block bootstrap methods and the choice of stocks for the long run. \n",
    "*Quantitative Finance*, 13(9), 1443-1457.\n",
    "\n",
    "\n",
    "- Efron, B. (1979). Bootstrap methods: Another look at the jackknife. *Annals of Statistics*, 7: 1-26.\n",
    "\n",
    "\n",
    "- Efron, B., Tibshirani, R.J. (1994). *An Introduction to the Bootstrap*, CRC Press.\n",
    "\n",
    "\n",
    "- Hall, P. (1985). Resampling a coverage pattern. *Stochastic processes and their Applications*, 20, 231-246. \n",
    "\n",
    "\n",
    "- McCarthy, P. J. (1969). Pseudo-replication: Half samples. *Review of the International Statistical Institute*, 37 (3), 239-264.\n",
    "\n",
    "\n",
    "- Politis, D. N., Romano, J. P. (1992). A circular block resampling procedure for stationary data. In Lepage, R., Billard, L. (Eds.): *Exploring the Limits of Bootstrap*: 263-270. Wiley, New York. \n",
    "\n",
    "\n",
    "- Politis, D. N., Romano, J. P. (1994). The stationary bootstrap. *Journal of the American Statistical Association*, 89: 1303-1313.\n",
    "\n"
   ]
  },
  {
   "cell_type": "markdown",
   "metadata": {},
   "source": [
    "## A few words about other resampling methods: The jackknife method\n",
    "\n",
    "- Another important resampling method is the **jackknife**.\n",
    "\n",
    "\n",
    "- The jackknife was proposed by Quenouille (1954) then revised by Tukey (1958). \n",
    "\n",
    "\n",
    "- It is a method aiming mainly at *estimating the bias* and the *standard error* of an estimator. \n",
    "\n",
    "\n",
    "- Suppose we have a sample $s=(x_1, x_2, \\dots , x_n)$ and an estimator $\\hat{\\theta}=t(s)$. \n",
    "\n",
    "\n",
    "- The jackknife focuses on the samples that \\emph{leave out one observation at a time}:\n",
    "$$\n",
    "s_{(i)}=(x_1, x_2, \\dots , x_{i-1}, x_{i+1}, \\dots , x_n).\n",
    "$$ \n",
    "\n",
    "\n",
    "- For $i=1, \\dots , n$, these samples are called \\textbf{jackknife samples}.\n",
    "\n"
   ]
  },
  {
   "cell_type": "markdown",
   "metadata": {},
   "source": [
    "## Pseudo-values and the Jackknife estimate of the bias\n",
    "\n",
    "\n",
    "- The quantity $\\theta_{(i)}$ which is calculated on the jackknife sample is called \\emph{pseudo-value}. \n",
    "\n",
    "\n",
    "- The jackknife procedure is iterated $n$ times on each of the $n$ available jackknife samples, obtaining $n$ pseudo-values $\\theta_{(i)}$, $i = 1,\\dots, n$. \n",
    "\n",
    "\n",
    "- The $n$ pseudo-values can be interpreted as a simulation of the distribution of the estimator $\\hat {\\theta}$\n",
    "such that the average:\n",
    "$$\n",
    "\\hat {\\theta}_{*}=\\frac{1}{n} \\sum_{i=1}^n \\theta_{(i)}\n",
    "$$\n",
    "can be regarded as a simulation - called \\emph{jackknife estimate} - of the expected value $E[\\hat{\\theta}]$. \n",
    "\n",
    "\n",
    "- The jackknife estimate of the bias of $\\hat{\\theta}$ is therefore given by:\n",
    "$$\n",
    "\\hat{\\text{Bias}}_{jack}  = (n-1)[\\hat {\\theta}_{*}-\\hat{\\theta}].\n",
    "$$\n",
    "\n",
    "\n",
    "- $(n-1)$ is a weight as in the jackknife lower sample sizes are considered with respect to the original sample size.\n"
   ]
  },
  {
   "cell_type": "markdown",
   "metadata": {},
   "source": [
    "## The jackknife estimate of the bias for the sample mean estimator\n",
    "\n",
    "\n",
    "- For the sample mean estimator ($\\bar{x}$, which is itself unbiased) the jackknife estimate of the bias is zero.\n",
    "\n",
    "\n",
    "- Let $\\theta = \\mu$ and $\\hat{\\theta} = \\bar{x} = \\frac{1}{n}\\sum_{i=1}^n x_i$.\n",
    "\n",
    "\n",
    "- We have:\n",
    "$$\n",
    "\\hat{\\theta}_{(i)} = \\frac{1}{n-1} \\sum_{j \\neq i} x_j = \\frac{1}{n-1}[\\sum_{j = 1}^n x_j -x_i] = \\frac{n\\bar{x}}{n-1}- \\frac{x_i}{n-1}.\n",
    "$$\n",
    "\n",
    "\n",
    "- Now:\n",
    "$$\n",
    "\\hat {\\theta}_{*}= \\frac{1}{n} \\sum_{i = 1}^n \\hat{\\theta}_{(i)} = \\frac{1}{n} (\\frac{n^2\\bar{x}}{n-1}- \\frac{nx_i}{n-1}) = \\frac{n\\bar{x}}{n-1} - \\frac{\\bar{x}}{n-1} = \\bar{x}.\n",
    "$$\n",
    "\n",
    "\n",
    "- Therefore:\n",
    "$$\n",
    "\\hat{Bias}_{jack} = (n-1)[\\hat {\\theta}_{*}-\\hat{\\theta}] = (n-1)(\\bar{x} - \\bar{x}) = 0.\n",
    "$$\n",
    "\n",
    "\n",
    "- This result can be extended to all sample moments and to linear functions of sample moments.\n"
   ]
  },
  {
   "cell_type": "markdown",
   "metadata": {},
   "source": [
    "## The jackknife estimate of the bias $\\hat{Bias}_{jack}$ is suitable for \"correcting\" the bias of $\\hat{\\theta}$\n",
    "\n",
    "\n",
    "- It turns out that the jackknife-corrected estimator $\\hat{\\theta}_{jack-corr}$:\n",
    "$$\n",
    "\\hat{\\theta}_{jack-corr} = \\hat{\\theta} - \\hat{Bias}_{jack} = \\hat{\\theta} - (n-1)[\\hat {\\theta}_{*}-\\hat{\\theta}] = n\\hat{\\theta} - (n-1)\\hat {\\theta}_{*}\n",
    "$$\n",
    "is actually \\textbf{less biased} than $\\hat{\\theta}$ if the bias of $\\hat{\\theta}$ can have the following representation:\n",
    "$$\n",
    "E(\\hat{\\theta}) - \\theta = \\frac{a_1}{n} + \\frac{a_2}{n^2} + \\dots + \\frac{a_k}{n^k},\n",
    "$$\n",
    "i.e. the bias is of order $O(\\frac{1}{n})$.\n",
    "\n",
    "\n",
    "- In this case the jackknife-corrected estimator has lower bias\\emph{}.\n",
    "\n"
   ]
  },
  {
   "cell_type": "markdown",
   "metadata": {},
   "source": [
    "## The jackknife estimate of the bias $\\hat{Bias}_{jack}$ is suitable for \"correcting\" the bias of $\\hat{\\theta}$ (cont'd)\n",
    "\n",
    "\n",
    "- In fact we have:\n",
    "$$\n",
    "E(\\hat{\\theta}_{jack-corr}) =  E[n\\hat{\\theta} - (n-1)\\hat {\\theta}_{*}] = nE(\\hat{\\theta})- (n-1) E(\\hat {\\theta}_{n-1}).\n",
    "$$\n",
    "\n",
    "\n",
    "- By using the representation we saw in the last slide we have:\n",
    "$$\n",
    "E(\\hat{\\theta}_{jack-corr}) = n[\\theta + \\frac{a_1}{n} + \\frac{a_2}{n^2} + \\dots ] - (n-1)[\\theta + \\frac{a_1}{n-1} + \\frac{a_2}{(n-1)^2} + \\dots ],\n",
    "$$\n",
    "and after a few algebra we finally get:\n",
    "$$\n",
    "E(\\hat{\\theta}_{jack-corr}) = \\theta + \\frac{a_2}{n(n-1)} + \\dots,\n",
    "$$\n",
    "i.e. the bias of $\\hat{\\theta}_{jack-corr}$ is of order $O(\\frac{1}{n^2})$, with therefore an improvement.\n",
    "\n"
   ]
  },
  {
   "cell_type": "markdown",
   "metadata": {},
   "source": [
    "## The jackknife estimate of the bias $\\hat{Bias}_{jack}$ is suitable for \"correcting\" the bias of $\\hat{\\theta}$ (cont'd)\n",
    "\n",
    "\n",
    "- The fact we have just proved is true for a wide family of estimators, i.e. the Maximum Likelihood Estimators.\n",
    "\n",
    "\n",
    "- An example is the sample variance which is a biased estimator of the population variance of the first order.\n",
    "\n",
    "\n",
    "- Here the jack-corrected estimator is \\emph{unbiased}. In fact we have:\n",
    "$$\n",
    "\\hat{\\theta} = s^2 = \\frac{1}{n} \\sum_{i=1}^n (x_i-\\bar{x})^2.\n",
    "$$\n",
    "\n",
    "\n",
    "- Its expected value is:\n",
    "$$\n",
    "E(s^2)=\\frac{n-1}{n} \\sigma^2 = \\sigma^2 - \\frac{\\sigma^2}{n},\n",
    "$$\n",
    "and therefore here we have a bias of the first order. But:\n",
    "$$\n",
    "\\hat{\\theta}_{jack-corr} = \\bar{s}^2 = \\frac{1}{n-1} \\sum_{i=1}^n (x_i-\\bar{x})^2,\n",
    "$$\n",
    "and we get an unbiased estimator of the variance. %ie $E(\\bar{s}^2 ) = \\sigma^2$.\n"
   ]
  },
  {
   "cell_type": "markdown",
   "metadata": {},
   "source": [
    "## The jackknife estimate of the standard error\n",
    "\n",
    "\n",
    "- The jackknife estimator of the standard error for $\\hat{\\theta}$ is defined by:\n",
    "$$\n",
    "\\hat{\\text{se}}_{\\text{jack}}=\\left[\\frac{n-1}{n}\\sum_{i=1}^n \\left(\\hat{\\theta}_{(i)} - \\hat{\\theta}_{(\\cdot)}\\right)^2\\right]^\\frac{1}{2},\n",
    "$$\n",
    "where $\\hat{\\theta}_{(i)}=t(s_{(i)})$ and $\\hat{\\theta}_{(\\cdot)}= \\sum_{i=1}^n \\frac{\\hat{\\theta}_{(i)}}{n}$.\n",
    "\\item In the formula there is an \"inflation factor\" $\\frac{n-1}{n}$ which is used because the jackknife deviations $\\left(\\hat{\\theta}_{(i)} - \\hat{\\theta}_{(\\cdot)}\\right)^2$ tend to be smaller than the bootstrap deviations $\\left(\\hat{\\theta}^*(b) - \\hat{\\theta}^*(\\cdot)\\right)^2$.\n",
    "\n",
    "\n",
    "- If $\\hat{\\theta}=\\bar{x}$ we get: \n",
    "$$\n",
    "\\hat{\\text{se}}_{\\text{jack}}= \\left[ \\frac{\\sum _{i=1}^n(x_i-\\bar{x})^2}{n(n-1)} \\right]^{\\frac{1}{2}}.\n",
    "$$\n"
   ]
  },
  {
   "cell_type": "code",
   "execution_count": 4,
   "metadata": {},
   "outputs": [
    {
     "data": {
      "text/plain": [
       "array([0.50548093, 0.27559045, 0.121784  , 0.72965624, 0.80815952,\n",
       "       0.7665098 , 0.91387415, 0.76902914, 0.12675393, 0.45280741])"
      ]
     },
     "execution_count": 4,
     "metadata": {},
     "output_type": "execute_result"
    }
   ],
   "source": [
    "#Original sample from a uniform (0,1) - size:10\n",
    "size = 10\n",
    "from scipy.stats import uniform\n",
    "or_sample = uniform.rvs(size=size)\n",
    "or_sample"
   ]
  },
  {
   "cell_type": "code",
   "execution_count": 6,
   "metadata": {},
   "outputs": [
    {
     "data": {
      "text/plain": [
       "array([[0., 0., 0., 0., 0., 0., 0., 0., 0.],\n",
       "       [0., 0., 0., 0., 0., 0., 0., 0., 0.],\n",
       "       [0., 0., 0., 0., 0., 0., 0., 0., 0.],\n",
       "       [0., 0., 0., 0., 0., 0., 0., 0., 0.],\n",
       "       [0., 0., 0., 0., 0., 0., 0., 0., 0.],\n",
       "       [0., 0., 0., 0., 0., 0., 0., 0., 0.],\n",
       "       [0., 0., 0., 0., 0., 0., 0., 0., 0.],\n",
       "       [0., 0., 0., 0., 0., 0., 0., 0., 0.],\n",
       "       [0., 0., 0., 0., 0., 0., 0., 0., 0.],\n",
       "       [0., 0., 0., 0., 0., 0., 0., 0., 0.]])"
      ]
     },
     "execution_count": 6,
     "metadata": {},
     "output_type": "execute_result"
    }
   ],
   "source": [
    "import numpy as np\n",
    "  \n",
    "# Here 4 is the number of rows and 2 \n",
    "# is the number of columns\n",
    "jack_samples = np.zeros((size, size -1))\n",
    "jack_samples"
   ]
  },
  {
   "cell_type": "code",
   "execution_count": 24,
   "metadata": {},
   "outputs": [
    {
     "name": "stdout",
     "output_type": "stream",
     "text": [
      "[2 3 4 5]\n"
     ]
    }
   ],
   "source": [
    "arr = np.array([1, 2, 3, 4, 5])\n",
    "index = 0\n",
    "arr = np.delete(arr, index)\n",
    "print(arr)"
   ]
  },
  {
   "cell_type": "code",
   "execution_count": 26,
   "metadata": {},
   "outputs": [
    {
     "data": {
      "text/plain": [
       "array([[0.27559045, 0.121784  , 0.72965624, 0.80815952, 0.7665098 ,\n",
       "        0.91387415, 0.76902914, 0.12675393, 0.45280741],\n",
       "       [0.50548093, 0.121784  , 0.72965624, 0.80815952, 0.7665098 ,\n",
       "        0.91387415, 0.76902914, 0.12675393, 0.45280741],\n",
       "       [0.50548093, 0.27559045, 0.72965624, 0.80815952, 0.7665098 ,\n",
       "        0.91387415, 0.76902914, 0.12675393, 0.45280741],\n",
       "       [0.50548093, 0.27559045, 0.121784  , 0.80815952, 0.7665098 ,\n",
       "        0.91387415, 0.76902914, 0.12675393, 0.45280741],\n",
       "       [0.50548093, 0.27559045, 0.121784  , 0.72965624, 0.7665098 ,\n",
       "        0.91387415, 0.76902914, 0.12675393, 0.45280741],\n",
       "       [0.50548093, 0.27559045, 0.121784  , 0.72965624, 0.80815952,\n",
       "        0.91387415, 0.76902914, 0.12675393, 0.45280741],\n",
       "       [0.50548093, 0.27559045, 0.121784  , 0.72965624, 0.80815952,\n",
       "        0.7665098 , 0.76902914, 0.12675393, 0.45280741],\n",
       "       [0.50548093, 0.27559045, 0.121784  , 0.72965624, 0.80815952,\n",
       "        0.7665098 , 0.91387415, 0.12675393, 0.45280741],\n",
       "       [0.50548093, 0.27559045, 0.121784  , 0.72965624, 0.80815952,\n",
       "        0.7665098 , 0.91387415, 0.76902914, 0.45280741],\n",
       "       [0.50548093, 0.27559045, 0.121784  , 0.72965624, 0.80815952,\n",
       "        0.7665098 , 0.91387415, 0.76902914, 0.12675393]])"
      ]
     },
     "execution_count": 26,
     "metadata": {},
     "output_type": "execute_result"
    }
   ],
   "source": [
    "for i in range(0, size):\n",
    "    index = i\n",
    "    jack_samples[i,] = np.delete(or_sample, i)\n",
    "jack_samples"
   ]
  },
  {
   "cell_type": "markdown",
   "metadata": {},
   "source": [
    "## Using a Python library\n",
    "\n",
    "- We can use the library Astropy from which we invoke jackknife_stats"
   ]
  },
  {
   "cell_type": "code",
   "execution_count": 41,
   "metadata": {},
   "outputs": [],
   "source": [
    "import numpy as np\n",
    "from astropy.stats import jackknife_resampling\n",
    "from astropy.stats import jackknife_stats"
   ]
  },
  {
   "cell_type": "code",
   "execution_count": 43,
   "metadata": {},
   "outputs": [
    {
     "data": {
      "text/plain": [
       "array([3.401, 3.204, 3.629, 3.487, 3.062, 3.856, 3.912, 3.742, 4.054])"
      ]
     },
     "execution_count": 43,
     "metadata": {},
     "output_type": "execute_result"
    }
   ],
   "source": [
    "birtweight = np.array([3.401,3.204,3.629,3.487,3.062,3.856,3.912,3.742,4.054])\n",
    "birtweight"
   ]
  },
  {
   "cell_type": "code",
   "execution_count": 44,
   "metadata": {},
   "outputs": [
    {
     "data": {
      "text/plain": [
       "array([[3.204, 3.629, 3.487, 3.062, 3.856, 3.912, 3.742, 4.054],\n",
       "       [3.401, 3.629, 3.487, 3.062, 3.856, 3.912, 3.742, 4.054],\n",
       "       [3.401, 3.204, 3.487, 3.062, 3.856, 3.912, 3.742, 4.054],\n",
       "       [3.401, 3.204, 3.629, 3.062, 3.856, 3.912, 3.742, 4.054],\n",
       "       [3.401, 3.204, 3.629, 3.487, 3.856, 3.912, 3.742, 4.054],\n",
       "       [3.401, 3.204, 3.629, 3.487, 3.062, 3.912, 3.742, 4.054],\n",
       "       [3.401, 3.204, 3.629, 3.487, 3.062, 3.856, 3.742, 4.054],\n",
       "       [3.401, 3.204, 3.629, 3.487, 3.062, 3.856, 3.912, 4.054],\n",
       "       [3.401, 3.204, 3.629, 3.487, 3.062, 3.856, 3.912, 3.742]])"
      ]
     },
     "execution_count": 44,
     "metadata": {},
     "output_type": "execute_result"
    }
   ],
   "source": [
    "jack_samples = jackknife_resampling(birtweight)\n",
    "jack_samples"
   ]
  },
  {
   "cell_type": "markdown",
   "metadata": {},
   "source": [
    "### Obtain Jackknife estimate for the mean, its bias, its standard error, and its 95% confidence interval:"
   ]
  },
  {
   "cell_type": "code",
   "execution_count": 45,
   "metadata": {},
   "outputs": [
    {
     "data": {
      "text/plain": [
       "<function numpy.mean(a, axis=None, dtype=None, out=None, keepdims=<no value>, *, where=<no value>)>"
      ]
     },
     "execution_count": 45,
     "metadata": {},
     "output_type": "execute_result"
    }
   ],
   "source": [
    "estimator = np.mean"
   ]
  },
  {
   "cell_type": "code",
   "execution_count": 49,
   "metadata": {},
   "outputs": [],
   "source": [
    "jack_estimate, jack_bias, jack_se, jack_conf_interval = jackknife_stats(birtweight, estimator, 0.95)"
   ]
  },
  {
   "cell_type": "code",
   "execution_count": 50,
   "metadata": {},
   "outputs": [
    {
     "name": "stdout",
     "output_type": "stream",
     "text": [
      "3.5941111111111113\n",
      "0.0\n",
      "0.11107548039814652\n",
      "[3.37640717 3.81181505]\n"
     ]
    }
   ],
   "source": [
    "print(jack_estimate)\n",
    "print(jack_bias)\n",
    "print(jack_se)\n",
    "print(jack_conf_interval)"
   ]
  },
  {
   "cell_type": "code",
   "execution_count": null,
   "metadata": {},
   "outputs": [],
   "source": [
    "\n",
    ">>> estimate, bias, stderr, conf_interval = jackknife_stats(\n",
    "...     data, test_statistic, 0.95)\n",
    ">>> estimate\n",
    "4.5\n",
    ">>> bias\n",
    "0.0\n",
    ">>> stderr  \n",
    "0.95742710775633832\n",
    ">>> conf_interval\n",
    "array([2.62347735,  6.37652265])"
   ]
  },
  {
   "cell_type": "code",
   "execution_count": null,
   "metadata": {},
   "outputs": [],
   "source": [
    "import numpy as np\n",
    "import pdb\n",
    "def jackknife(x, func):\n",
    "    \"\"\"Jackknife estimate of the estimator func\"\"\"\n",
    "    n1 = len(x)\n",
    "    pdb.set_trace()\n",
    "    idx = np.arange(n1)\n",
    "    #pdb.set_trace()\n",
    "    return np.sum(func(x[idx!=i]) for i in range(n1))/float(n1)"
   ]
  },
  {
   "cell_type": "code",
   "execution_count": null,
   "metadata": {
    "scrolled": true
   },
   "outputs": [],
   "source": [
    "import numpy as np\n",
    "# Jackknife estimate of standard deviation\n",
    "x = np.random.normal(0, 2, 100)\n",
    "jackknife(x, np.std)"
   ]
  },
  {
   "cell_type": "code",
   "execution_count": null,
   "metadata": {},
   "outputs": [],
   "source": [
    "def jackknife_var(x, func):\n",
    "    \"\"\"Jackknife estiamte of the variance of the estimator func.\"\"\"\n",
    "    n = len(x)\n",
    "    idx = np.arange(n)\n",
    "    j_est = jackknife(x, func)\n",
    "    return (n-1)/(n + 0.0) * np.sum((func(x[idx!=i]) - j_est)**2.0\n",
    "                                    for i in range(n))"
   ]
  },
  {
   "cell_type": "code",
   "execution_count": null,
   "metadata": {},
   "outputs": [],
   "source": [
    "jackknife_var(x, np.std)"
   ]
  },
  {
   "cell_type": "markdown",
   "metadata": {
    "slideshow": {
     "slide_type": "slide"
    }
   },
   "source": [
    "# Other popular use of resampling methods you probably  have already seen\n",
    "\n",
    "\n",
    "- Cross validation is itself a resampling method.\n",
    "\n",
    "\n",
    "- In bagging bootstrap is used to reduce variance into the node groups.\n",
    "\n",
    "\n",
    "- In random forest we use the bootstrap for reducing the correlation among trees.\n",
    "\n"
   ]
  },
  {
   "cell_type": "code",
   "execution_count": 1,
   "metadata": {},
   "outputs": [
    {
     "data": {
      "text/html": [
       "\n",
       "<style>\n",
       "\n",
       "div.cell { /* Tunes the space between cells */\n",
       "margin-top:1em;\n",
       "margin-bottom:1em;\n",
       "}\n",
       "\n",
       "div.text_cell_render h1 { /* Main titles bigger, centered */\n",
       "font-size: 2.2em;\n",
       "line-height:1.4em;\n",
       "text-align:center;\n",
       "}\n",
       "\n",
       "div.text_cell_render h2 { /*  Parts names nearer from text */\n",
       "margin-bottom: -0.4em;\n",
       "}\n",
       "\n",
       "\n",
       "div.text_cell_render { /* Customize text cells */\n",
       "font-family: 'Times New Roman';\n",
       "font-size:1.5em;\n",
       "line-height:1.4em;\n",
       "padding-left:3em;\n",
       "padding-right:3em;\n",
       "}\n",
       "</style>\n"
      ],
      "text/plain": [
       "<IPython.core.display.HTML object>"
      ]
     },
     "execution_count": 1,
     "metadata": {},
     "output_type": "execute_result"
    }
   ],
   "source": [
    "#This is to let you have larger fonts...\n",
    "from IPython.core.display import HTML\n",
    "HTML(\"\"\"\n",
    "<style>\n",
    "\n",
    "div.cell { /* Tunes the space between cells */\n",
    "margin-top:1em;\n",
    "margin-bottom:1em;\n",
    "}\n",
    "\n",
    "div.text_cell_render h1 { /* Main titles bigger, centered */\n",
    "font-size: 2.2em;\n",
    "line-height:1.4em;\n",
    "text-align:center;\n",
    "}\n",
    "\n",
    "div.text_cell_render h2 { /*  Parts names nearer from text */\n",
    "margin-bottom: -0.4em;\n",
    "}\n",
    "\n",
    "\n",
    "div.text_cell_render { /* Customize text cells */\n",
    "font-family: 'Times New Roman';\n",
    "font-size:1.5em;\n",
    "line-height:1.4em;\n",
    "padding-left:3em;\n",
    "padding-right:3em;\n",
    "}\n",
    "</style>\n",
    "\"\"\")"
   ]
  },
  {
   "cell_type": "code",
   "execution_count": null,
   "metadata": {},
   "outputs": [],
   "source": []
  }
 ],
 "metadata": {
  "anaconda-cloud": {},
  "celltoolbar": "Tags",
  "kernelspec": {
   "display_name": "Python 3",
   "language": "python",
   "name": "python3"
  },
  "language_info": {
   "codemirror_mode": {
    "name": "ipython",
    "version": 3
   },
   "file_extension": ".py",
   "mimetype": "text/x-python",
   "name": "python",
   "nbconvert_exporter": "python",
   "pygments_lexer": "ipython3",
   "version": "3.8.5"
  }
 },
 "nbformat": 4,
 "nbformat_minor": 1
}
