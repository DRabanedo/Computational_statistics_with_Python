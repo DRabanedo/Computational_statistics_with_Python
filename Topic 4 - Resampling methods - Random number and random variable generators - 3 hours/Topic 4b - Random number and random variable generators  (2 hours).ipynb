{
 "cells": [
  {
   "cell_type": "markdown",
   "metadata": {},
   "source": [
    "# <p style=\"text-align: center;\">Computational Statistics with Python</p>\n",
    "\n",
    "\n",
    "## <p style=\"text-align: center;\">Topic 4: Random number and random variable generators</p>\n",
    "\n",
    "## <p style=\"text-align: center;\">Expected lecture time: 2 hours</p>\n",
    "\n",
    "\n",
    "<p style=\"text-align: center;\">Giancarlo Manzi</p>\n",
    "<p style=\"text-align: center;\">Department of Economics, Management and Quantitative Methods</p>\n",
    "<p style=\"text-align: center;\">University of Milan, Milan, Italy</p>"
   ]
  },
  {
   "cell_type": "markdown",
   "metadata": {
    "slideshow": {
     "slide_type": "slide"
    }
   },
   "source": [
    "# Random numbers\n",
    "\n",
    "\n",
    "- In statistics randomness is vital.\n",
    "\n",
    "\n",
    "- The importance of the availability of random values generated from random variables is fundamental especially in simulation methods.\n",
    "\n",
    "\n",
    "- Computational statistics is based on random numbers and variables.\n",
    "\n",
    "\n",
    "- Two definitions of random numbers:\n",
    "    - Classic; \n",
    "    - Modern."
   ]
  },
  {
   "cell_type": "markdown",
   "metadata": {
    "slideshow": {
     "slide_type": "slide"
    }
   },
   "source": [
    "# *Classical* definition of  a random number\n",
    "\n",
    "\n",
    "- Ideally, in the classic definition a random number should come from a Discrete Uniform distribution (also called Rectangular) with parameter 10.\n",
    "\n",
    "$$\n",
    "X \\sim \\text{Unif}(10),\n",
    "$$\n",
    "\n",
    "with range $\\{ 0,1, \\dots , 9\\}$. \n",
    "\n",
    "\n",
    "- Recall that a random variable $X$ is Discrete Uniform if its pdf $f(x)$ is: \n",
    "$$\n",
    "f(x)=\\begin{cases}\n",
    "      \\frac{1}{N}, & \\text{if}\\ x=1, 2, \\dots , N \\\\\n",
    "      0, & \\text{otherwise}\n",
    "    \\end{cases}\n",
    "$$\n",
    "and we write $X \\sim \\text{Unif}(N)$. \n",
    "\n",
    "\n",
    "- In the following plot a $\\text{Unif}(10)$ is represented:\n",
    "<img src=\"Rectangular.png\">\n",
    "\n",
    "\n",
    "- **Classic definition of random numbers**.\n",
    "*A sequence of random numbers is formed by integer digits: $\\{ 0,1,, \\dots , 9\\}$ generated in sequence independently and with the same probability*.\n",
    "\n"
   ]
  },
  {
   "cell_type": "markdown",
   "metadata": {
    "slideshow": {
     "slide_type": "slide"
    }
   },
   "source": [
    "# *Modern* definition of  a random number\n",
    "\n",
    "\n",
    "- Ideally, in the modern definition a random number should come from a Continuous Uniform distribution instead, with parameters 0,1: \n",
    "$$\n",
    "X \\sim Unif(0,1).\n",
    "$$\n",
    "\n",
    "\n",
    "- **Modern definition of random numbers**.\n",
    "*A sequence of random numbers is formed by real numbers in the interval $ (0,1)$ generated in sequence, independently and with the same probability*.\n",
    "\n",
    "\n",
    "\n"
   ]
  },
  {
   "cell_type": "markdown",
   "metadata": {
    "slideshow": {
     "slide_type": "slide"
    }
   },
   "source": [
    "\n",
    "# Traditional RNG systems\n",
    "\n",
    "\n",
    "-  Historically, mechanical devices have always been used to generate true random numbers.\n",
    "\n",
    "\n",
    "- Lotto games\n",
    "\n",
    "\n",
    "- Dice.\n",
    "\n",
    "\n",
    "- Coins.\n",
    "\n",
    "\n",
    "- Cards.\n",
    "\n",
    "\n",
    "- Etc.\n",
    "\n",
    "\n",
    "- For example the long sequence of lotto results are good example of classic random numbers (they have been recorded in random number tables for decades).\n",
    "\n",
    "<img src=\"LottoTable.png\">\n",
    "\n",
    "\n",
    "\n",
    "\n",
    "\n"
   ]
  },
  {
   "cell_type": "markdown",
   "metadata": {
    "slideshow": {
     "slide_type": "slide"
    }
   },
   "source": [
    "\n",
    "# Advantages and disadvantages of traditional RNG systems\n",
    "\n",
    "\n",
    "-  Advantages:\n",
    "    - Produce *true* random numbers. \n",
    "\n",
    "\n",
    "\n",
    "- Disadvantages:\n",
    "    - Sensitivity to events external to the random event (how about frauds in Italian lotto?). \n",
    "    - Long amount of time needed to produce a sufficiently long sequence. \n",
    "    - Storage procedure in a computer system: long time needed and computational power not completely exploited."
   ]
  },
  {
   "cell_type": "markdown",
   "metadata": {
    "slideshow": {
     "slide_type": "slide"
    }
   },
   "source": [
    "\n",
    "# \"Natural\" RNG systems\n",
    "\n",
    "\n",
    "-  Recording of some natural process (in physics, for example) postulated by theory. \n",
    "\n",
    "\n",
    "- Example: Rand corporation (1955):\n",
    "    - Code of an electronic disturbance.\n",
    "    - One million random number produced.\n",
    "    - Recorded in a random number tables.\n"
   ]
  },
  {
   "cell_type": "markdown",
   "metadata": {
    "slideshow": {
     "slide_type": "slide"
    }
   },
   "source": [
    "\n",
    "# A million random digits....\n",
    "\n",
    "\n",
    "<img src=\"RAND.png\">\n"
   ]
  },
  {
   "cell_type": "markdown",
   "metadata": {
    "slideshow": {
     "slide_type": "slide"
    }
   },
   "source": [
    "\n",
    "# Switching to empirically *simulate* true random numbers\n",
    "\n",
    "\n",
    "- With the increasing power of computers, it has been evident that something different was needed. \n",
    "\n",
    "\n",
    "\n",
    "- Exploiting the power of computers, a new way of obtaining random numbers has been introduced. \n",
    "\n",
    "\n",
    "\n",
    "- The simulation consisted on creating as much randomness as possible *artificially*. \n",
    "\n",
    "\n",
    "\n",
    "- This leads towards **pseudo-random number generation**. \n",
    "\n",
    "\n",
    "\n",
    "- Advantages: \n",
    "    - Solve the problem of long time needed to generate a sufficiently long sequence of numbers. \n",
    "    - Not constrained on using pre-formatted tables. \n",
    "\n",
    "\n",
    "\n",
    "- Disadvantages:\n",
    "    - Can be more or less reliable in terms of pure randomness. \n",
    "    - Need to test for randomness (see below).\n",
    "\n"
   ]
  },
  {
   "cell_type": "markdown",
   "metadata": {
    "slideshow": {
     "slide_type": "slide"
    }
   },
   "source": [
    "\n",
    "# Main shared characteristics of Pseudo RNG systems\n",
    "\n",
    "\n",
    "- The term '*pseudo*' stands for indicating that the generated values are indeed **not random at all** (should be called *fake* random numbers, actually)!\n",
    "\n",
    "\n",
    "- Numbers produced via computation from such generators are the result of an ordered and finite series of **deterministic** operations. \n",
    "\n",
    "\n",
    "\n",
    "- These algorithms are often recursive (iterative), so inducing sometimes an autocorrelation in the series of the produced values, *in contrast with the desired independence*, which is very, very important.\n",
    "\n",
    "\n"
   ]
  },
  {
   "cell_type": "markdown",
   "metadata": {
    "slideshow": {
     "slide_type": "slide"
    }
   },
   "source": [
    "\n",
    "# What characteristics a PRNG must have to be considered OK\n",
    "\n",
    "\n",
    "- A good PRNG must have the following characteristics: \n",
    "    - To be able to produce numbers that appear to be *uniformly distributed* in the interval $(0, 1)$, with as *low dependence structure as possible*.\n",
    "    - To be *fast* enough for simulation purposes.  \n",
    "    - To have *reliable* computational memory requirements. \n",
    "    - To *grant reproducibility* of any generated series (this allows, for example, to validate simulation results and to apply the simulation study itself on different models/systems under the same conditions).\n",
    "\n",
    "\n"
   ]
  },
  {
   "cell_type": "markdown",
   "metadata": {
    "slideshow": {
     "slide_type": "slide"
    }
   },
   "source": [
    "\n",
    "# Statistical tests used to evaluate PRNG performance\n",
    "\n",
    "\n",
    "- We can implement a test on the uniform randomness of the values $y_i$ generated by the PRNG using the following null hypothesis:\n",
    "$$\n",
    "H_0 \\text{: } Y \\sim U(0,1),\n",
    "$$\n",
    "or, equivalently:\n",
    "$$\n",
    "H_0 \\text{: } F(Y)=y, 0<y<1.\n",
    "$$  \n",
    "\n",
    "\n",
    "- In this way, we test an hypothesis on the *functional form* of the cdf of $Y$.  \n",
    "\n",
    "\n",
    "- Many sophisticated tests available.  \n",
    "\n",
    "\n",
    "- But also many basic tests. \n",
    "\n",
    "\n",
    "- Among basic tests, two tests are very popular: the *Chi-Squared* test and the *Kolmogorov-Smirnov* test. \n"
   ]
  },
  {
   "cell_type": "markdown",
   "metadata": {
    "slideshow": {
     "slide_type": "slide"
    }
   },
   "source": [
    "\n",
    "# The Chi-squared test (cont'd)\n",
    "\n",
    "\n",
    "- The observed frequencies in $I_j$ are given by:\n",
    "$$\n",
    "n_j= \\# y_i \\in I_j, i=1, \\dots, n.\n",
    "$$ \n",
    "\n",
    "\n",
    "- From basic statistics, we know that the test statistic:\n",
    "$$\n",
    "x^2=\\sum^{k}_{j=1}\\frac{(n_j- n^{*}_{j})^2}{n^{*}_{j}}\n",
    "$$\n",
    "is distributed $\\chi^2$ with $k-1$ degrees of freedom. \n",
    "\n",
    "\n",
    "- Therefore, the larger $x^2$, the higher the probability of rejecting $H_0$. \n",
    "\n",
    "\n",
    "- Note that if the size of intervals $I_j$ is $\\frac{1}{k}$, then the test statistic is:\n",
    "$$\n",
    "x^2=\\frac{k}{n}\\sum^{k}_{j=1}(n_j- \\frac{n}{k})^2,\n",
    "$$\n",
    "because in this case $n^*=\\frac{n}{k}$.\n"
   ]
  },
  {
   "cell_type": "markdown",
   "metadata": {
    "slideshow": {
     "slide_type": "slide"
    }
   },
   "source": [
    "\n",
    "# The Kolmogorov-Smirnov (KS) test\n",
    "\n",
    "\n",
    "- The KS is a *nonparametric test* that compares the distributions of two unmatched groups. \n",
    "\n",
    "\n",
    "- It can also be used as a 'goodness of fit' test to assess the quality of a PRNG. \n",
    "\n",
    "\n",
    "- Being non-parametric, this test makes no assumptions about the distribution of the sample being tested. \n",
    "\n",
    "\n",
    "- The one-sample KS test tests the following null hypothesis against the general alternative hypothesis:\n",
    "$$\n",
    "\\begin{split}\n",
    "&H_0 \\text{: the values were drawn from the } U(0,1) \\text{ distribution;}\\\\\n",
    "&H_1 \\text{: the values were drawn from some other distribution.}\n",
    "\\end{split}\n",
    "$$\n"
   ]
  },
  {
   "cell_type": "markdown",
   "metadata": {
    "slideshow": {
     "slide_type": "slide"
    }
   },
   "source": [
    "\n",
    "# The Kolmogorov-Smirnov (KS) test (cont'd)\n",
    "\n",
    "\n",
    "- The KS test constructs an observed *empirical* CDF (again!) and contrasts this distribution against the $U(0,1)$ cdf. \n",
    "\n",
    "\n",
    "- The empirical CDF is: \n",
    "$$\n",
    "\\hat{F}(x)=\\frac{\\sum^{n}_{i=1}\\mathcal{I}[y_i \\leq x]}{n},\n",
    "$$ \n",
    "where $\\mathcal{I}[\\cdot]$ is the indicator function equal to one when $y_i \\leq x$. \n",
    "\n",
    "\n",
    "- We aim at finding the largest distance $d$ between the empirical CDF $\\hat{F}(x)$ and the $U(0,1)$ CDF and then comparing this value $d$ to the values in a Kolmogorov-Smirnov table: the larger this $d$ value, the higher the probability of rejecting the null hypothesis.\n"
   ]
  },
  {
   "cell_type": "markdown",
   "metadata": {
    "slideshow": {
     "slide_type": "slide"
    }
   },
   "source": [
    "\n",
    "# The almost infinite world of PRNG...\n",
    "\n",
    "\n",
    "<img src=\"RNG3.png\">\n"
   ]
  },
  {
   "cell_type": "markdown",
   "metadata": {
    "slideshow": {
     "slide_type": "slide"
    }
   },
   "source": [
    "\n",
    "# The almost infinite world of PRNG... (cont'd)\n",
    "\n",
    "\n",
    "<img src=\"RNG4.png\">\n"
   ]
  },
  {
   "cell_type": "markdown",
   "metadata": {
    "slideshow": {
     "slide_type": "slide"
    }
   },
   "source": [
    "\n",
    "# Congruential generators\n",
    "\n",
    "\n",
    "- Mathematically, given a positive integer $n$, a congruence relationship $\\rho_n$ modulus $n$ on $\\mathbb{Z}$ is a relationship defined as following:\n",
    "$$\n",
    "a\\mbox{ }\\rho_n\\mbox{ } b\\mbox{, i.e. } a \\equiv b (\\text{mod }  m).\n",
    "$$\n",
    "\n",
    "\n",
    "- This means that, for some $h \\in \\mathbb{Z}$:\n",
    "$$\n",
    "a-b = mh.\n",
    "$$\n",
    "\n",
    "\n",
    "- Modern PRNG methods are often based on *recursive algebraic algorithms* which, starting from a so-called *seed* (i.e. an arbitrary chosen value or a vector of values), recursively generate new values from previously generated ones. \n",
    "\n",
    "\n",
    "- *Congruential generators* are based on the *modulus operator*:\n",
    "$$\n",
    "X_{n+1} = X_n (\\text{ mod } m).\n",
    "$$ \n",
    "\n",
    "\n",
    "- This means that, with $m$ positive integer, $X_{n+1}$ is the remainder of $\\frac{X_n}{m}$. \n",
    "\n",
    "\n",
    "- Modern PRNGs that use linear congruential methods (linear because we have $(aX_n +c)$ instead of $X_n$) are based on the idea that the remainder of a division - the modulo - is *irregular enough to emulate randomness*. \n"
   ]
  },
  {
   "cell_type": "markdown",
   "metadata": {
    "slideshow": {
     "slide_type": "slide"
    }
   },
   "source": [
    "\n",
    "# An initial sub-family of congruential generators\n",
    "\n",
    "\n",
    "- The generic linear congruential generator gives a sequence of pseudo-random numbers $X_1, X_2, \\dots , X_n, X_{n+1}, \\dots$, according to the following recurrent formula:\n",
    "$$\n",
    "X_{n+1}=(aX_n +c) (\\text{mod } m)\n",
    "$$\n",
    "where $a$ and $c$ are integer constants. \n",
    "\n",
    "\n",
    "- $X_{n+1}$ gives the reminder of $\\frac{aX_n + c}{m}$; $m$ is the modulus. \n",
    "\n",
    "\n",
    "- In order to get a sequence of linear congruential pseudo-random numbers we need a \"seed\" $X_0$, the modulus $m$, and the two constants $a$ and $c$. \n",
    "\n",
    "\n",
    "- The number of iterations needed to obtain a value equal to the initial seed is called the *period* of the \n",
    "linear congruential generator. \n",
    "\n",
    "\n",
    "- When $c\\neq0$,  the formula above is a *mixed-congruential generator*. \n",
    "\n",
    "\n",
    "- When $c=0$,  the formula above is a *multiplicative-congruential generator* (Lehmer, 1951).\n"
   ]
  },
  {
   "cell_type": "markdown",
   "metadata": {
    "slideshow": {
     "slide_type": "slide"
    }
   },
   "source": [
    "\n",
    "# An example\n",
    "\n",
    "\n",
    "- For convenience, write $x_n \\equiv_m ( ax_{n-1}+c)$, so that the module $m$ is explicitly visible in the expression. \n",
    "\n",
    "\n",
    "\n",
    "- Parameters: $m=9$; $c=7$; $a=10$. \n",
    "\n",
    "\n",
    "- Seed: $x_0=2$. \n",
    "\n",
    "\n",
    "- We have: $x_1 \\equiv_9 (10 \\times 2+7) \\equiv_9 0$;\n",
    "    - $x_2 \\equiv_9 (10 \\times 0 + 7) \\equiv_9 7$;\n",
    "    - $x_3 \\equiv_9 5$; $x_4 \\equiv_9 3$; $x_5 \\equiv_9 1$; $x_6 \\equiv_9 8$; $x_7 \\equiv_9 6$; $x_8 \\equiv_9 4$; $x_9 \\equiv_9 2$.\n",
    "    \n",
    "    \n",
    "- At the 9th iteration we obtain the seed value, so the period is 9.\n",
    "\n"
   ]
  },
  {
   "cell_type": "markdown",
   "metadata": {
    "slideshow": {
     "slide_type": "slide"
    }
   },
   "source": [
    "\n",
    "# Another example\n",
    "\n",
    "\n",
    "- If $X_0=1$, $a=5$, $c=1$, and $m=16$, we get:\n",
    "\n",
    "|       Draw |   |\n",
    "| ---------- | --|\n",
    "| <td colspan=2>$X_0=1$    |\n",
    "|<td colspan=2>$X_1=6$    |\n",
    "| <td colspan=2>$X_2=15$   |\n",
    "| <td colspan=2>$X_3=12$   |\n",
    "| <td colspan=2>$X_4=13$   |\n",
    "| <td colspan=2>$X_5=2$    |\n",
    "| <td colspan=2>$X_6=11$   |\n",
    "| <td colspan=2>$X_7=8$    |\n",
    "| <td colspan=2>$X_8=9$    |\n",
    "| <td colspan=2>$X_9=14$   |\n",
    "| <td colspan=2>$X_10=7$   |\n",
    "| <td colspan=2>$X_11=4$   |\n",
    "| <td colspan=2>$X_12=5$   |\n",
    "| <td colspan=2>$X_13=10$  |\n",
    "| <td colspan=2>$X_14=3$   |\n",
    "| <td colspan=2>$X_15=0$   |\n",
    "| <td colspan=2>$X_16=1$   |\n",
    "\n",
    "\n",
    "\n",
    "\n",
    "- ...and therefore the period is 16."
   ]
  },
  {
   "cell_type": "markdown",
   "metadata": {
    "slideshow": {
     "slide_type": "slide"
    }
   },
   "source": [
    "\n",
    "# Properties and rules of thumb\n",
    "A congruential generator has a period $m$ if and only if:\n",
    "\n",
    "- $c$ is prime with respect to $m$ (in the first example above $c=7$ is relatively prime to $m=9$). \n",
    " \n",
    " \n",
    "- $ a \\equiv_p1$ for every prime factor $p$ of $m$. \n",
    " \n",
    "\n",
    "- $a \\equiv_41$ if 4 divides $m$ (in the second example above $a=5\\equiv_41$ and $4$ divides $m=16$). \n",
    "\n",
    "\n",
    "Rules of thumb: \n",
    "\n",
    "\n",
    "- A congruential generator should have period **as large as possible**, at least $2^{30}$ (!!). \n",
    "\n",
    "\n",
    "- People choose the multiplier $a$ in order to get the desired $m$ or $m-1$."
   ]
  },
  {
   "cell_type": "markdown",
   "metadata": {
    "slideshow": {
     "slide_type": "slide"
    }
   },
   "source": [
    "\n",
    "# A bad example: the unfortunate RANDU\n",
    "\n",
    "\n",
    "- A generator used widely on IBM 360/370 and PDP-11 machines (late 1960s and 1970s), defined with the following recurrence:\n",
    "$$\n",
    "X_n = 65539X_{n-1} (\\text{ mod } 2^{31})\n",
    "$$\n",
    "with the seed, $X_0$, an odd number.\n",
    "\n",
    "\n",
    "- Knuth (1997) considers it as *one of the most ill-conceived random number generators ever designed*. \n",
    "\n",
    "\n",
    "- For example, starting with the seed $X_0=1$, the sequence is the following:\n",
    "$$\n",
    "65539 \\; 393225 \\; 1769499 \\; 7077969 \\; 26542323\\; \\dots\n",
    "$$\n",
    "(https://oeis.org/A096555)."
   ]
  },
  {
   "cell_type": "markdown",
   "metadata": {
    "slideshow": {
     "slide_type": "slide"
    }
   },
   "source": [
    "\n",
    "# Multiply-with-carry\n",
    "## by George Marsaglia (called *Marsaglia multicarry* in R)\n",
    "\n",
    "\n",
    "\n",
    "- In linear congruential generators, $c$ is the so-called *carry*, i.e. it is a constant such that, with an initial seed $x_0$, the generic number $x_n$, subsequent to $x_{n-1}$, is generated considering the modulus $m$.  \n",
    "\n",
    "- A *lag-1* Multiply-with-carry (MWC) is one that modifies the carry *at each step*: \n",
    "    - Start with an initial seed $x_0$ and an initial carry $c_0$.\n",
    "    - Subsequent number $x_n$ is calculated as before but....\n",
    "    - The carry is modified at each step by the following:\n",
    "    $$\n",
    "    c_n=\\bigl\\lfloor\\frac{a x_{n-1}+c_{n-1}}{m}\\bigr\\rfloor,\\;n=1,2,\\cdots\n",
    "    $$\n",
    "    - Marsaglia suggested $m=2^{32}$ (Gentle, 2003).\n"
   ]
  },
  {
   "cell_type": "markdown",
   "metadata": {
    "slideshow": {
     "slide_type": "slide"
    }
   },
   "source": [
    "\n",
    "# A quick example\n",
    "\n",
    "\n",
    "\n",
    "-  Suppose we have $a=6$, a modulus $m=10$ and a seed $x_0=4$ and an initial carry $c_0=4$. \n",
    "\n",
    "\n",
    "- The generic number $x_n$ is generated as $x_n= (6 x_{n-1} +c_n) \\text{mod } 10$, where $c_n=\\bigl\\lfloor\\frac{a x_{n-1}+c_{n-1}}{b}\\bigr\\rfloor,\\;n=1,2,\\cdots$. \n",
    "\n",
    "\n",
    "- We have:\n",
    "\n",
    "\n",
    "|     $X_n$       | $c_n$  |\n",
    "| ---------- | --|\n",
    "| $X_0=4$    | $c_0=4$ |\n",
    "| $X_1=(6 \\times 4 + 4)\\text{ mod }10=8$    | $c_1=2$  |\n",
    "| $X_2=(6 \\times 8 + 2)\\text{ mod }10=0$    | $c_2=5$  |\n",
    "| $X_3=(6 \\times 0 + 5)\\text{ mod }10=5$    | $c_3=0$  |\n",
    "| $X_4=(6 \\times 5 + 0)\\text{ mod }10=0$    | $c_4=3$  |\n",
    "| $X_5=(6 \\times 0 + 3)\\text{ mod }10=3$    | $c_5=0$  |\n",
    "| $X_6=(6 \\times 3 + 0)\\text{ mod }10=8$    | $c_6=1$  |\n",
    "\n"
   ]
  },
  {
   "cell_type": "markdown",
   "metadata": {
    "slideshow": {
     "slide_type": "slide"
    }
   },
   "source": [
    "\n",
    "# Lag-$r$ MWC, base $b$, with $b=2^{32}$\n",
    "\n",
    "\n",
    "\n",
    "- [Initial Step:]\n",
    "Start with the following set of random seed values:\n",
    "$$\n",
    "x_0,x_1,\\ldots,x_{r-1}\\;\\mbox{and an initial carry}\\;c_{r-1}<a\n",
    "$$ \n",
    "\n",
    "\n",
    "- [Subsequent Step]: the lag-$r$ MWC sequence is formed by:\n",
    "$$\n",
    " x_n\\equiv_b(a x_{n-r}+c_{n-r}),\\;\n",
    " c_n=\\bigl\\lfloor\\frac{a x_{n-r}+c_{n-r}}{b}\\bigr\\rfloor,\\;n\\geq r.\n",
    "$$ \n",
    "\n",
    "\n",
    "- [Output sequence]: $x_r$, $x_{r+1}$, $x_{r+2}$, $\\cdots$\n",
    "\n",
    "\n",
    "- Usually, $m=2^{32}-1$ is also used."
   ]
  },
  {
   "cell_type": "markdown",
   "metadata": {
    "slideshow": {
     "slide_type": "slide"
    }
   },
   "source": [
    "\n",
    "# Complementary-multiply-with-carry generators\n",
    "\n",
    "\n",
    "\n",
    "\n",
    "- The carry uses the same computation, but the number is replaced by taking the complement $(m-1)-x_n$:\n",
    "$$\n",
    " x_n\\equiv_m(m-1)-(a x_{n-r}+c_{n-r}).\n",
    "$$\n",
    "\n",
    "\n",
    "- The MWC/CMWC is said to have period ranging from $2^{60}$ to $2^{2000000}$. \n",
    "\n",
    "\n",
    "- Marsaglia-Multicarry is used as an option in RNG in R.\n"
   ]
  },
  {
   "cell_type": "markdown",
   "metadata": {
    "slideshow": {
     "slide_type": "slide"
    }
   },
   "source": [
    "\n",
    "# Combined LCGs, Wichman & Hill 1982, 1984\n",
    "\n",
    "\n",
    "\n",
    "- [Initial Step]:\n",
    "Length-3 vector as seed values: $(x_0,y_0,z_0)$, each element of the vector should be between 1 and 30,000. \n",
    "\n",
    "\n",
    "- [Subsequent Step]:\n",
    "$$\n",
    "x_n \\equiv_{30269}171x_{n-1}\n",
    "$$\n",
    "$$\n",
    "y_n \\equiv_{30307}172x_{n-1} \n",
    "$$\n",
    "$$\n",
    "z_n \\equiv_{30323}171x_{n-1} \n",
    "$$\n",
    "\n",
    "\n",
    "- [Output]:\n",
    "$$\n",
    "u_n\\equiv_1\\biggl(\\frac{x_n}{30269}+\\frac{y_n}{30307}\n",
    "+\\frac{z_n}{30323}\\biggr)\n",
    "$$\n",
    "\n",
    "\n",
    "- It turns out that: $u_n \\in (0,1)$.\n",
    "\n",
    "\n",
    "- Such generator has period approximately $7\\times2^{12}$ (corrected in 1984) not $2.8\\times2^{13}$ as claimed originally in 1982. \n",
    "\n",
    "\n",
    "\n",
    " - Wichmann-Hill is used as an option in RNG in R.\n"
   ]
  },
  {
   "cell_type": "markdown",
   "metadata": {
    "slideshow": {
     "slide_type": "slide"
    }
   },
   "source": [
    "\n",
    "# Combined LCGs, Wichman & Hill 2006\n",
    "\n",
    "\n",
    "\n",
    "- 64-bit integer arithmetic:\n",
    "$$\n",
    "x_n \\equiv_{2147483579}11600x_{n-1}\n",
    "$$\n",
    "$$\n",
    "y_n \\equiv_{2147483543}47003x_{n-1}\n",
    "$$\n",
    "$$\n",
    "z_n \\equiv_{2147483423}23000x_{n-1}\n",
    "$$\n",
    "$$\n",
    "t_n \\equiv_{2147483123}33000x_{n-1}\n",
    "$$\n",
    "\n",
    "\n",
    "- Output function:\n",
    "$$\n",
    "u_n\\equiv_1\\biggl(\\frac{x_n}{2147483579}+\\frac{y_n}{2147483543} + \\frac{z_n}{2147483423}+\\frac{t_n}{2147483123}\\biggr)\n",
    "$$"
   ]
  },
  {
   "cell_type": "markdown",
   "metadata": {
    "slideshow": {
     "slide_type": "slide"
    }
   },
   "source": [
    "\n",
    "# Multiple Recursive Generators (MRGs) and Combined MRGs\n",
    "\n",
    "\n",
    "\n",
    "- An MRG is defined by the recurrence\n",
    "$$\n",
    "x_i\\equiv_m(a_1 x_{i-1}+\\cdots+a_k x_{i-k})\n",
    "$$\n",
    "with output function $u_n=\\frac{x_n}{m}$.\n",
    "\n",
    "\n",
    "\n",
    "- Knuth(39) (Knuth, 1998, Eq. (39)): $a_1=271828183$, $a_2=314159269$, $k=2$ and modulus $(2^{31} -1)$.\n",
    "\n",
    "\n",
    "- Marsa-LFIB4 (Marsaglia, 1999):\\\\\n",
    "    - Recurrence:\n",
    "     $$\n",
    "     x_i\\equiv_{2^{32}}(x_{i-55}+x_{n-119}+x_{i-179}+x_{i-256})\n",
    "     $$.\n",
    "\n",
    "\n",
    "- MRG32k3a proposed by L'Ecuyer (1996):\\\\\n",
    "    - Recurrence:\n",
    "     $$\n",
    "     x_i\\equiv_{(2^{31}-1)}(107374182x_{i-1}+104480x_{i-5})\n",
    "     $$\n",
    "    (used by SAS).\n"
   ]
  },
  {
   "cell_type": "markdown",
   "metadata": {},
   "source": [
    "# Some useful references on the internet for PRNGs\n",
    "\n",
    "\n",
    "- Biebighauser, D. (2000). Testing Random Number Generators. University of Minnesota.\n",
    "\n",
    "\n",
    "- Kennedy, T. (?) Monte Carlo Methods, Course Notes: Chapter 3, Pseudo random number generators. University of Arizona.\n"
   ]
  },
  {
   "cell_type": "markdown",
   "metadata": {
    "slideshow": {
     "slide_type": "slide"
    }
   },
   "source": [
    "\n",
    "# References on PRNG so far\n",
    "\n",
    "\n",
    "\n",
    "- Gentle, J.E. (2003). *Random Number Generation and Monte Carlo Methods*, Springer.\n",
    "\n",
    "\n",
    "- Knuth, D. E. (1998). *The Art of Computer Programming. Vol. 2: Seminumerical Algorithms*, 3rd ed. Addison-Wesley.\n",
    "\n",
    "\n",
    "- L'Ecuyer, P. (1996). Combined multiple recursive random number generators. *Operations Research*, 44(5): 816-822.\n",
    "\n",
    "\n",
    "- Lehmer, D. H. (1951), Mathematical methods in large-scale computing units, *Proceedings of the Second Symposium on Large Scale Digital Computing Machinery*, Harvard University Press, Cambridge, Massachusetts. 141-146.\n",
    "\n",
    "\n",
    "- Marsaglia, G. (1999). Random numbers for C: The END? Posted to the electronic billboard sci. crypt.random-numbers.\n",
    "\n",
    "\n",
    "-  Wichmann, B. A., Hill, I. D. (1982). Algorithm AS 183. An Efficient and Portable Pseudo-random Number Generator. *Journal of the Royal Statistical Society. Series C (Applied Statistics)*, 31(2): 188-190.\n",
    "\n",
    "\n",
    "- Wichmann, B. A., Hill, I. D. (1984). Correction: algorithm AS 183: an efficient and portable pseudo-random number generator. *Journal of the Royal Statistical Society. Series C (Applied Statistics)*, 33(1): 123-123.\n",
    "\n",
    "\n",
    "- Wichmann, B. A., Hill, I. D. (2006). Generating good pseudo-random numbers. *Computational Statistics & Data Analysis*, 51: 1614-1622.\n",
    "\n"
   ]
  },
  {
   "cell_type": "code",
   "execution_count": null,
   "metadata": {},
   "outputs": [],
   "source": [
    "import numpy as np\n",
    "n=1000\n",
    "# Set the seed\n",
    "x0=1\n",
    "c=1\n",
    "a=125\n",
    "module1 = 2**12\n",
    "module2 = 2**11\n",
    "alpha = 0.90\n",
    "vector_1 = np.ones(n)\n",
    "vector_1[0] = x0\n",
    "#import pdb; pdb.set_trace()\n",
    "#First type of congruential generator x_n=(125x_(n-1) + 1) mod (modulo1), x_0=1\n",
    "for i in range(1,n):\n",
    "    vector_1[i] = (a * vector_1[i-1] + c) % module1\n",
    "np.set_printoptions(suppress=True)\n",
    "print(vector_1)    "
   ]
  },
  {
   "cell_type": "code",
   "execution_count": null,
   "metadata": {},
   "outputs": [],
   "source": [
    "import numpy as np\n",
    "n=1000\n",
    "# Set the seed\n",
    "x0=1\n",
    "c=1\n",
    "a=125\n",
    "module1 = 2**12\n",
    "module2 = 2**11\n",
    "#Second type of congruential generator x_n=(125x_(n-1) + 1) mod (modulo2), x_0=1\n",
    "vector_2 = np.ones(n)\n",
    "vector_2[0] = x0\n",
    "for i in range(1,n):\n",
    "    vector_2[i] = (a * vector_2[i-1] + c) % module2\n",
    "np.set_printoptions(suppress=True)\n",
    "print(vector_2)   "
   ]
  },
  {
   "cell_type": "code",
   "execution_count": null,
   "metadata": {},
   "outputs": [],
   "source": [
    "import pandas as pd\n",
    "import numpy as np\n",
    "from scipy import stats\n",
    "#Chi-square test (computed by hand) on first RNG\n",
    "# No. of intervals (also called \"cells\" in CS jargon)\n",
    "k = 10\n",
    "#Expected n*\n",
    "\n",
    "#import pdb; pdb.set_trace()\n",
    "n_star = n/k\n",
    "n_star\n",
    "int_length = module1/k\n",
    "table1 = dict(pd.cut(vector_1,np.linspace(start = 0, stop = module1, num = k +1)).value_counts())\n",
    "#Table1_list = list(table1.values())\n",
    "Table1_array = np.array(list(table1.values()))\n",
    "\n",
    "n_star_vect = np.repeat(n_star, k)\n",
    "\n",
    "chi1 = np.sum((Table1_array - n_star_vect)**2/n_star_vect)\n",
    "\n",
    "teo_chi1 = stats.chi2.ppf(alpha, k-1)\n",
    "\n",
    "if teo_chi1 > chi1:\n",
    "    print(\"ACCEPT FIRST RNG\")\n",
    "else:\n",
    "    print(\"REJECT FIRST RNG\")  \n",
    "table2 = dict(pd.cut(vector_1,np.linspace(start = 0, stop = module2, num = k +1)).value_counts())\n",
    "#Table1_list = list(table1.values())\n",
    "Table2_array = np.array(list(table2.values()))\n",
    "\n",
    "n_star_vect = np.repeat(n_star, k)\n",
    "\n",
    "chi2 = np.sum((Table2_array - n_star_vect)**2/n_star_vect)\n",
    "\n",
    "teo_chi2 = stats.chi2.ppf(alpha, k-1)\n",
    "\n",
    "if teo_chi2 > chi2:\n",
    "    print(\"ACCEPT SECOND RNG\")\n",
    "else:\n",
    "    print(\"REJECT SECOND RNG\")  "
   ]
  },
  {
   "cell_type": "markdown",
   "metadata": {
    "slideshow": {
     "slide_type": "slide"
    }
   },
   "source": [
    "\n",
    "# Lagged-Fibonacci generators\n",
    "\n",
    "\n",
    "\n",
    "- A Fibonacci sequence is:\n",
    "$$ \n",
    "x_{i+2} = x_{i+1} + x_i. \n",
    "$$ \n",
    "\n",
    "\n",
    "- The first terms of the Fibonacci sequence are:\n",
    "$$\n",
    "0,1,1, 2, 3, 5, 8, 13, 21, 34, 55, 89, \\dots\n",
    "$$ \n",
    "\n",
    "\n",
    "- An idea to get a RNG from the Fibonacci numbers could be to use the modulus to reduce the sequence into a set of somewhat random numbers. \n",
    "\n",
    "\n",
    "- Also, instead of combining consecutive terms, we combine terms at some greater distance apart, so the *lagged Fibonacci congruential generator* is:\n",
    "$$\n",
    "x_n \\equiv_{m} (x_{n-j} + x_{n-k}).\n",
    "$$ \n",
    "\n",
    "\n",
    "- Let $x_0=3$, $x_1=5$, $x_2=17$, $m=7$, $j=2$, $k=3$, we have:\n",
    "$$\n",
    "x_3 \\equiv_{7} (5 + 3) = 1; x_4 \\equiv_{7} (17 + 5) = 1; x_5 \\equiv_{7} (1 + 17) = 4; x_6 \\equiv_{7} (1 + 1) = 2\\dots \n",
    "$$\n"
   ]
  },
  {
   "cell_type": "markdown",
   "metadata": {
    "slideshow": {
     "slide_type": "slide"
    }
   },
   "source": [
    "\n",
    "# Lagged-Fibonacci Generators, $\\mbox{LFib}(m,r,k,\\circ)$\n",
    "\n",
    "\n",
    "\n",
    "- It has the following recurrence:\n",
    "$$\n",
    "x_n\\equiv_m(x_{n-j}\\circ x_{n-k})\n",
    "$$\n",
    "where $\\circ$ can be one of $+$, $-$, $\\times$, XOR (bitwise exclusive OR).\n",
    "\n",
    "\n",
    "- An XOR operator takes two bit patterns of equal length and performs the logical inclusive OR on the following rules: if both bits in the same position are $0$ then the result in that position is $0$, if both bits in the same position are $1$, then the result in that position is $0$, otherwise is $1$. Example: 0101 XOR 0011 = 0110.\n",
    "\n",
    "\n",
    "- An alternative notation is LFib$(m,j,k, \\circ)$.\n",
    "\n",
    "\n",
    "- Unix/Linux's random(): LFib($2^{32}$,7,3,+), LFib($2^{32}$,15,1,+),\n",
    " LFib($2^{32}$,31,3,+), and LFib($2^{32}$,63,1,+) with the least significant\n",
    " bit of each random number dropped. \n",
    " \n",
    " \n",
    "- Knuth-TAOCP-2002: LFib($2^{30}$,100,37,$+$), used as an option in the RNG used by R.\n",
    "\n",
    "\n"
   ]
  },
  {
   "cell_type": "markdown",
   "metadata": {
    "slideshow": {
     "slide_type": "slide"
    }
   },
   "source": [
    "\n",
    "# Mersenne numbers and Mersenne primes\n",
    "\n",
    "\n",
    "\n",
    "- The Mersenne numbers (or for our purposes the Mersenne prime numbers), named after Marin Mersenne (a French\n",
    "monk who began the study of these numbers in the early 17th century), is a\n",
    "positive integer that is one less than a power of two:\n",
    "$$\n",
    "M_p=2^p-1\n",
    "$$\n",
    "\n",
    "\n",
    "- Let's see a sequence for $p=1,2, \\dots$:\n",
    "$$\n",
    "M_1=2^1-1=1\n",
    "$$\n",
    "$$\n",
    "M_2=2^2-1=3\n",
    "$$\n",
    "$$\n",
    "M_3=2^3-1=7\n",
    "$$\n",
    "$$\n",
    "M_4=2^4-1=15\n",
    "$$\n",
    "$$\n",
    "M_5=2^5-1=31\n",
    "$$\n",
    "$$\n",
    "M_6=2^6-1=63\n",
    "$$\n",
    "$$\n",
    "M_7=2^7-1=127\n",
    "$$\n",
    "$$\n",
    "\\dots\n",
    "$$\n",
    "\n",
    "\n",
    "- The first Mersenne *prime numbers* are: $1,3,7,31, 127, \\dots$\n"
   ]
  },
  {
   "cell_type": "markdown",
   "metadata": {
    "slideshow": {
     "slide_type": "slide"
    }
   },
   "source": [
    "\n",
    "# Mersenne numbers: binary notation\n",
    "\n",
    "\n",
    "\n",
    "- In binary notation Mersenne numbers are:\n",
    "$$\n",
    "M_1=2^1-1=1\n",
    "$$\n",
    "$$\n",
    "M_2=2^2-1=11\n",
    "$$\n",
    "$$\n",
    "M_3=2^3-1=111\n",
    "$$\n",
    "$$\n",
    "M_4=2^4-1=1111\n",
    "$$\n",
    "$$\n",
    "M_5=2^5-1=11111\n",
    "$$\n",
    "$$\n",
    "M_6=2^6-1=111111\n",
    "$$\n",
    "$$\n",
    "M_7=2^7-1=1111111\n",
    "$$\n",
    "$$\n",
    "\\dots\n",
    "$$"
   ]
  },
  {
   "cell_type": "markdown",
   "metadata": {
    "slideshow": {
     "slide_type": "slide"
    }
   },
   "source": [
    "\n",
    "# Largest Mersenne Prime to Date: The GIMPS Project\n",
    "\n",
    "\n",
    "\n",
    "- The website https://www.mersenne.org is a distributed computing is devoted to finding Mersenne primes. On December 21st, 2018, the largest Mersenne prime so far was found: $M_{82,589,933}$ (half million larger than the previous Mersenne prime which had 23,249,425 digits).\n"
   ]
  },
  {
   "cell_type": "markdown",
   "metadata": {
    "slideshow": {
     "slide_type": "slide"
    }
   },
   "source": [
    "\n",
    "# The Mersenne Twister algorithm\n",
    "\n",
    "\n",
    "\n",
    "- It's a quite complicated pseudo uniform random number generator developed in 1997 by\n",
    "Matsumoto and Nishimura based on the twisting principle and with a period of\n",
    "$2^{19937}-1$ (no explanation given here).\n",
    "\n",
    "\n",
    "\n",
    "- Mersenne-Twister is the default RNG in R and is the core of the random Numpy module in Python. \n",
    "\n",
    "\n",
    "\n",
    "- Its name derives from the fact that its period length is chosen to be a Mersenne prime.\n"
   ]
  },
  {
   "cell_type": "markdown",
   "metadata": {
    "slideshow": {
     "slide_type": "slide"
    }
   },
   "source": [
    "\n",
    "# The middle-square algorithm\n",
    "\n",
    "\n",
    "\n",
    "- A simple recursive algebraic algorithm is the *middle-square algorithm* proposed by Von Neumann: \n",
    "\n",
    "\n",
    "\n",
    "- Choose $k$ (the no. of digits of the generated values), $X_0$ (*seed*) and $N$ the number of values to be generated. \n",
    "\n",
    "\n",
    "- For (i:1 to N): compute $X^2_{i-1}$ (with $2k$ digits) and take $X_i$ as the central $k$ digits of $X^{2}_{i-1}$. \n",
    "\n",
    "\n",
    "- $X_0, X_1, \\dots , X_N$ is the sequence of the random generated values.\n",
    "\n",
    "\n",
    "- Example: $X_0=54321$; $X_0^2=2950771041$; $X_1=50771$; $X_1^2=2577694441$; $X_2=77694$; etc."
   ]
  },
  {
   "cell_type": "markdown",
   "metadata": {
    "slideshow": {
     "slide_type": "slide"
    }
   },
   "source": [
    "\n",
    "# References\n",
    "\n",
    "\n",
    "\n",
    "-  Lewis, T. G., Payne, W. H. (1973). Generalized feedback shift register pseudorandom number algorithm. *Journal of the ACM*, 20: 456-468.\n",
    "\n",
    "\n",
    "- Marsaglia, G., Anathanarayanan, K., PAUL, N. (1973). How to use the McGill random number package SUPER-DUPER. Tech. rep., School of Computer Science, McGill University, Montreal, Canada.\n",
    "\n",
    "\n",
    "- Matsumoto, M., Nishimura, T. (1998). Mersenne twister: A 623-dimensionally equidistributed uniform pseudo-random generator, *ACM Transactions on Modeling and Computer Simulation*, 8: 3?30.\n",
    "\n",
    "\n",
    "\n",
    "- Tausworthe, R. C. (1965). Random numbers generated by linear recurrence modulo two. *Mathematics of Computation*. 19: 201-209.\n"
   ]
  },
  {
   "cell_type": "markdown",
   "metadata": {
    "slideshow": {
     "slide_type": "slide"
    }
   },
   "source": [
    "\n",
    "# Random Variable Generation (RVG)\n",
    "\n",
    "\n",
    "\n",
    "-  RVG relies on the possibility of producing (via computation) a supposedly endless flow of random variables (usually iid) from specific densities. \n",
    "\n",
    "\n",
    "- Here we are concerned with the part of computational statistics which deals with producing random variable values using the characteristics of the uniform (0,1). \n",
    "\n",
    "\n",
    "- We look at some basic methodology that can, starting from these simulated uniform random variables, produce random variables from both standard and non-standard distributions.\n"
   ]
  },
  {
   "cell_type": "markdown",
   "metadata": {
    "slideshow": {
     "slide_type": "slide"
    }
   },
   "source": [
    "\n",
    "# RVG: The uniform distribution\n",
    "\n",
    "\n",
    "\n",
    "-  Recall now the definition of a continuous uniform distribution $U (a,b)$. \n",
    "\n",
    "\n",
    "- A r.v. $X$ is defined as a **continuous uniform r.v.** with parameters $a$ and $b$ if its probability density function is:\n",
    "$$\n",
    "f(x;a,b)=\n",
    "\\begin{cases}\n",
    "\\frac{1}{b-a} \\text{ for } x \\in [a,b]; \\\\\n",
    "0 \\text{ otherwise }. \n",
    "\\end{cases}\n",
    "$$\n",
    "\n",
    "\n",
    "- Its cdf is:\n",
    "$$\n",
    "F(x;a,b)=\n",
    "\\begin{cases}\n",
    "0 \\text{ for } x <a;\\\\\n",
    "\\frac{x-a}{b-a} \\text{ for } x \\in [a,b); \\\\\n",
    "1 \\text{ for } x\\geq b. \n",
    "\\end{cases}\n",
    "$$"
   ]
  },
  {
   "cell_type": "markdown",
   "metadata": {},
   "source": [
    "# RVG: The uniform distribution (cont'd)\n",
    "\n",
    "\n",
    "<img src=\"RVG1.png\">"
   ]
  },
  {
   "cell_type": "markdown",
   "metadata": {
    "slideshow": {
     "slide_type": "slide"
    }
   },
   "source": [
    "\n",
    "# RVG: the universality of the uniform distribution and the inverse transform\n",
    "\n",
    "\n",
    "- Let $U$ be a Uniform $(0,1)$ r.v.\n",
    "\n",
    "\n",
    "-  Let $X = F^{-1}(U)$. $X$ has cdf $F(\\cdot)$, and to see this  we want to show that: \n",
    "$$\n",
    "P(X \\leq x) = F(x). (1)\n",
    "$$ \n",
    "\n",
    "\n",
    "- By our definition above,\n",
    "$$\n",
    "P(X \\leq x) = P(F^{-1}(U) \\leq x) = P(U \\leq F(x)). (2)\n",
    "$$\n",
    "\n",
    "\n",
    "- This means that if $X$ has the cdf $F(x)$, then the random variable $F(X)$ has the $U(0,1)$ distribution. \n",
    "\n",
    "\n",
    "- Thus, formally, in order to generate a r.v. $X \\sim F$, it sufficies to generate $U$ according to $U(0,1)$ and then make the transformation $x=F^{-1}(u)$.\n",
    "\n",
    "\n",
    "- The key fact in this 'magic formula' is in applying $F$ to both sides of inequality (2), which is allowed since cdfs are increasing functions. \n",
    "\n",
    "\n",
    "- An equivalent version of (2) is the following:\n",
    "$$\n",
    "\\begin{split}\n",
    "&P(U \\leq u) = P[F(X) \\leq F(x)] = P[F^{-1}(F(X)) \\leq F^{-1}(F(x))] \\\\\n",
    "&= P(X \\leq x).\n",
    "\\end{split}\n",
    "$$"
   ]
  },
  {
   "cell_type": "markdown",
   "metadata": {
    "slideshow": {
     "slide_type": "slide"
    }
   },
   "source": [
    "\n",
    "# The universality of the uniform distribution: what is the message?\n",
    "\n",
    "\n",
    "- Essentially, here we are talking about the possibility of going back and forth between the cdf of the uniform distribution and any other cdf. \n",
    "\n",
    "\n",
    "- This is rather important since we are given the possibility of drawing random variables from many cdf using the uniform. \n",
    "\n",
    "\n",
    "- To sum up before a useful visual explanation, this possibility of using the uniform distribution grounds on the fact that it is possible to transform any random variable into a $U(0,1)$ and, more importantly, to transform the uniform into any other random variable by means of a transformation known as the *probability integral transform*.\n",
    "\n",
    "\n",
    "- Note that this gives us the possibility of *exactly* generating realizations of a r.v."
   ]
  },
  {
   "cell_type": "markdown",
   "metadata": {},
   "source": [
    "# RVG: Visual explanation of the universality of the uniform distribution\n",
    "\n",
    "\n",
    "<img src=\"Universality1.png\">"
   ]
  },
  {
   "cell_type": "markdown",
   "metadata": {},
   "source": [
    "# RVG: Visual explanation of the universality of the uniform distribution (cont'd)\n",
    "\n",
    "- Draw $10$ values from a $Unif(0,1)$ and mark them on the $y$ axis:\n",
    "\n",
    "<img src=\"Universality1bis.png\">\n",
    "\n",
    "\n",
    "- Then, take the values of these $10$ points on the cdf of the $Be(2,5)$:\n",
    "\n",
    "\n",
    "<img src=\"Universality2.png\">\n",
    "\n"
   ]
  },
  {
   "cell_type": "markdown",
   "metadata": {},
   "source": [
    "# RVG: Visual explanation of the universality of the uniform distribution (cont'd)\n",
    "\n",
    "\n",
    "<img src=\"Universality3.png\">\n",
    "\n"
   ]
  },
  {
   "cell_type": "markdown",
   "metadata": {},
   "source": [
    "# RVG: Visual explanation of the universality of the uniform distribution (cont'd)\n",
    "\n",
    "\n",
    "<img src=\"Universality4.png\">\n",
    "\n"
   ]
  },
  {
   "cell_type": "markdown",
   "metadata": {
    "slideshow": {
     "slide_type": "slide"
    }
   },
   "source": [
    "\n",
    "# Recap of the inverse transform method\n",
    "\n",
    "\n",
    "- **The inverse transform method**. \n",
    "\n",
    "\n",
    "- **From Uniform $(0,1)$ to any distribution**.\n",
    "\n",
    "Let $F(x)$ be any cumulative distribution function (cdf) of a r.v. $X$, i.e. $F(x)=\\int^t_{-\\infty} f(t) dt$, with $f$ the density of $X$. Assume that $F$ has an inverse and define $X=F^{-1}(U)$, where $U$ has the continuous uniform distribution over the interval $(0,1)$. Then $X$ is distributed as $F$. \n",
    "\n",
    "\n",
    "- **From any distribution to Uniform $(0,1)$**.\n",
    "Let $F(x)$ be the cumulative distribution function (cdf) of a r.v. $X$. Define $U=F(X)$. Then $U$ is Uniform $(0,1)$.\n",
    "\n",
    "\n",
    "- **Sketch of proof**.\n",
    "The Uniform $(0,1)$ cdf is:\n",
    "$$\n",
    "P(U \\leq u)=P(F(X) \\leq F(x)). (1)\n",
    "$$\n",
    "By taking the inverse of both sides of $F(X) \\leq F(x)$ we obtain $F^{-1} (F(X)) \\leq F^{-1} (F(x))$. Therefore, the right-hand side of (1) becomes $P(F(X) \\leq F(x))=P(F^{-1} (F(X)) \\leq F^{-1} (F(x)))=P(X \\leq x)=F(x)$."
   ]
  },
  {
   "cell_type": "markdown",
   "metadata": {
    "slideshow": {
     "slide_type": "slide"
    }
   },
   "source": [
    "\n",
    "# Recap of the inverse transform algorithm\n",
    "\n",
    "- In general we use the following steps in applications:\n",
    "\n",
    "**Inverse transform algorithm**\n",
    "\n",
    "1. Generate $U$ from $Unif(0,1)$, i.e. set $U \\sim Unif(0,1)$.  \n",
    "\n",
    "\n",
    "2. Set $U=F(X)$.  \n",
    "\n",
    "\n",
    "3. Solve the inverse $X=F^{-1}(U)$ for $X$, provided that the inverse of $F$ exists.  \n",
    "\n",
    "\n",
    "4. $X$ is the simulated value from $F(x)$.\n"
   ]
  },
  {
   "cell_type": "markdown",
   "metadata": {
    "slideshow": {
     "slide_type": "slide"
    }
   },
   "source": [
    "\n",
    "# Inverse transform examples\n",
    "\n",
    "\n",
    "**Example 1: the exponential r.v.**\n",
    "\n",
    "- The general exponential r.v. with parameter $\\lambda=\\frac{1}{\\theta}$ has the following pdf:\n",
    "\n",
    "$$\n",
    "f(x)=\\frac{1}{\\theta}e^{-\\frac{x}{\\theta}}I_{(x>0)},\n",
    "$$\n",
    "and cdf: \n",
    "$$\n",
    "F(x)=\\bigl(1-e^{-\\frac{x}{\\theta}}\\bigr)I_{(x>0)}.\n",
    "$$\n",
    "\n",
    "\n",
    "- We set \n",
    "$$\n",
    "U=F(X)=1-e^{-\\frac{X}{\\theta}}\\sim Unif(0,1),\n",
    "$$\n",
    "and solve for $X$:\n",
    "$$\n",
    "\\begin{split}\n",
    "&U=1-e^{-\\frac{X}{\\theta}}\\\\\n",
    "&U-1=-e^{-\\frac{X}{\\theta}}\\\\\n",
    "&1-U=e^{-\\frac{X}{\\theta}}\\\\\n",
    "&\\log(1-U)=\\log(e^{-\\frac{X}{\\theta}})\\\\\n",
    "&\\log(1-U)=-\\frac{X}{\\theta}\\\\\n",
    "&\\theta \\log(1-U)=-X\\\\\n",
    "&X=-\\theta \\log(1-U).\n",
    "\\end{split}\n",
    "$$\n",
    "\n",
    "- That is, first generate $U\\sim Unif(0,1)$ and use this value in: \n",
    "$$\n",
    "(\\ast)\\;\\;X=-\\theta \\log(1-U).\n",
    "$$\n",
    "\n",
    "\n",
    "- Note: $(\\ast)$ can be replaced by $X=-\\theta \\log U$ since $U\\sim Unif(0,1)\\Longleftrightarrow 1-U\\sim Unif(0,1)$."
   ]
  },
  {
   "cell_type": "markdown",
   "metadata": {
    "slideshow": {
     "slide_type": "slide"
    }
   },
   "source": [
    "\n",
    "# Inverse transform examples (cont'd)\n",
    "\n",
    "\n",
    "**Example 2: the Weibull r.v.**\n",
    "\n",
    "- The Weibull r.v. $X\\sim {\\cal W}(\\alpha, \\beta)$ with parameters $(\\alpha, \\beta)$ has the following pdf:\n",
    "\n",
    "$$\n",
    "f(x)=\\alpha \\beta x^{\\beta-1}e^{-\\alpha x^ \\beta}I_{(x>0)}.\n",
    "$$\n",
    "\n",
    "\n",
    "- With $\\alpha=1$, it becomes:\n",
    "\n",
    "$$\n",
    "f(x)=\\beta x^{\\beta-1}e^{-x^ \\beta}I_{(x>0)},\n",
    "$$\n",
    "with cdf:\n",
    "\n",
    "$$\n",
    "F(x)=\\bigl(1-e^{-x^\\beta}\\bigr)I_{(x>0)}.\n",
    "$$ \n",
    "\n",
    "\n",
    "- Then:\n",
    "\n",
    "$$\n",
    "U=F(X)=1-e^{-X^\\beta}\\sim Unif(0,1),\n",
    "$$\n",
    "and hence:\n",
    "\n",
    "$$\n",
    "X=\\bigl[\\log(1-U)\\bigr]^{\\frac{1}{\\beta}}=(-\\log W)^{1/\\beta},\\;\n",
    "W=1-U\\sim Unif(0,1).\n",
    "$$\n"
   ]
  },
  {
   "cell_type": "markdown",
   "metadata": {
    "slideshow": {
     "slide_type": "slide"
    }
   },
   "source": [
    "\n",
    "# Inverse transform examples (cont'd)\n",
    "\n",
    "\n",
    "**Discrete distributions**\n",
    "\n",
    "- Let $X$ be a discrete r.v. with $P(X=x_i)=p_i$, $ i=1, \\dots , n$, and $x_i < x_{i+1}$. \n",
    "\n",
    "\n",
    "- In this case, the transform method has the following form:\n",
    "    1. generate $U \\sim U(0,1)$;\n",
    "    2. find the smallest integer $k$ such that $U \\leq F(x_k)$;\n",
    "    3. return $x_k$.\n"
   ]
  },
  {
   "cell_type": "markdown",
   "metadata": {
    "slideshow": {
     "slide_type": "slide"
    }
   },
   "source": [
    "\n",
    "# Inverse transform examples (cont'd)\n",
    "\n",
    "\n",
    "**The Binomial r.v.**\n",
    "\n",
    "- Let $X$ be a Binomial($n,p$) r.v. with $P(X=x; n,p)=\\binom{n}{x} p^x (1-p)^{n-x}$, $ x=1, \\dots , n$, and $x_i < x_{i+1}$. \n",
    "\n",
    "\n",
    "- In this case, the transform method can have the following form:\n",
    "    1. generate $n$ iid r.v.s $U_1, U_2, \\dots U_n \\sim U(0,1)$;\n",
    "    2. for each $1 \\leq i \\leq n$ set $Y_i=0$ if $U_i \\leq (1-p)$; $Y_i=1$ if $U_i > (1-p)$ (this yields $n$ iid Bernoulli($p$) values);\n",
    "    3. set $X= \\sum_{i=1}^n Y_i$.\n"
   ]
  },
  {
   "cell_type": "code",
   "execution_count": 35,
   "metadata": {},
   "outputs": [
    {
     "data": {
      "text/plain": [
       "24.0"
      ]
     },
     "execution_count": 35,
     "metadata": {},
     "output_type": "execute_result"
    }
   ],
   "source": [
    "#Generating a single value for a binomial\n",
    "import numpy as np\n",
    "import scipy as sp\n",
    "\n",
    "p = 0.5\n",
    "n = 50\n",
    "Y = np.zeros(n)\n",
    "for i in range(0,n):\n",
    "    u = sp.random.uniform(low=0,high=1,size=1)\n",
    "    if u < (1-p):\n",
    "        Y[i] = 0\n",
    "    else:\n",
    "        Y[i] = 1\n",
    "X = np.sum(Y)\n",
    "X"
   ]
  },
  {
   "cell_type": "code",
   "execution_count": 36,
   "metadata": {},
   "outputs": [],
   "source": [
    "def binomial(n,p):\n",
    "    p = 0.5\n",
    "    n = 50\n",
    "    Y = np.ones(n)\n",
    "    for i in range(0,n):\n",
    "        u = sp.random.uniform(low=0,high=1,size=1)\n",
    "        if u < (1-p):\n",
    "            Y[i] = 0\n",
    "    X = np.sum(Y)\n",
    "    return X"
   ]
  },
  {
   "cell_type": "code",
   "execution_count": 37,
   "metadata": {},
   "outputs": [
    {
     "data": {
      "text/plain": [
       "27.0"
      ]
     },
     "execution_count": 37,
     "metadata": {},
     "output_type": "execute_result"
    }
   ],
   "source": [
    "binomial(4,2)"
   ]
  },
  {
   "cell_type": "markdown",
   "metadata": {},
   "source": [
    "# Using Inversion Method\n",
    "\n",
    "\n",
    "- Evaluation of $F^{-1}$ could be costly.  \n",
    "\n",
    "\n",
    "- Or, its closed form does not exist $\\Longrightarrow$ approximation of $F^{-1}$ must be employed.\n",
    "\n",
    "\n",
    "- For instance, ``rnorm`` in **``R``** for generating normal random numbers does not use standard inverse transform.\n"
   ]
  },
  {
   "cell_type": "markdown",
   "metadata": {
    "slideshow": {
     "slide_type": "slide"
    }
   },
   "source": [
    "\n",
    "# Assignment 1\n",
    "\n",
    "\n",
    "Adapt the code above to construct a general Python function to generate $m$ values from a $Bin(n,p)$."
   ]
  },
  {
   "cell_type": "code",
   "execution_count": 3,
   "metadata": {},
   "outputs": [
    {
     "name": "stdout",
     "output_type": "stream",
     "text": [
      "Enter the number of values to generate: 5\n",
      "4.0\n",
      "7.0\n",
      "6.0\n",
      "10.0\n",
      "7.0\n"
     ]
    }
   ],
   "source": [
    "import numpy as np\n",
    "import scipy as sp\n",
    "\n",
    "p = 0.1\n",
    "n = 50\n",
    "m = int(input(\"Enter the number of values to generate: \"))\n",
    "for i in range(0,m):\n",
    "   print(binomial(n,p))"
   ]
  },
  {
   "cell_type": "markdown",
   "metadata": {
    "slideshow": {
     "slide_type": "slide"
    }
   },
   "source": [
    "\n",
    "# Assignment 2\n",
    "\n",
    "\n",
    "Implement example 1 above in Python.\n",
    "\n",
    "\n"
   ]
  },
  {
   "cell_type": "code",
   "execution_count": 38,
   "metadata": {},
   "outputs": [
    {
     "name": "stdout",
     "output_type": "stream",
     "text": [
      "Enter teta: 3\n",
      "[0.1491853]\n"
     ]
    }
   ],
   "source": [
    "# Exponential r.v.\n",
    "teta = int(input(\"Enter teta: \"))\n",
    "lb = 1/teta\n",
    "u = sp.random.uniform(low=0,high=1,size=1)\n",
    "print(-teta* np.log(1-u))"
   ]
  },
  {
   "cell_type": "markdown",
   "metadata": {
    "slideshow": {
     "slide_type": "slide"
    }
   },
   "source": [
    "\n",
    "# The Box-Muller method: The Gaussian integral\n",
    "\n",
    "\n",
    "-  Suppose you want to calculate the following integral:\n",
    "\n",
    "$$\n",
    "I= \\int_{-\\infty}^{+\\infty} e^{-\\frac{x^2}{2}}dx,\n",
    "$$\n",
    "which is quite tricky. \n",
    "\n",
    "\n",
    "- We can solve this integral, called *Gaussian integral*, by taking its square value:\n",
    "\n",
    "$$\n",
    "\\begin{split}\n",
    "I^2&= \\left(\\int_{-\\infty}^{+\\infty} e^{-\\frac{x^2}{2}}dx\\right)^2=\\int_{-\\infty}^{+\\infty} e^{-\\frac{x^2}{2}}dx \\int_{-\\infty}^{+\\infty} e^{-\\frac{y^2}{2}}dy\\\\\n",
    "&=\\int_{-\\infty}^{+\\infty}\\int_{-\\infty}^{+\\infty}e^{-\\frac{(x^2+y^2)}{2}}dxdy, (3)\n",
    "\\end{split}\n",
    "$$\n",
    "and using polar coordinates:\n",
    "\n",
    "$$\n",
    "\\left\\{ \\begin{array}{l}\n",
    "         x=r\\cos \\theta;\\\\\n",
    "         y=r\\sin \\theta.\\end{array} \\right. \n",
    "$$\n"
   ]
  },
  {
   "cell_type": "markdown",
   "metadata": {
    "slideshow": {
     "slide_type": "slide"
    }
   },
   "source": [
    "\n",
    "# The Box-Muller method: The Gaussian integral (cont'd)\n",
    "\n",
    "\n",
    "-  The \"substitution rule\" for multiple integrals states that, when using other coordinates, the Jacobian determinant of the coordinate conversion formula should be used:\n",
    "\n",
    "$$\n",
    "\\begin{split}\n",
    "J&=  \\det \\frac{\\delta (x,y)}{\\delta(r , \\theta)}=\\left| \\begin{array}{cc}\n",
    "         \\frac{\\delta (x)}{\\delta(r)}&\\frac{\\delta (x)}{\\delta(\\theta)}\\\\\n",
    "         \\frac{\\delta (y)}{\\delta(r)}&\\frac{\\delta (y)}{\\delta(\\theta)}\\end{array} \\right|=\\left| \\begin{array}{cc}\n",
    "         \\cos \\theta &-r \\sin \\theta\\\\\n",
    "         \\sin \\theta&r\\cos \\theta\\end{array} \\right| \\\\\n",
    "         &= r \\cos^2 \\theta + r \\sin^2 \\theta=r.\n",
    "\\end{split}\n",
    "$$\n",
    "\n",
    "- So the area element in integral (3) is given in polar coordinates by $dx dy=r dr d\\theta$. \n",
    "\n",
    "\n",
    "- In integral (3), $x$ and $y$ vary over the whole plane. In polar variables this is given by:\n",
    "\n",
    "$$\n",
    "\\begin{array}{l}\n",
    "         0 \\leq r < \\infty;\\\\\n",
    "         0 \\leq \\theta \\leq 2 \\pi.\\end{array}\n",
    "$$\n"
   ]
  },
  {
   "cell_type": "markdown",
   "metadata": {
    "slideshow": {
     "slide_type": "slide"
    }
   },
   "source": [
    "\n",
    "# The Box-Muller method: The Gaussian integral (cont'd)\n",
    "\n",
    "-  Therefore, (3) can be transformed as follows:\n",
    "\n",
    "$$\n",
    "\\begin{split}\n",
    "I^2&= \\int_{0}^{2 \\pi} \\int_{0}^{+\\infty} e^{-\\frac{r^2}{2}}r dr d \\theta \\\\\n",
    "&\\int_{0}^{2 \\pi} \\left[-e^{-\\frac{r^2}{2}}\\right]_0^{\\infty} d \\theta= \\int_{0}^{2 \\pi} d \\theta =\\left[ \\theta \\right]_0^{2 \\pi}= 2 \\pi.\n",
    "\\end{split}\n",
    "$$\n",
    "\n",
    "\n",
    "- The *Box-Muller* algorithm is a probabilistic interpretation of this type of integration. \n",
    "\n",
    "\n",
    "- Let $(X,Y)$ be a pair of independent standard normal random variables. Then, their joint probability density is:\n",
    "\n",
    "$$\n",
    "f(x,y)=\\frac{1}{\\sqrt {2\\pi}}e^{-\\frac{x^2}{2}} \\frac{1}{\\sqrt {2\\pi}}e^{-\\frac{y^2}{2}} =\\frac{1}{\\sqrt {2\\pi}}e^{-\\frac{(x^2+ y^2)}{2}}. \n",
    "$$\n",
    "\n",
    "\n",
    "- We can express the r.v. $(X,Y)$ using the polar coordinate random variables $(R, \\Theta)$ with $0 \\leq \\Theta < 2 \\pi$, $X=R\\cos \\Theta$ and $Y=R\\sin \\Theta$."
   ]
  },
  {
   "cell_type": "markdown",
   "metadata": {
    "slideshow": {
     "slide_type": "slide"
    }
   },
   "source": [
    "\n",
    "# The Box-Muller method: The Gaussian integral (cont'd)\n",
    "\n",
    "- Let's start with stating that the random variable $\\Theta$ is $\\text{Unif}(0,2 \\pi)$.\n",
    "\n",
    "\n",
    "- Therefore, we can use the following expression to sample from it:\n",
    "\n",
    "$$\n",
    "\\Theta= 2 \\pi U_1,\n",
    "$$\n",
    "where $U_1 \\sim \\text{Unif}(0,1)$.\n",
    "\n",
    "\n",
    "- Now let's derive the cumulative distribution function for $R$ by getting its marginal distribution via integration:\n",
    "\n",
    "$$\n",
    "G(r)=P(R \\leq r)= \\int_0^r \\int_0^{2 \\pi} \\frac{1}{2\\pi} e^{-\\frac{r^2}{2}}r dr d \\theta=\\int_{0}^{r} e^{-\\frac{r^2}{2}}r dr.\n",
    "$$\n",
    "\n",
    "\n",
    "- Now, using the substitution $\\frac{r^2}{2}=s$ so that $rdr=ds$, we get:\n",
    "\n",
    "$$\n",
    "G(r)=\\int_0^s e^{-s} ds=1-e^{-\\frac{r^2}{2}},\n",
    "$$\n",
    "which is a cdf of an exponential r.v."
   ]
  },
  {
   "cell_type": "markdown",
   "metadata": {
    "slideshow": {
     "slide_type": "slide"
    }
   },
   "source": [
    "\n",
    "# The Box-Muller method: The Gaussian integral (cont'd)\n",
    "\n",
    "- Therefore, we may sample from $R$ by solving for $R$ the following cumulative distribution function equation ($(1-U_2)\\sim \\text{Unif}(0,1)$):\n",
    "\n",
    "$$\n",
    "G(R)=1-e^{-\\frac{R^2}{2}}=1-U_2.\n",
    "$$\n",
    "\n",
    "\n",
    "- This gives:\n",
    "\n",
    "$$\n",
    "R=\\sqrt{-2\\log{U_2}}.\n",
    "$$\n",
    "\n",
    "\n",
    "- So, the Box-Muller algorithm takes two $\\text{Unif}(0,1)$, $U_1$ and $U_2$ and produces independent standard \n",
    "normal using the formulas:\n",
    "\n",
    "$$\n",
    "\\begin{array}{llll}\n",
    "         \\Theta=2 \\pi U_1;&R=\\sqrt{-2\\log{U_2}}; & X=R\\cos \\Theta \\text{ and } & Y=R\\sin \\Theta.\n",
    "\\end{array}\n",
    "$$\n"
   ]
  },
  {
   "cell_type": "markdown",
   "metadata": {
    "slideshow": {
     "slide_type": "slide"
    }
   },
   "source": [
    "\n",
    "# The Box-Muller method: Quick recap\n",
    "\n",
    "- To turn a uniformly distributed random variable into a normally distributed variable, one might use the Box-Muller transform.\n",
    "\n",
    "\n",
    "- Given two continuous uniform random variables $U_1 \\sim \\text{Unif}(0,1))$ and $U_2 \\sim \\text{Unif}(0,1)$, then:\n",
    "\n",
    "$$\n",
    "\\begin{split}\n",
    "  &Z_0 = \\sqrt{-2\\log U_2}\\cos(2\\pi U_1) \\\\\n",
    "  &Z_1 = \\sqrt{-2\\log U_2}\\sin(2\\pi U_1),\n",
    "\\end{split}\n",
    "$$\n",
    "where $Z_0$ and $Z_1$ are independent random variables with normal distribution and standard deviation 1.\n",
    "\n",
    "\n",
    "- Alternatively, given $u \\sim U(-1,1)$ and $v \\sim U(-1,1)$ with $s=u^2+v^2$\n",
    "and $0 \\leq s < 1$, then:\n",
    "\n",
    "$$\n",
    "\\begin{split}\n",
    "  &Z_0 = u \\sqrt{\\frac{-2\\log s}{s}} \\\\\n",
    "  &Z_1 = v \\sqrt{\\frac{-2\\log s}{s}} \n",
    "\\end{split}\n",
    "$$"
   ]
  },
  {
   "cell_type": "markdown",
   "metadata": {
    "slideshow": {
     "slide_type": "slide"
    }
   },
   "source": [
    "\n",
    "# The Box-Muller algorithm\n",
    "\n",
    "**The Box-Muller algorithm**\n",
    "\n",
    "\n",
    "- For practical use, one can use the following algorithm:\n",
    "\n",
    "     - Generate $U_1$, $U_2$ independently from $Unif(0,1)$. \n",
    "     - Set $R=\\sqrt{-2\\log{U_2}}$. \n",
    "     - Set $\\Theta=2 \\pi U_1$. \n",
    "     - Then, $Z_1= R \\cos\\Theta$ and $Z_2= R \\sin\\Theta$ are the two simulated values from a $N(0,1)$.\n"
   ]
  },
  {
   "cell_type": "markdown",
   "metadata": {
    "slideshow": {
     "slide_type": "slide"
    }
   },
   "source": [
    "\n",
    "# Assignment 3\n",
    "\n",
    "\n",
    "\n",
    "Implement the Box-Muller method in Python and compare it with the standard normal by plotting the histograms of the generated values."
   ]
  },
  {
   "cell_type": "markdown",
   "metadata": {
    "slideshow": {
     "slide_type": "slide"
    }
   },
   "source": [
    "\n",
    "# RVG indirect methods - The 'Accept-Reject' method\n",
    "\n",
    "<img src=\"reject1.png\">\n",
    "\n",
    "- Let's $f(x)$ a *target density*, i.e. a density we want to draw from, for which we have problems in getting the values.\n",
    "\n",
    "\n",
    "- Key point 1: we should know the mathematical functional form of a density $f$ of interest up to a multiplicative constant.\n",
    "\n",
    "\n",
    "\n",
    "- Key point 2: we use a simpler (to simulate) density $g$ to generate the random variable for which the simulation is actually done. \n"
   ]
  },
  {
   "cell_type": "markdown",
   "metadata": {
    "slideshow": {
     "slide_type": "slide"
    }
   },
   "source": [
    "\n",
    "# The 'Accept-Reject' method: ingredients and requirements\n",
    "\n",
    "\n",
    "\n",
    "- Ingredients: \n",
    "    1. Two densities, $f$ and $g$. \n",
    "    2. The functional analytical form of the density $f$ we wish to simulate from (that's why we call this density the target density) is known up to a multiplicative constant. \n",
    "    3. The density $g$ is simple to simulate from and is called \\textit{the candidate density} to generate from the random variable for which the simulation is intended. \n",
    "\n",
    "\n",
    "\n",
    "- Requirements: \n",
    "\n",
    "     1. $f$ and $g$ are on the same support (or, at least, their supports are compatible; for example, if $g(x)>0$ then $f(x)>0$). \n",
    "     2. There exists a constant $M$ such that $Mg(x) \\geq f(x)$.\n",
    "\n"
   ]
  },
  {
   "cell_type": "markdown",
   "metadata": {
    "slideshow": {
     "slide_type": "slide"
    }
   },
   "source": [
    "\n",
    "# The 'Accept-Reject' method: algorithm (version 1)\n",
    "\n",
    "\n",
    "\n",
    "- Have $g(x)$ for which $x$ is easily generated, $f(x)$, whose functional form is known, and a constant $M$ such that $Mg(x)\\geq f(x)$.\n",
    "\n",
    "\n",
    "- $\\forall x$, and $c\\in(0,1)$,\n",
    "    1. generate $x^\\ast$ from $g(x)$\n",
    "    2. generate $b\\sim U(0,Mg(x^\\ast))$, $(x^\\ast,b)$ is now random in the area under $Mg(x)$\n",
    "    3. If $b\\leq f(x^\\ast)$, return $x=x^\\ast$. Otherwise, start all over from step 1.\n",
    "\n",
    "\n",
    "\n",
    "<img src=\"reject2Bis.png\">"
   ]
  },
  {
   "cell_type": "markdown",
   "metadata": {
    "slideshow": {
     "slide_type": "slide"
    }
   },
   "source": [
    "\n",
    "# The 'Accept-Reject' method: algorithm (version 2)\n",
    "\n",
    "\n",
    "\n",
    "- **Accept-Reject algorithm**: \n",
    "    1. Generate $Y \\sim g$, $U \\sim U(0,1)$. \n",
    "    2. Accept $X=Y$ if $U \\leq \\frac{f(Y)}{Mg(Y)}$.\n",
    "    3.  Return to step 1 otherwise.\n",
    "  "
   ]
  },
  {
   "cell_type": "markdown",
   "metadata": {
    "slideshow": {
     "slide_type": "slide"
    }
   },
   "source": [
    "\n",
    "# The 'Accept-Reject' method: the 'dart similitude'\n",
    "\n",
    "\n",
    "To better understand the idea underlying accept-reject method the following practical example could be useful.\n",
    "\n",
    "\n",
    "\n",
    "- Suppose you have a board where you throw lots of darts. Suppose this board is a 1 meter by 1 meter square board.\n",
    "\n",
    "\n",
    "- We have seen how to approximate the value $\\pi$ using the uniform (and in a certain sense we used the uniform like the darts hitting the unit circle area). Now we want to use the uniform again to approximate the value generation from a density $f(x)$.\n",
    "\n",
    "\n",
    "- The 'accept-reject' method uses the same underlying idea as the darts: throw many darts at a board that is $c$ high and with base $[0,1]$ on which we have drawn our desired density $f(x)$. \n",
    "\n",
    "\n",
    "- Reject the darts that land above the curve, and accept those that land under it. \n",
    "\n",
    "\n",
    "- There will be more darts near values of $x$ for which $f(x)$ is large than where $f(x)$ is small, so with enough darts you will approximate the density function!\n",
    "\n",
    "\n",
    "<img src=\"AcceptReject.png\">\n"
   ]
  },
  {
   "cell_type": "markdown",
   "metadata": {},
   "source": [
    "# Homework in Python\n",
    "\n",
    "1. Check that the following function: \n",
    "\n",
    "$$\n",
    "f(x)=\\left \\{\\begin{array}{ll}\n",
    "\\frac{x^2}{18},\\quad -3<x<3;\\\\\n",
    "0,\\quad \\text{otherwise}\n",
    "\\end{array}\n",
    "\\right.\n",
    "$$ \n",
    "is a proper density on $(-3,3)$. \n",
    "\n",
    "\n",
    "-  Plot its graph.\n",
    "\n",
    "\n",
    "- Use accept-reject sampling to generate a set of random values for this density on $(-3, 3)$, using an appropriate density for $g$. \n"
   ]
  },
  {
   "cell_type": "markdown",
   "metadata": {
    "slideshow": {
     "slide_type": "slide"
    }
   },
   "source": [
    "\n",
    "# The Box-Muller method: The Gaussian integral\n",
    "\n",
    "\n",
    "-  Suppose you want to calculate the following integral:\n",
    "\n",
    "$$\n",
    "I= \\int_{-\\infty}^{+\\infty} e^{-\\frac{x^2}{2}}dx,\n",
    "$$\n",
    "which is quite tricky. \n",
    "\n",
    "\n",
    "- We can solve this integral, called *Gaussian integral*, by taking its square value:\n",
    "\n",
    "$$\n",
    "\\begin{split}\n",
    "I^2&= \\left(\\int_{-\\infty}^{+\\infty} e^{-\\frac{x^2}{2}}dx\\right)^2=\\int_{-\\infty}^{+\\infty} e^{-\\frac{x^2}{2}}dx \\int_{-\\infty}^{+\\infty} e^{-\\frac{y^2}{2}}dy\\\\\n",
    "&=\\int_{-\\infty}^{+\\infty}\\int_{-\\infty}^{+\\infty}e^{-\\frac{(x^2+y^2)}{2}}dxdy, (3)\n",
    "\\end{split}\n",
    "$$\n",
    "and using polar coordinates:\n",
    "\n",
    "$$\n",
    "\\left\\{ \\begin{array}{l}\n",
    "         x=r\\cos \\theta;\\\\\n",
    "         y=r\\sin \\theta.\\end{array} \\right. \n",
    "$$\n"
   ]
  },
  {
   "cell_type": "markdown",
   "metadata": {
    "slideshow": {
     "slide_type": "slide"
    }
   },
   "source": [
    "\n",
    "# The Box-Muller method: The Gaussian integral (cont'd)\n",
    "\n",
    "\n",
    "-  The \"substitution rule\" for multiple integrals states that, when using other coordinates, the Jacobian determinant of the coordinate conversion formula should be used:\n",
    "\n",
    "$$\n",
    "\\begin{split}\n",
    "J&=  \\det \\frac{\\delta (x,y)}{\\delta(r , \\theta)}=\\left| \\begin{array}{cc}\n",
    "         \\frac{\\delta (x)}{\\delta(r)}&\\frac{\\delta (x)}{\\delta(\\theta)}\\\\\n",
    "         \\frac{\\delta (y)}{\\delta(r)}&\\frac{\\delta (y)}{\\delta(\\theta)}\\end{array} \\right|=\\left| \\begin{array}{cc}\n",
    "         \\cos \\theta &-r \\sin \\theta\\\\\n",
    "         \\sin \\theta&r\\cos \\theta\\end{array} \\right| \\\\\n",
    "         &= r \\cos^2 \\theta + r \\sin^2 \\theta=r.\n",
    "\\end{split}\n",
    "$$\n",
    "\n",
    "- So the area element in integral (3) is given in polar coordinates by $dx dy=r dr d\\theta$. \n",
    "\n",
    "\n",
    "- In integral (3), $x$ and $y$ vary over the whole plane. In polar variables this is given by:\n",
    "\n",
    "$$\n",
    "\\begin{array}{l}\n",
    "         0 \\leq r < \\infty;\\\\\n",
    "         0 \\leq \\theta \\leq 2 \\pi.\\end{array}\n",
    "$$\n"
   ]
  },
  {
   "cell_type": "markdown",
   "metadata": {
    "slideshow": {
     "slide_type": "slide"
    }
   },
   "source": [
    "\n",
    "# The Box-Muller method: The Gaussian integral (cont'd)\n",
    "\n",
    "-  Therefore, (3) can be transformed as follows:\n",
    "\n",
    "$$\n",
    "\\begin{split}\n",
    "I^2&= \\int_{0}^{2 \\pi} \\int_{0}^{+\\infty} e^{-\\frac{r^2}{2}}r dr d \\theta \\\\\n",
    "&\\int_{0}^{2 \\pi} \\left[-e^{-\\frac{r^2}{2}}\\right]_0^{\\infty} d \\theta= \\int_{0}^{2 \\pi} d \\theta =\\left[ \\theta \\right]_0^{2 \\pi}= 2 \\pi.\n",
    "\\end{split}\n",
    "$$\n",
    "\n",
    "\n",
    "- The *Box-Muller* algorithm is a probabilistic interpretation of this type of integration. \n",
    "\n",
    "\n",
    "- Let $(X,Y)$ be a pair of independent standard normal random variables. Then, their joint probability density is:\n",
    "\n",
    "$$\n",
    "f(x,y)=\\frac{1}{\\sqrt {2\\pi}}e^{-\\frac{x^2}{2}} \\frac{1}{\\sqrt {2\\pi}}e^{-\\frac{y^2}{2}} =\\frac{1}{\\sqrt {2\\pi}}e^{-\\frac{(x^2+ y^2)}{2}}. \n",
    "$$\n",
    "\n",
    "\n",
    "- We can express the r.v. $(X,Y)$ using the polar coordinate random variables $(R, \\Theta)$ with $0 \\leq \\Theta < 2 \\pi$, $X=R\\cos \\Theta$ and $Y=R\\sin \\Theta$."
   ]
  },
  {
   "cell_type": "markdown",
   "metadata": {
    "slideshow": {
     "slide_type": "slide"
    }
   },
   "source": [
    "\n",
    "# The Box-Muller method: The Gaussian integral (cont'd)\n",
    "\n",
    "- Let's start with stating that the random variable $\\Theta$ is $\\text{Unif}(0,2 \\pi)$.\n",
    "\n",
    "\n",
    "- Therefore, we can use the following expression to sample from it:\n",
    "\n",
    "$$\n",
    "\\Theta= 2 \\pi U_1,\n",
    "$$\n",
    "where $U_1 \\sim \\text{Unif}(0,1)$.\n",
    "\n",
    "\n",
    "- Now let's derive the cumulative distribution function for $R$ by getting its marginal distribution via integration:\n",
    "\n",
    "$$\n",
    "G(r)=P(R \\leq r)= \\int_0^r \\int_0^{2 \\pi} \\frac{1}{2\\pi} e^{-\\frac{r^2}{2}}r dr d \\theta=\\int_{0}^{r} e^{-\\frac{r^2}{2}}r dr.\n",
    "$$\n",
    "\n",
    "\n",
    "- Now, using the substitution $\\frac{r^2}{2}=s$ so that $rdr=ds$, we get:\n",
    "\n",
    "$$\n",
    "G(r)=\\int_0^s e^{-s} ds=1-e^{-\\frac{r^2}{2}},\n",
    "$$\n",
    "which is a cdf of an exponential r.v."
   ]
  },
  {
   "cell_type": "markdown",
   "metadata": {
    "slideshow": {
     "slide_type": "slide"
    }
   },
   "source": [
    "\n",
    "# The Box-Muller method: The Gaussian integral (cont'd)\n",
    "\n",
    "- Therefore, we may sample from $R$ by solving for $R$ the following cumulative distribution function equation ($(1-U_2)\\sim \\text{Unif}(0,1)$):\n",
    "\n",
    "$$\n",
    "G(R)=1-e^{-\\frac{R^2}{2}}=1-U_2.\n",
    "$$\n",
    "\n",
    "\n",
    "- This gives:\n",
    "\n",
    "$$\n",
    "R=\\sqrt{-2\\log{U_2}}.\n",
    "$$\n",
    "\n",
    "\n",
    "- So, the Box-Muller algorithm takes two $\\text{Unif}(0,1)$, $U_1$ and $U_2$ and produces independent standard \n",
    "normal using the formulas:\n",
    "\n",
    "$$\n",
    "\\begin{array}{llll}\n",
    "         \\Theta=2 \\pi U_1;&R=\\sqrt{-2\\log{U_2}}; & X=R\\cos \\Theta \\text{ and } & Y=R\\sin \\Theta.\n",
    "\\end{array}\n",
    "$$\n"
   ]
  },
  {
   "cell_type": "markdown",
   "metadata": {
    "slideshow": {
     "slide_type": "slide"
    }
   },
   "source": [
    "\n",
    "# The Box-Muller method: Quick recap\n",
    "\n",
    "- To turn a uniformly distributed random variable into a normally distributed variable, one might use the Box-Muller transform.\n",
    "\n",
    "\n",
    "- Given two continuous uniform random variables $U_1 \\sim \\text{Unif}(0,1))$ and $U_2 \\sim \\text{Unif}(0,1)$, then:\n",
    "\n",
    "$$\n",
    "\\begin{split}\n",
    "  &Z_0 = \\sqrt{-2\\log U_2}\\cos(2\\pi U_1) \\\\\n",
    "  &Z_1 = \\sqrt{-2\\log U_2}\\sin(2\\pi U_1),\n",
    "\\end{split}\n",
    "$$\n",
    "where $Z_0$ and $Z_1$ are independent random variables with normal distribution and standard deviation 1.\n",
    "\n",
    "\n",
    "- Alternatively, given $u \\sim U(-1,1)$ and $v \\sim U(-1,1)$ with $s=u^2+v^2$\n",
    "and $0 \\leq s < 1$, then:\n",
    "\n",
    "$$\n",
    "\\begin{split}\n",
    "  &Z_0 = u \\sqrt{\\frac{-2\\log s}{s}} \\\\\n",
    "  &Z_1 = v \\sqrt{\\frac{-2\\log s}{s}} \n",
    "\\end{split}\n",
    "$$"
   ]
  },
  {
   "cell_type": "markdown",
   "metadata": {
    "slideshow": {
     "slide_type": "slide"
    }
   },
   "source": [
    "\n",
    "# The Box-Muller algorithm\n",
    "\n",
    "**The Box-Muller algorithm**\n",
    "\n",
    "\n",
    "- For practical use, one can use the following algorithm:\n",
    "\n",
    "     - Generate $U_1$, $U_2$ independently from $Unif(0,1)$. \n",
    "     - Set $R=\\sqrt{-2\\log{U_2}}$. \n",
    "     - Set $\\Theta=2 \\pi U_1$. \n",
    "     - Then, $Z_1= R \\cos\\Theta$ and $Z_2= R \\sin\\Theta$ are the two simulated values from a $N(0,1)$.\n"
   ]
  },
  {
   "cell_type": "markdown",
   "metadata": {
    "slideshow": {
     "slide_type": "slide"
    }
   },
   "source": [
    "\n",
    "## Implement the Box-Muller method in Python and compare it with the standard normal by plotting the histograms of the generated values."
   ]
  },
  {
   "cell_type": "code",
   "execution_count": 1,
   "metadata": {},
   "outputs": [],
   "source": [
    "import math\n",
    "# n = number of values to generate\n",
    "def box_muller(n):\n",
    "    u1 = sp.random.uniform(low=0,high=1,size=n//2)\n",
    "    u2 = sp.random.uniform(low=0,high=1,size=n//2)\n",
    "    r = np.sqrt(-2*np.log(u2))\n",
    "    teta = 2*math.pi*u1\n",
    "    z1 = r*np.cos(teta)\n",
    "    z2 = r*np.sin(teta)\n",
    "    return np.concatenate((z1,z2))\n"
   ]
  },
  {
   "cell_type": "code",
   "execution_count": 4,
   "metadata": {},
   "outputs": [
    {
     "data": {
      "image/png": "[encoded data removed]",
      "text/plain": [
       "<Figure size 432x288 with 1 Axes>"
      ]
     },
     "metadata": {
      "needs_background": "light"
     },
     "output_type": "display_data"
    }
   ],
   "source": [
    "import scipy as sp\n",
    "import numpy as np\n",
    "import matplotlib.pyplot as plt\n",
    "%matplotlib inline\n",
    "\n",
    "n = 1000000\n",
    "n, bins, patches = plt.hist([ np.random.randn(n), box_muller(n)], bins =50)"
   ]
  },
  {
   "cell_type": "markdown",
   "metadata": {
    "slideshow": {
     "slide_type": "slide"
    }
   },
   "source": [
    "\n",
    "# RVG indirect methods - The 'Accept-Reject' method\n",
    "\n",
    "<img src=\"reject1.png\">\n",
    "\n",
    "- Let's $f(x)$ a *target density*, i.e. a density we want to draw from, for which we have problems in getting the values.\n",
    "\n",
    "\n",
    "- Key point 1: we should know the mathematical functional form of a density $f$ of interest up to a multiplicative constant.\n",
    "\n",
    "\n",
    "\n",
    "- Key point 2: we use a simpler (to simulate) density $g$ to generate the random variable for which the simulation is actually done. \n"
   ]
  },
  {
   "cell_type": "markdown",
   "metadata": {
    "slideshow": {
     "slide_type": "slide"
    }
   },
   "source": [
    "\n",
    "# The 'Accept-Reject' method: ingredients and requirements\n",
    "\n",
    "\n",
    "\n",
    "- Ingredients: \n",
    "    1. Two densities, $f$ and $g$. \n",
    "    2. The functional analytical form of the density $f$ we wish to simulate from (that's why we call this density the target density) is known up to a multiplicative constant. \n",
    "    3. The density $g$ is simple to simulate from and is called \\textit{the candidate density} to generate from the random variable for which the simulation is intended. \n",
    "\n",
    "\n",
    "\n",
    "- Requirements: \n",
    "\n",
    "     1. $f$ and $g$ are on the same support (or, at least, their supports are compatible; for example, if $g(x)>0$ then $f(x)>0$). \n",
    "     2. There exists a constant $M$ such that $Mg(x) \\geq f(x)$.\n",
    "\n"
   ]
  },
  {
   "cell_type": "markdown",
   "metadata": {
    "slideshow": {
     "slide_type": "slide"
    }
   },
   "source": [
    "\n",
    "# The 'Accept-Reject' method: algorithm (version 1)\n",
    "\n",
    "\n",
    "\n",
    "- Have $g(x)$ for which $x$ is easily generated, $f(x)$, whose functional form is known, and a constant $M$ such that $Mg(x)\\geq f(x)$.\n",
    "\n",
    "\n",
    "- $\\forall x$, and $c\\in(0,1)$,\n",
    "    1. generate $x^\\ast$ from $g(x)$\n",
    "    2. generate $b\\sim U(0,Mg(x^\\ast))$, $(x^\\ast,b)$ is now random in the area under $Mg(x)$\n",
    "    3. If $b\\leq f(x^\\ast)$, return $x=x^\\ast$. Otherwise, start all over from step 1.\n",
    "\n",
    "\n",
    "\n",
    "<img src=\"reject2Bis.png\">"
   ]
  },
  {
   "cell_type": "markdown",
   "metadata": {
    "slideshow": {
     "slide_type": "slide"
    }
   },
   "source": [
    "\n",
    "# The 'Accept-Reject' method: algorithm (version 2)\n",
    "\n",
    "\n",
    "\n",
    "- **Accept-Reject algorithm**: \n",
    "    1. Generate $Y \\sim g$, $U \\sim U(0,1)$. \n",
    "    2. Accept $X=Y$ if $U \\leq \\frac{f(Y)}{Mg(Y)}$.\n",
    "    3.  Return to step 1 otherwise.\n",
    "  "
   ]
  },
  {
   "cell_type": "markdown",
   "metadata": {
    "slideshow": {
     "slide_type": "slide"
    }
   },
   "source": [
    "\n",
    "# The 'Accept-Reject' method: the 'dart similitude'\n",
    "\n",
    "\n",
    "To better understand the idea underlying accept-reject method the following practical example could be useful.\n",
    "\n",
    "\n",
    "\n",
    "- Suppose you have a board where you throw lots of darts. Suppose this board is a 1 meter by 1 meter square board.\n",
    "\n",
    "\n",
    "- We have seen how to approximate the value $\\pi$ using the uniform (and in a certain sense we used the uniform like the darts hitting the unit circle area). Now we want to use the uniform again to approximate the value generation from a density $f(x)$.\n",
    "\n",
    "\n",
    "- The 'accept-reject' method uses the same underlying idea as the darts: throw many darts at a board that is $c$ high and with base $[0,1]$ on which we have drawn our desired density $f(x)$. \n",
    "\n",
    "\n",
    "- Reject the darts that land above the curve, and accept those that land under it. \n",
    "\n",
    "\n",
    "- There will be more darts near values of $x$ for which $f(x)$ is large than where $f(x)$ is small, so with enough darts you will approximate the density function!\n",
    "\n",
    "\n",
    "<img src=\"AcceptReject.png\">\n"
   ]
  },
  {
   "cell_type": "markdown",
   "metadata": {},
   "source": [
    "1. Check that the following function: \n",
    "\n",
    "$$\n",
    "f(x)=\\left \\{\\begin{array}{ll}\n",
    "\\frac{x^2}{18},\\quad -3<x<3;\\\\\n",
    "0,\\quad \\text{otherwise}\n",
    "\\end{array}\n",
    "\\right.\n",
    "$$ \n",
    "is a proper density on $(-3,3)$. \n",
    "\n",
    "\n",
    "-  Plot its graph.\n",
    "\n",
    "\n",
    "- Use accept-reject sampling to generate a set of random values for this density on $(-3, 3)$, using an appropriate density for $g$. \n"
   ]
  },
  {
   "cell_type": "code",
   "execution_count": 5,
   "metadata": {},
   "outputs": [
    {
     "data": {
      "text/plain": [
       "(1.0, 1.1102230246251565e-14)"
      ]
     },
     "execution_count": 5,
     "metadata": {},
     "output_type": "execute_result"
    }
   ],
   "source": [
    "import scipy.integrate as integrate\n",
    "import scipy.special as special\n",
    "import matplotlib.pyplot as plt\n",
    "result = integrate.quad(lambda x: x**2/18, -3, 3)\n",
    "result \n",
    "#since result is 1 the function is  density"
   ]
  },
  {
   "cell_type": "code",
   "execution_count": 6,
   "metadata": {},
   "outputs": [],
   "source": [
    "def f(x):\n",
    "    if  -3. < x < 3.:\n",
    "        return x**2/18.\n",
    "    else:\n",
    "        return 0."
   ]
  },
  {
   "cell_type": "code",
   "execution_count": 7,
   "metadata": {},
   "outputs": [
    {
     "data": {
      "text/plain": [
       "<matplotlib.collections.PathCollection at 0x7fd2aa94f490>"
      ]
     },
     "execution_count": 7,
     "metadata": {},
     "output_type": "execute_result"
    },
    {
     "data": {
      "image/png": "[encoded data removed]",
      "text/plain": [
       "<Figure size 432x288 with 1 Axes>"
      ]
     },
     "metadata": {
      "needs_background": "light"
     },
     "output_type": "display_data"
    }
   ],
   "source": [
    "n_examples = 1000000\n",
    "x = np.linspace(-4.,4.,n_examples)\n",
    "vecf =np.vectorize(f)\n",
    "y = vecf(x)\n",
    "plt.scatter(x,y)"
   ]
  },
  {
   "cell_type": "code",
   "execution_count": 9,
   "metadata": {},
   "outputs": [
    {
     "name": "stdout",
     "output_type": "stream",
     "text": [
      "acceptance rate = 0.01\n"
     ]
    },
    {
     "data": {
      "image/png": "[encoded data removed]",
      "text/plain": [
       "<Figure size 432x288 with 1 Axes>"
      ]
     },
     "metadata": {
      "needs_background": "light"
     },
     "output_type": "display_data"
    }
   ],
   "source": [
    "# exploiting uniform distribution, better choice\n",
    "M = 5\n",
    "#generate acceptance threshold\n",
    "u = np.random.uniform(0,1,n_examples)\n",
    "# generate points from the uniform\n",
    "xs =  np.random.uniform(-4,4,n_examples)\n",
    "# compute the accepted points\n",
    "ratio = vecf(xs)/ M*(1/8)\n",
    "indices = (u <= ratio)\n",
    "plt.scatter(xs[indices],vecf(xs[indices]), c = 'r',label='estimated', alpha=0.1)\n",
    "plt.plot(x, y, c='g', marker=' ',linestyle='-', label='real')\n",
    "plt.legend(loc='upper left')\n",
    "plt.show\n",
    "print('acceptance rate = ' + str(np.sum(indices)/len(xs)))"
   ]
  },
  {
   "cell_type": "markdown",
   "metadata": {},
   "source": [
    "## RVG for normal implemented in Numpy\n",
    "\n",
    "- Until a few months ago the Box-Muller method was implemented in Numpy with the method numpy.random.Generator.standard_normal\n",
    "\n",
    "\n",
    "- Now the Inverse method and a faster method called \"Ziggurat\" are used.\n",
    "\n"
   ]
  },
  {
   "cell_type": "markdown",
   "metadata": {},
   "source": [
    "## The Ziggurat algorithm (Marsaglia and Tsang, 2000)\n",
    "\n",
    "\n",
    "- The Ziggurat algorithm covers the pdf with a series of horizontal rectangles rather than a single square like in the accept-reject algorithm, and in an arrangement that attempts to cover the pdf as efficiently as possible, i.e with minimum area outside of the pdf curve. The following diagram demonstrates the approach. \n",
    "\n",
    "\n",
    "- Note that we operate on one side of the pdf (x >= 0), generating both positive and negative sample values requires that that as a final step we randomly flip the sign of the generated non-negative values.\n",
    "\n",
    "\n",
    "<img src=\"Ziggurat.png\">"
   ]
  },
  {
   "cell_type": "code",
   "execution_count": 25,
   "metadata": {},
   "outputs": [
    {
     "data": {
      "text/plain": [
       "array([-0.23665748, -0.48325906, -0.13102053,  1.45738656,  0.6931774 ,\n",
       "        1.05605885, -0.68306166, -0.02044268, -0.02995312,  0.35149289])"
      ]
     },
     "execution_count": 25,
     "metadata": {},
     "output_type": "execute_result"
    }
   ],
   "source": [
    "rng = np.random.default_rng()\n",
    "rng.standard_normal(10)"
   ]
  },
  {
   "cell_type": "code",
   "execution_count": 1,
   "metadata": {},
   "outputs": [
    {
     "data": {
      "text/html": [
       "\n",
       "<style>\n",
       "\n",
       "div.cell { /* Tunes the space between cells */\n",
       "margin-top:1em;\n",
       "margin-bottom:1em;\n",
       "}\n",
       "\n",
       "div.text_cell_render h1 { /* Main titles bigger, centered */\n",
       "font-size: 2.2em;\n",
       "line-height:1.4em;\n",
       "text-align:center;\n",
       "}\n",
       "\n",
       "div.text_cell_render h2 { /*  Parts names nearer from text */\n",
       "margin-bottom: -0.4em;\n",
       "}\n",
       "\n",
       "\n",
       "div.text_cell_render { /* Customize text cells */\n",
       "font-family: 'Times New Roman';\n",
       "font-size:1.5em;\n",
       "line-height:1.4em;\n",
       "padding-left:3em;\n",
       "padding-right:3em;\n",
       "}\n",
       "</style>\n"
      ],
      "text/plain": [
       "<IPython.core.display.HTML object>"
      ]
     },
     "execution_count": 1,
     "metadata": {},
     "output_type": "execute_result"
    }
   ],
   "source": [
    "# To run slideshow type jupyter nbconvert /Users/giancarlomanzi/Documents/Box Sync BackUp PC Lavoro 24062015/documenti/Didattica/Corso Advanced Multivariate Statistics/Notebooks and Lectures/Lecture 2 Bootstrap 2/Bootstrap2.ipynb --to slides --post serve\n",
    "# from terminal\n",
    "#/Users/giancarlomanzi/Documents/Box Sync BackUp PC Lavoro 24062015/documenti/Didattica/Corso Advanced Multivariate Statistics/Notebooks and Lectures/Lecture 2 Bootstrap 2/Bootstrap2.ipynb\n",
    "\n",
    "#This is to let you have larger fonts...\n",
    "from IPython.core.display import HTML\n",
    "HTML(\"\"\"\n",
    "<style>\n",
    "\n",
    "div.cell { /* Tunes the space between cells */\n",
    "margin-top:1em;\n",
    "margin-bottom:1em;\n",
    "}\n",
    "\n",
    "div.text_cell_render h1 { /* Main titles bigger, centered */\n",
    "font-size: 2.2em;\n",
    "line-height:1.4em;\n",
    "text-align:center;\n",
    "}\n",
    "\n",
    "div.text_cell_render h2 { /*  Parts names nearer from text */\n",
    "margin-bottom: -0.4em;\n",
    "}\n",
    "\n",
    "\n",
    "div.text_cell_render { /* Customize text cells */\n",
    "font-family: 'Times New Roman';\n",
    "font-size:1.5em;\n",
    "line-height:1.4em;\n",
    "padding-left:3em;\n",
    "padding-right:3em;\n",
    "}\n",
    "</style>\n",
    "\"\"\")"
   ]
  },
  {
   "cell_type": "code",
   "execution_count": null,
   "metadata": {},
   "outputs": [],
   "source": []
  }
 ],
 "metadata": {
  "celltoolbar": "Slideshow",
  "kernelspec": {
   "display_name": "Python 3",
   "language": "python",
   "name": "python3"
  },
  "language_info": {
   "codemirror_mode": {
    "name": "ipython",
    "version": 3
   },
   "file_extension": ".py",
   "mimetype": "text/x-python",
   "name": "python",
   "nbconvert_exporter": "python",
   "pygments_lexer": "ipython3",
   "version": "3.8.5"
  }
 },
 "nbformat": 4,
 "nbformat_minor": 2
}
