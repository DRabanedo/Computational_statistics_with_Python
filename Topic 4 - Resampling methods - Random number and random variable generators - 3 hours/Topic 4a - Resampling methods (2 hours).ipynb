{
 "cells": [
  {
   "cell_type": "markdown",
   "id": "801f83f3",
   "metadata": {},
   "source": [
    "# Appendix: Statistical distributions"
   ]
  },
  {
   "cell_type": "markdown",
   "id": "69531dd7",
   "metadata": {},
   "source": [
    "# A quick note about the difference between 'import', 'from' + 'import' and 'from libraryname.submodule'\n",
    "\n",
    "- Use *import* when you want to use the whole library.\n",
    "\n",
    "- Use *from* + *import* when you want to use a specific member of the library."
   ]
  },
  {
   "cell_type": "code",
   "execution_count": 4,
   "id": "7a36b0be",
   "metadata": {},
   "outputs": [
    {
     "name": "stdout",
     "output_type": "stream",
     "text": [
      "2022-07-06\n",
      "2022-07-07\n"
     ]
    }
   ],
   "source": [
    "# Examples:\n",
    "#1\n",
    "import datetime\n",
    "date1 = datetime.date(2022, 7, 6)\n",
    "print(date1)\n",
    "from datetime import date\n",
    "date2 = date(2022, 7, 7)\n",
    "print(date2)"
   ]
  },
  {
   "cell_type": "markdown",
   "id": "f7b3cdf7",
   "metadata": {},
   "source": [
    "- You can import a submodule of a library as in the case of *import matplotlib.pyplot as plt*\n",
    "\n",
    "- if you import the whole *matplotlib* library, then you have to specify the submodule and then the function *plot()*:\n",
    "\n",
    "\n",
    "``` python \n",
    "import matplotlib as mpl\n",
    "mpl.pyplot.plot(...)\n",
    "        ```\n",
    "\n"
   ]
  },
  {
   "cell_type": "markdown",
   "id": "b624f794",
   "metadata": {},
   "source": [
    "# These are examples taken from Kenett et al....\n",
    "\n",
    "## Have a look at them in the textbook I shared"
   ]
  },
  {
   "cell_type": "code",
   "execution_count": 5,
   "id": "83bf8400",
   "metadata": {},
   "outputs": [
    {
     "name": "stdout",
     "output_type": "stream",
     "text": [
      "[1 1 0 1 1 1 1 1 1 0 1 1 1 1 1 1 1 1 1 1 1 1 1 1 1 0 1 1 1 1 1 1 1 1 1 1 1\n",
      " 1 0 1 1 1 1 1 1 1 1 1 1 1]\n"
     ]
    }
   ],
   "source": [
    "#Binomial values\n",
    "from scipy.stats import binom\n",
    "import numpy as np\n",
    "X = binom.rvs(1, 0.9, size=50)\n",
    "print(X)\n"
   ]
  },
  {
   "cell_type": "code",
   "execution_count": 14,
   "id": "16449fd1",
   "metadata": {},
   "outputs": [
    {
     "data": {
      "image/png": "[encoded data removed]",
      "text/plain": [
       "<Figure size 432x288 with 1 Axes>"
      ]
     },
     "metadata": {
      "needs_background": "light"
     },
     "output_type": "display_data"
    }
   ],
   "source": [
    "import math\n",
    "import pandas as pd\n",
    "import matplotlib.pyplot as plt\n",
    "from scipy.stats import norm\n",
    "# create a list of 50 values forming a sine curve\n",
    "x = [math.sin(x * 2 * math.pi / 50) for x in range(1, 51)]\n",
    "# Add a random normal with mean 0 and standard deviation 0.05\n",
    "x = [xi + norm.rvs(loc=0, scale=0.05) for xi in x]\n",
    "ax = pd.Series(x).plot(style='.', color='black')\n",
    "ax.set_ylabel('Values')\n",
    "ax.axhline(y=0, linestyle='--', color='darkgray')\n",
    "plt.show()\n"
   ]
  },
  {
   "cell_type": "code",
   "execution_count": 15,
   "id": "02132e07",
   "metadata": {},
   "outputs": [
    {
     "data": {
      "image/png": "[encoded data removed]",
      "text/plain": [
       "<Figure size 432x288 with 1 Axes>"
      ]
     },
     "metadata": {
      "needs_background": "light"
     },
     "output_type": "display_data"
    }
   ],
   "source": [
    "#Simulations of measurements\n",
    "import numpy as np\n",
    "x = np.concatenate([5 + norm.rvs(loc=0, scale=0.5, size=10),\n",
    "                    2 + norm.rvs(loc=0, scale=0.2, size=10),\n",
    "                    5 + norm.rvs(loc=0, scale=0.1, size=10)])\n",
    "ax = pd.Series(x).plot(style='.', color='black')\n",
    "ax.set_ylabel('Values')\n",
    "ax.set_xlabel('Index')\n",
    "ax.set_ylabel('Weight')\n",
    "ax.hlines(y=5, xmin=0, xmax=9, color='darkgray')\n",
    "ax.hlines(y=2, xmin=10, xmax=19, color='darkgray')\n",
    "ax.hlines(y=5, xmin=20, xmax=29, color='darkgray')\n",
    "ax.text(4, 6.5, 'A')\n",
    "ax.text(14, 3.5, 'B')\n",
    "ax.text(24, 6.5, 'C')\n",
    "ax.set_ylim(0, 8)\n",
    "plt.show()"
   ]
  },
  {
   "cell_type": "code",
   "execution_count": 17,
   "id": "6e2afeba",
   "metadata": {},
   "outputs": [],
   "source": [
    "#Hypergeometric distribution\n",
    "from scipy import stats\n",
    "x = list(range(0, 8))\n",
    "rv = stats.hypergeom(M=75, n=15, N=10)\n",
    "df = pd.DataFrame({\n",
    "     'j': x,\n",
    "    'h': rv.pmf(x),\n",
    "    'H': rv.cdf(x),\n",
    "})"
   ]
  },
  {
   "cell_type": "code",
   "execution_count": 18,
   "id": "8508b92c",
   "metadata": {},
   "outputs": [
    {
     "data": {
      "text/html": [
       "<div>\n",
       "<style scoped>\n",
       "    .dataframe tbody tr th:only-of-type {\n",
       "        vertical-align: middle;\n",
       "    }\n",
       "\n",
       "    .dataframe tbody tr th {\n",
       "        vertical-align: top;\n",
       "    }\n",
       "\n",
       "    .dataframe thead th {\n",
       "        text-align: right;\n",
       "    }\n",
       "</style>\n",
       "<table border=\"1\" class=\"dataframe\">\n",
       "  <thead>\n",
       "    <tr style=\"text-align: right;\">\n",
       "      <th></th>\n",
       "      <th>j</th>\n",
       "      <th>h</th>\n",
       "      <th>H</th>\n",
       "    </tr>\n",
       "  </thead>\n",
       "  <tbody>\n",
       "    <tr>\n",
       "      <th>0</th>\n",
       "      <td>0</td>\n",
       "      <td>0.090953</td>\n",
       "      <td>0.090953</td>\n",
       "    </tr>\n",
       "    <tr>\n",
       "      <th>1</th>\n",
       "      <td>1</td>\n",
       "      <td>0.267510</td>\n",
       "      <td>0.358463</td>\n",
       "    </tr>\n",
       "    <tr>\n",
       "      <th>2</th>\n",
       "      <td>2</td>\n",
       "      <td>0.324098</td>\n",
       "      <td>0.682561</td>\n",
       "    </tr>\n",
       "    <tr>\n",
       "      <th>3</th>\n",
       "      <td>3</td>\n",
       "      <td>0.211989</td>\n",
       "      <td>0.894550</td>\n",
       "    </tr>\n",
       "    <tr>\n",
       "      <th>4</th>\n",
       "      <td>4</td>\n",
       "      <td>0.082440</td>\n",
       "      <td>0.976990</td>\n",
       "    </tr>\n",
       "    <tr>\n",
       "      <th>5</th>\n",
       "      <td>5</td>\n",
       "      <td>0.019786</td>\n",
       "      <td>0.996776</td>\n",
       "    </tr>\n",
       "    <tr>\n",
       "      <th>6</th>\n",
       "      <td>6</td>\n",
       "      <td>0.002944</td>\n",
       "      <td>0.999720</td>\n",
       "    </tr>\n",
       "    <tr>\n",
       "      <th>7</th>\n",
       "      <td>7</td>\n",
       "      <td>0.000266</td>\n",
       "      <td>0.999986</td>\n",
       "    </tr>\n",
       "  </tbody>\n",
       "</table>\n",
       "</div>"
      ],
      "text/plain": [
       "   j         h         H\n",
       "0  0  0.090953  0.090953\n",
       "1  1  0.267510  0.358463\n",
       "2  2  0.324098  0.682561\n",
       "3  3  0.211989  0.894550\n",
       "4  4  0.082440  0.976990\n",
       "5  5  0.019786  0.996776\n",
       "6  6  0.002944  0.999720\n",
       "7  7  0.000266  0.999986"
      ]
     },
     "execution_count": 18,
     "metadata": {},
     "output_type": "execute_result"
    }
   ],
   "source": [
    "df"
   ]
  },
  {
   "cell_type": "code",
   "execution_count": 23,
   "id": "c83fa985",
   "metadata": {},
   "outputs": [],
   "source": [
    "#Poisson distribution\n",
    "from scipy import stats\n",
    "x = list(range(0, 5))\n",
    "rv = stats.poisson(5)\n",
    "df = pd.DataFrame({\n",
    "     'j': x,\n",
    "    'h': rv.pmf(x),\n",
    "    'H': rv.cdf(x),\n",
    "})"
   ]
  },
  {
   "cell_type": "code",
   "execution_count": 24,
   "id": "c15a89a7",
   "metadata": {},
   "outputs": [
    {
     "data": {
      "text/html": [
       "<div>\n",
       "<style scoped>\n",
       "    .dataframe tbody tr th:only-of-type {\n",
       "        vertical-align: middle;\n",
       "    }\n",
       "\n",
       "    .dataframe tbody tr th {\n",
       "        vertical-align: top;\n",
       "    }\n",
       "\n",
       "    .dataframe thead th {\n",
       "        text-align: right;\n",
       "    }\n",
       "</style>\n",
       "<table border=\"1\" class=\"dataframe\">\n",
       "  <thead>\n",
       "    <tr style=\"text-align: right;\">\n",
       "      <th></th>\n",
       "      <th>j</th>\n",
       "      <th>h</th>\n",
       "      <th>H</th>\n",
       "    </tr>\n",
       "  </thead>\n",
       "  <tbody>\n",
       "    <tr>\n",
       "      <th>0</th>\n",
       "      <td>0</td>\n",
       "      <td>0.006738</td>\n",
       "      <td>0.006738</td>\n",
       "    </tr>\n",
       "    <tr>\n",
       "      <th>1</th>\n",
       "      <td>1</td>\n",
       "      <td>0.033690</td>\n",
       "      <td>0.040428</td>\n",
       "    </tr>\n",
       "    <tr>\n",
       "      <th>2</th>\n",
       "      <td>2</td>\n",
       "      <td>0.084224</td>\n",
       "      <td>0.124652</td>\n",
       "    </tr>\n",
       "    <tr>\n",
       "      <th>3</th>\n",
       "      <td>3</td>\n",
       "      <td>0.140374</td>\n",
       "      <td>0.265026</td>\n",
       "    </tr>\n",
       "    <tr>\n",
       "      <th>4</th>\n",
       "      <td>4</td>\n",
       "      <td>0.175467</td>\n",
       "      <td>0.440493</td>\n",
       "    </tr>\n",
       "  </tbody>\n",
       "</table>\n",
       "</div>"
      ],
      "text/plain": [
       "   j         h         H\n",
       "0  0  0.006738  0.006738\n",
       "1  1  0.033690  0.040428\n",
       "2  2  0.084224  0.124652\n",
       "3  3  0.140374  0.265026\n",
       "4  4  0.175467  0.440493"
      ]
     },
     "execution_count": 24,
     "metadata": {},
     "output_type": "execute_result"
    }
   ],
   "source": [
    "df"
   ]
  },
  {
   "cell_type": "markdown",
   "id": "9750fad7",
   "metadata": {},
   "source": [
    "# Refer to the scipy website for other distributions\n",
    "\n",
    "## https://scipy.org"
   ]
  },
  {
   "cell_type": "markdown",
   "id": "6adfa085",
   "metadata": {},
   "source": [
    "# Resampling Methods\n",
    "\n",
    "\n",
    "\n",
    "## Resampling methods are simulation methods in the field of computational statistics:\n",
    "   \n",
    "   \n",
    "\n",
    "- In general, in resampling methods sample data are the **only source of information about the population**.\n",
    "\n",
    "\n",
    "- **No assumptions** or guess **about the population** are available. \n",
    "\n",
    "\n",
    "- They involve repeatedly sampling (i.i.d. in most cases) from a training set and <u>fitting a model of interest or a statistic on each sample</u> in order to obtain additional information about the population parameters. \n",
    "\n",
    "\n",
    "- Resampling methods are a **class of Monte Carlo methods** and are generally considered computer intensive.\n"
   ]
  },
  {
   "cell_type": "markdown",
   "id": "3409cce2",
   "metadata": {},
   "source": [
    "# An important example: the standard bootstrap\n",
    "   \n",
    "1. The bootstrap is a statistical method originally proposed to evaluate the *accuracy* of an estimator (i.e. its precision) for a parameter of interest. \n",
    "\n",
    "\n",
    "2. In a non-parametric context the (classical) bootstrap methodology is based on the fact that the empirical distribution function (EDF) $\\hat{F}$ is a **good estimate of the underlying and unknown distribution function** $F$ from which an independent and identically (iid) $n$-sized sample is drawn.\n",
    "\n",
    "\n",
    "3. The EDF puts mass $1/n$ on each element $X_i$ of the sample. \n",
    "\n",
    "\n",
    "4. $\\hat{F}$ is the 'population' under which we can simulate the distribution of a particular statistic $\\hat{\\theta} (F)$.\n",
    "\n",
    "\n",
    "5. Ideally, all the possible $n$-sized samples under $\\hat{F}$ should be computed and all the values corresponding to the above statistic should be calculated. In this way an 'ideal' bootstrap estimate is produced. \n",
    "\n",
    "\n",
    "6. But this is impossible to obtain and we rely on a bootstrap estimate obtained by repeatedly resampling *many times* the original sample in order to *mimic* the sampling variability.\n"
   ]
  },
  {
   "cell_type": "markdown",
   "id": "eefa7a59",
   "metadata": {},
   "source": [
    "# EDF: formal definition and example\n",
    "   \n",
    "- Formally, the EDF is defined as follows:\n",
    "\n",
    " $$\n",
    " \\hat{F}_n(t)=\\frac{\\text{number of elements in the sample} \\leq t}{n}= \\frac{1}{n} \\sum_{i=1}^n \\mathbb{1} \\{x_i \\leq t \\}.\n",
    " $$ \n",
    " \n",
    "- Example data: elbow measurements of 247 phisically active men taken from Heinz, G., Peterson, L.J., Johnson, R.W. and Kerk, C.J. (2003). Exploring Relationships in Body Dimensions. *Journal of Statistics Education*, 11(2): 1-10.\n",
    "\n",
    "\n",
    "- Data set: 'body.dat.txt'.\n",
    "\n",
    "\n",
    "- Data description: 'body.txt'.\n",
    " \n"
   ]
  },
  {
   "cell_type": "code",
   "execution_count": 21,
   "id": "be8cf76a",
   "metadata": {},
   "outputs": [
    {
     "data": {
      "text/plain": [
       "Index(['Biacromial_diam', 'Biiliac_diam', 'Bitrochanteric_diam', 'Chest_depth',\n",
       "       'Chest_diam', 'Elbow_lgth', 'Wrist_diam', 'Knee_diam', 'Ankle_diam',\n",
       "       'Shoulder_girth', 'Chest_girth', 'Waist_girth', 'Navel_girth',\n",
       "       'Hip_girth', 'Thigh_girth', 'Bicep_girth', 'Forearm_girth',\n",
       "       'Knee_girth', 'Calf_max_girth', 'Ankle_min_girth', 'Wrist_min_girth',\n",
       "       'Age', 'Weight', 'Height', 'Gender'],\n",
       "      dtype='object')"
      ]
     },
     "execution_count": 21,
     "metadata": {},
     "output_type": "execute_result"
    }
   ],
   "source": [
    "import numpy as np\n",
    "import pandas as pd\n",
    "#Read the txt file\n",
    "columns = ['Biacromial_diam', 'Biiliac_diam','Bitrochanteric_diam',\n",
    "           'Chest_depth','Chest_diam','Elbow_lgth','Wrist_diam','Knee_diam',\n",
    "           'Ankle_diam','Shoulder_girth','Chest_girth','Waist_girth','Navel_girth',\n",
    "           'Hip_girth','Thigh_girth','Bicep_girth','Forearm_girth','Knee_girth',\n",
    "           'Calf_max_girth','Ankle_min_girth','Wrist_min_girth','Age','Weight',\n",
    "           'Height','Gender']\n",
    "elbow_data = pd.read_csv('body.dat.txt', sep=\"\\t\", header=None, names = columns)\n",
    "#elbow_data = pd.read_csv('body.dat.txt', sep=\"\\t\",  usecols=[0,1])\n",
    "\n",
    "elbow_data.columns "
   ]
  },
  {
   "cell_type": "code",
   "execution_count": 22,
   "id": "7dee664a",
   "metadata": {
    "scrolled": true
   },
   "outputs": [
    {
     "data": {
      "text/html": [
       "<div>\n",
       "<style scoped>\n",
       "    .dataframe tbody tr th:only-of-type {\n",
       "        vertical-align: middle;\n",
       "    }\n",
       "\n",
       "    .dataframe tbody tr th {\n",
       "        vertical-align: top;\n",
       "    }\n",
       "\n",
       "    .dataframe thead th {\n",
       "        text-align: right;\n",
       "    }\n",
       "</style>\n",
       "<table border=\"1\" class=\"dataframe\">\n",
       "  <thead>\n",
       "    <tr style=\"text-align: right;\">\n",
       "      <th></th>\n",
       "      <th>Biacromial_diam</th>\n",
       "      <th>Biiliac_diam</th>\n",
       "      <th>Bitrochanteric_diam</th>\n",
       "      <th>Chest_depth</th>\n",
       "      <th>Chest_diam</th>\n",
       "      <th>Elbow_lgth</th>\n",
       "      <th>Wrist_diam</th>\n",
       "      <th>Knee_diam</th>\n",
       "      <th>Ankle_diam</th>\n",
       "      <th>Shoulder_girth</th>\n",
       "      <th>...</th>\n",
       "      <th>Bicep_girth</th>\n",
       "      <th>Forearm_girth</th>\n",
       "      <th>Knee_girth</th>\n",
       "      <th>Calf_max_girth</th>\n",
       "      <th>Ankle_min_girth</th>\n",
       "      <th>Wrist_min_girth</th>\n",
       "      <th>Age</th>\n",
       "      <th>Weight</th>\n",
       "      <th>Height</th>\n",
       "      <th>Gender</th>\n",
       "    </tr>\n",
       "  </thead>\n",
       "  <tbody>\n",
       "    <tr>\n",
       "      <th>0</th>\n",
       "      <td>42.9</td>\n",
       "      <td>26.0</td>\n",
       "      <td>31.5</td>\n",
       "      <td>17.7</td>\n",
       "      <td>28.0</td>\n",
       "      <td>13.1</td>\n",
       "      <td>10.4</td>\n",
       "      <td>18.8</td>\n",
       "      <td>14.1</td>\n",
       "      <td>106.2</td>\n",
       "      <td>...</td>\n",
       "      <td>32.5</td>\n",
       "      <td>26.0</td>\n",
       "      <td>34.5</td>\n",
       "      <td>36.5</td>\n",
       "      <td>23.5</td>\n",
       "      <td>16.5</td>\n",
       "      <td>21</td>\n",
       "      <td>65.6</td>\n",
       "      <td>174.0</td>\n",
       "      <td>1</td>\n",
       "    </tr>\n",
       "    <tr>\n",
       "      <th>1</th>\n",
       "      <td>43.7</td>\n",
       "      <td>28.5</td>\n",
       "      <td>33.5</td>\n",
       "      <td>16.9</td>\n",
       "      <td>30.8</td>\n",
       "      <td>14.0</td>\n",
       "      <td>11.8</td>\n",
       "      <td>20.6</td>\n",
       "      <td>15.1</td>\n",
       "      <td>110.5</td>\n",
       "      <td>...</td>\n",
       "      <td>34.4</td>\n",
       "      <td>28.0</td>\n",
       "      <td>36.5</td>\n",
       "      <td>37.5</td>\n",
       "      <td>24.5</td>\n",
       "      <td>17.0</td>\n",
       "      <td>23</td>\n",
       "      <td>71.8</td>\n",
       "      <td>175.3</td>\n",
       "      <td>1</td>\n",
       "    </tr>\n",
       "    <tr>\n",
       "      <th>2</th>\n",
       "      <td>40.1</td>\n",
       "      <td>28.2</td>\n",
       "      <td>33.3</td>\n",
       "      <td>20.9</td>\n",
       "      <td>31.7</td>\n",
       "      <td>13.9</td>\n",
       "      <td>10.9</td>\n",
       "      <td>19.7</td>\n",
       "      <td>14.1</td>\n",
       "      <td>115.1</td>\n",
       "      <td>...</td>\n",
       "      <td>33.4</td>\n",
       "      <td>28.8</td>\n",
       "      <td>37.0</td>\n",
       "      <td>37.3</td>\n",
       "      <td>21.9</td>\n",
       "      <td>16.9</td>\n",
       "      <td>28</td>\n",
       "      <td>80.7</td>\n",
       "      <td>193.5</td>\n",
       "      <td>1</td>\n",
       "    </tr>\n",
       "    <tr>\n",
       "      <th>3</th>\n",
       "      <td>44.3</td>\n",
       "      <td>29.9</td>\n",
       "      <td>34.0</td>\n",
       "      <td>18.4</td>\n",
       "      <td>28.2</td>\n",
       "      <td>13.9</td>\n",
       "      <td>11.2</td>\n",
       "      <td>20.9</td>\n",
       "      <td>15.0</td>\n",
       "      <td>104.5</td>\n",
       "      <td>...</td>\n",
       "      <td>31.0</td>\n",
       "      <td>26.2</td>\n",
       "      <td>37.0</td>\n",
       "      <td>34.8</td>\n",
       "      <td>23.0</td>\n",
       "      <td>16.6</td>\n",
       "      <td>23</td>\n",
       "      <td>72.6</td>\n",
       "      <td>186.5</td>\n",
       "      <td>1</td>\n",
       "    </tr>\n",
       "    <tr>\n",
       "      <th>4</th>\n",
       "      <td>42.5</td>\n",
       "      <td>29.9</td>\n",
       "      <td>34.0</td>\n",
       "      <td>21.5</td>\n",
       "      <td>29.4</td>\n",
       "      <td>15.2</td>\n",
       "      <td>11.6</td>\n",
       "      <td>20.7</td>\n",
       "      <td>14.9</td>\n",
       "      <td>107.5</td>\n",
       "      <td>...</td>\n",
       "      <td>32.0</td>\n",
       "      <td>28.4</td>\n",
       "      <td>37.7</td>\n",
       "      <td>38.6</td>\n",
       "      <td>24.4</td>\n",
       "      <td>18.0</td>\n",
       "      <td>22</td>\n",
       "      <td>78.8</td>\n",
       "      <td>187.2</td>\n",
       "      <td>1</td>\n",
       "    </tr>\n",
       "    <tr>\n",
       "      <th>...</th>\n",
       "      <td>...</td>\n",
       "      <td>...</td>\n",
       "      <td>...</td>\n",
       "      <td>...</td>\n",
       "      <td>...</td>\n",
       "      <td>...</td>\n",
       "      <td>...</td>\n",
       "      <td>...</td>\n",
       "      <td>...</td>\n",
       "      <td>...</td>\n",
       "      <td>...</td>\n",
       "      <td>...</td>\n",
       "      <td>...</td>\n",
       "      <td>...</td>\n",
       "      <td>...</td>\n",
       "      <td>...</td>\n",
       "      <td>...</td>\n",
       "      <td>...</td>\n",
       "      <td>...</td>\n",
       "      <td>...</td>\n",
       "      <td>...</td>\n",
       "    </tr>\n",
       "    <tr>\n",
       "      <th>502</th>\n",
       "      <td>38.0</td>\n",
       "      <td>30.4</td>\n",
       "      <td>32.9</td>\n",
       "      <td>17.0</td>\n",
       "      <td>27.1</td>\n",
       "      <td>12.9</td>\n",
       "      <td>10.4</td>\n",
       "      <td>19.5</td>\n",
       "      <td>14.4</td>\n",
       "      <td>108.4</td>\n",
       "      <td>...</td>\n",
       "      <td>30.3</td>\n",
       "      <td>25.4</td>\n",
       "      <td>37.7</td>\n",
       "      <td>37.9</td>\n",
       "      <td>22.4</td>\n",
       "      <td>15.4</td>\n",
       "      <td>29</td>\n",
       "      <td>71.8</td>\n",
       "      <td>176.5</td>\n",
       "      <td>0</td>\n",
       "    </tr>\n",
       "    <tr>\n",
       "      <th>503</th>\n",
       "      <td>35.3</td>\n",
       "      <td>28.7</td>\n",
       "      <td>30.4</td>\n",
       "      <td>17.7</td>\n",
       "      <td>25.6</td>\n",
       "      <td>12.4</td>\n",
       "      <td>9.8</td>\n",
       "      <td>17.3</td>\n",
       "      <td>13.6</td>\n",
       "      <td>99.3</td>\n",
       "      <td>...</td>\n",
       "      <td>30.1</td>\n",
       "      <td>23.6</td>\n",
       "      <td>35.6</td>\n",
       "      <td>33.3</td>\n",
       "      <td>22.4</td>\n",
       "      <td>15.2</td>\n",
       "      <td>21</td>\n",
       "      <td>55.5</td>\n",
       "      <td>164.4</td>\n",
       "      <td>0</td>\n",
       "    </tr>\n",
       "    <tr>\n",
       "      <th>504</th>\n",
       "      <td>34.7</td>\n",
       "      <td>24.9</td>\n",
       "      <td>24.7</td>\n",
       "      <td>17.3</td>\n",
       "      <td>24.2</td>\n",
       "      <td>12.0</td>\n",
       "      <td>10.2</td>\n",
       "      <td>18.0</td>\n",
       "      <td>13.6</td>\n",
       "      <td>91.9</td>\n",
       "      <td>...</td>\n",
       "      <td>27.4</td>\n",
       "      <td>24.0</td>\n",
       "      <td>34.4</td>\n",
       "      <td>34.1</td>\n",
       "      <td>21.2</td>\n",
       "      <td>15.5</td>\n",
       "      <td>33</td>\n",
       "      <td>48.6</td>\n",
       "      <td>160.7</td>\n",
       "      <td>0</td>\n",
       "    </tr>\n",
       "    <tr>\n",
       "      <th>505</th>\n",
       "      <td>38.5</td>\n",
       "      <td>29.0</td>\n",
       "      <td>32.9</td>\n",
       "      <td>15.3</td>\n",
       "      <td>25.6</td>\n",
       "      <td>12.0</td>\n",
       "      <td>9.8</td>\n",
       "      <td>18.6</td>\n",
       "      <td>13.3</td>\n",
       "      <td>107.1</td>\n",
       "      <td>...</td>\n",
       "      <td>30.6</td>\n",
       "      <td>24.9</td>\n",
       "      <td>38.4</td>\n",
       "      <td>36.6</td>\n",
       "      <td>22.0</td>\n",
       "      <td>15.5</td>\n",
       "      <td>33</td>\n",
       "      <td>66.4</td>\n",
       "      <td>174.0</td>\n",
       "      <td>0</td>\n",
       "    </tr>\n",
       "    <tr>\n",
       "      <th>506</th>\n",
       "      <td>35.6</td>\n",
       "      <td>29.0</td>\n",
       "      <td>29.0</td>\n",
       "      <td>20.4</td>\n",
       "      <td>26.8</td>\n",
       "      <td>13.4</td>\n",
       "      <td>10.8</td>\n",
       "      <td>18.7</td>\n",
       "      <td>13.8</td>\n",
       "      <td>100.5</td>\n",
       "      <td>...</td>\n",
       "      <td>33.2</td>\n",
       "      <td>25.5</td>\n",
       "      <td>39.6</td>\n",
       "      <td>35.9</td>\n",
       "      <td>23.0</td>\n",
       "      <td>16.4</td>\n",
       "      <td>38</td>\n",
       "      <td>67.3</td>\n",
       "      <td>163.8</td>\n",
       "      <td>0</td>\n",
       "    </tr>\n",
       "  </tbody>\n",
       "</table>\n",
       "<p>507 rows × 25 columns</p>\n",
       "</div>"
      ],
      "text/plain": [
       "     Biacromial_diam  Biiliac_diam  Bitrochanteric_diam  Chest_depth  \\\n",
       "0               42.9          26.0                 31.5         17.7   \n",
       "1               43.7          28.5                 33.5         16.9   \n",
       "2               40.1          28.2                 33.3         20.9   \n",
       "3               44.3          29.9                 34.0         18.4   \n",
       "4               42.5          29.9                 34.0         21.5   \n",
       "..               ...           ...                  ...          ...   \n",
       "502             38.0          30.4                 32.9         17.0   \n",
       "503             35.3          28.7                 30.4         17.7   \n",
       "504             34.7          24.9                 24.7         17.3   \n",
       "505             38.5          29.0                 32.9         15.3   \n",
       "506             35.6          29.0                 29.0         20.4   \n",
       "\n",
       "     Chest_diam  Elbow_lgth  Wrist_diam  Knee_diam  Ankle_diam  \\\n",
       "0          28.0        13.1        10.4       18.8        14.1   \n",
       "1          30.8        14.0        11.8       20.6        15.1   \n",
       "2          31.7        13.9        10.9       19.7        14.1   \n",
       "3          28.2        13.9        11.2       20.9        15.0   \n",
       "4          29.4        15.2        11.6       20.7        14.9   \n",
       "..          ...         ...         ...        ...         ...   \n",
       "502        27.1        12.9        10.4       19.5        14.4   \n",
       "503        25.6        12.4         9.8       17.3        13.6   \n",
       "504        24.2        12.0        10.2       18.0        13.6   \n",
       "505        25.6        12.0         9.8       18.6        13.3   \n",
       "506        26.8        13.4        10.8       18.7        13.8   \n",
       "\n",
       "     Shoulder_girth  ...  Bicep_girth  Forearm_girth  Knee_girth  \\\n",
       "0             106.2  ...         32.5           26.0        34.5   \n",
       "1             110.5  ...         34.4           28.0        36.5   \n",
       "2             115.1  ...         33.4           28.8        37.0   \n",
       "3             104.5  ...         31.0           26.2        37.0   \n",
       "4             107.5  ...         32.0           28.4        37.7   \n",
       "..              ...  ...          ...            ...         ...   \n",
       "502           108.4  ...         30.3           25.4        37.7   \n",
       "503            99.3  ...         30.1           23.6        35.6   \n",
       "504            91.9  ...         27.4           24.0        34.4   \n",
       "505           107.1  ...         30.6           24.9        38.4   \n",
       "506           100.5  ...         33.2           25.5        39.6   \n",
       "\n",
       "     Calf_max_girth  Ankle_min_girth  Wrist_min_girth  Age  Weight  Height  \\\n",
       "0              36.5             23.5             16.5   21    65.6   174.0   \n",
       "1              37.5             24.5             17.0   23    71.8   175.3   \n",
       "2              37.3             21.9             16.9   28    80.7   193.5   \n",
       "3              34.8             23.0             16.6   23    72.6   186.5   \n",
       "4              38.6             24.4             18.0   22    78.8   187.2   \n",
       "..              ...              ...              ...  ...     ...     ...   \n",
       "502            37.9             22.4             15.4   29    71.8   176.5   \n",
       "503            33.3             22.4             15.2   21    55.5   164.4   \n",
       "504            34.1             21.2             15.5   33    48.6   160.7   \n",
       "505            36.6             22.0             15.5   33    66.4   174.0   \n",
       "506            35.9             23.0             16.4   38    67.3   163.8   \n",
       "\n",
       "     Gender  \n",
       "0         1  \n",
       "1         1  \n",
       "2         1  \n",
       "3         1  \n",
       "4         1  \n",
       "..      ...  \n",
       "502       0  \n",
       "503       0  \n",
       "504       0  \n",
       "505       0  \n",
       "506       0  \n",
       "\n",
       "[507 rows x 25 columns]"
      ]
     },
     "execution_count": 22,
     "metadata": {},
     "output_type": "execute_result"
    }
   ],
   "source": [
    "#6th column is the sum length of the two elbows\n",
    "elbow_data"
   ]
  },
  {
   "cell_type": "code",
   "execution_count": 24,
   "id": "4a3815c6",
   "metadata": {},
   "outputs": [],
   "source": [
    "elbow_data['Gender']\n",
    "elbow_data_males = elbow_data.loc[elbow_data['Gender'] == 1]"
   ]
  },
  {
   "cell_type": "code",
   "execution_count": 26,
   "id": "db368ae0",
   "metadata": {
    "scrolled": true
   },
   "outputs": [
    {
     "name": "stdout",
     "output_type": "stream",
     "text": [
      "14.457085020242925\n",
      "0.8825432143881122\n"
     ]
    },
    {
     "data": {
      "image/png": "[encoded data removed]",
      "text/plain": [
       "<Figure size 432x288 with 1 Axes>"
      ]
     },
     "metadata": {
      "needs_background": "light"
     },
     "output_type": "display_data"
    }
   ],
   "source": [
    "#elbow_data_males = elbow_data.loc[elbow_data['Gender'] == 1]\n",
    "#histogram + mean and std:\n",
    "hist = elbow_data_males['Elbow_lgth'].hist(bins=10)\n",
    "mean_elbow = elbow_data_males['Elbow_lgth'].mean()\n",
    "sd_elbow = elbow_data_males['Elbow_lgth'].std()\n",
    "print(mean_elbow)\n",
    "print(sd_elbow)"
   ]
  },
  {
   "cell_type": "code",
   "execution_count": 27,
   "id": "13517608",
   "metadata": {
    "scrolled": true
   },
   "outputs": [
    {
     "data": {
      "image/png": "[encoded data removed]",
      "text/plain": [
       "<Figure size 432x288 with 1 Axes>"
      ]
     },
     "metadata": {
      "needs_background": "light"
     },
     "output_type": "display_data"
    }
   ],
   "source": [
    "import matplotlib.pyplot as plt\n",
    "import numpy as np\n",
    "from scipy import stats\n",
    "#histogram + normal superimposed\n",
    "x = np.linspace(elbow_data_males['Elbow_lgth'].min(), elbow_data_males['Elbow_lgth'].max(), 1000)\n",
    "plt.hist(elbow_data_males['Elbow_lgth'], density = True, bins=10 ) # plotting histogram \n",
    "plt.plot(x, stats.norm.pdf(x, mean_elbow, sd_elbow))\n",
    "plt.show() "
   ]
  },
  {
   "cell_type": "code",
   "execution_count": 28,
   "id": "c5d8f74c",
   "metadata": {},
   "outputs": [],
   "source": [
    "from scipy import stats\n",
    "from matplotlib import pyplot as plt\n",
    "import numpy as np\n",
    "n = stats.norm(loc=mean_elbow, scale=sd_elbow)"
   ]
  },
  {
   "cell_type": "code",
   "execution_count": 29,
   "id": "70b0f318",
   "metadata": {},
   "outputs": [],
   "source": [
    "import numpy as np\n",
    "\n",
    "def ecdf(sample):\n",
    "\n",
    "    # convert sample to a numpy array, if it isn't already\n",
    "    sample = np.atleast_1d(sample)\n",
    "\n",
    "    # find the unique values and their corresponding counts\n",
    "    quantiles, counts = np.unique(sample, return_counts=True)\n",
    "\n",
    "    # take the cumulative sum of the counts and divide by the sample size to\n",
    "    # get the cumulative probabilities between 0 and 1\n",
    "    cumprob = np.cumsum(counts).astype(np.double) / sample.size\n",
    "\n",
    "    return quantiles, cumprob"
   ]
  },
  {
   "cell_type": "code",
   "execution_count": 30,
   "id": "956c07d3",
   "metadata": {},
   "outputs": [
    {
     "data": {
      "image/png": "[encoded data removed]",
      "text/plain": [
       "<Figure size 432x288 with 1 Axes>"
      ]
     },
     "metadata": {
      "needs_background": "light"
     },
     "output_type": "display_data"
    }
   ],
   "source": [
    "qe, pe = ecdf(elbow_data_males['Elbow_lgth'])\n",
    "q = np.linspace(elbow_data_males['Elbow_lgth'].min(), elbow_data_males['Elbow_lgth'].max(), 1000)\n",
    "p = n.cdf(q)\n",
    "# plot\n",
    "fig, ax = plt.subplots(1, 1)\n",
    "ax.plot(q, p, '-k', lw=2, label='Theoretical CDF')\n",
    "ax.plot(qe, pe, '-r', lw=2, label='Empirical CDF')\n",
    "ax.set_xlabel('Quantile')\n",
    "ax.set_ylabel('Cumulative probability')\n",
    "ax.legend(fancybox=True, loc='right')\n",
    "plt.show()"
   ]
  },
  {
   "cell_type": "markdown",
   "id": "61d3365a",
   "metadata": {},
   "source": [
    "# Generalities on the standard bootstrap\n",
    "   \n",
    "- The parameter (or the parameters) $\\theta$ of interest can be considered as a functional $\\theta(F)$ of the underlying distribution. \n",
    "\n",
    "\n",
    "- For example, the mean is such that $\\mu=\\mu(F)=\\int x dF(x)=\\int x f(x)dx$ ($f(x)$ is the density function), or the median is such that $Me= F^{-1}(0.5)$.\n",
    "\n",
    "\n",
    "- In its original formulation, the bootstrap aims at solving problems of **non-parametric estimation** to evaluate the **adequacy/precision of an estimator**. \n",
    "\n",
    "\n",
    "- Its two basic principles are:\n",
    "    - The *plug-in principle*, which substitutes the CDF with the ECDF and uses estimators having similar forms with respect to the parameters. \n",
    "    - The *Monte Carlo principle*, which repeatedly simulates using a computer program. \n",
    "\n",
    "\n",
    "- The plug-in principle then uses the estimator $\\theta(\\hat{F})$ instead of $\\theta(F)$.\n",
    "\n"
   ]
  },
  {
   "cell_type": "markdown",
   "id": "d09d715d",
   "metadata": {},
   "source": [
    "# Generalities on the standard bootstrap (cont'd)\n",
    "   \n",
    "- The sample mean is a typical application of the plug-in principle: we know that $\\mu=\\theta(F)=\\int xdF(x)$, and we use the sample mean $\\theta(\\hat{F})=\\int xd\\hat{F}_{n}(x)=\\sum\\frac{x_i}{n}=\\bar{x}$. \n",
    "\n",
    "\n",
    "- For precision estimation problems we could use the variance of the estimator under $F$ (let's call it $V_F(\\hat{\\theta})$), and under the plug-in principle we use the variance of the estimator under $\\hat{F_n}$ instead (let's call it $V_{\\hat{F}}(\\hat{\\theta})$). \n",
    "\n",
    "\n",
    "- However this is nonsense, since under $\\hat{F}_n$, i.e. once a sample is drawn, the estimator $\\hat{\\theta}$ has been determined and has its proper value which is *without variability*. \n",
    "\n",
    "\n",
    "- **We must simulate this variability**."
   ]
  },
  {
   "cell_type": "markdown",
   "id": "057d5fa4",
   "metadata": {},
   "source": [
    "# Ideal bootstrap estimates\n",
    "   \n",
    "- Therefore, in the bootstrap setting $\\hat{F}$ becomes central. \n",
    "\n",
    "\n",
    "- It is the population under which the distribution of a particular estimator $\\hat{\\theta}(F)$, based on the original sample $\\bf X$, can be simulated.\n",
    "\n",
    "\n",
    "- Hence, all possible $n$-sized samples under $\\hat{F}$ have to be computed and all the values corresponding to the above estimator have to be calculated.\n",
    "\n",
    "\n",
    "- This is the *ideal bootstrap estimate*. \n",
    "\n",
    "\n",
    "- However, when the sample size $n$ is very large, this is indeed a hard job, since the number of the distinct samples (without considering the order of the sample elements) is given by $\\binom{2n-1}{n}=\\binom{2n-1}{n-1}$ which corresponds to the number of the combinations with replacement of $n$ elements.\n",
    "\n",
    "\n",
    "- For example for $n=50$ we have $5.044567 \\times 10^{28}$ possible bootstrap samples and therefore the same number of possible ideal bootstrap estimates."
   ]
  },
  {
   "cell_type": "code",
   "execution_count": 37,
   "id": "fb3a4029",
   "metadata": {
    "scrolled": true
   },
   "outputs": [],
   "source": [
    "# How many \"ideal\" bootstrap replicates are possible?\n",
    "#Algorithm due to Nijenhuis and Wilf (1978, Chapter 5 algorithm NEXCOM with k=n) exploiting the \n",
    "#so-called Gray code simplex (see also http://statweb.stanford.edu/~susan/courses/s208/node43.html)\n",
    "import numpy as np\n",
    "import scipy.special\n",
    "import pdb\n",
    "def ideal_bootstrap():\n",
    "    np.random.seed(42)\n",
    "    n1 = 10\n",
    "    #Original sample\n",
    "    original_sample = np.random.randint(0, 9, size = n1)\n",
    "    print(original_sample)\n",
    "    #Computation of the number of possible bootstrap samples\n",
    "    B = scipy.special.comb(2*n1 -1, n1, exact=True)\n",
    "    #print(B)\n",
    "    d1 = np.zeros((B,n1))\n",
    "    #First get the compositions:\n",
    "    #first row of the composition matrix:\n",
    "    d1[0,0]= n1\n",
    "    #last row of the composition matrix\n",
    "    d1[B-1,n1-1]= n1\n",
    "    t1 = n1; h1 = -1;\n",
    "    \n",
    "    for i  in range(1, B-1):\n",
    "        #import pdb; pdb.set_trace()\n",
    "        if t1 != 1:\n",
    "            h1 = -1\n",
    "            h1= h1+1\n",
    "            t1 = d1[i-1,h1]\n",
    "            d1[i,0] = t1 -1\n",
    "            d1[i, h1 +1]= d1[i-1, h1 +1] +1\n",
    "            for j in range (h1+2,n1):\n",
    "                d1[i,j] = d1[i-1,j]\n",
    "        else:\n",
    "            #import pdb; pdb.set_trace()\n",
    "            h1 = h1+1\n",
    "            t1 = d1[i-1,h1]\n",
    "            d1[i,h1] = 0\n",
    "            d1[i,0] = t1 -1\n",
    "            d1[i, h1 +1]= d1[i-1, h1 +1] +1  \n",
    "            for j in range (h1+2,n1):\n",
    "                d1[i,j] = d1[i-1,j]\n",
    "    #Rest of the matrix:\n",
    "    #print(d1)\n",
    "    #pdb.set_trace()\n",
    "    d2 = np.zeros((B,n1))\n",
    "    for j in range (0,B):\n",
    "        #pdb.set_trace()\n",
    "        array_app = np.zeros(n1)\n",
    "        for k in range (0,n1):\n",
    "            if d1[j,k] !=0:\n",
    "                #take the value to be replicated:\n",
    "                value_rep = original_sample[k]\n",
    "                #take how many times it has to be replicated:\n",
    "                times_rep = d1[j,k].astype(int)\n",
    "                res = next(x for x, val in enumerate(array_app) \n",
    "                                  if val == 0) \n",
    "                array_app[res:res+times_rep] =value_rep\n",
    "        d2[j,] = array_app\n",
    "    print(d2)\n",
    "    print(d2.shape)\n",
    "#def convert_to_int(numb):\n",
    "#    return int(numb.replace(\",\", \"\"))"
   ]
  },
  {
   "cell_type": "code",
   "execution_count": 38,
   "id": "013150c1",
   "metadata": {
    "scrolled": true
   },
   "outputs": [
    {
     "name": "stdout",
     "output_type": "stream",
     "text": [
      "[6 3 7 4 6 2 6 7 4 3]\n",
      "[[6. 6. 6. ... 6. 6. 6.]\n",
      " [6. 6. 6. ... 6. 6. 3.]\n",
      " [6. 6. 6. ... 6. 3. 3.]\n",
      " ...\n",
      " [7. 3. 3. ... 3. 3. 3.]\n",
      " [4. 3. 3. ... 3. 3. 3.]\n",
      " [3. 3. 3. ... 3. 3. 3.]]\n",
      "(92378, 10)\n"
     ]
    }
   ],
   "source": [
    "ideal_bootstrap()"
   ]
  },
  {
   "cell_type": "markdown",
   "id": "f07b0134",
   "metadata": {},
   "source": [
    "# Bootstrap solution: simulating the estimator variability\n",
    "   \n",
    "- A popular solution is generally given by assessing $B$ Monte Carlo replications of the plug-in values $\\hat{\\theta}^{*b}(\\hat{F})$, $b=1, \\dots , B$, (obtained with simple random sampling with replacement from the original sample (this samples are called *bootstrap samples*), which give the *bootstrap replicates* of the estimator. \n",
    "\n",
    "\n",
    "- At the end, the final result of this procedure is a distribution of the $\\hat{\\theta}^{*b}(\\hat{F})$ values which *mimics* the distribution of the $\\hat{\\theta}(F)$ values, and thus one can obtain confidence intervals, $p$-values for hypothesis tests, bias evaluation and so forth."
   ]
  },
  {
   "cell_type": "markdown",
   "id": "aaaf6475",
   "metadata": {},
   "source": [
    "# Ingredients of the bootstrap\n",
    "   \n",
    "- A population distribution function $F(\\cdot) \\mapsto $ sample $X_1,\\ldots,X_n \\mapsto$ vs. an empirical distribution function $F_n(x) = \\frac 1n \\sum \\rm 1\\kern-.3em I [ X_i \\le x] \\equiv E_n \\rm 1\\kern-.3em I [X_i \\le x]$.\n",
    "\n",
    "\n",
    "- A parameter $\\theta = T(F)$ and its estimate $\\hat\\theta_n = T(F_n)$.\n",
    "\n",
    "\n",
    "- An inference goal: assess sampling variability of $\\hat\\theta_n$ about $\\theta$.\n",
    "\n",
    "\n",
    "- Actions: take samples of size $n$ *with replacement* $(X_1^{(b)},\\ldots,X_n^{(b)}), b=1,\\ldots,B$ from $F_n(\\cdot)$, then obtain parameter estimates $\\tilde\\theta_*^{(b)} = T(F_n^{(b)})$.\n",
    "\n",
    "\n",
    "- *Exact bootstrap solution*: take all possible resamples (not feasible, as seen). \n",
    "\n",
    "\n",
    "- *Monte Carlo solution*: random set of $B$ replications of the estimator.\n",
    "\n",
    "\n",
    "- Obtain an estimate of the distribution function of $\\hat\\theta_n$, that is $G_{n,B}(t) = \\frac 1B \\sum_{b=1}^B \\rm 1\\kern-.3em I [ \\tilde\\theta_*^{(b)} \\le t ] \\equiv E_* [ \\tilde\\theta_* \\le t]$.\n",
    "\n",
    "\n",
    "- With this estimate, compute variances, standard errors, bias, confidence intervals, tests for $\\hat\\theta_n$, etc."
   ]
  },
  {
   "cell_type": "code",
   "execution_count": 39,
   "id": "c69e2553",
   "metadata": {},
   "outputs": [
    {
     "data": {
      "image/png": "[encoded data removed]",
      "text/plain": [
       "<Figure size 432x288 with 1 Axes>"
      ]
     },
     "metadata": {
      "needs_background": "light"
     },
     "output_type": "display_data"
    }
   ],
   "source": [
    "import numpy as np\n",
    "import matplotlib.pyplot as plt\n",
    "#Population data: A little bit of heteroschedasticity\n",
    "N = 200\n",
    "n = 20\n",
    "beta1 = 0.5\n",
    "beta2 = 0.5\n",
    "I = 1000\n",
    "import numpy as np\n",
    "x = np.random.beta(beta1, beta2, size=N)\n",
    "norm_uj = np.random.normal(0,1, size = N)\n",
    "norm_epsilon_ij = np.random.normal(0,1, size = N)\n",
    "vectorx = x\n",
    "vectory = x + norm_uj + norm_epsilon_ij\n",
    "# Plot\n",
    "plt.scatter(vectorx, vectory)\n",
    "plt.title('X and Y')\n",
    "plt.xlabel('X')\n",
    "plt.ylabel('Y')\n",
    "plt.show()"
   ]
  },
  {
   "cell_type": "code",
   "execution_count": 40,
   "id": "c2181bbe",
   "metadata": {},
   "outputs": [
    {
     "data": {
      "text/plain": [
       "0.5103640869595409"
      ]
     },
     "execution_count": 40,
     "metadata": {},
     "output_type": "execute_result"
    }
   ],
   "source": [
    "# In this example we work on the variance of the \\sum x / \\sum y estimator\n",
    "import pandas as pd\n",
    "import random\n",
    "import numpy as np\n",
    "import pdb\n",
    "import statistics\n",
    "dataxy = pd.DataFrame({'ID': range(1, N + 1 ,1), 'x': vectorx, 'y': vectory}, columns=['ID', 'x', 'y'])\n",
    "#data_list = list(dataxy['ID'])\n",
    "original_sample = random.choices(list(dataxy['ID']), k = n)\n",
    "b = 1\n",
    "vectorAveBootstrap = 0\n",
    "vectmeanbootnew = 0\n",
    "vectvarboot1new = 0\n",
    "vectstandboot1new = 0\n",
    "currentbootstrapratio = [0] * I\n",
    "bootstrapsample = np.zeros((n,1))\n",
    "bootstrapsamplenew = np.zeros((n,1))\n",
    "while(b<=I):\n",
    "    bootstrapsample = random.choices(list(original_sample), k = n)\n",
    "    bootstrapsamplenew = bootstrapsample\n",
    "    #pdb.set_trace()\n",
    "    currentbootstrapratio[b-1] = (sum(dataxy['y'][bootstrapsamplenew])/sum(dataxy['x'][bootstrapsamplenew]))\n",
    "    b += 1\n",
    "varbootestimate = statistics.variance(list(currentbootstrapratio))\n",
    "varbootestimate"
   ]
  },
  {
   "cell_type": "markdown",
   "id": "bee19f7d",
   "metadata": {},
   "source": [
    "# Bootstrap advantages\n",
    "Bootstrapping offers a number of advantages:\n",
    "\n",
    "- The bootstrap is quite general, although there are some cases in which it fails.\n",
    "\n",
    "\n",
    "- Because it does not require distributional assumptions (such as normally distributed errors), the bootstrap can provide more accurate inferences when the data do not behave well or when the sample size is small.\n",
    "\n",
    "\n",
    "- It is possible to apply the bootstrap to statistics with sampling distributions that are difficult to derive, even asymptotically (think about the median or the ratio statistic).\n",
    "\n",
    "\n",
    "- It is relatively simple to apply the bootstrap to complex data-collection plans (such as stratified and clustered samples) provided that we are able to adjust it for allowing for dependence in the sampling plan."
   ]
  },
  {
   "cell_type": "markdown",
   "id": "b44d8431",
   "metadata": {},
   "source": [
    "# Distribution assumptions not met. Example on normality assumption violated\n",
    "\n",
    "- Consider making inference on a mean $\\mu$. Usually we take the sample mean $\\bar{X}$ as a point estimate for $\\mu$.\n",
    "\n",
    "\n",
    "- To make inference on $\\mu$ (for example to construct confidence intervals) we use the statistic $T=\\frac {\\bar{X}-\\mu}{\\frac {s}{\\sqrt{n}}}$, where $s$ is the sample standard deviation and $n$ is the sample size.\n",
    "\n",
    "\n",
    "- The assumption of normality of the data allows us to say that $T \\sim t_{n-1}$, i.e. it is Student's $t$ with $n-1$ degrees of freedom.\n",
    "\n",
    "\n",
    "- Without normality, we cannot assume that $T$ has this density!\n",
    "\n",
    "\n",
    "- If this assumption is violated, we cannot make valid confidence intervals for $\\mu$, nor run hypothesis tests on $\\mu$ with a known error rate using our usual methods.\n",
    "\n",
    "\n",
    "- The key fact in bootstrapping is that **the sample gives us a good representation of the population from which the sample comes from**: This is why we use the empirical distribution function (from the original sample) as a sort of 'population' and use the bootstrap samples to simulate the sampling distribution."
   ]
  },
  {
   "cell_type": "markdown",
   "id": "cd545c1b",
   "metadata": {},
   "source": [
    "# Example: estimating the standard error of the mean\n",
    "\n",
    "- Let $\\mu_F=E_F (x)$ and $\\sigma_F^2=\\text{var}_F (x)= E_F [(x-\\mu_F)^2]$ be the expectation and the variance of a cdf $F$, i.e. $X \\sim (\\mu_F, \\sigma^2_F)$. \n",
    "\n",
    "\n",
    "- Let $s=(x_1, x_2, \\dots, x_n)$ be a simple random sample of size $n$ extracted from $F$. \n",
    "\n",
    "\n",
    "- We know from basic statistics that the expected value and the variance of the sample mean $\\bar{x}$ are $\\mu_F$ and $\\frac{\\sigma^2_F}{n}$, respectively,  i.e. $\\bar{X} \\sim (\\mu_F, \\frac {\\sigma^2_F}{n})$. \n",
    "\n",
    "\n",
    "- Now the *standard error* of the mean $\\bar{X}$ is:\n",
    "$$\n",
    "\\text{se}_F (\\bar{X})=[\\text{var}_F (\\bar{X})]^{\\frac{1}{2}}=\\frac{\\sigma_F}{\\sqrt{n}}.\n",
    "$$ \n",
    "\n",
    "\n",
    "- We expect $\\bar{X}$ to be less that one standard error from $\\mu_F$ about 68\\% of the time, and less than two standard errors away from $\\mu_F$ about 95\\% of the time. \n",
    "\n",
    "- This is due to the central limit theorem when $n$ is big: $\\bar{X} \\sim N(\\mu_F,\\frac{\\sigma_F^2}{n})$. \n",
    "\n",
    "\n",
    "- One of the advantages of the bootstrap is that we can afford not to use the central limit theorem.\n"
   ]
  },
  {
   "cell_type": "markdown",
   "id": "53fa64de",
   "metadata": {},
   "source": [
    "# Example: estimating the standard error of the mean (cont.d)\n",
    "\n",
    "- Having only a sample $s=(x_1, x_2, \\dots, x_n)$ implies that we cannot use $\\sigma_F^2$ for computing $\\text{se}_F (\\bar{x})$. \n",
    "\n",
    "\n",
    "- Therefore, we have to estimate it from the sample. \n",
    "\n",
    "\n",
    "- Using the plug-in principle, one customary solution from basic statistics is to use the sample variance:\n",
    "$$\n",
    "\\hat{\\sigma}^2=\\sigma^2_{\\hat{F}}=\\frac{1}{n-1} \\sum_{i=1}^n (x_i-\\bar{x})^2.\n",
    "$$ \n",
    "Therefore the standard error of $\\bar{x}$ will be estimated by:\n",
    "$$\n",
    "\\hat{\\text{se}}(\\bar{x})=\\frac{\\sigma_{\\hat{F}}}{\\sqrt{n}}.\n",
    "$$ \n",
    "\n",
    "\n",
    "- If $n$ is sufficiently large one can use also: $$\\hat{\\sigma}^2=\\sigma^2_{\\hat{F}}=\\frac{1}{n} \\sum_{i=1}^n (x_i-\\bar{x})^2.$$\n"
   ]
  },
  {
   "cell_type": "markdown",
   "id": "a119bd24",
   "metadata": {},
   "source": [
    "# Example: estimating the standard error of the mean (cont.d)\n",
    "\n",
    "- Now, we might perform a bootstrap estimate of the standard error in the following way. \n",
    "\n",
    "\n",
    "- Let $s=(x_1, x_2, \\dots , x_n)$ be an $n$-sized *original random sample*. \n",
    "\n",
    "\n",
    "- As we have seen, a \\emph{bootstrap sample} (called also a randomized or *resampled* version of the original sample) of size $n$ is a sample randomly selected with replacement from $\\hat{F}$:\n",
    "$$\n",
    "s^*=(x_1^*, x_2^*, \\dots , x_n^*).\n",
    "$$ \n",
    "\n",
    "\n",
    "- Together with replications of the original sample we are interested in the (bootstrap) replication $\\hat{\\theta}^*$of the estimator $\\hat{\\theta}$\n",
    "$$\n",
    "\\hat{\\theta}^*=t(x_1^*, x_2^*, \\dots , x_n^*).\n",
    "$$ \n",
    "\n",
    "\n",
    "- With this setting, the bootstrap estimate of $\\text{se}_F(\\hat{\\theta})$ is:\n",
    "$$\n",
    "\\text{se}_{\\hat{F}}(\\hat{\\theta}^*).\n",
    "$$\n"
   ]
  },
  {
   "cell_type": "markdown",
   "id": "bbe23e30",
   "metadata": {},
   "source": [
    "# Example: estimating the standard error of the mean (cont.d)\n",
    "\n",
    "- Draw an original random sample $s=(x_1, x_2, \\dots x_n)$ of size $n$.\n",
    "\n",
    "\n",
    "- For ($b$ in $1:B$):\n",
    "\n",
    "\n",
    "- Select with replacement and independently a bootstrap sample $s^{*b}=(x_1^{*b}, x_2^{*b}, \\dots, x_n^{*b})$ from the original sample $s$.\n",
    "\n",
    "\n",
    "- Compute the bootstrap replication of the estimator: $\\hat{\\theta}^*(b)=t(x_1^{*b}, x_2^{*b}, \\dots, x_n^{*b})$.\n",
    "    \n",
    "    \n",
    "- Next $b$.\n",
    "    \n",
    "    \n",
    "- End For.\n",
    "\n",
    "\n",
    "- Estimate the standard error $\\text{se}_F(\\hat{\\theta})$ by the sample standard deviation of the $B$ replications:\n",
    "$$\n",
    "\\hat{se}_B=\\{\\frac{ \\sum_{b=1}^B [\\hat{\\theta}^*(b)-\\hat{\\theta}^*(\\cdot)]^2 }{B-1}\\}^{\\frac{1}{2}},\n",
    "$$\n",
    "where $\\hat{\\theta}^*(\\cdot)=\\frac{\\sum_{b=1}^B  \\hat{\\theta}^*(b)}{B}$.\n"
   ]
  },
  {
   "cell_type": "code",
   "execution_count": null,
   "id": "783031f7",
   "metadata": {},
   "outputs": [],
   "source": []
  },
  {
   "cell_type": "markdown",
   "id": "e7fc43cb",
   "metadata": {},
   "source": [
    "# Example: confidence intervals for $\\rho$\n",
    "\n",
    "\n",
    "- The sampling distribution of $r$, the sample correlation coefficient, can depart from normality.\n",
    "\n",
    "\n",
    "- One of the classical solutions is due to Fisher who proposed the transformation:\n",
    "$$z=\\frac {1}{2}\\ln \\left( \\frac {1+r}{1-r} \\right).$$\n",
    "\n",
    "\n",
    "- As $n$ increases $z$ becomes normal, so asymptotically we can use the r.v. $Z$ to obtain C.I. for $\\rho$ after $z$ is back transformed to $r$.\n",
    "\n",
    "\n",
    "- Fisher also showed that the standard error of $Z$ is $\\frac {1}{\\sqrt{n-3}}$, but $Z$ is slightly biased.\n",
    "\n",
    "\n",
    "- So, especially with low values of $n$, the issue is not completely solved."
   ]
  },
  {
   "cell_type": "markdown",
   "id": "bdf23d17",
   "metadata": {},
   "source": [
    "# Example: confidence intervals for $\\rho$ (cont.d)\n",
    "\n",
    "- Let's take the data contained in Efron & Tibshirani (1993).\n",
    "\n",
    "\n",
    "- Data are average values for GPA and LSAT scores for students admitted to $n=15$ Law Schools (a random sampling of law schools). \n",
    "\n",
    "\n",
    "- (Grade Point Average (GPA) score is the grade point average of all grades from all current classes - Law School Admission Test (LSAT) is a half-day standardized test administered four times each year. Both are considered to enter university law faculties in the U.S.).\n",
    "\n",
    "<img src=\"LawSchoolDataPlot.png\">\n"
   ]
  },
  {
   "cell_type": "code",
   "execution_count": 50,
   "id": "27f9fa1d",
   "metadata": {
    "scrolled": true
   },
   "outputs": [
    {
     "data": {
      "image/png": "[encoded data removed]",
      "text/plain": [
       "<Figure size 432x288 with 1 Axes>"
      ]
     },
     "metadata": {
      "needs_background": "light"
     },
     "output_type": "display_data"
    }
   ],
   "source": [
    "import random\n",
    "import pandas as pd\n",
    "import statistics\n",
    "from scipy import stats \n",
    "import pdb\n",
    "import matplotlib.pyplot as plt\n",
    "import numpy as np\n",
    "\n",
    "data = pd.read_csv('law.csv', sep=\";\")\n",
    "#data = robjects.r('read.csv(file = \"law.csv\", header=TRUE, sep = \";\")')\n",
    "#data.columns = ['ID', 'GPA', 'LSAT']\n",
    "#{'ID': range(1, N + 1 ,1), 'x': vectorx, 'y': vectory}, columns=['ID', 'x', 'y']\n",
    "#dataDF = pd.DataFrame({'ID': data[1]}, columns=['ID'])\n",
    "#print(data)\n",
    "#robjects.r('n <- dim(law)[1]')\n",
    "n = len(data)\n",
    "B = 100\n",
    "\n",
    "bootstrap_r_values = []\n",
    "#robjects.r('bootstrap_r_values = rep(0,B)')\n",
    "\n",
    "lista = []\n",
    "calc = 0\n",
    "\n",
    "while(calc < int(n)):\n",
    "    lista.append(calc)\n",
    "    calc = int(calc) + 1\n",
    "\n",
    "for i in range(0,B):\n",
    "    #pdb.set_trace()\n",
    "    bootsample_indexes = random.choices(lista, k = n)\n",
    "    LSAT = data['LSAT'][bootsample_indexes]\n",
    "    GPA = data['GPA'][bootsample_indexes]\n",
    "    bootstrap_r_values.append(stats.pearsonr(LSAT, GPA)[0])\n",
    "#histogram of bootstrap r values with 20 bins and the confidence limits calculated with Fisher's z:\n",
    "\n",
    "plt.hist(bootstrap_r_values, bins=10, color='red' ) # plotting histogram \n",
    "plt.axvline(0.44, color='k', linestyle='dashed', linewidth=1)\n",
    "plt.axvline(0.92, color='k', linestyle='dashed', linewidth=1)\n",
    "plt.show() \n",
    "\n"
   ]
  },
  {
   "cell_type": "code",
   "execution_count": 51,
   "id": "4beb6aa8",
   "metadata": {},
   "outputs": [
    {
     "data": {
      "image/png": "[encoded data removed]",
      "text/plain": [
       "<Figure size 432x288 with 1 Axes>"
      ]
     },
     "metadata": {
      "needs_background": "light"
     },
     "output_type": "display_data"
    }
   ],
   "source": [
    "import numpy as np\n",
    "import pylab\n",
    "#Compute bootstrap c.i.\n",
    "#To do this, compute 2.5% and 97.5% percentile of bootstrap distribution:\n",
    "#First percentile:\n",
    "perc1 = np.quantile(bootstrap_r_values, 0.025)\n",
    "perc2 = np.quantile(bootstrap_r_values, 0.975)\n",
    "plt.hist(bootstrap_r_values, bins=10, color='red' ) # plotting histogram \n",
    "plt.axvline(0.44, color='k', linestyle='dashed', linewidth=1, label='Fisher Z CIs')\n",
    "plt.axvline(0.92, color='k', linestyle='dashed', linewidth=1)\n",
    "plt.axvline(perc1, color='y', linestyle='dashed', linewidth=1, label='Bootstrap CIs')\n",
    "plt.axvline(perc2, color='y', linestyle='dashed', linewidth=1)\n",
    "pylab.legend(loc='upper left')\n",
    "plt.show() "
   ]
  },
  {
   "cell_type": "markdown",
   "id": "629f242a",
   "metadata": {},
   "source": [
    "# Using Python libraries\n",
    "\n",
    "## The library \"bootstrapped\"\n",
    "\n",
    "\n",
    "\n",
    "*bootstrapped* is a Python library that allows you to build confidence intervals from data. This is useful in a variety of contexts - including during ad-hoc a/b test analysis."
   ]
  },
  {
   "cell_type": "code",
   "execution_count": 52,
   "id": "4bdf89e9",
   "metadata": {},
   "outputs": [
    {
     "name": "stdout",
     "output_type": "stream",
     "text": [
      "0.8259910445746144    (0.7913898378094911, 0.85989653272456)\n",
      "0.06715027497860995    (0.04969359958263571, 0.09123438422573947)\n"
     ]
    }
   ],
   "source": [
    "#Classical bootstrap in Python\n",
    "import numpy as np\n",
    "import bootstrapped.bootstrap as bs\n",
    "import bootstrapped.stats_functions as bs_stats\n",
    "\n",
    "# take 1k 'samples' from the larger population\n",
    "samples = np.array(bootstrap_r_values)[:15]\n",
    "\n",
    "print(bs.bootstrap(samples, stat_func=bs_stats.mean))\n",
    "\n",
    "print(bs.bootstrap(samples, stat_func=bs_stats.std))\n"
   ]
  },
  {
   "cell_type": "markdown",
   "id": "b698cfff",
   "metadata": {},
   "source": [
    "## Example from pypi project\n",
    "\n",
    "- Imagine we own a website and think changing the color of a ‘subscribe’ button will improve signups. \n",
    "\n",
    "\n",
    "- One method to measure the improvement is to conduct an A/B test where we show 50% of people the old version and 50% of the people the new version. \n",
    "\n",
    "\n",
    "- We can use the bootstrap to understand how much the button color improves responses and give us the error bars associated with the test - this will give us lower and upper bounds on how good we should expect the change to be!"
   ]
  },
  {
   "cell_type": "code",
   "execution_count": 53,
   "id": "314dec37",
   "metadata": {},
   "outputs": [],
   "source": [
    "import matplotlib.pyplot as plt\n",
    "import pandas as pd\n",
    "import numpy as np\n",
    "import bootstrapped.bootstrap as bs\n",
    "import bootstrapped.compare_functions as bs_compare\n",
    "import bootstrapped.stats_functions as bs_stats"
   ]
  },
  {
   "cell_type": "markdown",
   "id": "c957daa2",
   "metadata": {},
   "source": [
    "## Bootstrap Examples\n",
    "\n",
    "Bootstrap at a high level: The bootstrap lets you resample a numeric series to (typically) estimate confidence intervals."
   ]
  },
  {
   "cell_type": "code",
   "execution_count": 54,
   "id": "8c98a24d",
   "metadata": {},
   "outputs": [],
   "source": [
    "# little a/b test\n",
    "# score in test are 10% greater than ctrl (per record)\n",
    "# ctrl has 5x the number of records as test\n",
    "\n",
    "# 10% lift in test\n",
    "lift = 1.1\n",
    "test = np.random.binomial(100, p=0.2 * lift, size=10000) * 1.0\n",
    "ctrl = np.random.binomial(100, p=0.2, size=50000) * 1.0"
   ]
  },
  {
   "cell_type": "code",
   "execution_count": 55,
   "id": "9dc75c47",
   "metadata": {},
   "outputs": [
    {
     "data": {
      "text/plain": [
       "<matplotlib.legend.Legend at 0x7fc84142c640>"
      ]
     },
     "execution_count": 55,
     "metadata": {},
     "output_type": "execute_result"
    },
    {
     "data": {
      "image/png": "[encoded data removed]",
      "text/plain": [
       "<Figure size 432x288 with 1 Axes>"
      ]
     },
     "metadata": {
      "needs_background": "light"
     },
     "output_type": "display_data"
    }
   ],
   "source": [
    "bins = np.linspace(0, 40, 20)\n",
    "\n",
    "plt.hist(ctrl, bins=bins, label='Control')\n",
    "plt.hist(test, bins=bins, label='Test', color='orange')\n",
    "plt.title('Test/Ctrl Data')\n",
    "plt.legend()"
   ]
  },
  {
   "cell_type": "code",
   "execution_count": 56,
   "id": "a55ba6af",
   "metadata": {},
   "outputs": [
    {
     "name": "stdout",
     "output_type": "stream",
     "text": [
      "10.112462896441961\n",
      "10.112462896441961    (9.659991615356562, 10.558236855725752)\n"
     ]
    }
   ],
   "source": [
    "# run an a/b test simulation ignoring the lengths of the series (average)\n",
    "# just what is the 'typical' value\n",
    "# use percent change to compare test and control\n",
    "\n",
    "print(bs_compare.percent_change(test.mean(), ctrl.mean()))\n",
    "\n",
    "print(bs.bootstrap_ab(test, ctrl, bs_stats.mean, bs_compare.percent_change))"
   ]
  },
  {
   "cell_type": "code",
   "execution_count": 57,
   "id": "66499620",
   "metadata": {},
   "outputs": [
    {
     "name": "stdout",
     "output_type": "stream",
     "text": [
      "10000\n",
      "50000\n"
     ]
    }
   ],
   "source": [
    "print(len(test))\n",
    "print(len(ctrl))"
   ]
  },
  {
   "cell_type": "code",
   "execution_count": 58,
   "id": "df44591c",
   "metadata": {},
   "outputs": [
    {
     "name": "stdout",
     "output_type": "stream",
     "text": [
      "-77.9775074207116\n",
      "-77.9775074207116    (-78.06674747936542, -77.88777705977054)\n"
     ]
    }
   ],
   "source": [
    "# run an a/b test simulation considering the lengths of the series (sum)\n",
    "# consider the full 'volume' of values that are passed in\n",
    "\n",
    "print(bs_compare.percent_change(test.sum(), ctrl.sum()))\n",
    "\n",
    "print(bs.bootstrap_ab(\n",
    "    test, \n",
    "    ctrl, \n",
    "    stat_func=bs_stats.sum,\n",
    "    compare_func=bs_compare.percent_change\n",
    "))"
   ]
  },
  {
   "cell_type": "markdown",
   "id": "e1efa7e6",
   "metadata": {},
   "source": [
    "**Advice**: For most situations we reccomend that we use 'sum' aggregate function as this will take the size of the population into account. This can be useful if you think your test will increase the total number of individuals in the population and not only the typical value per individual.\n",
    "\n",
    "Exception to the above advice\n",
    "\n",
    "There are situations where you might need to make some adjustments, for example if your holdouts are sized differently.\n",
    "\n",
    "- You give 100 dollars to **person_A** and you give 1000 dollars to **person_B** to bring people to your store\n",
    "- Say you don't know how many people person_A or person_B went after but they did each get paying customers to attend\n",
    "- However you do need to correct at the end for the fact that you gave person_B 10x more money than person_A"
   ]
  },
  {
   "cell_type": "code",
   "execution_count": 59,
   "id": "484a6840",
   "metadata": {},
   "outputs": [],
   "source": [
    "# Gave $100, got 1k events on the store, $20 per event \n",
    "person_A_results = np.random.binomial(100, p=0.2, size=1000) * 1.0\n",
    "\n",
    "# Gave $1000, got 5k events on the store, $30 per event\n",
    "person_B_results = np.random.binomial(100, p=0.3, size=5000) * 1.0"
   ]
  },
  {
   "cell_type": "code",
   "execution_count": 60,
   "id": "56318c8e",
   "metadata": {},
   "outputs": [
    {
     "name": "stdout",
     "output_type": "stream",
     "text": [
      "-129660.0    (-130355.0, -128962.95)\n"
     ]
    }
   ],
   "source": [
    "# The test earned much less in terms of total dollars\n",
    "print(bs.bootstrap_ab(\n",
    "    person_A_results, \n",
    "    person_B_results, \n",
    "    stat_func=bs_stats.sum,\n",
    "    compare_func=bs_compare.difference,\n",
    "))"
   ]
  },
  {
   "cell_type": "code",
   "execution_count": 61,
   "id": "c4e0a5f6",
   "metadata": {},
   "outputs": [
    {
     "name": "stdout",
     "output_type": "stream",
     "text": [
      "-9.9816    (-10.262815000000002, -9.704)\n"
     ]
    }
   ],
   "source": [
    "# The test gives ~$10 less per event\n",
    "print(bs.bootstrap_ab(\n",
    "    person_A_results, \n",
    "    person_B_results, \n",
    "    stat_func=bs_stats.mean,\n",
    "    compare_func=bs_compare.difference,\n",
    "))"
   ]
  },
  {
   "cell_type": "code",
   "execution_count": 62,
   "id": "3e76b309",
   "metadata": {},
   "outputs": [
    {
     "name": "stdout",
     "output_type": "stream",
     "text": [
      "49782.0    (47204.975, 52309.025)\n"
     ]
    }
   ],
   "source": [
    "# If we scale the text by $$ spent - person_A should be a better return on investment\n",
    "#  - assuming person_A can achieve similar results with 10x more money\n",
    "print(bs.bootstrap_ab(\n",
    "    person_A_results, \n",
    "    person_B_results, \n",
    "    stat_func=bs_stats.sum,\n",
    "    compare_func=bs_compare.difference,\n",
    "    scale_test_by=10.,\n",
    "))"
   ]
  },
  {
   "cell_type": "markdown",
   "id": "0ce73666",
   "metadata": {},
   "source": [
    " # Reasons to apply the bootstrap in regression contexts\n",
    "\n",
    "- Distributional assumptions (above all, normality) not met. \n",
    "\n",
    "\n",
    "- Presence of outliers.\n",
    "\n",
    "\n",
    "- Data set sizes too small.\n",
    "\n",
    "\n",
    "- Heteroskedasticity."
   ]
  },
  {
   "cell_type": "markdown",
   "id": "b26cd5b0",
   "metadata": {},
   "source": [
    " # Bootstrap for regression models (Method 1)\n",
    "\n",
    "- The procedures previously seen can be easily extended to regression models. The most straightforward approach is to collect the response-variable value and regressors for each observation:\n",
    "$$\n",
    "\\mathbf{z}_i^{'}=[Y_i, X_{i1}, \\dots X_{ip}].\n",
    "$$\n",
    "\n",
    "\n",
    "- Then a way to extend the bootstrap in regression models can be the following:\n",
    "\n",
    "    - The original sample $s= \\left[\\mathbf{z}_1^{'},\\mathbf{z}_2^{'}, \\dots, \\mathbf{z}_n^{'}\\right]$ can be resampled with replacement $B$ times, obtaining bootstrap samples $s^*_b= \\left[\\mathbf{z}_{b1}^{*'},\\mathbf{z}_{b2}^{*'}, \\dots, \\mathbf{z}_{bn}^{*'}\\right]$, $b=1, \\dots , B$.\n",
    "\n",
    "    - For each of this bootstrap samples, perform an OLS estimation and obtain regression coefficient estimates $\\boldsymbol{\\beta}^*_b=[\\beta_{b0}^*, \\beta_{b1}^*, \\dots , \\beta_{bp}^*]^{'}$.\n",
    "\n",
    "    - Use these $B$ estimates to compute biases, standard errors, confidence intervals, etc. of regression coefficient estimates.\n"
   ]
  },
  {
   "cell_type": "markdown",
   "id": "2f48cf0d",
   "metadata": {},
   "source": [
    " # Bootstrap for regression models (Method 1) (cont'd)\n",
    "\n",
    "- An important problem of the previous setting is that we treat the $X$s as **stochastic regressors** (which is a possibility not usually contemplated by linear model classical assumptions, but still an important possibility; see, for example, Frees, 2004. \n",
    "\n",
    "\n",
    "- To avoid this and treat the regressors as fixed (like, for example, in experimental design), we can use the so-called *residual bootstrap*, which consists on bootstrapping regression residuals rather than the entire original sample."
   ]
  },
  {
   "cell_type": "markdown",
   "id": "3bda6593",
   "metadata": {},
   "source": [
    " # Bootstrap for regression model (Method 2): The residual bootstrap\n",
    "\n",
    "The residual bootstrap works as follows:\n",
    "\n",
    "1. Estimate $\\hat{\\beta}_0, \\hat{\\beta}_1, \\dots , \\hat{\\beta}_p$ for the original sample, and calculate the fitted value and residual for each observation:\n",
    "\\begin{equation*}\n",
    "\\begin{split}\n",
    "&\\hat{y}_i=\\hat{\\beta}_0+\\hat{\\beta}_1 x_{i1} + \\dots +\\hat{\\beta}_p x_{ip}\\\\\n",
    "&e_i=y_i- \\hat{y}_i.\n",
    "\\end{split}\n",
    "\\end{equation*}\n",
    "\n",
    "\n",
    "2. From the original sample of residuals $e_i$ select with replacement bootstrap samples of residuals of the form $\\boldsymbol{e}^*_b=[e_{b1}^*, e_{b2}^*, \\dots , e_{bn}^*]^{'}$, and, from these bootstrap samples, calculate bootstrapped values $\\mathbf{y}_b^*=[y_{b1}^*, y_{b2}^*, \\dots , Y_{bn}^*]^{'}$, with $y_{bi}^*=\\hat{y}_i+ e_{bi}^*$.\n",
    "\n",
    "\n",
    "3. Regress the bootstrapped $Y$ values on the fixed $X $values to obtain bootstrap regression coefficients. For example, if estimates are calculated via OLS, then $\\boldsymbol{\\beta}^*_b=(\\mathbf{X}^{'}\\mathbf{X})^{-1}\\mathbf{X}^{'}\\mathbf{y}_b^*$, for $b=1,2, \\dots , B$.\n",
    "\n",
    "\n",
    "4. Use the $B$ bootstrap estimates $\\boldsymbol{\\beta}^*_b$ to construct bootstrap standard errors, confidence intervals, etc. for regression coefficients.\n"
   ]
  },
  {
   "cell_type": "markdown",
   "id": "dea9c270",
   "metadata": {},
   "source": [
    " # First conclusion: pros and cons of bootstrapping\n",
    "\n",
    "Some of the advantages and disadvantages of the bootstrap method are the following:\n",
    "\n",
    "1. Only need the software that does weighted estimation.\n",
    "\n",
    "\n",
    "2. No need for programming specific estimators for each model.\n",
    "\n",
    "\n",
    "3. No need to release the unit identifiers in public data sets.\n",
    "\n",
    "\n",
    "4. No need to give formal assumptions and hypotheses.\n",
    "\n",
    "\n",
    "5. (Still) Computationally intensive.\n",
    "\n",
    "\n",
    "6. Problems in detecting outlier data.\n",
    " \n",
    "\n"
   ]
  },
  {
   "cell_type": "markdown",
   "id": "2be8cfd4",
   "metadata": {},
   "source": [
    " # Assignment in class (or to be continued at home)\n",
    "\n",
    "Use data set 'Anscombe.xls'.\n",
    "\n",
    "1. Perform a simple linear regression analysis using 'education' as response variable either in R (using lm()) or in Python (using, for example, linear_model from sklearn or OLS from statsmodels.api, or other methods). Choose one independent variable among the three available.\n",
    "\n",
    "\n",
    "2. Find a way to give confidence intervals for $\\beta_1$.\n",
    "\n",
    "\n",
    "3. Implement a bootstrap routine (Method 1) to get confidence intervals for $\\beta_1$.\n",
    "\n",
    "\n",
    "4. Compare the results.\n",
    "\n",
    "\n",
    "\n"
   ]
  },
  {
   "cell_type": "markdown",
   "id": "4b84769b",
   "metadata": {
    "slideshow": {
     "slide_type": "slide"
    }
   },
   "source": [
    "# An example of a (popular but potentially wrong) application of the bootstrap in finance\n",
    "\n",
    "\n",
    "- Problem: estimation of the risk and reward of an asset over a long-run horizon given a short-run set of observations. \n",
    "\n",
    "\n",
    "- People use the bootstrap method to do this. \n",
    "\n",
    "\n",
    "- More worrying, they use the classical (standard) bootstrap, which is supposed to work well in an *independence* data structure. \n",
    "\n",
    "\n",
    "-  An important modification, called the **moving-block bootstrap** can overcome this problem to work better than the classical bootstrap when serial dependency is present in the data.\n",
    "\n",
    "\n",
    "-  We will see very briefly an example on the application of bootstrap methods to financial data (Cogneau \\& Zakamouline, 2013).\n"
   ]
  },
  {
   "cell_type": "markdown",
   "id": "aa55ba32",
   "metadata": {
    "slideshow": {
     "slide_type": "slide"
    }
   },
   "source": [
    "# Estimating the log return\n",
    "\n",
    "\n",
    "- Setting:\n",
    "    - A time interval $[t,T]$.\n",
    "    - Time interval divided into $n$ equally spaced subintervals of length $\\Delta t$ ($n=\\frac{T-t}{\\Delta t}$).\n",
    "    - At time $t_k=t+k\\Delta t, k=0,1,\\dots, n$ we observe the value of a risky asset $P(t_k)$.\n",
    "    - The one-period log return of this asset during interval $k$ is $x_k=\\log (\\frac{P(t_k)}{P(t_{k-1)}})$.\n",
    "    - Then, our original sample will be $(x_1, x_2, \\dots, x_n)$.\n",
    "\n",
    "\n",
    "- The problem will be to estimate the parameter $\\theta(F_m)$, where $F_m$ is is the probability distribution of log return over $m$ successive intervals, i.e. the probability distribution of:\n",
    "$$\n",
    "x_{k,k+m}=\\log(\\frac{P(t_{k+m-1})}{P(t_{k-1)}}) \\sim F_m.\n",
    "$$\n"
   ]
  },
  {
   "cell_type": "markdown",
   "id": "5223702b",
   "metadata": {
    "slideshow": {
     "slide_type": "slide"
    }
   },
   "source": [
    "# Application of the classical bootstrap to the log return problem\n",
    "\n",
    "\n",
    "-  The classical bootstrap method is applied to the original sample $(x_1, x_2, \\dots, x_n)$ of log returns, obtaining with replacement bootstrap samples $(x_1^*, x_2^*, \\dots, x_n^*)$.\n",
    "\n",
    "\n",
    "- Sometimes the with-replacement bootstrap samples are of dimension $m$ rather than $n$: $(x_1^*, x_2^*, \\dots , x_m^*)$ since the focus is on the $m$-period horizon.\n",
    "\n",
    "\n",
    "- Then, one computes $B$ times the bootstrap $m$-period return:\n",
    "$$\n",
    "x^*_{t,t+m}=\\sum_{k=1}^m x_k^*.\n",
    "$$\n",
    "\n",
    "\n",
    "- In this way, one obtains the bootstrap probability distribution $F_m^*$ of the real $F_m$ of log returns over a period of $m$.\n",
    "\n",
    "\n",
    "- $F_m^*$ is used to compute the bootstrap estimate of the parameter of interest $\\theta(F_m)$."
   ]
  },
  {
   "cell_type": "markdown",
   "id": "1dd9983a",
   "metadata": {
    "slideshow": {
     "slide_type": "slide"
    }
   },
   "source": [
    "# Application of the classical bootstrap to the log return problem (cont'd)\n",
    "\n",
    "\n",
    "-  Since the independence constraint is required for the standard bootstrap, if we have, for example:\n",
    "$$\n",
    "y_t=y_{t-1}+ \\epsilon_t,\n",
    "$$\n",
    "where $\\epsilon \\sim N(\\mu, \\sigma^2)$, and they are uncorrelated, i.e. we have a random walk model, we can compute differences of the time series values, assuming that they are independent:\n",
    "$$\n",
    "\\epsilon_t=y_t-y_{t-1},\n",
    "$$\n",
    "and bootstrap them.\n"
   ]
  },
  {
   "cell_type": "markdown",
   "id": "b0c4ceaf",
   "metadata": {
    "slideshow": {
     "slide_type": "slide"
    }
   },
   "source": [
    "# The log return problem: A toy example\n",
    "\n",
    "\n",
    "- *Data*. Twelve stock prices (from March 14th, 2018 to March 29th, 2018) of Sony Corporation (SNE) (from Yahoo Finance):\n",
    "\n",
    "\n",
    "*50.95, 51.34, 50.64, 48.34, 48.83, 48.69, 48.13, 47.89, 48.67, 47.87, 48.08, 48.34*.\n",
    "\n",
    "\n",
    "- *Hypothesis*: $\\epsilon_i \\sim N(-0.24,0.73)$.\n",
    "\n",
    "\n",
    "- *Statistic of interest*. Maximum drawdown (difference between a peak and a trough in a given period):\n",
    "\n",
    "\n",
    "*3.47*.\n",
    "\n",
    "\n",
    "- *Differences* are:\n",
    "\n",
    "\n",
    "*0.39, -0.70, -2.30, 0.49, -0.14, -0.56, -0.24, 0.78, -0.80, 0.21, 0.26*.\n",
    "\n",
    "\n",
    "- Example of *bootstrapped differences*:\n",
    "\n",
    "\n",
    "*-0.14, -0.24, 0.21, -0.70, -0.14, -0.14, 0.49, -0.70, -2.30, 0.78, 0.49*.\n",
    "\n",
    "\n",
    "- Example of *bootstrap replicate* (by summing differences):\n",
    "\n",
    "\n",
    "*50.95, 50.81, 50.57, 50.78, 50.08, 49.94, 49.80, 50.29, 49.59, 47.29, 48.07*.\n",
    "\n",
    "\n",
    "- *Replicate of statistic of interest*. Maximum drawdown: 3.66*."
   ]
  },
  {
   "cell_type": "markdown",
   "id": "6f32102c",
   "metadata": {},
   "source": [
    "# Bootstrap universe: spaghetti-type plot\n",
    "\n",
    "<img src=\"Figure1.png\">\n",
    "\n"
   ]
  },
  {
   "cell_type": "markdown",
   "id": "8ebd2ee1",
   "metadata": {
    "slideshow": {
     "slide_type": "slide"
    }
   },
   "source": [
    "# The block bootstrap method\n",
    "\n",
    "\n",
    "- Due to dependence between the financial observations, the standard bootstrap method might give biased results because simple random resampling might not capture the structure of the data. \n",
    "\n",
    "\n",
    "- The block bootstrap (Hall, 1985) tries to avoid this. \n",
    "\n",
    "\n",
    "- The idea is that we resample *blocks of data*, hoping that within blocks structure is preserved. \n",
    "\n",
    "\n",
    "- Let $l$ and $b$ be integers such that $bl=n$, i.e. the sample $(x_1,x_2, \\dots , x_n)$ is divided into $b$ *blocks* of length $l$. \n",
    "\n",
    "\n",
    "- In the non-overlapping block version the original sample is divided among $b$ disjoint blocks, where the $k$-th block is: $B_k=(x_{(k-1)\\cdot l+1}, x_{(k-1)\\cdot l+2}, \\dots , x_{kl})$. \n",
    "\n",
    "\n",
    "- For example if we have a monthly series with length one year, we have $n=12$. Suppose you want quarterly blocks, i.e. blocks of length $l=3$.  Then we have:\n",
    "\n",
    "$$\n",
    "\\begin{split}\n",
    "& B_1 = (x_1, x_2, x_3)\\\\\n",
    "& B_2 = (x_4, x_5, x_6)\\\\\n",
    "& B_3 = (x_7, x_8, x_9)\\\\\n",
    "& B_4 = (x_{10}, x_{11}, x_{12}).\n",
    "\\end{split}\n",
    "$$\n"
   ]
  },
  {
   "cell_type": "markdown",
   "id": "47124329",
   "metadata": {
    "slideshow": {
     "slide_type": "slide"
    }
   },
   "source": [
    "# Application of the moving block bootstrap method\n",
    "\n",
    "\n",
    "- The moving block bootstrap works if the structure between blocks is (quasi) i.i.d. \n",
    "\n",
    "\n",
    "- In the moving block method, the original sample is divided into $n-l+1$ overlapping blocks, and the $k$-th block is given by: $B_k=(x_{k}, x_{k+1}, \\dots , x_{k+l-1})$. \n",
    "\n",
    "\n",
    "- In the example above with $n=12$, suppose you want overlapping blocks of length $l=5$.  Then we have:\n",
    "$$\n",
    "\\begin{split}\n",
    "& B_1 = (x_1, x_2, x_3, x_4, x_5)\\\\\n",
    "& B_2 = (x_2, x_3, x_4, x_5, x_6)\\\\\n",
    "& B_3 = (x_3, x_4, x_5, x_6, x_7)\\\\\n",
    "& B_4 = (x_4, x_5, x_6, x_7, x_8)\\\\\n",
    "& B_5 = (x_5, x_6, x_7, x_8, x_9)\\\\\n",
    "& B_6 = (x_6, x_7, x_8, x_9, x_{10})\\\\\n",
    "& B_7 = (x_7, x_8, x_9, x_{10}, x_{11})\\\\\n",
    "& B_8 = (x_8, x_9, x_{10}, x_{11}, x_{12}).\n",
    "\\end{split}\n",
    "$$\n",
    "\n",
    "\n",
    "# Bootstrap samples in the non-overlapping and the moving block methods\n",
    "\n",
    "\n",
    "- In both cases, once you have set $N$ equal to $b$ or $n-l+1$ depending on if you are using non-overlapping or moving block bootstrap, respectively, you pick at random and with replacement block $(B^*_1, B_2^*, \\dots, B_b^*)$, from the original blocks $(B_1, B_2; \\dots, B_N)$. The bootstrap sample will be:\n",
    "$$\n",
    "X^*=(B_1^*,B_2^*,, \\dots, B_b^*)\n",
    "$$\n",
    "\n",
    "\n",
    "- As usual with the bootstrap, you take a large number of these bootstrap samples to construct the required probability distribution.\n",
    "\n",
    "\n",
    "# Other bootstrap methods relating to the moving block bootstrap\n",
    "\n",
    "\n",
    "- *Circular block bootstrap* (Politis \\& Romano, 1992; Shao \\& Yu, 1993). This method allows blocks which start at the end of the data to wrap around to the start.\n",
    "\n",
    "\n",
    "- *Double block bootstrap* (Kunsch, 1989). This method allows two levels of blocking.\n",
    "\n",
    "\n",
    "- *Stationary block bootstrap* (Politis \\& Romano, 1994). This method allows the length of the block to be random.\n"
   ]
  },
  {
   "cell_type": "markdown",
   "id": "bba46b77",
   "metadata": {
    "slideshow": {
     "slide_type": "slide"
    }
   },
   "source": [
    "# Some useful references for the block bootstrap (available on the internet)\n",
    "\n",
    "\n",
    "- Cogneau, P., Zakamouline, Z. (2010). Bootstrap Methods for Finance: Review and Analysis. Draft paper, University of Liege.\n",
    "\n",
    "\n",
    "- Radovanov, B., Marcikić, A. (2014). A comparison of four different block bootstrap methods. *Croatian Operational Research Review*, 5: 189-202.\n",
    "\n",
    "\n",
    "- Sunesson, A. (2014). *Bootstrap of Dependent Data in Finance*. Master of Science's Thesis, Chalmers University of Technology, Sweden.\n"
   ]
  },
  {
   "cell_type": "markdown",
   "id": "d39b4339",
   "metadata": {
    "slideshow": {
     "slide_type": "slide"
    }
   },
   "source": [
    "# General references for the bootstrap and the block bootstrap\n",
    "\n",
    "\n",
    "- Chernick, M.R., LaBudde, R.A. (2011). *An introduction to Bootstrap Methods with Applications to R*. Wiley.\n",
    "\n",
    "\n",
    "- Cogneau, P., Zakamouline, V. (2013).  Block bootstrap methods and the choice of stocks for the long run. \n",
    "*Quantitative Finance*, 13(9), 1443-1457.\n",
    "\n",
    "\n",
    "- Efron, B. (1979). Bootstrap methods: Another look at the jackknife. *Annals of Statistics*, 7: 1-26.\n",
    "\n",
    "\n",
    "- Efron, B., Tibshirani, R.J. (1994). *An Introduction to the Bootstrap*, CRC Press.\n",
    "\n",
    "\n",
    "- Hall, P. (1985). Resampling a coverage pattern. *Stochastic processes and their Applications*, 20, 231-246. \n",
    "\n",
    "\n",
    "- McCarthy, P. J. (1969). Pseudo-replication: Half samples. *Review of the International Statistical Institute*, 37 (3), 239-264.\n",
    "\n",
    "\n",
    "- Politis, D. N., Romano, J. P. (1992). A circular block resampling procedure for stationary data. In Lepage, R., Billard, L. (Eds.): *Exploring the Limits of Bootstrap*: 263-270. Wiley, New York. \n",
    "\n",
    "\n",
    "- Politis, D. N., Romano, J. P. (1994). The stationary bootstrap. *Journal of the American Statistical Association*, 89: 1303-1313.\n",
    "\n"
   ]
  },
  {
   "cell_type": "markdown",
   "id": "65e31f15",
   "metadata": {},
   "source": [
    "## A few words about other resampling methods: The jackknife method\n",
    "\n",
    "- Another important resampling method is the **jackknife**.\n",
    "\n",
    "\n",
    "- The jackknife was proposed by Quenouille (1954) then revised by Tukey (1958). \n",
    "\n",
    "\n",
    "- It is a method aiming mainly at *estimating the bias* and the *standard error* of an estimator. \n",
    "\n",
    "\n",
    "- Suppose we have a sample $s=(x_1, x_2, \\dots , x_n)$ and an estimator $\\hat{\\theta}=t(s)$. \n",
    "\n",
    "\n",
    "- The jackknife focuses on the samples that \\emph{leave out one observation at a time}:\n",
    "$$\n",
    "s_{(i)}=(x_1, x_2, \\dots , x_{i-1}, x_{i+1}, \\dots , x_n).\n",
    "$$ \n",
    "\n",
    "\n",
    "- For $i=1, \\dots , n$, these samples are called \\textbf{jackknife samples}.\n",
    "\n"
   ]
  },
  {
   "cell_type": "markdown",
   "id": "1b1f6d40",
   "metadata": {},
   "source": [
    "## Pseudo-values and the Jackknife estimate of the bias\n",
    "\n",
    "\n",
    "- The quantity $\\theta_{(i)}$ which is calculated on the jackknife sample is called \\emph{pseudo-value}. \n",
    "\n",
    "\n",
    "- The jackknife procedure is iterated $n$ times on each of the $n$ available jackknife samples, obtaining $n$ pseudo-values $\\theta_{(i)}$, $i = 1,\\dots, n$. \n",
    "\n",
    "\n",
    "- The $n$ pseudo-values can be interpreted as a simulation of the distribution of the estimator $\\hat {\\theta}$\n",
    "such that the average:\n",
    "$$\n",
    "\\hat {\\theta}_{*}=\\frac{1}{n} \\sum_{i=1}^n \\theta_{(i)}\n",
    "$$\n",
    "can be regarded as a simulation - called \\emph{jackknife estimate} - of the expected value $E[\\hat{\\theta}]$. \n",
    "\n",
    "\n",
    "- The jackknife estimate of the bias of $\\hat{\\theta}$ is therefore given by:\n",
    "$$\n",
    "\\hat{\\text{Bias}}_{jack}  = (n-1)[\\hat {\\theta}_{*}-\\hat{\\theta}].\n",
    "$$\n",
    "\n",
    "\n",
    "- $(n-1)$ is a weight as in the jackknife lower sample sizes are considered with respect to the original sample size.\n"
   ]
  },
  {
   "cell_type": "markdown",
   "id": "68a37038",
   "metadata": {},
   "source": [
    "## The jackknife estimate of the bias for the sample mean estimator\n",
    "\n",
    "\n",
    "- For the sample mean estimator ($\\bar{x}$, which is itself unbiased) the jackknife estimate of the bias is zero.\n",
    "\n",
    "\n",
    "- Let $\\theta = \\mu$ and $\\hat{\\theta} = \\bar{x} = \\frac{1}{n}\\sum_{i=1}^n x_i$.\n",
    "\n",
    "\n",
    "- We have:\n",
    "$$\n",
    "\\hat{\\theta}_{(i)} = \\frac{1}{n-1} \\sum_{j \\neq i} x_j = \\frac{1}{n-1}[\\sum_{j = 1}^n x_j -x_i] = \\frac{n\\bar{x}}{n-1}- \\frac{x_i}{n-1}.\n",
    "$$\n",
    "\n",
    "\n",
    "- Now:\n",
    "$$\n",
    "\\hat {\\theta}_{*}= \\frac{1}{n} \\sum_{i = 1}^n \\hat{\\theta}_{(i)} = \\frac{1}{n} (\\frac{n^2\\bar{x}}{n-1}- \\frac{nx_i}{n-1}) = \\frac{n\\bar{x}}{n-1} - \\frac{\\bar{x}}{n-1} = \\bar{x}.\n",
    "$$\n",
    "\n",
    "\n",
    "- Therefore:\n",
    "$$\n",
    "\\hat{Bias}_{jack} = (n-1)[\\hat {\\theta}_{*}-\\hat{\\theta}] = (n-1)(\\bar{x} - \\bar{x}) = 0.\n",
    "$$\n",
    "\n",
    "\n",
    "- This result can be extended to all sample moments and to linear functions of sample moments.\n"
   ]
  },
  {
   "cell_type": "markdown",
   "id": "34c0b472",
   "metadata": {},
   "source": [
    "## The jackknife estimate of the bias $\\hat{Bias}_{jack}$ is suitable for \"correcting\" the bias of $\\hat{\\theta}$\n",
    "\n",
    "\n",
    "- It turns out that the jackknife-corrected estimator $\\hat{\\theta}_{jack-corr}$:\n",
    "$$\n",
    "\\hat{\\theta}_{jack-corr} = \\hat{\\theta} - \\hat{Bias}_{jack} = \\hat{\\theta} - (n-1)[\\hat {\\theta}_{*}-\\hat{\\theta}] = n\\hat{\\theta} - (n-1)\\hat {\\theta}_{*}\n",
    "$$\n",
    "is actually \\textbf{less biased} than $\\hat{\\theta}$ if the bias of $\\hat{\\theta}$ can have the following representation:\n",
    "$$\n",
    "E(\\hat{\\theta}) - \\theta = \\frac{a_1}{n} + \\frac{a_2}{n^2} + \\dots + \\frac{a_k}{n^k},\n",
    "$$\n",
    "i.e. the bias is of order $O(\\frac{1}{n})$.\n",
    "\n",
    "\n",
    "- In this case the jackknife-corrected estimator has lower bias\\emph{}.\n",
    "\n"
   ]
  },
  {
   "cell_type": "markdown",
   "id": "d0b87f04",
   "metadata": {},
   "source": [
    "## The jackknife estimate of the bias $\\hat{Bias}_{jack}$ is suitable for \"correcting\" the bias of $\\hat{\\theta}$ (cont'd)\n",
    "\n",
    "\n",
    "- In fact we have:\n",
    "$$\n",
    "E(\\hat{\\theta}_{jack-corr}) =  E[n\\hat{\\theta} - (n-1)\\hat {\\theta}_{*}] = nE(\\hat{\\theta})- (n-1) E(\\hat {\\theta}_{n-1}).\n",
    "$$\n",
    "\n",
    "\n",
    "- By using the representation we saw in the last slide we have:\n",
    "$$\n",
    "E(\\hat{\\theta}_{jack-corr}) = n[\\theta + \\frac{a_1}{n} + \\frac{a_2}{n^2} + \\dots ] - (n-1)[\\theta + \\frac{a_1}{n-1} + \\frac{a_2}{(n-1)^2} + \\dots ],\n",
    "$$\n",
    "and after a few algebra we finally get:\n",
    "$$\n",
    "E(\\hat{\\theta}_{jack-corr}) = \\theta + \\frac{a_2}{n(n-1)} + \\dots,\n",
    "$$\n",
    "i.e. the bias of $\\hat{\\theta}_{jack-corr}$ is of order $O(\\frac{1}{n^2})$, with therefore an improvement.\n",
    "\n"
   ]
  },
  {
   "cell_type": "markdown",
   "id": "6780eac1",
   "metadata": {},
   "source": [
    "## The jackknife estimate of the bias $\\hat{Bias}_{jack}$ is suitable for \"correcting\" the bias of $\\hat{\\theta}$ (cont'd)\n",
    "\n",
    "\n",
    "- The fact we have just proved is true for a wide family of estimators, i.e. the Maximum Likelihood Estimators.\n",
    "\n",
    "\n",
    "- An example is the sample variance which is a biased estimator of the population variance of the first order.\n",
    "\n",
    "\n",
    "- Here the jack-corrected estimator is \\emph{unbiased}. In fact we have:\n",
    "$$\n",
    "\\hat{\\theta} = s^2 = \\frac{1}{n} \\sum_{i=1}^n (x_i-\\bar{x})^2.\n",
    "$$\n",
    "\n",
    "\n",
    "- Its expected value is:\n",
    "$$\n",
    "E(s^2)=\\frac{n-1}{n} \\sigma^2 = \\sigma^2 - \\frac{\\sigma^2}{n},\n",
    "$$\n",
    "and therefore here we have a bias of the first order. But:\n",
    "$$\n",
    "\\hat{\\theta}_{jack-corr} = \\bar{s}^2 = \\frac{1}{n-1} \\sum_{i=1}^n (x_i-\\bar{x})^2,\n",
    "$$\n",
    "and we get an unbiased estimator of the variance. %ie $E(\\bar{s}^2 ) = \\sigma^2$.\n"
   ]
  },
  {
   "cell_type": "markdown",
   "id": "fcdc8ca0",
   "metadata": {},
   "source": [
    "## The jackknife estimate of the standard error\n",
    "\n",
    "\n",
    "- The jackknife estimator of the standard error for $\\hat{\\theta}$ is defined by:\n",
    "$$\n",
    "\\hat{\\text{se}}_{\\text{jack}}=\\left[\\frac{n-1}{n}\\sum_{i=1}^n \\left(\\hat{\\theta}_{(i)} - \\hat{\\theta}_{(\\cdot)}\\right)^2\\right]^\\frac{1}{2},\n",
    "$$\n",
    "where $\\hat{\\theta}_{(i)}=t(s_{(i)})$ and $\\hat{\\theta}_{(\\cdot)}= \\sum_{i=1}^n \\frac{\\hat{\\theta}_{(i)}}{n}$.\n",
    "\\item In the formula there is an \"inflation factor\" $\\frac{n-1}{n}$ which is used because the jackknife deviations $\\left(\\hat{\\theta}_{(i)} - \\hat{\\theta}_{(\\cdot)}\\right)^2$ tend to be smaller than the bootstrap deviations $\\left(\\hat{\\theta}^*(b) - \\hat{\\theta}^*(\\cdot)\\right)^2$.\n",
    "\n",
    "\n",
    "- If $\\hat{\\theta}=\\bar{x}$ we get: \n",
    "$$\n",
    "\\hat{\\text{se}}_{\\text{jack}}= \\left[ \\frac{\\sum _{i=1}^n(x_i-\\bar{x})^2}{n(n-1)} \\right]^{\\frac{1}{2}}.\n",
    "$$\n"
   ]
  },
  {
   "cell_type": "code",
   "execution_count": 63,
   "id": "73590ace",
   "metadata": {},
   "outputs": [
    {
     "data": {
      "text/plain": [
       "array([0.47556795, 0.41468764, 0.11400007, 0.5711369 , 0.4600779 ,\n",
       "       0.41195148, 0.18272764, 0.61370105, 0.02194724, 0.16370906])"
      ]
     },
     "execution_count": 63,
     "metadata": {},
     "output_type": "execute_result"
    }
   ],
   "source": [
    "#Original sample from a uniform (0,1) - size:10\n",
    "size = 10\n",
    "from scipy.stats import uniform\n",
    "or_sample = uniform.rvs(size=size)\n",
    "or_sample"
   ]
  },
  {
   "cell_type": "code",
   "execution_count": 64,
   "id": "a7d94ecd",
   "metadata": {},
   "outputs": [
    {
     "data": {
      "text/plain": [
       "array([[0., 0., 0., 0., 0., 0., 0., 0., 0.],\n",
       "       [0., 0., 0., 0., 0., 0., 0., 0., 0.],\n",
       "       [0., 0., 0., 0., 0., 0., 0., 0., 0.],\n",
       "       [0., 0., 0., 0., 0., 0., 0., 0., 0.],\n",
       "       [0., 0., 0., 0., 0., 0., 0., 0., 0.],\n",
       "       [0., 0., 0., 0., 0., 0., 0., 0., 0.],\n",
       "       [0., 0., 0., 0., 0., 0., 0., 0., 0.],\n",
       "       [0., 0., 0., 0., 0., 0., 0., 0., 0.],\n",
       "       [0., 0., 0., 0., 0., 0., 0., 0., 0.],\n",
       "       [0., 0., 0., 0., 0., 0., 0., 0., 0.]])"
      ]
     },
     "execution_count": 64,
     "metadata": {},
     "output_type": "execute_result"
    }
   ],
   "source": [
    "import numpy as np\n",
    "  \n",
    "# Here 4 is the number of rows and 2 \n",
    "# is the number of columns\n",
    "jack_samples = np.zeros((size, size -1))\n",
    "jack_samples"
   ]
  },
  {
   "cell_type": "code",
   "execution_count": 65,
   "id": "f0888693",
   "metadata": {},
   "outputs": [
    {
     "name": "stdout",
     "output_type": "stream",
     "text": [
      "[2 3 4 5]\n"
     ]
    }
   ],
   "source": [
    "arr = np.array([1, 2, 3, 4, 5])\n",
    "index = 0\n",
    "arr = np.delete(arr, index)\n",
    "print(arr)"
   ]
  },
  {
   "cell_type": "code",
   "execution_count": 66,
   "id": "cce8ef2b",
   "metadata": {},
   "outputs": [
    {
     "data": {
      "text/plain": [
       "array([[0.41468764, 0.11400007, 0.5711369 , 0.4600779 , 0.41195148,\n",
       "        0.18272764, 0.61370105, 0.02194724, 0.16370906],\n",
       "       [0.47556795, 0.11400007, 0.5711369 , 0.4600779 , 0.41195148,\n",
       "        0.18272764, 0.61370105, 0.02194724, 0.16370906],\n",
       "       [0.47556795, 0.41468764, 0.5711369 , 0.4600779 , 0.41195148,\n",
       "        0.18272764, 0.61370105, 0.02194724, 0.16370906],\n",
       "       [0.47556795, 0.41468764, 0.11400007, 0.4600779 , 0.41195148,\n",
       "        0.18272764, 0.61370105, 0.02194724, 0.16370906],\n",
       "       [0.47556795, 0.41468764, 0.11400007, 0.5711369 , 0.41195148,\n",
       "        0.18272764, 0.61370105, 0.02194724, 0.16370906],\n",
       "       [0.47556795, 0.41468764, 0.11400007, 0.5711369 , 0.4600779 ,\n",
       "        0.18272764, 0.61370105, 0.02194724, 0.16370906],\n",
       "       [0.47556795, 0.41468764, 0.11400007, 0.5711369 , 0.4600779 ,\n",
       "        0.41195148, 0.61370105, 0.02194724, 0.16370906],\n",
       "       [0.47556795, 0.41468764, 0.11400007, 0.5711369 , 0.4600779 ,\n",
       "        0.41195148, 0.18272764, 0.02194724, 0.16370906],\n",
       "       [0.47556795, 0.41468764, 0.11400007, 0.5711369 , 0.4600779 ,\n",
       "        0.41195148, 0.18272764, 0.61370105, 0.16370906],\n",
       "       [0.47556795, 0.41468764, 0.11400007, 0.5711369 , 0.4600779 ,\n",
       "        0.41195148, 0.18272764, 0.61370105, 0.02194724]])"
      ]
     },
     "execution_count": 66,
     "metadata": {},
     "output_type": "execute_result"
    }
   ],
   "source": [
    "for i in range(0, size):\n",
    "    index = i\n",
    "    jack_samples[i,] = np.delete(or_sample, i)\n",
    "jack_samples"
   ]
  },
  {
   "cell_type": "markdown",
   "id": "43a92506",
   "metadata": {},
   "source": [
    "## Using a Python library\n",
    "\n",
    "- We can use the library Astropy from which we invoke jackknife_stats"
   ]
  },
  {
   "cell_type": "code",
   "execution_count": 67,
   "id": "335a73a0",
   "metadata": {},
   "outputs": [],
   "source": [
    "import numpy as np\n",
    "from astropy.stats import jackknife_resampling\n",
    "from astropy.stats import jackknife_stats"
   ]
  },
  {
   "cell_type": "code",
   "execution_count": 68,
   "id": "a531e8b0",
   "metadata": {},
   "outputs": [
    {
     "data": {
      "text/plain": [
       "array([3.401, 3.204, 3.629, 3.487, 3.062, 3.856, 3.912, 3.742, 4.054])"
      ]
     },
     "execution_count": 68,
     "metadata": {},
     "output_type": "execute_result"
    }
   ],
   "source": [
    "birtweight = np.array([3.401,3.204,3.629,3.487,3.062,3.856,3.912,3.742,4.054])\n",
    "birtweight"
   ]
  },
  {
   "cell_type": "code",
   "execution_count": 69,
   "id": "8052e7de",
   "metadata": {},
   "outputs": [
    {
     "data": {
      "text/plain": [
       "array([[3.204, 3.629, 3.487, 3.062, 3.856, 3.912, 3.742, 4.054],\n",
       "       [3.401, 3.629, 3.487, 3.062, 3.856, 3.912, 3.742, 4.054],\n",
       "       [3.401, 3.204, 3.487, 3.062, 3.856, 3.912, 3.742, 4.054],\n",
       "       [3.401, 3.204, 3.629, 3.062, 3.856, 3.912, 3.742, 4.054],\n",
       "       [3.401, 3.204, 3.629, 3.487, 3.856, 3.912, 3.742, 4.054],\n",
       "       [3.401, 3.204, 3.629, 3.487, 3.062, 3.912, 3.742, 4.054],\n",
       "       [3.401, 3.204, 3.629, 3.487, 3.062, 3.856, 3.742, 4.054],\n",
       "       [3.401, 3.204, 3.629, 3.487, 3.062, 3.856, 3.912, 4.054],\n",
       "       [3.401, 3.204, 3.629, 3.487, 3.062, 3.856, 3.912, 3.742]])"
      ]
     },
     "execution_count": 69,
     "metadata": {},
     "output_type": "execute_result"
    }
   ],
   "source": [
    "jack_samples = jackknife_resampling(birtweight)\n",
    "jack_samples"
   ]
  },
  {
   "cell_type": "markdown",
   "id": "49656781",
   "metadata": {},
   "source": [
    "### Obtain Jackknife estimate for the mean, its bias, its standard error, and its 95% confidence interval:"
   ]
  },
  {
   "cell_type": "code",
   "execution_count": 70,
   "id": "f0b2ccbf",
   "metadata": {},
   "outputs": [],
   "source": [
    "estimator = np.mean"
   ]
  },
  {
   "cell_type": "code",
   "execution_count": 71,
   "id": "c53178b9",
   "metadata": {},
   "outputs": [],
   "source": [
    "jack_estimate, jack_bias, jack_se, jack_conf_interval = jackknife_stats(birtweight, estimator, 0.95)"
   ]
  },
  {
   "cell_type": "code",
   "execution_count": 72,
   "id": "33cda45e",
   "metadata": {},
   "outputs": [
    {
     "name": "stdout",
     "output_type": "stream",
     "text": [
      "3.5941111111111113\n",
      "0.0\n",
      "0.11107548039814652\n",
      "[3.37640717 3.81181505]\n"
     ]
    }
   ],
   "source": [
    "print(jack_estimate)\n",
    "print(jack_bias)\n",
    "print(jack_se)\n",
    "print(jack_conf_interval)"
   ]
  },
  {
   "cell_type": "code",
   "execution_count": 77,
   "id": "496798cc",
   "metadata": {},
   "outputs": [],
   "source": [
    "import numpy as np\n",
    "import pdb\n",
    "def jackknife(x, func):\n",
    "    \"\"\"Jackknife estimate of the estimator func\"\"\"\n",
    "    n1 = len(x)\n",
    "    #pdb.set_trace()\n",
    "    idx = np.arange(n1)\n",
    "    #pdb.set_trace()\n",
    "    return np.sum(func(x[idx!=i]) for i in range(n1))/float(n1)"
   ]
  },
  {
   "cell_type": "code",
   "execution_count": 78,
   "id": "d9bbd7da",
   "metadata": {
    "scrolled": true
   },
   "outputs": [
    {
     "name": "stderr",
     "output_type": "stream",
     "text": [
      "<ipython-input-77-3d4a5892ef58>:9: DeprecationWarning: Calling np.sum(generator) is deprecated, and in the future will give a different result. Use np.sum(np.fromiter(generator)) or the python sum builtin instead.\n",
      "  return np.sum(func(x[idx!=i]) for i in range(n1))/float(n1)\n"
     ]
    },
    {
     "data": {
      "text/plain": [
       "2.0637809287868234"
      ]
     },
     "execution_count": 78,
     "metadata": {},
     "output_type": "execute_result"
    }
   ],
   "source": [
    "import numpy as np\n",
    "# Jackknife estimate of standard deviation\n",
    "x = np.random.normal(0, 2, 100)\n",
    "jackknife(x, np.std)"
   ]
  },
  {
   "cell_type": "code",
   "execution_count": 83,
   "id": "0fd64d73",
   "metadata": {},
   "outputs": [],
   "source": [
    "def jackknife_var(x, func):\n",
    "    #\"\"\"Jackknife estimate of the variance of the estimator func.\"\"\"\n",
    "    n = len(x)\n",
    "    idx = np.arange(n)\n",
    "    j_est = jackknife(x, func)\n",
    "    return (n-1)/(n + 0.0) * np.sum((func(x[idx!=i]) - j_est)**2.0\n",
    "                                    for i in range(n))"
   ]
  },
  {
   "cell_type": "code",
   "execution_count": 84,
   "id": "1f23c2a0",
   "metadata": {},
   "outputs": [
    {
     "name": "stderr",
     "output_type": "stream",
     "text": [
      "<ipython-input-77-3d4a5892ef58>:9: DeprecationWarning: Calling np.sum(generator) is deprecated, and in the future will give a different result. Use np.sum(np.fromiter(generator)) or the python sum builtin instead.\n",
      "  return np.sum(func(x[idx!=i]) for i in range(n1))/float(n1)\n",
      "<ipython-input-83-470b281f97f2>:6: DeprecationWarning: Calling np.sum(generator) is deprecated, and in the future will give a different result. Use np.sum(np.fromiter(generator)) or the python sum builtin instead.\n",
      "  return (n-1)/(n + 0.0) * np.sum((func(x[idx!=i]) - j_est)**2.0\n"
     ]
    },
    {
     "data": {
      "text/plain": [
       "0.024684246869127135"
      ]
     },
     "execution_count": 84,
     "metadata": {},
     "output_type": "execute_result"
    }
   ],
   "source": [
    "jackknife_var(x, np.std)"
   ]
  },
  {
   "cell_type": "markdown",
   "id": "f00ed63d",
   "metadata": {
    "slideshow": {
     "slide_type": "slide"
    }
   },
   "source": [
    "# Other popular use of resampling methods you probably  have already seen\n",
    "\n",
    "\n",
    "- Cross validation is itself a resampling method.\n",
    "\n",
    "\n",
    "- In bagging bootstrap is used to reduce variance into the node groups.\n",
    "\n",
    "\n",
    "- In random forest we use the bootstrap for reducing the correlation among trees.\n",
    "\n"
   ]
  },
  {
   "cell_type": "markdown",
   "id": "ce5fe57f",
   "metadata": {},
   "source": [
    "# Using the recombinator package\n",
    "\n",
    "- This example is taken from the Python manual page https://pypi.org/project/recombinator/ for the recombinator package\n",
    " \n",
    "\n",
    "- You can find also examples on applying the block bootstrap to time series"
   ]
  },
  {
   "cell_type": "code",
   "execution_count": 86,
   "id": "21ed2e5d",
   "metadata": {},
   "outputs": [
    {
     "name": "stdout",
     "output_type": "stream",
     "text": [
      "Collecting recombinator\n",
      "  Downloading recombinator-0.0.6.1-py3-none-any.whl (30 kB)\n",
      "Requirement already satisfied: pytest in /opt/anaconda3/lib/python3.8/site-packages (from recombinator) (6.2.3)\n",
      "Requirement already satisfied: scipy in /opt/anaconda3/lib/python3.8/site-packages (from recombinator) (1.7.3)\n",
      "Collecting cocos\n",
      "  Downloading cocos-0.2.2-py3-none-any.whl (126 kB)\n",
      "\u001b[K     |████████████████████████████████| 126 kB 4.9 MB/s eta 0:00:01\n",
      "\u001b[?25hRequirement already satisfied: numpy in /opt/anaconda3/lib/python3.8/site-packages (from recombinator) (1.22.1)\n",
      "Requirement already satisfied: numba in /opt/anaconda3/lib/python3.8/site-packages (from recombinator) (0.53.1)\n",
      "Requirement already satisfied: pandas in /opt/anaconda3/lib/python3.8/site-packages (from recombinator) (1.3.4)\n",
      "Collecting arrayfire\n",
      "  Downloading arrayfire-3.8.0-py3-none-any.whl (72 kB)\n",
      "\u001b[K     |████████████████████████████████| 72 kB 1.8 MB/s eta 0:00:011\n",
      "\u001b[?25hCollecting contexttimer\n",
      "  Downloading contexttimer-0.3.3.tar.gz (4.9 kB)\n",
      "Requirement already satisfied: sympy in /opt/anaconda3/lib/python3.8/site-packages (from cocos->recombinator) (1.7.1)\n",
      "Collecting loky\n",
      "  Downloading loky-3.1.0-py3-none-any.whl (53 kB)\n",
      "\u001b[K     |████████████████████████████████| 53 kB 2.8 MB/s eta 0:00:01\n",
      "\u001b[?25hCollecting pathos\n",
      "  Downloading pathos-0.2.9-py3-none-any.whl (76 kB)\n",
      "\u001b[K     |████████████████████████████████| 76 kB 2.7 MB/s eta 0:00:01\n",
      "\u001b[?25hCollecting cached-property\n",
      "  Downloading cached_property-1.5.2-py2.py3-none-any.whl (7.6 kB)\n",
      "Collecting scikit-build\n",
      "  Downloading scikit_build-0.15.0-py2.py3-none-any.whl (77 kB)\n",
      "\u001b[K     |████████████████████████████████| 77 kB 3.2 MB/s eta 0:00:01\n",
      "\u001b[?25hRequirement already satisfied: cloudpickle in /opt/anaconda3/lib/python3.8/site-packages (from loky->cocos->recombinator) (1.6.0)\n",
      "Requirement already satisfied: llvmlite<0.37,>=0.36.0rc1 in /opt/anaconda3/lib/python3.8/site-packages (from numba->recombinator) (0.36.0)\n",
      "Requirement already satisfied: setuptools in /opt/anaconda3/lib/python3.8/site-packages (from numba->recombinator) (52.0.0.post20210125)\n",
      "Requirement already satisfied: pytz>=2017.3 in /opt/anaconda3/lib/python3.8/site-packages (from pandas->recombinator) (2021.1)\n",
      "Requirement already satisfied: python-dateutil>=2.7.3 in /opt/anaconda3/lib/python3.8/site-packages (from pandas->recombinator) (2.8.1)\n",
      "Requirement already satisfied: six>=1.5 in /opt/anaconda3/lib/python3.8/site-packages (from python-dateutil>=2.7.3->pandas->recombinator) (1.15.0)\n",
      "Collecting pox>=0.3.1\n",
      "  Downloading pox-0.3.1-py2.py3-none-any.whl (28 kB)\n",
      "Collecting ppft>=1.7.6.5\n",
      "  Downloading ppft-1.7.6.5-py2.py3-none-any.whl (52 kB)\n",
      "\u001b[K     |████████████████████████████████| 52 kB 2.1 MB/s eta 0:00:01\n",
      "\u001b[?25hRequirement already satisfied: dill>=0.3.5.1 in /opt/anaconda3/lib/python3.8/site-packages (from pathos->cocos->recombinator) (0.3.5.1)\n",
      "Collecting multiprocess>=0.70.13\n",
      "  Downloading multiprocess-0.70.13-py38-none-any.whl (131 kB)\n",
      "\u001b[K     |████████████████████████████████| 131 kB 4.9 MB/s eta 0:00:01\n",
      "\u001b[?25hRequirement already satisfied: attrs>=19.2.0 in /opt/anaconda3/lib/python3.8/site-packages (from pytest->recombinator) (20.3.0)\n",
      "Requirement already satisfied: iniconfig in /opt/anaconda3/lib/python3.8/site-packages (from pytest->recombinator) (1.1.1)\n",
      "Requirement already satisfied: packaging in /opt/anaconda3/lib/python3.8/site-packages (from pytest->recombinator) (21.3)\n",
      "Requirement already satisfied: pluggy<1.0.0a1,>=0.12 in /opt/anaconda3/lib/python3.8/site-packages (from pytest->recombinator) (0.13.1)\n",
      "Requirement already satisfied: py>=1.8.2 in /opt/anaconda3/lib/python3.8/site-packages (from pytest->recombinator) (1.10.0)\n",
      "Requirement already satisfied: toml in /opt/anaconda3/lib/python3.8/site-packages (from pytest->recombinator) (0.10.2)\n",
      "Requirement already satisfied: pyparsing!=3.0.5,>=2.0.2 in /opt/anaconda3/lib/python3.8/site-packages (from packaging->pytest->recombinator) (2.4.7)\n",
      "Requirement already satisfied: wheel>=0.29.0 in /opt/anaconda3/lib/python3.8/site-packages (from scikit-build->arrayfire->cocos->recombinator) (0.36.2)\n",
      "Collecting distro\n",
      "  Downloading distro-1.7.0-py3-none-any.whl (20 kB)\n",
      "Requirement already satisfied: mpmath>=0.19 in /opt/anaconda3/lib/python3.8/site-packages (from sympy->cocos->recombinator) (1.2.1)\n",
      "Building wheels for collected packages: contexttimer\n",
      "  Building wheel for contexttimer (setup.py) ... \u001b[?25ldone\n",
      "\u001b[?25h  Created wheel for contexttimer: filename=contexttimer-0.3.3-py3-none-any.whl size=5818 sha256=c92cf910c37598476dfc486a67b0e6d21a9045b130a936f43bab728358a68a5f\n",
      "  Stored in directory: /Users/giancarlomanzi/Library/Caches/pip/wheels/70/dd/09/4924e45dc5912f71b971b6790958b5e82f88c9db95a7cb4969\n",
      "Successfully built contexttimer\n",
      "Installing collected packages: distro, scikit-build, ppft, pox, multiprocess, pathos, loky, contexttimer, cached-property, arrayfire, cocos, recombinator\n",
      "Successfully installed arrayfire-3.8.0 cached-property-1.5.2 cocos-0.2.2 contexttimer-0.3.3 distro-1.7.0 loky-3.1.0 multiprocess-0.70.13 pathos-0.2.9 pox-0.3.1 ppft-1.7.6.5 recombinator-0.0.6.1 scikit-build-0.15.0\n",
      "\u001b[33mWARNING: You are using pip version 21.2.2; however, version 22.1.2 is available.\n",
      "You should consider upgrading via the '/opt/anaconda3/bin/python -m pip install --upgrade pip' command.\u001b[0m\n",
      "Note: you may need to restart the kernel to use updated packages.\n"
     ]
    }
   ],
   "source": [
    "pip install recombinator"
   ]
  },
  {
   "cell_type": "code",
   "execution_count": 88,
   "id": "6cb6868d",
   "metadata": {},
   "outputs": [],
   "source": [
    "import matplotlib\n",
    "import matplotlib.pyplot as plt\n",
    "\n",
    "import numpy as np\n",
    "\n",
    "from recombinator.iid_bootstrap import iid_bootstrap"
   ]
  },
  {
   "cell_type": "code",
   "execution_count": 93,
   "id": "b6aebfaa",
   "metadata": {},
   "outputs": [],
   "source": [
    "#generating random values\n",
    "n=100\n",
    "np.random.seed(1)\n",
    "x = np.abs(np.random.randn(n))"
   ]
  },
  {
   "cell_type": "code",
   "execution_count": 94,
   "id": "c246d813",
   "metadata": {},
   "outputs": [
    {
     "data": {
      "text/plain": [
       "array([1.62434536, 0.61175641, 0.52817175, 1.07296862, 0.86540763,\n",
       "       2.3015387 , 1.74481176, 0.7612069 , 0.3190391 , 0.24937038,\n",
       "       1.46210794, 2.06014071, 0.3224172 , 0.38405435, 1.13376944,\n",
       "       1.09989127, 0.17242821, 0.87785842, 0.04221375, 0.58281521,\n",
       "       1.10061918, 1.14472371, 0.90159072, 0.50249434, 0.90085595,\n",
       "       0.68372786, 0.12289023, 0.93576943, 0.26788808, 0.53035547,\n",
       "       0.69166075, 0.39675353, 0.6871727 , 0.84520564, 0.67124613,\n",
       "       0.0126646 , 1.11731035, 0.2344157 , 1.65980218, 0.74204416,\n",
       "       0.19183555, 0.88762896, 0.74715829, 1.6924546 , 0.05080775,\n",
       "       0.63699565, 0.19091548, 2.10025514, 0.12015895, 0.61720311,\n",
       "       0.30017032, 0.35224985, 1.1425182 , 0.34934272, 0.20889423,\n",
       "       0.58662319, 0.83898341, 0.93110208, 0.28558733, 0.88514116,\n",
       "       0.75439794, 1.25286816, 0.51292982, 0.29809284, 0.48851815,\n",
       "       0.07557171, 1.13162939, 1.51981682, 2.18557541, 1.39649634,\n",
       "       1.44411381, 0.50446586, 0.16003707, 0.87616892, 0.31563495,\n",
       "       2.02220122, 0.30620401, 0.82797464, 0.23009474, 0.76201118,\n",
       "       0.22232814, 0.20075807, 0.18656139, 0.41005165, 0.19829972,\n",
       "       0.11900865, 0.67066229, 0.37756379, 0.12182127, 1.12948391,\n",
       "       1.19891788, 0.18515642, 0.37528495, 0.63873041, 0.42349435,\n",
       "       0.07734007, 0.34385368, 0.04359686, 0.62000084, 0.69803203])"
      ]
     },
     "execution_count": 94,
     "metadata": {},
     "output_type": "execute_result"
    }
   ],
   "source": [
    "x"
   ]
  },
  {
   "cell_type": "code",
   "execution_count": 95,
   "id": "c27df608",
   "metadata": {},
   "outputs": [
    {
     "name": "stdout",
     "output_type": "stream",
     "text": [
      "0.9322689195424352\n"
     ]
    }
   ],
   "source": [
    "percentile = 75\n",
    "original_statistic = np.percentile(x, percentile)\n",
    "print(original_statistic)"
   ]
  },
  {
   "cell_type": "code",
   "execution_count": 99,
   "id": "bf1f5807",
   "metadata": {},
   "outputs": [],
   "source": [
    "R = 10\n",
    "x_resampled = iid_bootstrap(x, replications=R)"
   ]
  },
  {
   "cell_type": "code",
   "execution_count": 100,
   "id": "17bdd863",
   "metadata": {},
   "outputs": [
    {
     "data": {
      "text/plain": [
       "array([[1.25286816, 0.51292982, 0.53035547, 0.88514116, 0.52817175,\n",
       "        0.90085595, 0.31563495, 0.2344157 , 0.67066229, 0.69166075,\n",
       "        1.6924546 , 0.18656139, 1.44411381, 1.10061918, 0.41005165,\n",
       "        1.12948391, 0.75439794, 1.44411381, 1.1425182 , 0.86540763,\n",
       "        0.63873041, 0.42349435, 0.86540763, 0.41005165, 1.13376944,\n",
       "        0.51292982, 0.7612069 , 0.7612069 , 0.12015895, 1.10061918,\n",
       "        0.18656139, 0.52817175, 0.20075807, 2.02220122, 0.35224985,\n",
       "        0.37528495, 0.04359686, 0.34934272, 0.39675353, 0.28558733,\n",
       "        0.19091548, 0.35224985, 0.86540763, 1.07296862, 0.90085595,\n",
       "        0.52817175, 0.69166075, 0.20889423, 0.26788808, 0.93576943,\n",
       "        0.88762896, 0.74204416, 1.65980218, 0.90159072, 0.41005165,\n",
       "        0.39675353, 0.17242821, 0.86540763, 1.6924546 , 0.39675353,\n",
       "        0.42349435, 0.22232814, 0.68372786, 0.0126646 , 1.6924546 ,\n",
       "        0.48851815, 0.48851815, 0.04359686, 0.39675353, 0.50249434,\n",
       "        0.75439794, 1.14472371, 0.87616892, 0.90085595, 2.06014071,\n",
       "        0.04359686, 0.90085595, 0.7612069 , 0.74715829, 1.12948391,\n",
       "        0.07557171, 0.28558733, 0.23009474, 0.28558733, 0.3224172 ,\n",
       "        0.87785842, 0.67124613, 0.76201118, 0.3190391 , 0.84520564,\n",
       "        0.58662319, 1.10061918, 0.3224172 , 0.48851815, 0.0126646 ,\n",
       "        0.3224172 , 0.17242821, 0.12015895, 0.67124613, 0.41005165],\n",
       "       [0.50446586, 0.63699565, 1.10061918, 0.20889423, 0.58281521,\n",
       "        0.37756379, 0.12289023, 1.12948391, 0.04359686, 0.76201118,\n",
       "        0.67066229, 1.74481176, 2.18557541, 1.14472371, 0.05080775,\n",
       "        0.61720311, 0.34385368, 2.06014071, 0.74715829, 1.25286816,\n",
       "        0.87785842, 0.87785842, 1.6924546 , 0.86540763, 0.58281521,\n",
       "        2.3015387 , 0.30017032, 0.6871727 , 0.88762896, 0.41005165,\n",
       "        0.3224172 , 2.06014071, 0.93576943, 0.88514116, 0.12182127,\n",
       "        0.51292982, 0.87616892, 0.41005165, 1.09989127, 0.12015895,\n",
       "        0.12182127, 0.75439794, 1.13162939, 0.69803203, 0.62000084,\n",
       "        0.69803203, 0.93576943, 0.7612069 , 0.11900865, 0.93576943,\n",
       "        0.3190391 , 0.88762896, 0.93576943, 0.19183555, 0.18656139,\n",
       "        0.37528495, 1.10061918, 1.19891788, 0.12289023, 0.37528495,\n",
       "        0.18656139, 0.58662319, 1.10061918, 1.10061918, 0.04221375,\n",
       "        1.6924546 , 0.74715829, 1.19891788, 1.46210794, 0.04221375,\n",
       "        0.30017032, 0.11900865, 0.61175641, 1.65980218, 0.3190391 ,\n",
       "        0.17242821, 0.88762896, 0.63699565, 0.23009474, 1.51981682,\n",
       "        0.83898341, 1.51981682, 0.86540763, 1.44411381, 0.83898341,\n",
       "        0.11900865, 0.87785842, 0.76201118, 0.76201118, 0.31563495,\n",
       "        0.61175641, 0.93576943, 0.67066229, 0.51292982, 1.14472371,\n",
       "        0.62000084, 1.09989127, 0.75439794, 0.53035547, 2.02220122],\n",
       "       [0.37756379, 0.34934272, 0.23009474, 0.07557171, 0.48851815,\n",
       "        0.74204416, 1.13162939, 1.11731035, 1.13376944, 0.07734007,\n",
       "        0.74715829, 0.52817175, 0.75439794, 0.0126646 , 0.30017032,\n",
       "        0.11900865, 0.30017032, 0.20075807, 0.18515642, 1.74481176,\n",
       "        0.50446586, 0.3224172 , 0.3190391 , 0.17242821, 0.04221375,\n",
       "        0.58662319, 0.12015895, 0.69166075, 2.3015387 , 0.07557171,\n",
       "        0.0126646 , 0.61720311, 0.18515642, 0.84520564, 0.74715829,\n",
       "        0.11900865, 0.0126646 , 1.09989127, 0.35224985, 1.11731035,\n",
       "        0.3190391 , 0.2344157 , 0.69166075, 0.11900865, 0.88762896,\n",
       "        0.30620401, 0.29809284, 0.42349435, 0.88762896, 0.58662319,\n",
       "        0.18656139, 2.06014071, 0.90159072, 0.12015895, 0.93576943,\n",
       "        0.16003707, 1.07296862, 0.0126646 , 0.12015895, 0.76201118,\n",
       "        0.05080775, 0.05080775, 0.7612069 , 0.93576943, 0.34934272,\n",
       "        0.67124613, 0.2344157 , 0.05080775, 0.53035547, 0.3190391 ,\n",
       "        0.34385368, 1.39649634, 0.3190391 , 0.48851815, 1.12948391,\n",
       "        0.93576943, 0.51292982, 0.76201118, 0.22232814, 2.18557541,\n",
       "        1.51981682, 0.18515642, 0.20075807, 1.13162939, 0.87616892,\n",
       "        0.24937038, 0.20075807, 1.46210794, 0.83898341, 0.04359686,\n",
       "        0.19829972, 0.31563495, 0.19183555, 1.62434536, 0.05080775,\n",
       "        0.93576943, 0.50249434, 2.18557541, 2.06014071, 0.6871727 ],\n",
       "       [2.10025514, 1.10061918, 1.25286816, 2.18557541, 1.14472371,\n",
       "        0.31563495, 1.19891788, 0.04359686, 0.16003707, 0.50446586,\n",
       "        0.17242821, 0.74204416, 0.2344157 , 0.88514116, 0.31563495,\n",
       "        0.31563495, 1.07296862, 0.67066229, 0.63873041, 1.25286816,\n",
       "        0.88762896, 1.44411381, 0.69166075, 0.41005165, 0.20075807,\n",
       "        0.76201118, 0.48851815, 0.58281521, 1.25286816, 0.63873041,\n",
       "        0.48851815, 0.93110208, 0.51292982, 0.07557171, 1.44411381,\n",
       "        0.0126646 , 0.48851815, 0.6871727 , 0.6871727 , 0.88762896,\n",
       "        1.19891788, 0.88514116, 0.18515642, 0.22232814, 2.10025514,\n",
       "        0.30620401, 0.74204416, 0.41005165, 0.48851815, 0.11900865,\n",
       "        2.18557541, 1.39649634, 0.68372786, 1.51981682, 1.09989127,\n",
       "        0.3190391 , 0.37528495, 0.62000084, 0.07557171, 0.74204416,\n",
       "        0.39675353, 0.41005165, 0.68372786, 0.41005165, 0.90159072,\n",
       "        0.62000084, 2.02220122, 0.6871727 , 1.25286816, 0.61720311,\n",
       "        0.63873041, 0.34385368, 0.42349435, 1.74481176, 0.50249434,\n",
       "        1.10061918, 0.37756379, 1.12948391, 1.07296862, 1.25286816,\n",
       "        0.12015895, 0.28558733, 0.39675353, 0.28558733, 0.90085595,\n",
       "        1.65980218, 0.16003707, 0.17242821, 0.7612069 , 1.13162939,\n",
       "        0.58281521, 1.6924546 , 0.34385368, 1.12948391, 0.87616892,\n",
       "        1.07296862, 1.46210794, 0.6871727 , 0.61175641, 0.04359686],\n",
       "       [2.02220122, 0.07734007, 0.07734007, 0.23009474, 0.0126646 ,\n",
       "        0.34934272, 0.74715829, 0.23009474, 1.65980218, 0.37756379,\n",
       "        0.50249434, 0.3224172 , 0.86540763, 0.42349435, 1.62434536,\n",
       "        1.12948391, 0.74715829, 0.58662319, 0.42349435, 0.88762896,\n",
       "        2.02220122, 0.18515642, 0.87785842, 1.62434536, 0.63699565,\n",
       "        0.34385368, 0.34934272, 1.13376944, 0.17242821, 0.34385368,\n",
       "        0.18656139, 0.28558733, 0.69803203, 0.37528495, 0.42349435,\n",
       "        0.19091548, 0.90159072, 0.7612069 , 1.11731035, 0.20889423,\n",
       "        0.07734007, 0.90085595, 0.18515642, 0.31563495, 0.74204416,\n",
       "        0.17242821, 0.83898341, 0.34934272, 0.26788808, 1.65980218,\n",
       "        0.63873041, 0.42349435, 1.39649634, 0.52817175, 0.88762896,\n",
       "        0.6871727 , 1.25286816, 0.28558733, 0.37756379, 0.07734007,\n",
       "        0.17242821, 0.23009474, 0.20889423, 0.17242821, 0.88762896,\n",
       "        1.19891788, 0.50249434, 0.05080775, 2.18557541, 0.18515642,\n",
       "        0.53035547, 1.13376944, 1.09989127, 1.10061918, 0.42349435,\n",
       "        1.14472371, 1.65980218, 0.51292982, 0.18656139, 0.93110208,\n",
       "        0.41005165, 0.50249434, 0.87616892, 2.18557541, 0.11900865,\n",
       "        0.31563495, 0.53035547, 1.51981682, 0.58662319, 0.12289023,\n",
       "        0.3190391 , 0.30017032, 0.75439794, 0.31563495, 0.86540763,\n",
       "        0.58281521, 0.34934272, 0.42349435, 0.12289023, 2.10025514],\n",
       "       [0.51292982, 0.88514116, 2.18557541, 0.19091548, 0.26788808,\n",
       "        1.62434536, 0.50249434, 0.07734007, 0.87785842, 0.37528495,\n",
       "        0.16003707, 0.74715829, 1.13376944, 0.35224985, 0.67124613,\n",
       "        0.19091548, 2.3015387 , 0.75439794, 0.34934272, 1.25286816,\n",
       "        0.50249434, 0.90159072, 0.04359686, 0.93110208, 0.3190391 ,\n",
       "        0.39675353, 0.39675353, 0.83898341, 0.2344157 , 0.0126646 ,\n",
       "        0.19183555, 0.53035547, 0.30620401, 2.06014071, 0.93576943,\n",
       "        0.04221375, 0.29809284, 0.52817175, 0.04221375, 0.90159072,\n",
       "        0.3224172 , 2.3015387 , 0.12182127, 0.58281521, 0.3224172 ,\n",
       "        0.90085595, 1.1425182 , 0.34934272, 1.07296862, 0.84520564,\n",
       "        0.31563495, 0.67124613, 0.50249434, 0.75439794, 1.62434536,\n",
       "        0.26788808, 1.44411381, 1.51981682, 1.39649634, 0.24937038,\n",
       "        0.38405435, 1.25286816, 0.90159072, 2.3015387 , 0.50446586,\n",
       "        0.87785842, 0.2344157 , 1.74481176, 0.26788808, 0.93110208,\n",
       "        0.82797464, 0.20889423, 0.3224172 , 0.74204416, 0.37528495,\n",
       "        0.12015895, 0.23009474, 0.22232814, 0.88514116, 0.26788808,\n",
       "        0.18656139, 0.87785842, 0.29809284, 0.7612069 , 2.10025514,\n",
       "        0.19829972, 1.12948391, 0.04221375, 1.1425182 , 0.53035547,\n",
       "        0.3224172 , 0.93576943, 0.88514116, 1.62434536, 0.7612069 ,\n",
       "        0.20075807, 0.52817175, 0.16003707, 0.93110208, 2.02220122],\n",
       "       [0.19091548, 0.3190391 , 0.20075807, 1.11731035, 0.37756379,\n",
       "        0.50446586, 0.93110208, 1.1425182 , 0.2344157 , 0.50446586,\n",
       "        0.16003707, 1.51981682, 0.62000084, 0.28558733, 0.0126646 ,\n",
       "        0.28558733, 0.19091548, 0.18656139, 1.62434536, 0.61175641,\n",
       "        2.02220122, 0.37756379, 0.88762896, 0.62000084, 0.69803203,\n",
       "        1.14472371, 0.58281521, 1.11731035, 0.20889423, 0.12015895,\n",
       "        0.50446586, 0.29809284, 0.87785842, 1.14472371, 0.90085595,\n",
       "        0.7612069 , 0.31563495, 0.07557171, 1.09989127, 0.19183555,\n",
       "        2.3015387 , 1.09989127, 0.24937038, 0.37528495, 0.7612069 ,\n",
       "        1.74481176, 0.30017032, 1.12948391, 0.17242821, 0.48851815,\n",
       "        0.74715829, 0.37528495, 1.13376944, 0.62000084, 0.74715829,\n",
       "        1.6924546 , 0.19183555, 0.37756379, 0.67066229, 0.30017032,\n",
       "        0.12289023, 0.18515642, 1.46210794, 0.84520564, 1.13162939,\n",
       "        0.74204416, 1.11731035, 0.19091548, 0.34934272, 0.51292982,\n",
       "        0.74204416, 0.63873041, 0.2344157 , 0.61175641, 0.34385368,\n",
       "        1.11731035, 0.34385368, 0.12182127, 0.12015895, 0.58281521,\n",
       "        0.31563495, 0.6871727 , 0.41005165, 1.62434536, 0.58281521,\n",
       "        0.20889423, 0.18515642, 0.16003707, 0.26788808, 0.61720311,\n",
       "        0.0126646 , 0.82797464, 0.52817175, 0.51292982, 0.16003707,\n",
       "        1.39649634, 0.7612069 , 0.61175641, 0.38405435, 1.12948391],\n",
       "       [0.6871727 , 0.12015895, 0.30620401, 0.90085595, 0.86540763,\n",
       "        0.20075807, 2.06014071, 1.07296862, 0.20075807, 1.6924546 ,\n",
       "        0.69166075, 0.82797464, 0.19829972, 0.84520564, 1.6924546 ,\n",
       "        0.38405435, 0.74204416, 1.46210794, 0.12015895, 0.19829972,\n",
       "        1.25286816, 0.50249434, 2.06014071, 0.50249434, 0.30620401,\n",
       "        0.22232814, 0.3224172 , 0.67066229, 0.16003707, 1.74481176,\n",
       "        0.37756379, 0.61720311, 0.37528495, 0.04359686, 0.17242821,\n",
       "        0.87616892, 0.48851815, 0.68372786, 0.88514116, 0.19091548,\n",
       "        0.16003707, 0.74715829, 0.04221375, 0.50446586, 0.82797464,\n",
       "        0.35224985, 0.68372786, 0.19091548, 0.69803203, 0.86540763,\n",
       "        0.74715829, 1.10061918, 0.69803203, 0.0126646 , 0.23009474,\n",
       "        1.62434536, 2.18557541, 0.58281521, 1.10061918, 1.62434536,\n",
       "        0.3190391 , 0.12182127, 0.50446586, 0.23009474, 1.11731035,\n",
       "        0.30017032, 0.88514116, 0.3190391 , 1.25286816, 0.7612069 ,\n",
       "        0.37756379, 0.12289023, 0.30620401, 1.10061918, 0.52817175,\n",
       "        1.07296862, 0.53035547, 0.17242821, 0.17242821, 2.3015387 ,\n",
       "        0.12015895, 1.44411381, 1.6924546 , 1.74481176, 0.34934272,\n",
       "        0.34934272, 0.28558733, 0.61175641, 0.29809284, 0.26788808,\n",
       "        0.48851815, 0.67066229, 1.09989127, 0.28558733, 0.93110208,\n",
       "        0.50249434, 0.61175641, 0.12015895, 0.87616892, 0.38405435],\n",
       "       [0.50446586, 0.16003707, 1.13376944, 0.2344157 , 1.44411381,\n",
       "        0.18515642, 0.50446586, 0.6871727 , 0.3190391 , 1.07296862,\n",
       "        2.3015387 , 2.10025514, 0.07557171, 0.69166075, 1.6924546 ,\n",
       "        2.02220122, 0.16003707, 0.37528495, 0.12289023, 0.90085595,\n",
       "        0.69166075, 0.82797464, 0.30017032, 0.74715829, 0.63873041,\n",
       "        0.61175641, 0.50249434, 1.46210794, 2.06014071, 1.74481176,\n",
       "        0.30620401, 1.07296862, 0.58281521, 1.39649634, 1.25286816,\n",
       "        0.63699565, 0.39675353, 1.46210794, 0.41005165, 1.62434536,\n",
       "        0.84520564, 1.1425182 , 1.13376944, 0.48851815, 0.67066229,\n",
       "        0.04359686, 2.18557541, 1.1425182 , 0.12289023, 1.14472371,\n",
       "        0.12015895, 0.76201118, 0.20889423, 1.51981682, 0.30620401,\n",
       "        1.6924546 , 0.6871727 , 0.63699565, 0.75439794, 0.6871727 ,\n",
       "        0.90085595, 0.05080775, 0.07734007, 0.67066229, 0.12015895,\n",
       "        0.58281521, 1.12948391, 0.41005165, 0.90085595, 1.12948391,\n",
       "        0.12015895, 0.62000084, 0.24937038, 0.53035547, 0.24937038,\n",
       "        0.88762896, 0.12182127, 2.02220122, 0.19091548, 1.13162939,\n",
       "        0.30620401, 0.87616892, 0.30620401, 0.62000084, 0.19183555,\n",
       "        0.19183555, 0.3190391 , 0.05080775, 1.62434536, 0.38405435,\n",
       "        0.30017032, 1.12948391, 0.04359686, 0.19091548, 0.04221375,\n",
       "        0.38405435, 0.84520564, 0.18656139, 1.11731035, 0.31563495],\n",
       "       [0.63873041, 0.37528495, 1.11731035, 0.23009474, 1.39649634,\n",
       "        0.0126646 , 0.29809284, 0.07734007, 0.69166075, 0.63873041,\n",
       "        1.62434536, 0.69803203, 0.7612069 , 2.18557541, 1.11731035,\n",
       "        0.74204416, 0.17242821, 1.65980218, 0.6871727 , 0.37756379,\n",
       "        0.93110208, 0.75439794, 0.53035547, 0.30017032, 0.34934272,\n",
       "        0.87616892, 0.20075807, 2.3015387 , 0.19829972, 0.26788808,\n",
       "        1.39649634, 0.19829972, 1.25286816, 0.84520564, 0.37528495,\n",
       "        0.19183555, 0.18656139, 0.87616892, 0.05080775, 0.93110208,\n",
       "        0.34385368, 0.24937038, 0.61175641, 0.18656139, 0.19829972,\n",
       "        0.41005165, 0.50249434, 0.35224985, 0.48851815, 1.65980218,\n",
       "        1.11731035, 1.10061918, 0.24937038, 0.18656139, 1.6924546 ,\n",
       "        2.18557541, 0.58281521, 0.93110208, 0.11900865, 0.53035547,\n",
       "        0.67124613, 0.69166075, 0.38405435, 0.6871727 , 0.58662319,\n",
       "        1.19891788, 0.19183555, 0.07557171, 1.51981682, 0.16003707,\n",
       "        0.19829972, 0.6871727 , 1.46210794, 0.37756379, 1.13162939,\n",
       "        0.48851815, 0.20889423, 0.20075807, 2.3015387 , 1.07296862,\n",
       "        0.22232814, 0.50446586, 0.2344157 , 0.42349435, 0.90159072,\n",
       "        0.20889423, 0.34934272, 0.84520564, 0.67066229, 0.19183555,\n",
       "        0.88514116, 0.19183555, 0.67124613, 0.88514116, 0.30017032,\n",
       "        0.52817175, 2.06014071, 0.68372786, 0.19183555, 1.65980218]])"
      ]
     },
     "execution_count": 100,
     "metadata": {},
     "output_type": "execute_result"
    }
   ],
   "source": [
    "x_resampled"
   ]
  },
  {
   "cell_type": "code",
   "execution_count": 101,
   "id": "0a370ee0",
   "metadata": {},
   "outputs": [],
   "source": [
    "resampled_statistic = np.percentile(x_resampled, percentile, axis=1)"
   ]
  },
  {
   "cell_type": "code",
   "execution_count": 102,
   "id": "e86efe64",
   "metadata": {},
   "outputs": [],
   "source": [
    "from recombinator.statistics import \\\n",
    "    estimate_confidence_interval_from_bootstrap, \\\n",
    "    estimate_standard_error_from_bootstrap"
   ]
  },
  {
   "cell_type": "code",
   "execution_count": 103,
   "id": "289ae061",
   "metadata": {},
   "outputs": [
    {
     "data": {
      "text/plain": [
       "0.1038211174960798"
      ]
     },
     "execution_count": 103,
     "metadata": {},
     "output_type": "execute_result"
    }
   ],
   "source": [
    "estimate_standard_error_from_bootstrap(bootstrap_estimates=resampled_statistic,\n",
    "                                       original_estimate=original_statistic)"
   ]
  },
  {
   "cell_type": "code",
   "execution_count": 104,
   "id": "8ada59db",
   "metadata": {},
   "outputs": [
    {
     "data": {
      "text/plain": [
       "(0.8793190344442463, 1.122989343504645)"
      ]
     },
     "execution_count": 104,
     "metadata": {},
     "output_type": "execute_result"
    }
   ],
   "source": [
    "estimate_confidence_interval_from_bootstrap(bootstrap_estimates=resampled_statistic, \n",
    "                                            confidence_level=95)"
   ]
  },
  {
   "cell_type": "code",
   "execution_count": null,
   "id": "40f97bf8",
   "metadata": {},
   "outputs": [],
   "source": []
  }
 ],
 "metadata": {
  "kernelspec": {
   "display_name": "Python 3",
   "language": "python",
   "name": "python3"
  },
  "language_info": {
   "codemirror_mode": {
    "name": "ipython",
    "version": 3
   },
   "file_extension": ".py",
   "mimetype": "text/x-python",
   "name": "python",
   "nbconvert_exporter": "python",
   "pygments_lexer": "ipython3",
   "version": "3.8.5"
  }
 },
 "nbformat": 4,
 "nbformat_minor": 5
}
